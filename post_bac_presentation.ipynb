{
  "nbformat": 4,
  "nbformat_minor": 0,
  "metadata": {
    "colab": {
      "provenance": [],
      "toc_visible": true
    },
    "kernelspec": {
      "name": "python3",
      "display_name": "Python 3"
    },
    "language_info": {
      "name": "python"
    }
  },
  "cells": [
    {
      "cell_type": "markdown",
      "source": [
        "#Importing data\n"
      ],
      "metadata": {
        "id": "ueD4I6zxjFP7"
      }
    },
    {
      "cell_type": "code",
      "execution_count": null,
      "metadata": {
        "colab": {
          "base_uri": "https://localhost:8080/",
          "height": 73
        },
        "id": "DKpT6A-SoZK8",
        "outputId": "2f422843-c103-467a-a830-00de8aff5f99"
      },
      "outputs": [
        {
          "output_type": "display_data",
          "data": {
            "text/plain": [
              "<IPython.core.display.HTML object>"
            ],
            "text/html": [
              "\n",
              "     <input type=\"file\" id=\"files-ebdd569a-09d9-4022-8500-db0eafa7b7f8\" name=\"files[]\" multiple disabled\n",
              "        style=\"border:none\" />\n",
              "     <output id=\"result-ebdd569a-09d9-4022-8500-db0eafa7b7f8\">\n",
              "      Upload widget is only available when the cell has been executed in the\n",
              "      current browser session. Please rerun this cell to enable.\n",
              "      </output>\n",
              "      <script>// Copyright 2017 Google LLC\n",
              "//\n",
              "// Licensed under the Apache License, Version 2.0 (the \"License\");\n",
              "// you may not use this file except in compliance with the License.\n",
              "// You may obtain a copy of the License at\n",
              "//\n",
              "//      http://www.apache.org/licenses/LICENSE-2.0\n",
              "//\n",
              "// Unless required by applicable law or agreed to in writing, software\n",
              "// distributed under the License is distributed on an \"AS IS\" BASIS,\n",
              "// WITHOUT WARRANTIES OR CONDITIONS OF ANY KIND, either express or implied.\n",
              "// See the License for the specific language governing permissions and\n",
              "// limitations under the License.\n",
              "\n",
              "/**\n",
              " * @fileoverview Helpers for google.colab Python module.\n",
              " */\n",
              "(function(scope) {\n",
              "function span(text, styleAttributes = {}) {\n",
              "  const element = document.createElement('span');\n",
              "  element.textContent = text;\n",
              "  for (const key of Object.keys(styleAttributes)) {\n",
              "    element.style[key] = styleAttributes[key];\n",
              "  }\n",
              "  return element;\n",
              "}\n",
              "\n",
              "// Max number of bytes which will be uploaded at a time.\n",
              "const MAX_PAYLOAD_SIZE = 100 * 1024;\n",
              "\n",
              "function _uploadFiles(inputId, outputId) {\n",
              "  const steps = uploadFilesStep(inputId, outputId);\n",
              "  const outputElement = document.getElementById(outputId);\n",
              "  // Cache steps on the outputElement to make it available for the next call\n",
              "  // to uploadFilesContinue from Python.\n",
              "  outputElement.steps = steps;\n",
              "\n",
              "  return _uploadFilesContinue(outputId);\n",
              "}\n",
              "\n",
              "// This is roughly an async generator (not supported in the browser yet),\n",
              "// where there are multiple asynchronous steps and the Python side is going\n",
              "// to poll for completion of each step.\n",
              "// This uses a Promise to block the python side on completion of each step,\n",
              "// then passes the result of the previous step as the input to the next step.\n",
              "function _uploadFilesContinue(outputId) {\n",
              "  const outputElement = document.getElementById(outputId);\n",
              "  const steps = outputElement.steps;\n",
              "\n",
              "  const next = steps.next(outputElement.lastPromiseValue);\n",
              "  return Promise.resolve(next.value.promise).then((value) => {\n",
              "    // Cache the last promise value to make it available to the next\n",
              "    // step of the generator.\n",
              "    outputElement.lastPromiseValue = value;\n",
              "    return next.value.response;\n",
              "  });\n",
              "}\n",
              "\n",
              "/**\n",
              " * Generator function which is called between each async step of the upload\n",
              " * process.\n",
              " * @param {string} inputId Element ID of the input file picker element.\n",
              " * @param {string} outputId Element ID of the output display.\n",
              " * @return {!Iterable<!Object>} Iterable of next steps.\n",
              " */\n",
              "function* uploadFilesStep(inputId, outputId) {\n",
              "  const inputElement = document.getElementById(inputId);\n",
              "  inputElement.disabled = false;\n",
              "\n",
              "  const outputElement = document.getElementById(outputId);\n",
              "  outputElement.innerHTML = '';\n",
              "\n",
              "  const pickedPromise = new Promise((resolve) => {\n",
              "    inputElement.addEventListener('change', (e) => {\n",
              "      resolve(e.target.files);\n",
              "    });\n",
              "  });\n",
              "\n",
              "  const cancel = document.createElement('button');\n",
              "  inputElement.parentElement.appendChild(cancel);\n",
              "  cancel.textContent = 'Cancel upload';\n",
              "  const cancelPromise = new Promise((resolve) => {\n",
              "    cancel.onclick = () => {\n",
              "      resolve(null);\n",
              "    };\n",
              "  });\n",
              "\n",
              "  // Wait for the user to pick the files.\n",
              "  const files = yield {\n",
              "    promise: Promise.race([pickedPromise, cancelPromise]),\n",
              "    response: {\n",
              "      action: 'starting',\n",
              "    }\n",
              "  };\n",
              "\n",
              "  cancel.remove();\n",
              "\n",
              "  // Disable the input element since further picks are not allowed.\n",
              "  inputElement.disabled = true;\n",
              "\n",
              "  if (!files) {\n",
              "    return {\n",
              "      response: {\n",
              "        action: 'complete',\n",
              "      }\n",
              "    };\n",
              "  }\n",
              "\n",
              "  for (const file of files) {\n",
              "    const li = document.createElement('li');\n",
              "    li.append(span(file.name, {fontWeight: 'bold'}));\n",
              "    li.append(span(\n",
              "        `(${file.type || 'n/a'}) - ${file.size} bytes, ` +\n",
              "        `last modified: ${\n",
              "            file.lastModifiedDate ? file.lastModifiedDate.toLocaleDateString() :\n",
              "                                    'n/a'} - `));\n",
              "    const percent = span('0% done');\n",
              "    li.appendChild(percent);\n",
              "\n",
              "    outputElement.appendChild(li);\n",
              "\n",
              "    const fileDataPromise = new Promise((resolve) => {\n",
              "      const reader = new FileReader();\n",
              "      reader.onload = (e) => {\n",
              "        resolve(e.target.result);\n",
              "      };\n",
              "      reader.readAsArrayBuffer(file);\n",
              "    });\n",
              "    // Wait for the data to be ready.\n",
              "    let fileData = yield {\n",
              "      promise: fileDataPromise,\n",
              "      response: {\n",
              "        action: 'continue',\n",
              "      }\n",
              "    };\n",
              "\n",
              "    // Use a chunked sending to avoid message size limits. See b/62115660.\n",
              "    let position = 0;\n",
              "    do {\n",
              "      const length = Math.min(fileData.byteLength - position, MAX_PAYLOAD_SIZE);\n",
              "      const chunk = new Uint8Array(fileData, position, length);\n",
              "      position += length;\n",
              "\n",
              "      const base64 = btoa(String.fromCharCode.apply(null, chunk));\n",
              "      yield {\n",
              "        response: {\n",
              "          action: 'append',\n",
              "          file: file.name,\n",
              "          data: base64,\n",
              "        },\n",
              "      };\n",
              "\n",
              "      let percentDone = fileData.byteLength === 0 ?\n",
              "          100 :\n",
              "          Math.round((position / fileData.byteLength) * 100);\n",
              "      percent.textContent = `${percentDone}% done`;\n",
              "\n",
              "    } while (position < fileData.byteLength);\n",
              "  }\n",
              "\n",
              "  // All done.\n",
              "  yield {\n",
              "    response: {\n",
              "      action: 'complete',\n",
              "    }\n",
              "  };\n",
              "}\n",
              "\n",
              "scope.google = scope.google || {};\n",
              "scope.google.colab = scope.google.colab || {};\n",
              "scope.google.colab._files = {\n",
              "  _uploadFiles,\n",
              "  _uploadFilesContinue,\n",
              "};\n",
              "})(self);\n",
              "</script> "
            ]
          },
          "metadata": {}
        },
        {
          "output_type": "stream",
          "name": "stdout",
          "text": [
            "Saving final_MCAT.xlsx to final_MCAT (1).xlsx\n"
          ]
        }
      ],
      "source": [
        "from google.colab import files\n",
        "upload_files = files.upload()"
      ]
    },
    {
      "cell_type": "markdown",
      "source": [
        "###Necesary Packages "
      ],
      "metadata": {
        "id": "qwTQG1l8o8KX"
      }
    },
    {
      "cell_type": "code",
      "source": [
        "import pandas as pd\n",
        "import numpy as np\n",
        "import plotly.express as px\n",
        "import plotly.io as pio\n",
        "from scipy import stats"
      ],
      "metadata": {
        "id": "-E5zHJ_Uofbe"
      },
      "execution_count": null,
      "outputs": []
    },
    {
      "cell_type": "code",
      "source": [
        "import plotly.graph_objects as go"
      ],
      "metadata": {
        "id": "EtsqFcf8ohkD"
      },
      "execution_count": null,
      "outputs": []
    },
    {
      "cell_type": "code",
      "source": [
        "pio.templates"
      ],
      "metadata": {
        "colab": {
          "base_uri": "https://localhost:8080/"
        },
        "id": "Yp7Xf36foilr",
        "outputId": "2373ca8d-9a99-43b3-aad0-be339137e88b"
      },
      "execution_count": null,
      "outputs": [
        {
          "output_type": "execute_result",
          "data": {
            "text/plain": [
              "Templates configuration\n",
              "-----------------------\n",
              "    Default template: 'plotly'\n",
              "    Available templates:\n",
              "        ['ggplot2', 'seaborn', 'simple_white', 'plotly',\n",
              "         'plotly_white', 'plotly_dark', 'presentation', 'xgridoff',\n",
              "         'ygridoff', 'gridon', 'none']"
            ]
          },
          "metadata": {},
          "execution_count": 4
        }
      ]
    },
    {
      "cell_type": "code",
      "source": [
        "pio.templates.default = 'seaborn'"
      ],
      "metadata": {
        "id": "5ue7-Iqgojlc"
      },
      "execution_count": null,
      "outputs": []
    },
    {
      "cell_type": "code",
      "source": [
        "MCAT = pd.read_excel('final_MCAT (1).xlsx')\n",
        "book = pd.read_excel('Book3.xlsx')\n"
      ],
      "metadata": {
        "id": "KJeu9qbEoj8V"
      },
      "execution_count": null,
      "outputs": []
    },
    {
      "cell_type": "code",
      "source": [
        "import seaborn as sns\n",
        "import matplotlib.pyplot as plt"
      ],
      "metadata": {
        "id": "VauyOxx-olQt"
      },
      "execution_count": null,
      "outputs": []
    },
    {
      "cell_type": "markdown",
      "source": [
        "#Descriptive statistics"
      ],
      "metadata": {
        "id": "IOCWi-LSpIZG"
      }
    },
    {
      "cell_type": "markdown",
      "source": [
        "###Program Type"
      ],
      "metadata": {
        "id": "3_850eEYphM_"
      }
    },
    {
      "cell_type": "code",
      "source": [
        "MCAT.Program.value_counts()"
      ],
      "metadata": {
        "colab": {
          "base_uri": "https://localhost:8080/"
        },
        "id": "1Wx30rExowTK",
        "outputId": "155a444a-8980-43cc-8a73-651d17e8d0f5"
      },
      "execution_count": null,
      "outputs": [
        {
          "output_type": "execute_result",
          "data": {
            "text/plain": [
              "Medical School    92\n",
              "Do School         23\n",
              "Not Applied       20\n",
              "Not Admitted       5\n",
              "Name: Program, dtype: int64"
            ]
          },
          "metadata": {},
          "execution_count": 73
        }
      ]
    },
    {
      "cell_type": "code",
      "source": [
        "MCAT.Program.value_counts(normalize=True)*100"
      ],
      "metadata": {
        "colab": {
          "base_uri": "https://localhost:8080/"
        },
        "id": "n78fRd28pXNN",
        "outputId": "cdbd5ece-c99e-4ce1-c78d-31d7847b015c"
      },
      "execution_count": null,
      "outputs": [
        {
          "output_type": "execute_result",
          "data": {
            "text/plain": [
              "Medical School   65.71%\n",
              "Do School        16.43%\n",
              "Not Applied      14.29%\n",
              "Not Admitted      3.57%\n",
              "Name: Program, dtype: float64"
            ]
          },
          "metadata": {},
          "execution_count": 74
        }
      ]
    },
    {
      "cell_type": "code",
      "source": [
        "book.info()"
      ],
      "metadata": {
        "colab": {
          "base_uri": "https://localhost:8080/"
        },
        "id": "f2S2eZl97ZCw",
        "outputId": "dcc1b09d-b928-47b9-e0b2-18fa0eca9f77"
      },
      "execution_count": null,
      "outputs": [
        {
          "output_type": "stream",
          "name": "stdout",
          "text": [
            "<class 'pandas.core.frame.DataFrame'>\n",
            "RangeIndex: 4 entries, 0 to 3\n",
            "Data columns (total 3 columns):\n",
            " #   Column   Non-Null Count  Dtype  \n",
            "---  ------   --------------  -----  \n",
            " 0   Outcome  4 non-null      object \n",
            " 1   Count    4 non-null      int64  \n",
            " 2   percent  4 non-null      float64\n",
            "dtypes: float64(1), int64(1), object(1)\n",
            "memory usage: 224.0+ bytes\n"
          ]
        }
      ]
    },
    {
      "cell_type": "code",
      "source": [
        "\n",
        "fig = px.pie(book, values='Count', names='Outcome', color='Outcome',\n",
        "             title='Donut Chart of Post Bac Student Outcomes',\n",
        "             hover_data=['percent'], labels={'percent':'Percent'},\n",
        "              color_discrete_map={'Do School':'cyan',\n",
        "                                 'Medical School':'royalblue',\n",
        "                                 'Not Admitted':'darkblue',\n",
        "                                 'Not Applied':'lightcyan'})\n",
        "\n",
        "fig.update_traces(textposition='inside', textinfo='percent+label', hole = .2)\n",
        "\n",
        "fig.show()"
      ],
      "metadata": {
        "colab": {
          "base_uri": "https://localhost:8080/",
          "height": 542
        },
        "id": "DBZc1_dLEbmY",
        "outputId": "1eff5166-3755-4ddc-ae5e-9c8f57f42aed"
      },
      "execution_count": null,
      "outputs": [
        {
          "output_type": "display_data",
          "data": {
            "text/html": [
              "<html>\n",
              "<head><meta charset=\"utf-8\" /></head>\n",
              "<body>\n",
              "    <div>            <script src=\"https://cdnjs.cloudflare.com/ajax/libs/mathjax/2.7.5/MathJax.js?config=TeX-AMS-MML_SVG\"></script><script type=\"text/javascript\">if (window.MathJax) {MathJax.Hub.Config({SVG: {font: \"STIX-Web\"}});}</script>                <script type=\"text/javascript\">window.PlotlyConfig = {MathJaxConfig: 'local'};</script>\n",
              "        <script src=\"https://cdn.plot.ly/plotly-2.8.3.min.js\"></script>                <div id=\"c6cf3136-21bd-4ec2-8f5a-f17ac933c0eb\" class=\"plotly-graph-div\" style=\"height:525px; width:100%;\"></div>            <script type=\"text/javascript\">                                    window.PLOTLYENV=window.PLOTLYENV || {};                                    if (document.getElementById(\"c6cf3136-21bd-4ec2-8f5a-f17ac933c0eb\")) {                    Plotly.newPlot(                        \"c6cf3136-21bd-4ec2-8f5a-f17ac933c0eb\",                        [{\"customdata\":[[65.71,\"Medical School\"],[16.42,\"Do School\"],[14.28,\"Not Applied\"],[3.57,\"Not Admitted\"]],\"domain\":{\"x\":[0.0,1.0],\"y\":[0.0,1.0]},\"hovertemplate\":\"Outcome=%{customdata[1]}<br>Count=%{value}<br>Percent=%{customdata[0]}<extra></extra>\",\"labels\":[\"Medical School\",\"Do School\",\"Not Applied\",\"Not Admitted\"],\"legendgroup\":\"\",\"marker\":{\"colors\":[\"royalblue\",\"cyan\",\"lightcyan\",\"darkblue\"]},\"name\":\"\",\"showlegend\":true,\"values\":[92,23,20,5],\"type\":\"pie\",\"hole\":0.2,\"textinfo\":\"percent+label\",\"textposition\":\"inside\"}],                        {\"template\":{\"data\":{\"bar\":[{\"error_x\":{\"color\":\"rgb(36,36,36)\"},\"error_y\":{\"color\":\"rgb(36,36,36)\"},\"marker\":{\"line\":{\"color\":\"rgb(234,234,242)\",\"width\":0.5},\"pattern\":{\"fillmode\":\"overlay\",\"size\":10,\"solidity\":0.2}},\"type\":\"bar\"}],\"barpolar\":[{\"marker\":{\"line\":{\"color\":\"rgb(234,234,242)\",\"width\":0.5},\"pattern\":{\"fillmode\":\"overlay\",\"size\":10,\"solidity\":0.2}},\"type\":\"barpolar\"}],\"carpet\":[{\"aaxis\":{\"endlinecolor\":\"rgb(36,36,36)\",\"gridcolor\":\"white\",\"linecolor\":\"white\",\"minorgridcolor\":\"white\",\"startlinecolor\":\"rgb(36,36,36)\"},\"baxis\":{\"endlinecolor\":\"rgb(36,36,36)\",\"gridcolor\":\"white\",\"linecolor\":\"white\",\"minorgridcolor\":\"white\",\"startlinecolor\":\"rgb(36,36,36)\"},\"type\":\"carpet\"}],\"choropleth\":[{\"colorbar\":{\"outlinewidth\":0,\"tickcolor\":\"rgb(36,36,36)\",\"ticklen\":8,\"ticks\":\"outside\",\"tickwidth\":2},\"type\":\"choropleth\"}],\"contour\":[{\"colorbar\":{\"outlinewidth\":0,\"tickcolor\":\"rgb(36,36,36)\",\"ticklen\":8,\"ticks\":\"outside\",\"tickwidth\":2},\"colorscale\":[[0.0,\"rgb(2,4,25)\"],[0.06274509803921569,\"rgb(24,15,41)\"],[0.12549019607843137,\"rgb(47,23,57)\"],[0.18823529411764706,\"rgb(71,28,72)\"],[0.25098039215686274,\"rgb(97,30,82)\"],[0.3137254901960784,\"rgb(123,30,89)\"],[0.3764705882352941,\"rgb(150,27,91)\"],[0.4392156862745098,\"rgb(177,22,88)\"],[0.5019607843137255,\"rgb(203,26,79)\"],[0.5647058823529412,\"rgb(223,47,67)\"],[0.6274509803921569,\"rgb(236,76,61)\"],[0.6901960784313725,\"rgb(242,107,73)\"],[0.7529411764705882,\"rgb(244,135,95)\"],[0.8156862745098039,\"rgb(245,162,122)\"],[0.8784313725490196,\"rgb(246,188,153)\"],[0.9411764705882353,\"rgb(247,212,187)\"],[1.0,\"rgb(250,234,220)\"]],\"type\":\"contour\"}],\"contourcarpet\":[{\"colorbar\":{\"outlinewidth\":0,\"tickcolor\":\"rgb(36,36,36)\",\"ticklen\":8,\"ticks\":\"outside\",\"tickwidth\":2},\"type\":\"contourcarpet\"}],\"heatmap\":[{\"colorbar\":{\"outlinewidth\":0,\"tickcolor\":\"rgb(36,36,36)\",\"ticklen\":8,\"ticks\":\"outside\",\"tickwidth\":2},\"colorscale\":[[0.0,\"rgb(2,4,25)\"],[0.06274509803921569,\"rgb(24,15,41)\"],[0.12549019607843137,\"rgb(47,23,57)\"],[0.18823529411764706,\"rgb(71,28,72)\"],[0.25098039215686274,\"rgb(97,30,82)\"],[0.3137254901960784,\"rgb(123,30,89)\"],[0.3764705882352941,\"rgb(150,27,91)\"],[0.4392156862745098,\"rgb(177,22,88)\"],[0.5019607843137255,\"rgb(203,26,79)\"],[0.5647058823529412,\"rgb(223,47,67)\"],[0.6274509803921569,\"rgb(236,76,61)\"],[0.6901960784313725,\"rgb(242,107,73)\"],[0.7529411764705882,\"rgb(244,135,95)\"],[0.8156862745098039,\"rgb(245,162,122)\"],[0.8784313725490196,\"rgb(246,188,153)\"],[0.9411764705882353,\"rgb(247,212,187)\"],[1.0,\"rgb(250,234,220)\"]],\"type\":\"heatmap\"}],\"heatmapgl\":[{\"colorbar\":{\"outlinewidth\":0,\"tickcolor\":\"rgb(36,36,36)\",\"ticklen\":8,\"ticks\":\"outside\",\"tickwidth\":2},\"colorscale\":[[0.0,\"rgb(2,4,25)\"],[0.06274509803921569,\"rgb(24,15,41)\"],[0.12549019607843137,\"rgb(47,23,57)\"],[0.18823529411764706,\"rgb(71,28,72)\"],[0.25098039215686274,\"rgb(97,30,82)\"],[0.3137254901960784,\"rgb(123,30,89)\"],[0.3764705882352941,\"rgb(150,27,91)\"],[0.4392156862745098,\"rgb(177,22,88)\"],[0.5019607843137255,\"rgb(203,26,79)\"],[0.5647058823529412,\"rgb(223,47,67)\"],[0.6274509803921569,\"rgb(236,76,61)\"],[0.6901960784313725,\"rgb(242,107,73)\"],[0.7529411764705882,\"rgb(244,135,95)\"],[0.8156862745098039,\"rgb(245,162,122)\"],[0.8784313725490196,\"rgb(246,188,153)\"],[0.9411764705882353,\"rgb(247,212,187)\"],[1.0,\"rgb(250,234,220)\"]],\"type\":\"heatmapgl\"}],\"histogram\":[{\"marker\":{\"pattern\":{\"fillmode\":\"overlay\",\"size\":10,\"solidity\":0.2}},\"type\":\"histogram\"}],\"histogram2d\":[{\"colorbar\":{\"outlinewidth\":0,\"tickcolor\":\"rgb(36,36,36)\",\"ticklen\":8,\"ticks\":\"outside\",\"tickwidth\":2},\"colorscale\":[[0.0,\"rgb(2,4,25)\"],[0.06274509803921569,\"rgb(24,15,41)\"],[0.12549019607843137,\"rgb(47,23,57)\"],[0.18823529411764706,\"rgb(71,28,72)\"],[0.25098039215686274,\"rgb(97,30,82)\"],[0.3137254901960784,\"rgb(123,30,89)\"],[0.3764705882352941,\"rgb(150,27,91)\"],[0.4392156862745098,\"rgb(177,22,88)\"],[0.5019607843137255,\"rgb(203,26,79)\"],[0.5647058823529412,\"rgb(223,47,67)\"],[0.6274509803921569,\"rgb(236,76,61)\"],[0.6901960784313725,\"rgb(242,107,73)\"],[0.7529411764705882,\"rgb(244,135,95)\"],[0.8156862745098039,\"rgb(245,162,122)\"],[0.8784313725490196,\"rgb(246,188,153)\"],[0.9411764705882353,\"rgb(247,212,187)\"],[1.0,\"rgb(250,234,220)\"]],\"type\":\"histogram2d\"}],\"histogram2dcontour\":[{\"colorbar\":{\"outlinewidth\":0,\"tickcolor\":\"rgb(36,36,36)\",\"ticklen\":8,\"ticks\":\"outside\",\"tickwidth\":2},\"colorscale\":[[0.0,\"rgb(2,4,25)\"],[0.06274509803921569,\"rgb(24,15,41)\"],[0.12549019607843137,\"rgb(47,23,57)\"],[0.18823529411764706,\"rgb(71,28,72)\"],[0.25098039215686274,\"rgb(97,30,82)\"],[0.3137254901960784,\"rgb(123,30,89)\"],[0.3764705882352941,\"rgb(150,27,91)\"],[0.4392156862745098,\"rgb(177,22,88)\"],[0.5019607843137255,\"rgb(203,26,79)\"],[0.5647058823529412,\"rgb(223,47,67)\"],[0.6274509803921569,\"rgb(236,76,61)\"],[0.6901960784313725,\"rgb(242,107,73)\"],[0.7529411764705882,\"rgb(244,135,95)\"],[0.8156862745098039,\"rgb(245,162,122)\"],[0.8784313725490196,\"rgb(246,188,153)\"],[0.9411764705882353,\"rgb(247,212,187)\"],[1.0,\"rgb(250,234,220)\"]],\"type\":\"histogram2dcontour\"}],\"mesh3d\":[{\"colorbar\":{\"outlinewidth\":0,\"tickcolor\":\"rgb(36,36,36)\",\"ticklen\":8,\"ticks\":\"outside\",\"tickwidth\":2},\"type\":\"mesh3d\"}],\"parcoords\":[{\"line\":{\"colorbar\":{\"outlinewidth\":0,\"tickcolor\":\"rgb(36,36,36)\",\"ticklen\":8,\"ticks\":\"outside\",\"tickwidth\":2}},\"type\":\"parcoords\"}],\"pie\":[{\"automargin\":true,\"type\":\"pie\"}],\"scatter\":[{\"marker\":{\"colorbar\":{\"outlinewidth\":0,\"tickcolor\":\"rgb(36,36,36)\",\"ticklen\":8,\"ticks\":\"outside\",\"tickwidth\":2}},\"type\":\"scatter\"}],\"scatter3d\":[{\"line\":{\"colorbar\":{\"outlinewidth\":0,\"tickcolor\":\"rgb(36,36,36)\",\"ticklen\":8,\"ticks\":\"outside\",\"tickwidth\":2}},\"marker\":{\"colorbar\":{\"outlinewidth\":0,\"tickcolor\":\"rgb(36,36,36)\",\"ticklen\":8,\"ticks\":\"outside\",\"tickwidth\":2}},\"type\":\"scatter3d\"}],\"scattercarpet\":[{\"marker\":{\"colorbar\":{\"outlinewidth\":0,\"tickcolor\":\"rgb(36,36,36)\",\"ticklen\":8,\"ticks\":\"outside\",\"tickwidth\":2}},\"type\":\"scattercarpet\"}],\"scattergeo\":[{\"marker\":{\"colorbar\":{\"outlinewidth\":0,\"tickcolor\":\"rgb(36,36,36)\",\"ticklen\":8,\"ticks\":\"outside\",\"tickwidth\":2}},\"type\":\"scattergeo\"}],\"scattergl\":[{\"marker\":{\"colorbar\":{\"outlinewidth\":0,\"tickcolor\":\"rgb(36,36,36)\",\"ticklen\":8,\"ticks\":\"outside\",\"tickwidth\":2}},\"type\":\"scattergl\"}],\"scattermapbox\":[{\"marker\":{\"colorbar\":{\"outlinewidth\":0,\"tickcolor\":\"rgb(36,36,36)\",\"ticklen\":8,\"ticks\":\"outside\",\"tickwidth\":2}},\"type\":\"scattermapbox\"}],\"scatterpolar\":[{\"marker\":{\"colorbar\":{\"outlinewidth\":0,\"tickcolor\":\"rgb(36,36,36)\",\"ticklen\":8,\"ticks\":\"outside\",\"tickwidth\":2}},\"type\":\"scatterpolar\"}],\"scatterpolargl\":[{\"marker\":{\"colorbar\":{\"outlinewidth\":0,\"tickcolor\":\"rgb(36,36,36)\",\"ticklen\":8,\"ticks\":\"outside\",\"tickwidth\":2}},\"type\":\"scatterpolargl\"}],\"scatterternary\":[{\"marker\":{\"colorbar\":{\"outlinewidth\":0,\"tickcolor\":\"rgb(36,36,36)\",\"ticklen\":8,\"ticks\":\"outside\",\"tickwidth\":2}},\"type\":\"scatterternary\"}],\"surface\":[{\"colorbar\":{\"outlinewidth\":0,\"tickcolor\":\"rgb(36,36,36)\",\"ticklen\":8,\"ticks\":\"outside\",\"tickwidth\":2},\"colorscale\":[[0.0,\"rgb(2,4,25)\"],[0.06274509803921569,\"rgb(24,15,41)\"],[0.12549019607843137,\"rgb(47,23,57)\"],[0.18823529411764706,\"rgb(71,28,72)\"],[0.25098039215686274,\"rgb(97,30,82)\"],[0.3137254901960784,\"rgb(123,30,89)\"],[0.3764705882352941,\"rgb(150,27,91)\"],[0.4392156862745098,\"rgb(177,22,88)\"],[0.5019607843137255,\"rgb(203,26,79)\"],[0.5647058823529412,\"rgb(223,47,67)\"],[0.6274509803921569,\"rgb(236,76,61)\"],[0.6901960784313725,\"rgb(242,107,73)\"],[0.7529411764705882,\"rgb(244,135,95)\"],[0.8156862745098039,\"rgb(245,162,122)\"],[0.8784313725490196,\"rgb(246,188,153)\"],[0.9411764705882353,\"rgb(247,212,187)\"],[1.0,\"rgb(250,234,220)\"]],\"type\":\"surface\"}],\"table\":[{\"cells\":{\"fill\":{\"color\":\"rgb(231,231,240)\"},\"line\":{\"color\":\"white\"}},\"header\":{\"fill\":{\"color\":\"rgb(183,183,191)\"},\"line\":{\"color\":\"white\"}},\"type\":\"table\"}]},\"layout\":{\"annotationdefaults\":{\"arrowcolor\":\"rgb(67,103,167)\"},\"autotypenumbers\":\"strict\",\"coloraxis\":{\"colorbar\":{\"outlinewidth\":0,\"tickcolor\":\"rgb(36,36,36)\",\"ticklen\":8,\"ticks\":\"outside\",\"tickwidth\":2}},\"colorscale\":{\"sequential\":[[0.0,\"rgb(2,4,25)\"],[0.06274509803921569,\"rgb(24,15,41)\"],[0.12549019607843137,\"rgb(47,23,57)\"],[0.18823529411764706,\"rgb(71,28,72)\"],[0.25098039215686274,\"rgb(97,30,82)\"],[0.3137254901960784,\"rgb(123,30,89)\"],[0.3764705882352941,\"rgb(150,27,91)\"],[0.4392156862745098,\"rgb(177,22,88)\"],[0.5019607843137255,\"rgb(203,26,79)\"],[0.5647058823529412,\"rgb(223,47,67)\"],[0.6274509803921569,\"rgb(236,76,61)\"],[0.6901960784313725,\"rgb(242,107,73)\"],[0.7529411764705882,\"rgb(244,135,95)\"],[0.8156862745098039,\"rgb(245,162,122)\"],[0.8784313725490196,\"rgb(246,188,153)\"],[0.9411764705882353,\"rgb(247,212,187)\"],[1.0,\"rgb(250,234,220)\"]],\"sequentialminus\":[[0.0,\"rgb(2,4,25)\"],[0.06274509803921569,\"rgb(24,15,41)\"],[0.12549019607843137,\"rgb(47,23,57)\"],[0.18823529411764706,\"rgb(71,28,72)\"],[0.25098039215686274,\"rgb(97,30,82)\"],[0.3137254901960784,\"rgb(123,30,89)\"],[0.3764705882352941,\"rgb(150,27,91)\"],[0.4392156862745098,\"rgb(177,22,88)\"],[0.5019607843137255,\"rgb(203,26,79)\"],[0.5647058823529412,\"rgb(223,47,67)\"],[0.6274509803921569,\"rgb(236,76,61)\"],[0.6901960784313725,\"rgb(242,107,73)\"],[0.7529411764705882,\"rgb(244,135,95)\"],[0.8156862745098039,\"rgb(245,162,122)\"],[0.8784313725490196,\"rgb(246,188,153)\"],[0.9411764705882353,\"rgb(247,212,187)\"],[1.0,\"rgb(250,234,220)\"]]},\"colorway\":[\"rgb(76,114,176)\",\"rgb(221,132,82)\",\"rgb(85,168,104)\",\"rgb(196,78,82)\",\"rgb(129,114,179)\",\"rgb(147,120,96)\",\"rgb(218,139,195)\",\"rgb(140,140,140)\",\"rgb(204,185,116)\",\"rgb(100,181,205)\"],\"font\":{\"color\":\"rgb(36,36,36)\"},\"geo\":{\"bgcolor\":\"white\",\"lakecolor\":\"white\",\"landcolor\":\"rgb(234,234,242)\",\"showlakes\":true,\"showland\":true,\"subunitcolor\":\"white\"},\"hoverlabel\":{\"align\":\"left\"},\"hovermode\":\"closest\",\"paper_bgcolor\":\"white\",\"plot_bgcolor\":\"rgb(234,234,242)\",\"polar\":{\"angularaxis\":{\"gridcolor\":\"white\",\"linecolor\":\"white\",\"showgrid\":true,\"ticks\":\"\"},\"bgcolor\":\"rgb(234,234,242)\",\"radialaxis\":{\"gridcolor\":\"white\",\"linecolor\":\"white\",\"showgrid\":true,\"ticks\":\"\"}},\"scene\":{\"xaxis\":{\"backgroundcolor\":\"rgb(234,234,242)\",\"gridcolor\":\"white\",\"gridwidth\":2,\"linecolor\":\"white\",\"showbackground\":true,\"showgrid\":true,\"ticks\":\"\",\"zerolinecolor\":\"white\"},\"yaxis\":{\"backgroundcolor\":\"rgb(234,234,242)\",\"gridcolor\":\"white\",\"gridwidth\":2,\"linecolor\":\"white\",\"showbackground\":true,\"showgrid\":true,\"ticks\":\"\",\"zerolinecolor\":\"white\"},\"zaxis\":{\"backgroundcolor\":\"rgb(234,234,242)\",\"gridcolor\":\"white\",\"gridwidth\":2,\"linecolor\":\"white\",\"showbackground\":true,\"showgrid\":true,\"ticks\":\"\",\"zerolinecolor\":\"white\"}},\"shapedefaults\":{\"fillcolor\":\"rgb(67,103,167)\",\"line\":{\"width\":0},\"opacity\":0.5},\"ternary\":{\"aaxis\":{\"gridcolor\":\"white\",\"linecolor\":\"white\",\"showgrid\":true,\"ticks\":\"\"},\"baxis\":{\"gridcolor\":\"white\",\"linecolor\":\"white\",\"showgrid\":true,\"ticks\":\"\"},\"bgcolor\":\"rgb(234,234,242)\",\"caxis\":{\"gridcolor\":\"white\",\"linecolor\":\"white\",\"showgrid\":true,\"ticks\":\"\"}},\"xaxis\":{\"automargin\":true,\"gridcolor\":\"white\",\"linecolor\":\"white\",\"showgrid\":true,\"ticks\":\"\",\"title\":{\"standoff\":15},\"zerolinecolor\":\"white\"},\"yaxis\":{\"automargin\":true,\"gridcolor\":\"white\",\"linecolor\":\"white\",\"showgrid\":true,\"ticks\":\"\",\"title\":{\"standoff\":15},\"zerolinecolor\":\"white\"}}},\"legend\":{\"tracegroupgap\":0},\"title\":{\"text\":\"Donut Chart of Post Bac Student Outcomes\"}},                        {\"responsive\": true}                    ).then(function(){\n",
              "                            \n",
              "var gd = document.getElementById('c6cf3136-21bd-4ec2-8f5a-f17ac933c0eb');\n",
              "var x = new MutationObserver(function (mutations, observer) {{\n",
              "        var display = window.getComputedStyle(gd).display;\n",
              "        if (!display || display === 'none') {{\n",
              "            console.log([gd, 'removed!']);\n",
              "            Plotly.purge(gd);\n",
              "            observer.disconnect();\n",
              "        }}\n",
              "}});\n",
              "\n",
              "// Listen for the removal of the full notebook cells\n",
              "var notebookContainer = gd.closest('#notebook-container');\n",
              "if (notebookContainer) {{\n",
              "    x.observe(notebookContainer, {childList: true});\n",
              "}}\n",
              "\n",
              "// Listen for the clearing of the current output cell\n",
              "var outputEl = gd.closest('.output');\n",
              "if (outputEl) {{\n",
              "    x.observe(outputEl, {childList: true});\n",
              "}}\n",
              "\n",
              "                        })                };                            </script>        </div>\n",
              "</body>\n",
              "</html>"
            ]
          },
          "metadata": {}
        }
      ]
    },
    {
      "cell_type": "markdown",
      "source": [
        "82 % of post bac students were accepted into a program "
      ],
      "metadata": {
        "id": "SjFoiOvZIVuK"
      }
    },
    {
      "cell_type": "markdown",
      "source": [
        "###Undergraduate Majors"
      ],
      "metadata": {
        "id": "TPVJl8h6ponL"
      }
    },
    {
      "cell_type": "code",
      "source": [
        "MCAT.Degree.value_counts()"
      ],
      "metadata": {
        "colab": {
          "base_uri": "https://localhost:8080/"
        },
        "id": "Up9mM2AYprTk",
        "outputId": "e038f760-37e8-4aab-ee43-b6cb7e8b6a2a"
      },
      "execution_count": null,
      "outputs": [
        {
          "output_type": "execute_result",
          "data": {
            "text/plain": [
              "Other              70\n",
              "Social Sciences    31\n",
              "Econ/Finnance      21\n",
              "STEM               18\n",
              "Name: Degree, dtype: int64"
            ]
          },
          "metadata": {},
          "execution_count": 21
        }
      ]
    },
    {
      "cell_type": "code",
      "source": [
        "MCAT.Degree.value_counts(normalize=True)*100"
      ],
      "metadata": {
        "colab": {
          "base_uri": "https://localhost:8080/"
        },
        "id": "n55-FZ6Mpwv8",
        "outputId": "cce3d22e-99f7-4cca-bf9f-1000a7ca722a"
      },
      "execution_count": null,
      "outputs": [
        {
          "output_type": "execute_result",
          "data": {
            "text/plain": [
              "Other              50.000000\n",
              "Social Sciences    22.142857\n",
              "Econ/Finnance      15.000000\n",
              "STEM               12.857143\n",
              "Name: Degree, dtype: float64"
            ]
          },
          "metadata": {},
          "execution_count": 22
        }
      ]
    },
    {
      "cell_type": "markdown",
      "source": [
        "['darkviolet', 'darkgoldenrod','lightsalmon','lightyellow']"
      ],
      "metadata": {
        "id": "wzLs6ZPuFhWT"
      }
    },
    {
      "cell_type": "code",
      "source": [
        "test = go.Figure()\n",
        "\n",
        "test.add_trace(go.Bar(\n",
        "    x=['STEM', 'Econ/Finnance', 'Other', 'Social Sciences'],\n",
        "    y=[18,21,70,31],\n",
        "    marker={'color':['cyan', 'royalblue','darkblue','lightcyan']}\n",
        "))\n",
        "\n",
        "test.update_layout(title='Post Bac Student Undergraduate Majors')\n",
        "test.update_layout(xaxis=dict(title='Degree Type'),\n",
        "                   yaxis=dict(title='Number of Students'))"
      ],
      "metadata": {
        "colab": {
          "base_uri": "https://localhost:8080/",
          "height": 542
        },
        "id": "LVOIj63rE0yl",
        "outputId": "ad248989-103f-4f9e-88b9-c74320c8b957"
      },
      "execution_count": null,
      "outputs": [
        {
          "output_type": "display_data",
          "data": {
            "text/html": [
              "<html>\n",
              "<head><meta charset=\"utf-8\" /></head>\n",
              "<body>\n",
              "    <div>            <script src=\"https://cdnjs.cloudflare.com/ajax/libs/mathjax/2.7.5/MathJax.js?config=TeX-AMS-MML_SVG\"></script><script type=\"text/javascript\">if (window.MathJax) {MathJax.Hub.Config({SVG: {font: \"STIX-Web\"}});}</script>                <script type=\"text/javascript\">window.PlotlyConfig = {MathJaxConfig: 'local'};</script>\n",
              "        <script src=\"https://cdn.plot.ly/plotly-2.8.3.min.js\"></script>                <div id=\"9b0c9638-3bdf-4c6a-bdff-4fa5f8d85827\" class=\"plotly-graph-div\" style=\"height:525px; width:100%;\"></div>            <script type=\"text/javascript\">                                    window.PLOTLYENV=window.PLOTLYENV || {};                                    if (document.getElementById(\"9b0c9638-3bdf-4c6a-bdff-4fa5f8d85827\")) {                    Plotly.newPlot(                        \"9b0c9638-3bdf-4c6a-bdff-4fa5f8d85827\",                        [{\"marker\":{\"color\":[\"cyan\",\"royalblue\",\"darkblue\",\"lightcyan\"]},\"x\":[\"STEM\",\"Econ/Finnance\",\"Other\",\"Social Sciences\"],\"y\":[18,21,70,31],\"type\":\"bar\"}],                        {\"template\":{\"data\":{\"bar\":[{\"error_x\":{\"color\":\"rgb(36,36,36)\"},\"error_y\":{\"color\":\"rgb(36,36,36)\"},\"marker\":{\"line\":{\"color\":\"rgb(234,234,242)\",\"width\":0.5},\"pattern\":{\"fillmode\":\"overlay\",\"size\":10,\"solidity\":0.2}},\"type\":\"bar\"}],\"barpolar\":[{\"marker\":{\"line\":{\"color\":\"rgb(234,234,242)\",\"width\":0.5},\"pattern\":{\"fillmode\":\"overlay\",\"size\":10,\"solidity\":0.2}},\"type\":\"barpolar\"}],\"carpet\":[{\"aaxis\":{\"endlinecolor\":\"rgb(36,36,36)\",\"gridcolor\":\"white\",\"linecolor\":\"white\",\"minorgridcolor\":\"white\",\"startlinecolor\":\"rgb(36,36,36)\"},\"baxis\":{\"endlinecolor\":\"rgb(36,36,36)\",\"gridcolor\":\"white\",\"linecolor\":\"white\",\"minorgridcolor\":\"white\",\"startlinecolor\":\"rgb(36,36,36)\"},\"type\":\"carpet\"}],\"choropleth\":[{\"colorbar\":{\"outlinewidth\":0,\"tickcolor\":\"rgb(36,36,36)\",\"ticklen\":8,\"ticks\":\"outside\",\"tickwidth\":2},\"type\":\"choropleth\"}],\"contour\":[{\"colorbar\":{\"outlinewidth\":0,\"tickcolor\":\"rgb(36,36,36)\",\"ticklen\":8,\"ticks\":\"outside\",\"tickwidth\":2},\"colorscale\":[[0.0,\"rgb(2,4,25)\"],[0.06274509803921569,\"rgb(24,15,41)\"],[0.12549019607843137,\"rgb(47,23,57)\"],[0.18823529411764706,\"rgb(71,28,72)\"],[0.25098039215686274,\"rgb(97,30,82)\"],[0.3137254901960784,\"rgb(123,30,89)\"],[0.3764705882352941,\"rgb(150,27,91)\"],[0.4392156862745098,\"rgb(177,22,88)\"],[0.5019607843137255,\"rgb(203,26,79)\"],[0.5647058823529412,\"rgb(223,47,67)\"],[0.6274509803921569,\"rgb(236,76,61)\"],[0.6901960784313725,\"rgb(242,107,73)\"],[0.7529411764705882,\"rgb(244,135,95)\"],[0.8156862745098039,\"rgb(245,162,122)\"],[0.8784313725490196,\"rgb(246,188,153)\"],[0.9411764705882353,\"rgb(247,212,187)\"],[1.0,\"rgb(250,234,220)\"]],\"type\":\"contour\"}],\"contourcarpet\":[{\"colorbar\":{\"outlinewidth\":0,\"tickcolor\":\"rgb(36,36,36)\",\"ticklen\":8,\"ticks\":\"outside\",\"tickwidth\":2},\"type\":\"contourcarpet\"}],\"heatmap\":[{\"colorbar\":{\"outlinewidth\":0,\"tickcolor\":\"rgb(36,36,36)\",\"ticklen\":8,\"ticks\":\"outside\",\"tickwidth\":2},\"colorscale\":[[0.0,\"rgb(2,4,25)\"],[0.06274509803921569,\"rgb(24,15,41)\"],[0.12549019607843137,\"rgb(47,23,57)\"],[0.18823529411764706,\"rgb(71,28,72)\"],[0.25098039215686274,\"rgb(97,30,82)\"],[0.3137254901960784,\"rgb(123,30,89)\"],[0.3764705882352941,\"rgb(150,27,91)\"],[0.4392156862745098,\"rgb(177,22,88)\"],[0.5019607843137255,\"rgb(203,26,79)\"],[0.5647058823529412,\"rgb(223,47,67)\"],[0.6274509803921569,\"rgb(236,76,61)\"],[0.6901960784313725,\"rgb(242,107,73)\"],[0.7529411764705882,\"rgb(244,135,95)\"],[0.8156862745098039,\"rgb(245,162,122)\"],[0.8784313725490196,\"rgb(246,188,153)\"],[0.9411764705882353,\"rgb(247,212,187)\"],[1.0,\"rgb(250,234,220)\"]],\"type\":\"heatmap\"}],\"heatmapgl\":[{\"colorbar\":{\"outlinewidth\":0,\"tickcolor\":\"rgb(36,36,36)\",\"ticklen\":8,\"ticks\":\"outside\",\"tickwidth\":2},\"colorscale\":[[0.0,\"rgb(2,4,25)\"],[0.06274509803921569,\"rgb(24,15,41)\"],[0.12549019607843137,\"rgb(47,23,57)\"],[0.18823529411764706,\"rgb(71,28,72)\"],[0.25098039215686274,\"rgb(97,30,82)\"],[0.3137254901960784,\"rgb(123,30,89)\"],[0.3764705882352941,\"rgb(150,27,91)\"],[0.4392156862745098,\"rgb(177,22,88)\"],[0.5019607843137255,\"rgb(203,26,79)\"],[0.5647058823529412,\"rgb(223,47,67)\"],[0.6274509803921569,\"rgb(236,76,61)\"],[0.6901960784313725,\"rgb(242,107,73)\"],[0.7529411764705882,\"rgb(244,135,95)\"],[0.8156862745098039,\"rgb(245,162,122)\"],[0.8784313725490196,\"rgb(246,188,153)\"],[0.9411764705882353,\"rgb(247,212,187)\"],[1.0,\"rgb(250,234,220)\"]],\"type\":\"heatmapgl\"}],\"histogram\":[{\"marker\":{\"pattern\":{\"fillmode\":\"overlay\",\"size\":10,\"solidity\":0.2}},\"type\":\"histogram\"}],\"histogram2d\":[{\"colorbar\":{\"outlinewidth\":0,\"tickcolor\":\"rgb(36,36,36)\",\"ticklen\":8,\"ticks\":\"outside\",\"tickwidth\":2},\"colorscale\":[[0.0,\"rgb(2,4,25)\"],[0.06274509803921569,\"rgb(24,15,41)\"],[0.12549019607843137,\"rgb(47,23,57)\"],[0.18823529411764706,\"rgb(71,28,72)\"],[0.25098039215686274,\"rgb(97,30,82)\"],[0.3137254901960784,\"rgb(123,30,89)\"],[0.3764705882352941,\"rgb(150,27,91)\"],[0.4392156862745098,\"rgb(177,22,88)\"],[0.5019607843137255,\"rgb(203,26,79)\"],[0.5647058823529412,\"rgb(223,47,67)\"],[0.6274509803921569,\"rgb(236,76,61)\"],[0.6901960784313725,\"rgb(242,107,73)\"],[0.7529411764705882,\"rgb(244,135,95)\"],[0.8156862745098039,\"rgb(245,162,122)\"],[0.8784313725490196,\"rgb(246,188,153)\"],[0.9411764705882353,\"rgb(247,212,187)\"],[1.0,\"rgb(250,234,220)\"]],\"type\":\"histogram2d\"}],\"histogram2dcontour\":[{\"colorbar\":{\"outlinewidth\":0,\"tickcolor\":\"rgb(36,36,36)\",\"ticklen\":8,\"ticks\":\"outside\",\"tickwidth\":2},\"colorscale\":[[0.0,\"rgb(2,4,25)\"],[0.06274509803921569,\"rgb(24,15,41)\"],[0.12549019607843137,\"rgb(47,23,57)\"],[0.18823529411764706,\"rgb(71,28,72)\"],[0.25098039215686274,\"rgb(97,30,82)\"],[0.3137254901960784,\"rgb(123,30,89)\"],[0.3764705882352941,\"rgb(150,27,91)\"],[0.4392156862745098,\"rgb(177,22,88)\"],[0.5019607843137255,\"rgb(203,26,79)\"],[0.5647058823529412,\"rgb(223,47,67)\"],[0.6274509803921569,\"rgb(236,76,61)\"],[0.6901960784313725,\"rgb(242,107,73)\"],[0.7529411764705882,\"rgb(244,135,95)\"],[0.8156862745098039,\"rgb(245,162,122)\"],[0.8784313725490196,\"rgb(246,188,153)\"],[0.9411764705882353,\"rgb(247,212,187)\"],[1.0,\"rgb(250,234,220)\"]],\"type\":\"histogram2dcontour\"}],\"mesh3d\":[{\"colorbar\":{\"outlinewidth\":0,\"tickcolor\":\"rgb(36,36,36)\",\"ticklen\":8,\"ticks\":\"outside\",\"tickwidth\":2},\"type\":\"mesh3d\"}],\"parcoords\":[{\"line\":{\"colorbar\":{\"outlinewidth\":0,\"tickcolor\":\"rgb(36,36,36)\",\"ticklen\":8,\"ticks\":\"outside\",\"tickwidth\":2}},\"type\":\"parcoords\"}],\"pie\":[{\"automargin\":true,\"type\":\"pie\"}],\"scatter\":[{\"marker\":{\"colorbar\":{\"outlinewidth\":0,\"tickcolor\":\"rgb(36,36,36)\",\"ticklen\":8,\"ticks\":\"outside\",\"tickwidth\":2}},\"type\":\"scatter\"}],\"scatter3d\":[{\"line\":{\"colorbar\":{\"outlinewidth\":0,\"tickcolor\":\"rgb(36,36,36)\",\"ticklen\":8,\"ticks\":\"outside\",\"tickwidth\":2}},\"marker\":{\"colorbar\":{\"outlinewidth\":0,\"tickcolor\":\"rgb(36,36,36)\",\"ticklen\":8,\"ticks\":\"outside\",\"tickwidth\":2}},\"type\":\"scatter3d\"}],\"scattercarpet\":[{\"marker\":{\"colorbar\":{\"outlinewidth\":0,\"tickcolor\":\"rgb(36,36,36)\",\"ticklen\":8,\"ticks\":\"outside\",\"tickwidth\":2}},\"type\":\"scattercarpet\"}],\"scattergeo\":[{\"marker\":{\"colorbar\":{\"outlinewidth\":0,\"tickcolor\":\"rgb(36,36,36)\",\"ticklen\":8,\"ticks\":\"outside\",\"tickwidth\":2}},\"type\":\"scattergeo\"}],\"scattergl\":[{\"marker\":{\"colorbar\":{\"outlinewidth\":0,\"tickcolor\":\"rgb(36,36,36)\",\"ticklen\":8,\"ticks\":\"outside\",\"tickwidth\":2}},\"type\":\"scattergl\"}],\"scattermapbox\":[{\"marker\":{\"colorbar\":{\"outlinewidth\":0,\"tickcolor\":\"rgb(36,36,36)\",\"ticklen\":8,\"ticks\":\"outside\",\"tickwidth\":2}},\"type\":\"scattermapbox\"}],\"scatterpolar\":[{\"marker\":{\"colorbar\":{\"outlinewidth\":0,\"tickcolor\":\"rgb(36,36,36)\",\"ticklen\":8,\"ticks\":\"outside\",\"tickwidth\":2}},\"type\":\"scatterpolar\"}],\"scatterpolargl\":[{\"marker\":{\"colorbar\":{\"outlinewidth\":0,\"tickcolor\":\"rgb(36,36,36)\",\"ticklen\":8,\"ticks\":\"outside\",\"tickwidth\":2}},\"type\":\"scatterpolargl\"}],\"scatterternary\":[{\"marker\":{\"colorbar\":{\"outlinewidth\":0,\"tickcolor\":\"rgb(36,36,36)\",\"ticklen\":8,\"ticks\":\"outside\",\"tickwidth\":2}},\"type\":\"scatterternary\"}],\"surface\":[{\"colorbar\":{\"outlinewidth\":0,\"tickcolor\":\"rgb(36,36,36)\",\"ticklen\":8,\"ticks\":\"outside\",\"tickwidth\":2},\"colorscale\":[[0.0,\"rgb(2,4,25)\"],[0.06274509803921569,\"rgb(24,15,41)\"],[0.12549019607843137,\"rgb(47,23,57)\"],[0.18823529411764706,\"rgb(71,28,72)\"],[0.25098039215686274,\"rgb(97,30,82)\"],[0.3137254901960784,\"rgb(123,30,89)\"],[0.3764705882352941,\"rgb(150,27,91)\"],[0.4392156862745098,\"rgb(177,22,88)\"],[0.5019607843137255,\"rgb(203,26,79)\"],[0.5647058823529412,\"rgb(223,47,67)\"],[0.6274509803921569,\"rgb(236,76,61)\"],[0.6901960784313725,\"rgb(242,107,73)\"],[0.7529411764705882,\"rgb(244,135,95)\"],[0.8156862745098039,\"rgb(245,162,122)\"],[0.8784313725490196,\"rgb(246,188,153)\"],[0.9411764705882353,\"rgb(247,212,187)\"],[1.0,\"rgb(250,234,220)\"]],\"type\":\"surface\"}],\"table\":[{\"cells\":{\"fill\":{\"color\":\"rgb(231,231,240)\"},\"line\":{\"color\":\"white\"}},\"header\":{\"fill\":{\"color\":\"rgb(183,183,191)\"},\"line\":{\"color\":\"white\"}},\"type\":\"table\"}]},\"layout\":{\"annotationdefaults\":{\"arrowcolor\":\"rgb(67,103,167)\"},\"autotypenumbers\":\"strict\",\"coloraxis\":{\"colorbar\":{\"outlinewidth\":0,\"tickcolor\":\"rgb(36,36,36)\",\"ticklen\":8,\"ticks\":\"outside\",\"tickwidth\":2}},\"colorscale\":{\"sequential\":[[0.0,\"rgb(2,4,25)\"],[0.06274509803921569,\"rgb(24,15,41)\"],[0.12549019607843137,\"rgb(47,23,57)\"],[0.18823529411764706,\"rgb(71,28,72)\"],[0.25098039215686274,\"rgb(97,30,82)\"],[0.3137254901960784,\"rgb(123,30,89)\"],[0.3764705882352941,\"rgb(150,27,91)\"],[0.4392156862745098,\"rgb(177,22,88)\"],[0.5019607843137255,\"rgb(203,26,79)\"],[0.5647058823529412,\"rgb(223,47,67)\"],[0.6274509803921569,\"rgb(236,76,61)\"],[0.6901960784313725,\"rgb(242,107,73)\"],[0.7529411764705882,\"rgb(244,135,95)\"],[0.8156862745098039,\"rgb(245,162,122)\"],[0.8784313725490196,\"rgb(246,188,153)\"],[0.9411764705882353,\"rgb(247,212,187)\"],[1.0,\"rgb(250,234,220)\"]],\"sequentialminus\":[[0.0,\"rgb(2,4,25)\"],[0.06274509803921569,\"rgb(24,15,41)\"],[0.12549019607843137,\"rgb(47,23,57)\"],[0.18823529411764706,\"rgb(71,28,72)\"],[0.25098039215686274,\"rgb(97,30,82)\"],[0.3137254901960784,\"rgb(123,30,89)\"],[0.3764705882352941,\"rgb(150,27,91)\"],[0.4392156862745098,\"rgb(177,22,88)\"],[0.5019607843137255,\"rgb(203,26,79)\"],[0.5647058823529412,\"rgb(223,47,67)\"],[0.6274509803921569,\"rgb(236,76,61)\"],[0.6901960784313725,\"rgb(242,107,73)\"],[0.7529411764705882,\"rgb(244,135,95)\"],[0.8156862745098039,\"rgb(245,162,122)\"],[0.8784313725490196,\"rgb(246,188,153)\"],[0.9411764705882353,\"rgb(247,212,187)\"],[1.0,\"rgb(250,234,220)\"]]},\"colorway\":[\"rgb(76,114,176)\",\"rgb(221,132,82)\",\"rgb(85,168,104)\",\"rgb(196,78,82)\",\"rgb(129,114,179)\",\"rgb(147,120,96)\",\"rgb(218,139,195)\",\"rgb(140,140,140)\",\"rgb(204,185,116)\",\"rgb(100,181,205)\"],\"font\":{\"color\":\"rgb(36,36,36)\"},\"geo\":{\"bgcolor\":\"white\",\"lakecolor\":\"white\",\"landcolor\":\"rgb(234,234,242)\",\"showlakes\":true,\"showland\":true,\"subunitcolor\":\"white\"},\"hoverlabel\":{\"align\":\"left\"},\"hovermode\":\"closest\",\"paper_bgcolor\":\"white\",\"plot_bgcolor\":\"rgb(234,234,242)\",\"polar\":{\"angularaxis\":{\"gridcolor\":\"white\",\"linecolor\":\"white\",\"showgrid\":true,\"ticks\":\"\"},\"bgcolor\":\"rgb(234,234,242)\",\"radialaxis\":{\"gridcolor\":\"white\",\"linecolor\":\"white\",\"showgrid\":true,\"ticks\":\"\"}},\"scene\":{\"xaxis\":{\"backgroundcolor\":\"rgb(234,234,242)\",\"gridcolor\":\"white\",\"gridwidth\":2,\"linecolor\":\"white\",\"showbackground\":true,\"showgrid\":true,\"ticks\":\"\",\"zerolinecolor\":\"white\"},\"yaxis\":{\"backgroundcolor\":\"rgb(234,234,242)\",\"gridcolor\":\"white\",\"gridwidth\":2,\"linecolor\":\"white\",\"showbackground\":true,\"showgrid\":true,\"ticks\":\"\",\"zerolinecolor\":\"white\"},\"zaxis\":{\"backgroundcolor\":\"rgb(234,234,242)\",\"gridcolor\":\"white\",\"gridwidth\":2,\"linecolor\":\"white\",\"showbackground\":true,\"showgrid\":true,\"ticks\":\"\",\"zerolinecolor\":\"white\"}},\"shapedefaults\":{\"fillcolor\":\"rgb(67,103,167)\",\"line\":{\"width\":0},\"opacity\":0.5},\"ternary\":{\"aaxis\":{\"gridcolor\":\"white\",\"linecolor\":\"white\",\"showgrid\":true,\"ticks\":\"\"},\"baxis\":{\"gridcolor\":\"white\",\"linecolor\":\"white\",\"showgrid\":true,\"ticks\":\"\"},\"bgcolor\":\"rgb(234,234,242)\",\"caxis\":{\"gridcolor\":\"white\",\"linecolor\":\"white\",\"showgrid\":true,\"ticks\":\"\"}},\"xaxis\":{\"automargin\":true,\"gridcolor\":\"white\",\"linecolor\":\"white\",\"showgrid\":true,\"ticks\":\"\",\"title\":{\"standoff\":15},\"zerolinecolor\":\"white\"},\"yaxis\":{\"automargin\":true,\"gridcolor\":\"white\",\"linecolor\":\"white\",\"showgrid\":true,\"ticks\":\"\",\"title\":{\"standoff\":15},\"zerolinecolor\":\"white\"}}},\"title\":{\"text\":\"Post Bac Student Undergraduate Majors\"},\"xaxis\":{\"title\":{\"text\":\"Degree Type\"}},\"yaxis\":{\"title\":{\"text\":\"Number of Students\"}}},                        {\"responsive\": true}                    ).then(function(){\n",
              "                            \n",
              "var gd = document.getElementById('9b0c9638-3bdf-4c6a-bdff-4fa5f8d85827');\n",
              "var x = new MutationObserver(function (mutations, observer) {{\n",
              "        var display = window.getComputedStyle(gd).display;\n",
              "        if (!display || display === 'none') {{\n",
              "            console.log([gd, 'removed!']);\n",
              "            Plotly.purge(gd);\n",
              "            observer.disconnect();\n",
              "        }}\n",
              "}});\n",
              "\n",
              "// Listen for the removal of the full notebook cells\n",
              "var notebookContainer = gd.closest('#notebook-container');\n",
              "if (notebookContainer) {{\n",
              "    x.observe(notebookContainer, {childList: true});\n",
              "}}\n",
              "\n",
              "// Listen for the clearing of the current output cell\n",
              "var outputEl = gd.closest('.output');\n",
              "if (outputEl) {{\n",
              "    x.observe(outputEl, {childList: true});\n",
              "}}\n",
              "\n",
              "                        })                };                            </script>        </div>\n",
              "</body>\n",
              "</html>"
            ]
          },
          "metadata": {}
        }
      ]
    },
    {
      "cell_type": "markdown",
      "source": [
        "Undergraduate degrees by Outcome"
      ],
      "metadata": {
        "id": "iqm_-xkEp5bC"
      }
    },
    {
      "cell_type": "code",
      "source": [
        "acceptance = pd.crosstab(MCAT.Program,MCAT.Degree,margins=bool)\n",
        "pd.options.display.float_format = '{:.2f}%'.format\n",
        "round(acceptance,2)"
      ],
      "metadata": {
        "colab": {
          "base_uri": "https://localhost:8080/",
          "height": 215
        },
        "id": "MlNNbeqWpcH4",
        "outputId": "8f4847ca-1d36-4564-a984-8644036c71a4"
      },
      "execution_count": null,
      "outputs": [
        {
          "output_type": "execute_result",
          "data": {
            "text/plain": [
              "Degree          Econ/Finnance  Other  STEM  Social Sciences  All\n",
              "Program                                                         \n",
              "Do School                   3     10     1                9   23\n",
              "Medical School             13     49    13               16   91\n",
              "Not Admitted                0      4     1                0    5\n",
              "Not Applied                 5      7     3                5   20\n",
              "All                        21     70    18               30  139"
            ],
            "text/html": [
              "\n",
              "  <div id=\"df-1cd3fd90-1b38-489d-8cd0-42fe0fa40390\">\n",
              "    <div class=\"colab-df-container\">\n",
              "      <div>\n",
              "<style scoped>\n",
              "    .dataframe tbody tr th:only-of-type {\n",
              "        vertical-align: middle;\n",
              "    }\n",
              "\n",
              "    .dataframe tbody tr th {\n",
              "        vertical-align: top;\n",
              "    }\n",
              "\n",
              "    .dataframe thead th {\n",
              "        text-align: right;\n",
              "    }\n",
              "</style>\n",
              "<table border=\"1\" class=\"dataframe\">\n",
              "  <thead>\n",
              "    <tr style=\"text-align: right;\">\n",
              "      <th>Degree</th>\n",
              "      <th>Econ/Finnance</th>\n",
              "      <th>Other</th>\n",
              "      <th>STEM</th>\n",
              "      <th>Social Sciences</th>\n",
              "      <th>All</th>\n",
              "    </tr>\n",
              "    <tr>\n",
              "      <th>Program</th>\n",
              "      <th></th>\n",
              "      <th></th>\n",
              "      <th></th>\n",
              "      <th></th>\n",
              "      <th></th>\n",
              "    </tr>\n",
              "  </thead>\n",
              "  <tbody>\n",
              "    <tr>\n",
              "      <th>Do School</th>\n",
              "      <td>3</td>\n",
              "      <td>10</td>\n",
              "      <td>1</td>\n",
              "      <td>9</td>\n",
              "      <td>23</td>\n",
              "    </tr>\n",
              "    <tr>\n",
              "      <th>Medical School</th>\n",
              "      <td>13</td>\n",
              "      <td>49</td>\n",
              "      <td>13</td>\n",
              "      <td>16</td>\n",
              "      <td>91</td>\n",
              "    </tr>\n",
              "    <tr>\n",
              "      <th>Not Admitted</th>\n",
              "      <td>0</td>\n",
              "      <td>4</td>\n",
              "      <td>1</td>\n",
              "      <td>0</td>\n",
              "      <td>5</td>\n",
              "    </tr>\n",
              "    <tr>\n",
              "      <th>Not Applied</th>\n",
              "      <td>5</td>\n",
              "      <td>7</td>\n",
              "      <td>3</td>\n",
              "      <td>5</td>\n",
              "      <td>20</td>\n",
              "    </tr>\n",
              "    <tr>\n",
              "      <th>All</th>\n",
              "      <td>21</td>\n",
              "      <td>70</td>\n",
              "      <td>18</td>\n",
              "      <td>30</td>\n",
              "      <td>139</td>\n",
              "    </tr>\n",
              "  </tbody>\n",
              "</table>\n",
              "</div>\n",
              "      <button class=\"colab-df-convert\" onclick=\"convertToInteractive('df-1cd3fd90-1b38-489d-8cd0-42fe0fa40390')\"\n",
              "              title=\"Convert this dataframe to an interactive table.\"\n",
              "              style=\"display:none;\">\n",
              "        \n",
              "  <svg xmlns=\"http://www.w3.org/2000/svg\" height=\"24px\"viewBox=\"0 0 24 24\"\n",
              "       width=\"24px\">\n",
              "    <path d=\"M0 0h24v24H0V0z\" fill=\"none\"/>\n",
              "    <path d=\"M18.56 5.44l.94 2.06.94-2.06 2.06-.94-2.06-.94-.94-2.06-.94 2.06-2.06.94zm-11 1L8.5 8.5l.94-2.06 2.06-.94-2.06-.94L8.5 2.5l-.94 2.06-2.06.94zm10 10l.94 2.06.94-2.06 2.06-.94-2.06-.94-.94-2.06-.94 2.06-2.06.94z\"/><path d=\"M17.41 7.96l-1.37-1.37c-.4-.4-.92-.59-1.43-.59-.52 0-1.04.2-1.43.59L10.3 9.45l-7.72 7.72c-.78.78-.78 2.05 0 2.83L4 21.41c.39.39.9.59 1.41.59.51 0 1.02-.2 1.41-.59l7.78-7.78 2.81-2.81c.8-.78.8-2.07 0-2.86zM5.41 20L4 18.59l7.72-7.72 1.47 1.35L5.41 20z\"/>\n",
              "  </svg>\n",
              "      </button>\n",
              "      \n",
              "  <style>\n",
              "    .colab-df-container {\n",
              "      display:flex;\n",
              "      flex-wrap:wrap;\n",
              "      gap: 12px;\n",
              "    }\n",
              "\n",
              "    .colab-df-convert {\n",
              "      background-color: #E8F0FE;\n",
              "      border: none;\n",
              "      border-radius: 50%;\n",
              "      cursor: pointer;\n",
              "      display: none;\n",
              "      fill: #1967D2;\n",
              "      height: 32px;\n",
              "      padding: 0 0 0 0;\n",
              "      width: 32px;\n",
              "    }\n",
              "\n",
              "    .colab-df-convert:hover {\n",
              "      background-color: #E2EBFA;\n",
              "      box-shadow: 0px 1px 2px rgba(60, 64, 67, 0.3), 0px 1px 3px 1px rgba(60, 64, 67, 0.15);\n",
              "      fill: #174EA6;\n",
              "    }\n",
              "\n",
              "    [theme=dark] .colab-df-convert {\n",
              "      background-color: #3B4455;\n",
              "      fill: #D2E3FC;\n",
              "    }\n",
              "\n",
              "    [theme=dark] .colab-df-convert:hover {\n",
              "      background-color: #434B5C;\n",
              "      box-shadow: 0px 1px 3px 1px rgba(0, 0, 0, 0.15);\n",
              "      filter: drop-shadow(0px 1px 2px rgba(0, 0, 0, 0.3));\n",
              "      fill: #FFFFFF;\n",
              "    }\n",
              "  </style>\n",
              "\n",
              "      <script>\n",
              "        const buttonEl =\n",
              "          document.querySelector('#df-1cd3fd90-1b38-489d-8cd0-42fe0fa40390 button.colab-df-convert');\n",
              "        buttonEl.style.display =\n",
              "          google.colab.kernel.accessAllowed ? 'block' : 'none';\n",
              "\n",
              "        async function convertToInteractive(key) {\n",
              "          const element = document.querySelector('#df-1cd3fd90-1b38-489d-8cd0-42fe0fa40390');\n",
              "          const dataTable =\n",
              "            await google.colab.kernel.invokeFunction('convertToInteractive',\n",
              "                                                     [key], {});\n",
              "          if (!dataTable) return;\n",
              "\n",
              "          const docLinkHtml = 'Like what you see? Visit the ' +\n",
              "            '<a target=\"_blank\" href=https://colab.research.google.com/notebooks/data_table.ipynb>data table notebook</a>'\n",
              "            + ' to learn more about interactive tables.';\n",
              "          element.innerHTML = '';\n",
              "          dataTable['output_type'] = 'display_data';\n",
              "          await google.colab.output.renderOutput(dataTable, element);\n",
              "          const docLink = document.createElement('div');\n",
              "          docLink.innerHTML = docLinkHtml;\n",
              "          element.appendChild(docLink);\n",
              "        }\n",
              "      </script>\n",
              "    </div>\n",
              "  </div>\n",
              "  "
            ]
          },
          "metadata": {},
          "execution_count": 23
        }
      ]
    },
    {
      "cell_type": "code",
      "source": [
        "acceptance2 = pd.crosstab(MCAT.Program,MCAT.Degree, normalize='columns')*100\n",
        "pd.options.display.float_format = '{:.2f}%'.format\n",
        "round(acceptance,2)"
      ],
      "metadata": {
        "colab": {
          "base_uri": "https://localhost:8080/",
          "height": 193
        },
        "id": "x45GaLaeGsQc",
        "outputId": "cf868b0d-c9b1-45b0-e6c4-73ad88dfa65d"
      },
      "execution_count": null,
      "outputs": [
        {
          "output_type": "execute_result",
          "data": {
            "text/plain": [
              "Degree          Econ/Finnance  Other   STEM  Social Sciences\n",
              "Program                                                     \n",
              "Do School              14.29% 14.29%  5.56%           30.00%\n",
              "Medical School         61.90% 70.00% 72.22%           53.33%\n",
              "Not Admitted            0.00%  5.71%  5.56%            0.00%\n",
              "Not Applied            23.81% 10.00% 16.67%           16.67%"
            ],
            "text/html": [
              "\n",
              "  <div id=\"df-55e11383-c3df-4687-b073-3411b67dcca9\">\n",
              "    <div class=\"colab-df-container\">\n",
              "      <div>\n",
              "<style scoped>\n",
              "    .dataframe tbody tr th:only-of-type {\n",
              "        vertical-align: middle;\n",
              "    }\n",
              "\n",
              "    .dataframe tbody tr th {\n",
              "        vertical-align: top;\n",
              "    }\n",
              "\n",
              "    .dataframe thead th {\n",
              "        text-align: right;\n",
              "    }\n",
              "</style>\n",
              "<table border=\"1\" class=\"dataframe\">\n",
              "  <thead>\n",
              "    <tr style=\"text-align: right;\">\n",
              "      <th>Degree</th>\n",
              "      <th>Econ/Finnance</th>\n",
              "      <th>Other</th>\n",
              "      <th>STEM</th>\n",
              "      <th>Social Sciences</th>\n",
              "    </tr>\n",
              "    <tr>\n",
              "      <th>Program</th>\n",
              "      <th></th>\n",
              "      <th></th>\n",
              "      <th></th>\n",
              "      <th></th>\n",
              "    </tr>\n",
              "  </thead>\n",
              "  <tbody>\n",
              "    <tr>\n",
              "      <th>Do School</th>\n",
              "      <td>14.29%</td>\n",
              "      <td>14.29%</td>\n",
              "      <td>5.56%</td>\n",
              "      <td>30.00%</td>\n",
              "    </tr>\n",
              "    <tr>\n",
              "      <th>Medical School</th>\n",
              "      <td>61.90%</td>\n",
              "      <td>70.00%</td>\n",
              "      <td>72.22%</td>\n",
              "      <td>53.33%</td>\n",
              "    </tr>\n",
              "    <tr>\n",
              "      <th>Not Admitted</th>\n",
              "      <td>0.00%</td>\n",
              "      <td>5.71%</td>\n",
              "      <td>5.56%</td>\n",
              "      <td>0.00%</td>\n",
              "    </tr>\n",
              "    <tr>\n",
              "      <th>Not Applied</th>\n",
              "      <td>23.81%</td>\n",
              "      <td>10.00%</td>\n",
              "      <td>16.67%</td>\n",
              "      <td>16.67%</td>\n",
              "    </tr>\n",
              "  </tbody>\n",
              "</table>\n",
              "</div>\n",
              "      <button class=\"colab-df-convert\" onclick=\"convertToInteractive('df-55e11383-c3df-4687-b073-3411b67dcca9')\"\n",
              "              title=\"Convert this dataframe to an interactive table.\"\n",
              "              style=\"display:none;\">\n",
              "        \n",
              "  <svg xmlns=\"http://www.w3.org/2000/svg\" height=\"24px\"viewBox=\"0 0 24 24\"\n",
              "       width=\"24px\">\n",
              "    <path d=\"M0 0h24v24H0V0z\" fill=\"none\"/>\n",
              "    <path d=\"M18.56 5.44l.94 2.06.94-2.06 2.06-.94-2.06-.94-.94-2.06-.94 2.06-2.06.94zm-11 1L8.5 8.5l.94-2.06 2.06-.94-2.06-.94L8.5 2.5l-.94 2.06-2.06.94zm10 10l.94 2.06.94-2.06 2.06-.94-2.06-.94-.94-2.06-.94 2.06-2.06.94z\"/><path d=\"M17.41 7.96l-1.37-1.37c-.4-.4-.92-.59-1.43-.59-.52 0-1.04.2-1.43.59L10.3 9.45l-7.72 7.72c-.78.78-.78 2.05 0 2.83L4 21.41c.39.39.9.59 1.41.59.51 0 1.02-.2 1.41-.59l7.78-7.78 2.81-2.81c.8-.78.8-2.07 0-2.86zM5.41 20L4 18.59l7.72-7.72 1.47 1.35L5.41 20z\"/>\n",
              "  </svg>\n",
              "      </button>\n",
              "      \n",
              "  <style>\n",
              "    .colab-df-container {\n",
              "      display:flex;\n",
              "      flex-wrap:wrap;\n",
              "      gap: 12px;\n",
              "    }\n",
              "\n",
              "    .colab-df-convert {\n",
              "      background-color: #E8F0FE;\n",
              "      border: none;\n",
              "      border-radius: 50%;\n",
              "      cursor: pointer;\n",
              "      display: none;\n",
              "      fill: #1967D2;\n",
              "      height: 32px;\n",
              "      padding: 0 0 0 0;\n",
              "      width: 32px;\n",
              "    }\n",
              "\n",
              "    .colab-df-convert:hover {\n",
              "      background-color: #E2EBFA;\n",
              "      box-shadow: 0px 1px 2px rgba(60, 64, 67, 0.3), 0px 1px 3px 1px rgba(60, 64, 67, 0.15);\n",
              "      fill: #174EA6;\n",
              "    }\n",
              "\n",
              "    [theme=dark] .colab-df-convert {\n",
              "      background-color: #3B4455;\n",
              "      fill: #D2E3FC;\n",
              "    }\n",
              "\n",
              "    [theme=dark] .colab-df-convert:hover {\n",
              "      background-color: #434B5C;\n",
              "      box-shadow: 0px 1px 3px 1px rgba(0, 0, 0, 0.15);\n",
              "      filter: drop-shadow(0px 1px 2px rgba(0, 0, 0, 0.3));\n",
              "      fill: #FFFFFF;\n",
              "    }\n",
              "  </style>\n",
              "\n",
              "      <script>\n",
              "        const buttonEl =\n",
              "          document.querySelector('#df-55e11383-c3df-4687-b073-3411b67dcca9 button.colab-df-convert');\n",
              "        buttonEl.style.display =\n",
              "          google.colab.kernel.accessAllowed ? 'block' : 'none';\n",
              "\n",
              "        async function convertToInteractive(key) {\n",
              "          const element = document.querySelector('#df-55e11383-c3df-4687-b073-3411b67dcca9');\n",
              "          const dataTable =\n",
              "            await google.colab.kernel.invokeFunction('convertToInteractive',\n",
              "                                                     [key], {});\n",
              "          if (!dataTable) return;\n",
              "\n",
              "          const docLinkHtml = 'Like what you see? Visit the ' +\n",
              "            '<a target=\"_blank\" href=https://colab.research.google.com/notebooks/data_table.ipynb>data table notebook</a>'\n",
              "            + ' to learn more about interactive tables.';\n",
              "          element.innerHTML = '';\n",
              "          dataTable['output_type'] = 'display_data';\n",
              "          await google.colab.output.renderOutput(dataTable, element);\n",
              "          const docLink = document.createElement('div');\n",
              "          docLink.innerHTML = docLinkHtml;\n",
              "          element.appendChild(docLink);\n",
              "        }\n",
              "      </script>\n",
              "    </div>\n",
              "  </div>\n",
              "  "
            ]
          },
          "metadata": {},
          "execution_count": 100
        }
      ]
    },
    {
      "cell_type": "code",
      "source": [
        "levels = acceptance.columns.tolist()"
      ],
      "metadata": {
        "id": "VoXOXsOuqFtJ"
      },
      "execution_count": null,
      "outputs": []
    },
    {
      "cell_type": "code",
      "source": [
        "DO = [14.29,14.29,5.56,30.0]\n",
        "MD = [61.9,70.0,72.22,53.33]\n",
        "Not_admitted = [0,5.71,5.56,0]\n",
        "Did_not_apply=[23.81,10.0,16.67,16.67]"
      ],
      "metadata": {
        "id": "cqMMCRNNGDNE"
      },
      "execution_count": null,
      "outputs": []
    },
    {
      "cell_type": "code",
      "source": [
        "test1 = go.Figure()\n",
        "\n",
        "#DO School\n",
        "test1.add_trace(go.Bar(\n",
        "    x=levels,\n",
        "    y=DO,\n",
        "    text=DO,\n",
        "    textposition='outside',\n",
        "    name = 'Osteopathic Medical School ',\n",
        "    marker={'color':'cyan '}\n",
        "))\n",
        "\n",
        "#MD\n",
        "test1.add_trace(go.Bar(\n",
        "    x=levels,\n",
        "    y=MD,\n",
        "    text=MD,\n",
        "    textposition='outside',\n",
        "    name = 'Medical School',\n",
        "    marker={'color':'royalblue'}\n",
        "))\n",
        "\n",
        "#Not_admitted\n",
        "test1.add_trace(go.Bar(\n",
        "    x=levels,\n",
        "    y=Not_admitted,\n",
        "    text=Not_admitted,\n",
        "    textposition='outside',\n",
        "    name = 'Not Admitted',\n",
        "    marker={'color':'darkblue'}\n",
        "))\n",
        "\n",
        "#Did_not_apply\n",
        "test1.add_trace(go.Bar(\n",
        "    x=levels,\n",
        "    y=Did_not_apply,\n",
        "    text=Did_not_apply,\n",
        "    textposition='outside',\n",
        "    name = 'Did not apply',\n",
        "    marker={'color':'lightcyan'}\n",
        "))\n",
        "\n",
        "\n",
        "test1.update_layout(xaxis=dict(title='Undegraduate Degree'),\n",
        "                   yaxis=dict(title='Frequency in %'),\n",
        "                   barmode='group')\n",
        "\n",
        "test1.update_layout(title='Post Bac Outcomes by Undergraduate Degree Type')\n",
        "test1.update_layout(title_font_color='black')\n",
        "test1.update_layout(title_xanchor='center')\n",
        "test1.update_layout(title_pad_l=1)\n",
        "test1.update_layout(legend_bgcolor='white')\n",
        "test1.update_layout(legend_font_color='black')\n",
        "\n",
        "\n",
        "\n",
        "\n",
        "\n",
        "\n",
        "test1.show()"
      ],
      "metadata": {
        "colab": {
          "base_uri": "https://localhost:8080/",
          "height": 542
        },
        "id": "w95QmqCSqPli",
        "outputId": "6ef4c09b-0b92-4df6-97fa-5f31b19d5bbb"
      },
      "execution_count": null,
      "outputs": [
        {
          "output_type": "display_data",
          "data": {
            "text/html": [
              "<html>\n",
              "<head><meta charset=\"utf-8\" /></head>\n",
              "<body>\n",
              "    <div>            <script src=\"https://cdnjs.cloudflare.com/ajax/libs/mathjax/2.7.5/MathJax.js?config=TeX-AMS-MML_SVG\"></script><script type=\"text/javascript\">if (window.MathJax) {MathJax.Hub.Config({SVG: {font: \"STIX-Web\"}});}</script>                <script type=\"text/javascript\">window.PlotlyConfig = {MathJaxConfig: 'local'};</script>\n",
              "        <script src=\"https://cdn.plot.ly/plotly-2.8.3.min.js\"></script>                <div id=\"f79705dc-aba1-43ef-a363-c6f828c63d3d\" class=\"plotly-graph-div\" style=\"height:525px; width:100%;\"></div>            <script type=\"text/javascript\">                                    window.PLOTLYENV=window.PLOTLYENV || {};                                    if (document.getElementById(\"f79705dc-aba1-43ef-a363-c6f828c63d3d\")) {                    Plotly.newPlot(                        \"f79705dc-aba1-43ef-a363-c6f828c63d3d\",                        [{\"marker\":{\"color\":\"cyan \"},\"name\":\"Osteopathic Medical School \",\"text\":[\"14.29\",\"14.29\",\"5.56\",\"30.0\"],\"textposition\":\"outside\",\"x\":[\"Econ/Finnance\",\"Other\",\"STEM\",\"Social Sciences\",\"All\"],\"y\":[14.29,14.29,5.56,30.0],\"type\":\"bar\"},{\"marker\":{\"color\":\"royalblue\"},\"name\":\"Medical School\",\"text\":[\"61.9\",\"70.0\",\"72.22\",\"53.33\"],\"textposition\":\"outside\",\"x\":[\"Econ/Finnance\",\"Other\",\"STEM\",\"Social Sciences\",\"All\"],\"y\":[61.9,70.0,72.22,53.33],\"type\":\"bar\"},{\"marker\":{\"color\":\"darkblue\"},\"name\":\"Not Admitted\",\"text\":[\"0\",\"5.71\",\"5.56\",\"0\"],\"textposition\":\"outside\",\"x\":[\"Econ/Finnance\",\"Other\",\"STEM\",\"Social Sciences\",\"All\"],\"y\":[0,5.71,5.56,0],\"type\":\"bar\"},{\"marker\":{\"color\":\"lightcyan\"},\"name\":\"Did not apply\",\"text\":[\"23.81\",\"10.0\",\"16.67\",\"16.67\"],\"textposition\":\"outside\",\"x\":[\"Econ/Finnance\",\"Other\",\"STEM\",\"Social Sciences\",\"All\"],\"y\":[23.81,10.0,16.67,16.67],\"type\":\"bar\"}],                        {\"template\":{\"data\":{\"bar\":[{\"error_x\":{\"color\":\"rgb(36,36,36)\"},\"error_y\":{\"color\":\"rgb(36,36,36)\"},\"marker\":{\"line\":{\"color\":\"rgb(234,234,242)\",\"width\":0.5},\"pattern\":{\"fillmode\":\"overlay\",\"size\":10,\"solidity\":0.2}},\"type\":\"bar\"}],\"barpolar\":[{\"marker\":{\"line\":{\"color\":\"rgb(234,234,242)\",\"width\":0.5},\"pattern\":{\"fillmode\":\"overlay\",\"size\":10,\"solidity\":0.2}},\"type\":\"barpolar\"}],\"carpet\":[{\"aaxis\":{\"endlinecolor\":\"rgb(36,36,36)\",\"gridcolor\":\"white\",\"linecolor\":\"white\",\"minorgridcolor\":\"white\",\"startlinecolor\":\"rgb(36,36,36)\"},\"baxis\":{\"endlinecolor\":\"rgb(36,36,36)\",\"gridcolor\":\"white\",\"linecolor\":\"white\",\"minorgridcolor\":\"white\",\"startlinecolor\":\"rgb(36,36,36)\"},\"type\":\"carpet\"}],\"choropleth\":[{\"colorbar\":{\"outlinewidth\":0,\"tickcolor\":\"rgb(36,36,36)\",\"ticklen\":8,\"ticks\":\"outside\",\"tickwidth\":2},\"type\":\"choropleth\"}],\"contour\":[{\"colorbar\":{\"outlinewidth\":0,\"tickcolor\":\"rgb(36,36,36)\",\"ticklen\":8,\"ticks\":\"outside\",\"tickwidth\":2},\"colorscale\":[[0.0,\"rgb(2,4,25)\"],[0.06274509803921569,\"rgb(24,15,41)\"],[0.12549019607843137,\"rgb(47,23,57)\"],[0.18823529411764706,\"rgb(71,28,72)\"],[0.25098039215686274,\"rgb(97,30,82)\"],[0.3137254901960784,\"rgb(123,30,89)\"],[0.3764705882352941,\"rgb(150,27,91)\"],[0.4392156862745098,\"rgb(177,22,88)\"],[0.5019607843137255,\"rgb(203,26,79)\"],[0.5647058823529412,\"rgb(223,47,67)\"],[0.6274509803921569,\"rgb(236,76,61)\"],[0.6901960784313725,\"rgb(242,107,73)\"],[0.7529411764705882,\"rgb(244,135,95)\"],[0.8156862745098039,\"rgb(245,162,122)\"],[0.8784313725490196,\"rgb(246,188,153)\"],[0.9411764705882353,\"rgb(247,212,187)\"],[1.0,\"rgb(250,234,220)\"]],\"type\":\"contour\"}],\"contourcarpet\":[{\"colorbar\":{\"outlinewidth\":0,\"tickcolor\":\"rgb(36,36,36)\",\"ticklen\":8,\"ticks\":\"outside\",\"tickwidth\":2},\"type\":\"contourcarpet\"}],\"heatmap\":[{\"colorbar\":{\"outlinewidth\":0,\"tickcolor\":\"rgb(36,36,36)\",\"ticklen\":8,\"ticks\":\"outside\",\"tickwidth\":2},\"colorscale\":[[0.0,\"rgb(2,4,25)\"],[0.06274509803921569,\"rgb(24,15,41)\"],[0.12549019607843137,\"rgb(47,23,57)\"],[0.18823529411764706,\"rgb(71,28,72)\"],[0.25098039215686274,\"rgb(97,30,82)\"],[0.3137254901960784,\"rgb(123,30,89)\"],[0.3764705882352941,\"rgb(150,27,91)\"],[0.4392156862745098,\"rgb(177,22,88)\"],[0.5019607843137255,\"rgb(203,26,79)\"],[0.5647058823529412,\"rgb(223,47,67)\"],[0.6274509803921569,\"rgb(236,76,61)\"],[0.6901960784313725,\"rgb(242,107,73)\"],[0.7529411764705882,\"rgb(244,135,95)\"],[0.8156862745098039,\"rgb(245,162,122)\"],[0.8784313725490196,\"rgb(246,188,153)\"],[0.9411764705882353,\"rgb(247,212,187)\"],[1.0,\"rgb(250,234,220)\"]],\"type\":\"heatmap\"}],\"heatmapgl\":[{\"colorbar\":{\"outlinewidth\":0,\"tickcolor\":\"rgb(36,36,36)\",\"ticklen\":8,\"ticks\":\"outside\",\"tickwidth\":2},\"colorscale\":[[0.0,\"rgb(2,4,25)\"],[0.06274509803921569,\"rgb(24,15,41)\"],[0.12549019607843137,\"rgb(47,23,57)\"],[0.18823529411764706,\"rgb(71,28,72)\"],[0.25098039215686274,\"rgb(97,30,82)\"],[0.3137254901960784,\"rgb(123,30,89)\"],[0.3764705882352941,\"rgb(150,27,91)\"],[0.4392156862745098,\"rgb(177,22,88)\"],[0.5019607843137255,\"rgb(203,26,79)\"],[0.5647058823529412,\"rgb(223,47,67)\"],[0.6274509803921569,\"rgb(236,76,61)\"],[0.6901960784313725,\"rgb(242,107,73)\"],[0.7529411764705882,\"rgb(244,135,95)\"],[0.8156862745098039,\"rgb(245,162,122)\"],[0.8784313725490196,\"rgb(246,188,153)\"],[0.9411764705882353,\"rgb(247,212,187)\"],[1.0,\"rgb(250,234,220)\"]],\"type\":\"heatmapgl\"}],\"histogram\":[{\"marker\":{\"pattern\":{\"fillmode\":\"overlay\",\"size\":10,\"solidity\":0.2}},\"type\":\"histogram\"}],\"histogram2d\":[{\"colorbar\":{\"outlinewidth\":0,\"tickcolor\":\"rgb(36,36,36)\",\"ticklen\":8,\"ticks\":\"outside\",\"tickwidth\":2},\"colorscale\":[[0.0,\"rgb(2,4,25)\"],[0.06274509803921569,\"rgb(24,15,41)\"],[0.12549019607843137,\"rgb(47,23,57)\"],[0.18823529411764706,\"rgb(71,28,72)\"],[0.25098039215686274,\"rgb(97,30,82)\"],[0.3137254901960784,\"rgb(123,30,89)\"],[0.3764705882352941,\"rgb(150,27,91)\"],[0.4392156862745098,\"rgb(177,22,88)\"],[0.5019607843137255,\"rgb(203,26,79)\"],[0.5647058823529412,\"rgb(223,47,67)\"],[0.6274509803921569,\"rgb(236,76,61)\"],[0.6901960784313725,\"rgb(242,107,73)\"],[0.7529411764705882,\"rgb(244,135,95)\"],[0.8156862745098039,\"rgb(245,162,122)\"],[0.8784313725490196,\"rgb(246,188,153)\"],[0.9411764705882353,\"rgb(247,212,187)\"],[1.0,\"rgb(250,234,220)\"]],\"type\":\"histogram2d\"}],\"histogram2dcontour\":[{\"colorbar\":{\"outlinewidth\":0,\"tickcolor\":\"rgb(36,36,36)\",\"ticklen\":8,\"ticks\":\"outside\",\"tickwidth\":2},\"colorscale\":[[0.0,\"rgb(2,4,25)\"],[0.06274509803921569,\"rgb(24,15,41)\"],[0.12549019607843137,\"rgb(47,23,57)\"],[0.18823529411764706,\"rgb(71,28,72)\"],[0.25098039215686274,\"rgb(97,30,82)\"],[0.3137254901960784,\"rgb(123,30,89)\"],[0.3764705882352941,\"rgb(150,27,91)\"],[0.4392156862745098,\"rgb(177,22,88)\"],[0.5019607843137255,\"rgb(203,26,79)\"],[0.5647058823529412,\"rgb(223,47,67)\"],[0.6274509803921569,\"rgb(236,76,61)\"],[0.6901960784313725,\"rgb(242,107,73)\"],[0.7529411764705882,\"rgb(244,135,95)\"],[0.8156862745098039,\"rgb(245,162,122)\"],[0.8784313725490196,\"rgb(246,188,153)\"],[0.9411764705882353,\"rgb(247,212,187)\"],[1.0,\"rgb(250,234,220)\"]],\"type\":\"histogram2dcontour\"}],\"mesh3d\":[{\"colorbar\":{\"outlinewidth\":0,\"tickcolor\":\"rgb(36,36,36)\",\"ticklen\":8,\"ticks\":\"outside\",\"tickwidth\":2},\"type\":\"mesh3d\"}],\"parcoords\":[{\"line\":{\"colorbar\":{\"outlinewidth\":0,\"tickcolor\":\"rgb(36,36,36)\",\"ticklen\":8,\"ticks\":\"outside\",\"tickwidth\":2}},\"type\":\"parcoords\"}],\"pie\":[{\"automargin\":true,\"type\":\"pie\"}],\"scatter\":[{\"marker\":{\"colorbar\":{\"outlinewidth\":0,\"tickcolor\":\"rgb(36,36,36)\",\"ticklen\":8,\"ticks\":\"outside\",\"tickwidth\":2}},\"type\":\"scatter\"}],\"scatter3d\":[{\"line\":{\"colorbar\":{\"outlinewidth\":0,\"tickcolor\":\"rgb(36,36,36)\",\"ticklen\":8,\"ticks\":\"outside\",\"tickwidth\":2}},\"marker\":{\"colorbar\":{\"outlinewidth\":0,\"tickcolor\":\"rgb(36,36,36)\",\"ticklen\":8,\"ticks\":\"outside\",\"tickwidth\":2}},\"type\":\"scatter3d\"}],\"scattercarpet\":[{\"marker\":{\"colorbar\":{\"outlinewidth\":0,\"tickcolor\":\"rgb(36,36,36)\",\"ticklen\":8,\"ticks\":\"outside\",\"tickwidth\":2}},\"type\":\"scattercarpet\"}],\"scattergeo\":[{\"marker\":{\"colorbar\":{\"outlinewidth\":0,\"tickcolor\":\"rgb(36,36,36)\",\"ticklen\":8,\"ticks\":\"outside\",\"tickwidth\":2}},\"type\":\"scattergeo\"}],\"scattergl\":[{\"marker\":{\"colorbar\":{\"outlinewidth\":0,\"tickcolor\":\"rgb(36,36,36)\",\"ticklen\":8,\"ticks\":\"outside\",\"tickwidth\":2}},\"type\":\"scattergl\"}],\"scattermapbox\":[{\"marker\":{\"colorbar\":{\"outlinewidth\":0,\"tickcolor\":\"rgb(36,36,36)\",\"ticklen\":8,\"ticks\":\"outside\",\"tickwidth\":2}},\"type\":\"scattermapbox\"}],\"scatterpolar\":[{\"marker\":{\"colorbar\":{\"outlinewidth\":0,\"tickcolor\":\"rgb(36,36,36)\",\"ticklen\":8,\"ticks\":\"outside\",\"tickwidth\":2}},\"type\":\"scatterpolar\"}],\"scatterpolargl\":[{\"marker\":{\"colorbar\":{\"outlinewidth\":0,\"tickcolor\":\"rgb(36,36,36)\",\"ticklen\":8,\"ticks\":\"outside\",\"tickwidth\":2}},\"type\":\"scatterpolargl\"}],\"scatterternary\":[{\"marker\":{\"colorbar\":{\"outlinewidth\":0,\"tickcolor\":\"rgb(36,36,36)\",\"ticklen\":8,\"ticks\":\"outside\",\"tickwidth\":2}},\"type\":\"scatterternary\"}],\"surface\":[{\"colorbar\":{\"outlinewidth\":0,\"tickcolor\":\"rgb(36,36,36)\",\"ticklen\":8,\"ticks\":\"outside\",\"tickwidth\":2},\"colorscale\":[[0.0,\"rgb(2,4,25)\"],[0.06274509803921569,\"rgb(24,15,41)\"],[0.12549019607843137,\"rgb(47,23,57)\"],[0.18823529411764706,\"rgb(71,28,72)\"],[0.25098039215686274,\"rgb(97,30,82)\"],[0.3137254901960784,\"rgb(123,30,89)\"],[0.3764705882352941,\"rgb(150,27,91)\"],[0.4392156862745098,\"rgb(177,22,88)\"],[0.5019607843137255,\"rgb(203,26,79)\"],[0.5647058823529412,\"rgb(223,47,67)\"],[0.6274509803921569,\"rgb(236,76,61)\"],[0.6901960784313725,\"rgb(242,107,73)\"],[0.7529411764705882,\"rgb(244,135,95)\"],[0.8156862745098039,\"rgb(245,162,122)\"],[0.8784313725490196,\"rgb(246,188,153)\"],[0.9411764705882353,\"rgb(247,212,187)\"],[1.0,\"rgb(250,234,220)\"]],\"type\":\"surface\"}],\"table\":[{\"cells\":{\"fill\":{\"color\":\"rgb(231,231,240)\"},\"line\":{\"color\":\"white\"}},\"header\":{\"fill\":{\"color\":\"rgb(183,183,191)\"},\"line\":{\"color\":\"white\"}},\"type\":\"table\"}]},\"layout\":{\"annotationdefaults\":{\"arrowcolor\":\"rgb(67,103,167)\"},\"autotypenumbers\":\"strict\",\"coloraxis\":{\"colorbar\":{\"outlinewidth\":0,\"tickcolor\":\"rgb(36,36,36)\",\"ticklen\":8,\"ticks\":\"outside\",\"tickwidth\":2}},\"colorscale\":{\"sequential\":[[0.0,\"rgb(2,4,25)\"],[0.06274509803921569,\"rgb(24,15,41)\"],[0.12549019607843137,\"rgb(47,23,57)\"],[0.18823529411764706,\"rgb(71,28,72)\"],[0.25098039215686274,\"rgb(97,30,82)\"],[0.3137254901960784,\"rgb(123,30,89)\"],[0.3764705882352941,\"rgb(150,27,91)\"],[0.4392156862745098,\"rgb(177,22,88)\"],[0.5019607843137255,\"rgb(203,26,79)\"],[0.5647058823529412,\"rgb(223,47,67)\"],[0.6274509803921569,\"rgb(236,76,61)\"],[0.6901960784313725,\"rgb(242,107,73)\"],[0.7529411764705882,\"rgb(244,135,95)\"],[0.8156862745098039,\"rgb(245,162,122)\"],[0.8784313725490196,\"rgb(246,188,153)\"],[0.9411764705882353,\"rgb(247,212,187)\"],[1.0,\"rgb(250,234,220)\"]],\"sequentialminus\":[[0.0,\"rgb(2,4,25)\"],[0.06274509803921569,\"rgb(24,15,41)\"],[0.12549019607843137,\"rgb(47,23,57)\"],[0.18823529411764706,\"rgb(71,28,72)\"],[0.25098039215686274,\"rgb(97,30,82)\"],[0.3137254901960784,\"rgb(123,30,89)\"],[0.3764705882352941,\"rgb(150,27,91)\"],[0.4392156862745098,\"rgb(177,22,88)\"],[0.5019607843137255,\"rgb(203,26,79)\"],[0.5647058823529412,\"rgb(223,47,67)\"],[0.6274509803921569,\"rgb(236,76,61)\"],[0.6901960784313725,\"rgb(242,107,73)\"],[0.7529411764705882,\"rgb(244,135,95)\"],[0.8156862745098039,\"rgb(245,162,122)\"],[0.8784313725490196,\"rgb(246,188,153)\"],[0.9411764705882353,\"rgb(247,212,187)\"],[1.0,\"rgb(250,234,220)\"]]},\"colorway\":[\"rgb(76,114,176)\",\"rgb(221,132,82)\",\"rgb(85,168,104)\",\"rgb(196,78,82)\",\"rgb(129,114,179)\",\"rgb(147,120,96)\",\"rgb(218,139,195)\",\"rgb(140,140,140)\",\"rgb(204,185,116)\",\"rgb(100,181,205)\"],\"font\":{\"color\":\"rgb(36,36,36)\"},\"geo\":{\"bgcolor\":\"white\",\"lakecolor\":\"white\",\"landcolor\":\"rgb(234,234,242)\",\"showlakes\":true,\"showland\":true,\"subunitcolor\":\"white\"},\"hoverlabel\":{\"align\":\"left\"},\"hovermode\":\"closest\",\"paper_bgcolor\":\"white\",\"plot_bgcolor\":\"rgb(234,234,242)\",\"polar\":{\"angularaxis\":{\"gridcolor\":\"white\",\"linecolor\":\"white\",\"showgrid\":true,\"ticks\":\"\"},\"bgcolor\":\"rgb(234,234,242)\",\"radialaxis\":{\"gridcolor\":\"white\",\"linecolor\":\"white\",\"showgrid\":true,\"ticks\":\"\"}},\"scene\":{\"xaxis\":{\"backgroundcolor\":\"rgb(234,234,242)\",\"gridcolor\":\"white\",\"gridwidth\":2,\"linecolor\":\"white\",\"showbackground\":true,\"showgrid\":true,\"ticks\":\"\",\"zerolinecolor\":\"white\"},\"yaxis\":{\"backgroundcolor\":\"rgb(234,234,242)\",\"gridcolor\":\"white\",\"gridwidth\":2,\"linecolor\":\"white\",\"showbackground\":true,\"showgrid\":true,\"ticks\":\"\",\"zerolinecolor\":\"white\"},\"zaxis\":{\"backgroundcolor\":\"rgb(234,234,242)\",\"gridcolor\":\"white\",\"gridwidth\":2,\"linecolor\":\"white\",\"showbackground\":true,\"showgrid\":true,\"ticks\":\"\",\"zerolinecolor\":\"white\"}},\"shapedefaults\":{\"fillcolor\":\"rgb(67,103,167)\",\"line\":{\"width\":0},\"opacity\":0.5},\"ternary\":{\"aaxis\":{\"gridcolor\":\"white\",\"linecolor\":\"white\",\"showgrid\":true,\"ticks\":\"\"},\"baxis\":{\"gridcolor\":\"white\",\"linecolor\":\"white\",\"showgrid\":true,\"ticks\":\"\"},\"bgcolor\":\"rgb(234,234,242)\",\"caxis\":{\"gridcolor\":\"white\",\"linecolor\":\"white\",\"showgrid\":true,\"ticks\":\"\"}},\"xaxis\":{\"automargin\":true,\"gridcolor\":\"white\",\"linecolor\":\"white\",\"showgrid\":true,\"ticks\":\"\",\"title\":{\"standoff\":15},\"zerolinecolor\":\"white\"},\"yaxis\":{\"automargin\":true,\"gridcolor\":\"white\",\"linecolor\":\"white\",\"showgrid\":true,\"ticks\":\"\",\"title\":{\"standoff\":15},\"zerolinecolor\":\"white\"}}},\"xaxis\":{\"title\":{\"text\":\"Undegraduate Degree\"}},\"yaxis\":{\"title\":{\"text\":\"Frequency in %\"}},\"barmode\":\"group\",\"title\":{\"text\":\"Post Bac Outcomes by Undergraduate Degree Type\",\"font\":{\"color\":\"black\"},\"xanchor\":\"center\",\"pad\":{\"l\":1}},\"legend\":{\"bgcolor\":\"white\",\"font\":{\"color\":\"black\"}}},                        {\"responsive\": true}                    ).then(function(){\n",
              "                            \n",
              "var gd = document.getElementById('f79705dc-aba1-43ef-a363-c6f828c63d3d');\n",
              "var x = new MutationObserver(function (mutations, observer) {{\n",
              "        var display = window.getComputedStyle(gd).display;\n",
              "        if (!display || display === 'none') {{\n",
              "            console.log([gd, 'removed!']);\n",
              "            Plotly.purge(gd);\n",
              "            observer.disconnect();\n",
              "        }}\n",
              "}});\n",
              "\n",
              "// Listen for the removal of the full notebook cells\n",
              "var notebookContainer = gd.closest('#notebook-container');\n",
              "if (notebookContainer) {{\n",
              "    x.observe(notebookContainer, {childList: true});\n",
              "}}\n",
              "\n",
              "// Listen for the clearing of the current output cell\n",
              "var outputEl = gd.closest('.output');\n",
              "if (outputEl) {{\n",
              "    x.observe(outputEl, {childList: true});\n",
              "}}\n",
              "\n",
              "                        })                };                            </script>        </div>\n",
              "</body>\n",
              "</html>"
            ]
          },
          "metadata": {}
        }
      ]
    },
    {
      "cell_type": "markdown",
      "source": [
        "###MCAT Performance"
      ],
      "metadata": {
        "id": "OOrpWs628L_N"
      }
    },
    {
      "cell_type": "markdown",
      "source": [
        "#####Summary Statistics "
      ],
      "metadata": {
        "id": "aijfUJvRQWgu"
      }
    },
    {
      "cell_type": "code",
      "source": [
        "tests = MCAT.loc[0:143,['MCAT_1','MCAT_2','MCAT_3','Final']]"
      ],
      "metadata": {
        "id": "mcbAVc2mOPRs",
        "outputId": "0db77c88-21fa-4168-fc15-c1687837e355",
        "colab": {
          "base_uri": "https://localhost:8080/",
          "height": 165
        }
      },
      "execution_count": null,
      "outputs": [
        {
          "output_type": "error",
          "ename": "NameError",
          "evalue": "ignored",
          "traceback": [
            "\u001b[0;31m---------------------------------------------------------------------------\u001b[0m",
            "\u001b[0;31mNameError\u001b[0m                                 Traceback (most recent call last)",
            "\u001b[0;32m<ipython-input-1-1237d1c3d179>\u001b[0m in \u001b[0;36m<module>\u001b[0;34m\u001b[0m\n\u001b[0;32m----> 1\u001b[0;31m \u001b[0mtests\u001b[0m \u001b[0;34m=\u001b[0m \u001b[0mMCAT\u001b[0m\u001b[0;34m.\u001b[0m\u001b[0mloc\u001b[0m\u001b[0;34m[\u001b[0m\u001b[0;36m0\u001b[0m\u001b[0;34m:\u001b[0m\u001b[0;36m143\u001b[0m\u001b[0;34m,\u001b[0m\u001b[0;34m[\u001b[0m\u001b[0;34m'MCAT_1'\u001b[0m\u001b[0;34m,\u001b[0m\u001b[0;34m'MCAT_2'\u001b[0m\u001b[0;34m,\u001b[0m\u001b[0;34m'MCAT_3'\u001b[0m\u001b[0;34m,\u001b[0m\u001b[0;34m'Final'\u001b[0m\u001b[0;34m]\u001b[0m\u001b[0;34m]\u001b[0m\u001b[0;34m\u001b[0m\u001b[0;34m\u001b[0m\u001b[0m\n\u001b[0m",
            "\u001b[0;31mNameError\u001b[0m: name 'MCAT' is not defined"
          ]
        }
      ]
    },
    {
      "cell_type": "code",
      "source": [
        "summary1 = tests.describe()\n",
        "round(summary1,2)"
      ],
      "metadata": {
        "colab": {
          "base_uri": "https://localhost:8080/",
          "height": 279
        },
        "id": "amS7jmb7Og87",
        "outputId": "8f2850c9-a96a-435d-c18e-68c1c0a1d9c7"
      },
      "execution_count": null,
      "outputs": [
        {
          "output_type": "execute_result",
          "data": {
            "text/plain": [
              "       MCAT_1  MCAT_2  MCAT_3   Final\n",
              "count 142.00%  24.00%   3.00% 141.00%\n",
              "mean  509.61% 505.00% 498.00% 510.41%\n",
              "std     7.30%   6.05%   3.46%   6.63%\n",
              "min   490.00% 493.00% 496.00% 494.00%\n",
              "25%   504.00% 499.75% 496.00% 506.00%\n",
              "50%   510.00% 506.00% 496.00% 511.00%\n",
              "75%   515.00% 510.00% 499.00% 515.00%\n",
              "max   525.00% 515.00% 502.00% 525.00%"
            ],
            "text/html": [
              "\n",
              "  <div id=\"df-4b79802c-cb2a-4d55-b7b1-322f0cbd33fb\">\n",
              "    <div class=\"colab-df-container\">\n",
              "      <div>\n",
              "<style scoped>\n",
              "    .dataframe tbody tr th:only-of-type {\n",
              "        vertical-align: middle;\n",
              "    }\n",
              "\n",
              "    .dataframe tbody tr th {\n",
              "        vertical-align: top;\n",
              "    }\n",
              "\n",
              "    .dataframe thead th {\n",
              "        text-align: right;\n",
              "    }\n",
              "</style>\n",
              "<table border=\"1\" class=\"dataframe\">\n",
              "  <thead>\n",
              "    <tr style=\"text-align: right;\">\n",
              "      <th></th>\n",
              "      <th>MCAT_1</th>\n",
              "      <th>MCAT_2</th>\n",
              "      <th>MCAT_3</th>\n",
              "      <th>Final</th>\n",
              "    </tr>\n",
              "  </thead>\n",
              "  <tbody>\n",
              "    <tr>\n",
              "      <th>count</th>\n",
              "      <td>142.00%</td>\n",
              "      <td>24.00%</td>\n",
              "      <td>3.00%</td>\n",
              "      <td>141.00%</td>\n",
              "    </tr>\n",
              "    <tr>\n",
              "      <th>mean</th>\n",
              "      <td>509.61%</td>\n",
              "      <td>505.00%</td>\n",
              "      <td>498.00%</td>\n",
              "      <td>510.41%</td>\n",
              "    </tr>\n",
              "    <tr>\n",
              "      <th>std</th>\n",
              "      <td>7.30%</td>\n",
              "      <td>6.05%</td>\n",
              "      <td>3.46%</td>\n",
              "      <td>6.63%</td>\n",
              "    </tr>\n",
              "    <tr>\n",
              "      <th>min</th>\n",
              "      <td>490.00%</td>\n",
              "      <td>493.00%</td>\n",
              "      <td>496.00%</td>\n",
              "      <td>494.00%</td>\n",
              "    </tr>\n",
              "    <tr>\n",
              "      <th>25%</th>\n",
              "      <td>504.00%</td>\n",
              "      <td>499.75%</td>\n",
              "      <td>496.00%</td>\n",
              "      <td>506.00%</td>\n",
              "    </tr>\n",
              "    <tr>\n",
              "      <th>50%</th>\n",
              "      <td>510.00%</td>\n",
              "      <td>506.00%</td>\n",
              "      <td>496.00%</td>\n",
              "      <td>511.00%</td>\n",
              "    </tr>\n",
              "    <tr>\n",
              "      <th>75%</th>\n",
              "      <td>515.00%</td>\n",
              "      <td>510.00%</td>\n",
              "      <td>499.00%</td>\n",
              "      <td>515.00%</td>\n",
              "    </tr>\n",
              "    <tr>\n",
              "      <th>max</th>\n",
              "      <td>525.00%</td>\n",
              "      <td>515.00%</td>\n",
              "      <td>502.00%</td>\n",
              "      <td>525.00%</td>\n",
              "    </tr>\n",
              "  </tbody>\n",
              "</table>\n",
              "</div>\n",
              "      <button class=\"colab-df-convert\" onclick=\"convertToInteractive('df-4b79802c-cb2a-4d55-b7b1-322f0cbd33fb')\"\n",
              "              title=\"Convert this dataframe to an interactive table.\"\n",
              "              style=\"display:none;\">\n",
              "        \n",
              "  <svg xmlns=\"http://www.w3.org/2000/svg\" height=\"24px\"viewBox=\"0 0 24 24\"\n",
              "       width=\"24px\">\n",
              "    <path d=\"M0 0h24v24H0V0z\" fill=\"none\"/>\n",
              "    <path d=\"M18.56 5.44l.94 2.06.94-2.06 2.06-.94-2.06-.94-.94-2.06-.94 2.06-2.06.94zm-11 1L8.5 8.5l.94-2.06 2.06-.94-2.06-.94L8.5 2.5l-.94 2.06-2.06.94zm10 10l.94 2.06.94-2.06 2.06-.94-2.06-.94-.94-2.06-.94 2.06-2.06.94z\"/><path d=\"M17.41 7.96l-1.37-1.37c-.4-.4-.92-.59-1.43-.59-.52 0-1.04.2-1.43.59L10.3 9.45l-7.72 7.72c-.78.78-.78 2.05 0 2.83L4 21.41c.39.39.9.59 1.41.59.51 0 1.02-.2 1.41-.59l7.78-7.78 2.81-2.81c.8-.78.8-2.07 0-2.86zM5.41 20L4 18.59l7.72-7.72 1.47 1.35L5.41 20z\"/>\n",
              "  </svg>\n",
              "      </button>\n",
              "      \n",
              "  <style>\n",
              "    .colab-df-container {\n",
              "      display:flex;\n",
              "      flex-wrap:wrap;\n",
              "      gap: 12px;\n",
              "    }\n",
              "\n",
              "    .colab-df-convert {\n",
              "      background-color: #E8F0FE;\n",
              "      border: none;\n",
              "      border-radius: 50%;\n",
              "      cursor: pointer;\n",
              "      display: none;\n",
              "      fill: #1967D2;\n",
              "      height: 32px;\n",
              "      padding: 0 0 0 0;\n",
              "      width: 32px;\n",
              "    }\n",
              "\n",
              "    .colab-df-convert:hover {\n",
              "      background-color: #E2EBFA;\n",
              "      box-shadow: 0px 1px 2px rgba(60, 64, 67, 0.3), 0px 1px 3px 1px rgba(60, 64, 67, 0.15);\n",
              "      fill: #174EA6;\n",
              "    }\n",
              "\n",
              "    [theme=dark] .colab-df-convert {\n",
              "      background-color: #3B4455;\n",
              "      fill: #D2E3FC;\n",
              "    }\n",
              "\n",
              "    [theme=dark] .colab-df-convert:hover {\n",
              "      background-color: #434B5C;\n",
              "      box-shadow: 0px 1px 3px 1px rgba(0, 0, 0, 0.15);\n",
              "      filter: drop-shadow(0px 1px 2px rgba(0, 0, 0, 0.3));\n",
              "      fill: #FFFFFF;\n",
              "    }\n",
              "  </style>\n",
              "\n",
              "      <script>\n",
              "        const buttonEl =\n",
              "          document.querySelector('#df-4b79802c-cb2a-4d55-b7b1-322f0cbd33fb button.colab-df-convert');\n",
              "        buttonEl.style.display =\n",
              "          google.colab.kernel.accessAllowed ? 'block' : 'none';\n",
              "\n",
              "        async function convertToInteractive(key) {\n",
              "          const element = document.querySelector('#df-4b79802c-cb2a-4d55-b7b1-322f0cbd33fb');\n",
              "          const dataTable =\n",
              "            await google.colab.kernel.invokeFunction('convertToInteractive',\n",
              "                                                     [key], {});\n",
              "          if (!dataTable) return;\n",
              "\n",
              "          const docLinkHtml = 'Like what you see? Visit the ' +\n",
              "            '<a target=\"_blank\" href=https://colab.research.google.com/notebooks/data_table.ipynb>data table notebook</a>'\n",
              "            + ' to learn more about interactive tables.';\n",
              "          element.innerHTML = '';\n",
              "          dataTable['output_type'] = 'display_data';\n",
              "          await google.colab.output.renderOutput(dataTable, element);\n",
              "          const docLink = document.createElement('div');\n",
              "          docLink.innerHTML = docLinkHtml;\n",
              "          element.appendChild(docLink);\n",
              "        }\n",
              "      </script>\n",
              "    </div>\n",
              "  </div>\n",
              "  "
            ]
          },
          "metadata": {},
          "execution_count": 29
        }
      ]
    },
    {
      "cell_type": "markdown",
      "source": [
        "####Students T Test "
      ],
      "metadata": {
        "id": "F8R-dHg9UX8C"
      }
    },
    {
      "cell_type": "code",
      "source": [
        "df2 = MCAT.dropna(subset = ['Final'])\n",
        "df2 = MCAT.dropna(subset = ['Degree'])"
      ],
      "metadata": {
        "id": "uDT40Yqw8SqE"
      },
      "execution_count": null,
      "outputs": []
    },
    {
      "cell_type": "code",
      "source": [
        "df2 = df2.dropna(subset = ['Final'])\n"
      ],
      "metadata": {
        "id": "neWTh-Ki-VUG"
      },
      "execution_count": null,
      "outputs": []
    },
    {
      "cell_type": "code",
      "source": [
        "attempt_2 = df2[df2.Attempt == 0]['Final'].to_numpy()\n",
        "attempt_1 = df2[df2.Attempt == 1]['Final'].to_numpy()"
      ],
      "metadata": {
        "id": "WgVQ9he08OSd"
      },
      "execution_count": null,
      "outputs": []
    },
    {
      "cell_type": "markdown",
      "source": [
        "Students who took the MCAT once did better than students who retook the MCAT. 0 = they took it more than once, 1 = they took it once "
      ],
      "metadata": {
        "id": "WGGKjc_xYCn9"
      }
    },
    {
      "cell_type": "code",
      "source": [
        "MCAT.groupby('Attempt')['Final'].mean()"
      ],
      "metadata": {
        "colab": {
          "base_uri": "https://localhost:8080/"
        },
        "id": "xkpKHn3DNhPy",
        "outputId": "be23bcc8-315c-4857-fb93-07dd0fe52294"
      },
      "execution_count": null,
      "outputs": [
        {
          "output_type": "execute_result",
          "data": {
            "text/plain": [
              "Attempt\n",
              "0   505.38%\n",
              "1   511.44%\n",
              "Name: Final, dtype: float64"
            ]
          },
          "metadata": {},
          "execution_count": 33
        }
      ]
    },
    {
      "cell_type": "code",
      "source": [
        "#students t test \n",
        "stats.ttest_ind(\n",
        "    attempt_1,\n",
        "    attempt_2\n",
        ")"
      ],
      "metadata": {
        "id": "LJkYtSU6UTbI",
        "colab": {
          "base_uri": "https://localhost:8080/"
        },
        "outputId": "a866b40f-9d54-4a2c-c146-f423fd9f4ac1"
      },
      "execution_count": null,
      "outputs": [
        {
          "output_type": "execute_result",
          "data": {
            "text/plain": [
              "Ttest_indResult(statistic=4.380868274461021, pvalue=2.3322671081800892e-05)"
            ]
          },
          "metadata": {},
          "execution_count": 34
        }
      ]
    },
    {
      "cell_type": "code",
      "source": [
        "attempt_2.mean()-attempt_1.mean()"
      ],
      "metadata": {
        "colab": {
          "base_uri": "https://localhost:8080/"
        },
        "id": "pi9jjFFlYTZ5",
        "outputId": "5bd349b8-2dd6-4ae4-b98a-7291f94f6c5e"
      },
      "execution_count": null,
      "outputs": [
        {
          "output_type": "execute_result",
          "data": {
            "text/plain": [
              "-6.274362818590703"
            ]
          },
          "metadata": {},
          "execution_count": 35
        }
      ]
    },
    {
      "cell_type": "markdown",
      "source": [
        "Final MCAT scores are significantly different based on the number of MCAT attempts with students who take the MCAT scoring on average 6 points higher than students who retook the MCAT. "
      ],
      "metadata": {
        "id": "3GINJhU7YKiz"
      }
    },
    {
      "cell_type": "code",
      "source": [
        "df2['above_510'] = np.where(df2.Final > 510, '1','0')"
      ],
      "metadata": {
        "id": "UITC1zu4QvQK"
      },
      "execution_count": null,
      "outputs": []
    },
    {
      "cell_type": "code",
      "source": [
        "df2.above_510.value_counts(normalize='index')*100"
      ],
      "metadata": {
        "colab": {
          "base_uri": "https://localhost:8080/"
        },
        "id": "lYi-1vwBTui6",
        "outputId": "6dbda6dc-1d15-4e12-a951-cbae628822d6"
      },
      "execution_count": null,
      "outputs": [
        {
          "output_type": "execute_result",
          "data": {
            "text/plain": [
              "1   51.08%\n",
              "0   48.92%\n",
              "Name: above_510, dtype: float64"
            ]
          },
          "metadata": {},
          "execution_count": 37
        }
      ]
    },
    {
      "cell_type": "markdown",
      "source": [
        "About half of students score below or above 510 on their final MCAT score. "
      ],
      "metadata": {
        "id": "w78i4fUHZ-HI"
      }
    },
    {
      "cell_type": "code",
      "source": [
        "test1 = go.Figure()\n",
        "\n",
        "test1.add_trace(go.Bar(\n",
        "    x=['Above 510','Below 510'],\n",
        "    y=[51,48.94],\n",
        "    marker={'color':['cyan', 'royalblue']}\n",
        "))\n",
        "\n",
        "test1.update_layout(title='Final MCAT Scores above 510 and Below')\n",
        "test1.update_layout(yaxis=dict(title='Frequency '))"
      ],
      "metadata": {
        "colab": {
          "base_uri": "https://localhost:8080/",
          "height": 542
        },
        "id": "YfpWCwiNTp6D",
        "outputId": "c1563d33-9c8d-4881-a0f3-63fd6b4b0d8b"
      },
      "execution_count": null,
      "outputs": [
        {
          "output_type": "display_data",
          "data": {
            "text/html": [
              "<html>\n",
              "<head><meta charset=\"utf-8\" /></head>\n",
              "<body>\n",
              "    <div>            <script src=\"https://cdnjs.cloudflare.com/ajax/libs/mathjax/2.7.5/MathJax.js?config=TeX-AMS-MML_SVG\"></script><script type=\"text/javascript\">if (window.MathJax) {MathJax.Hub.Config({SVG: {font: \"STIX-Web\"}});}</script>                <script type=\"text/javascript\">window.PlotlyConfig = {MathJaxConfig: 'local'};</script>\n",
              "        <script src=\"https://cdn.plot.ly/plotly-2.8.3.min.js\"></script>                <div id=\"e5efb7a3-36c9-4175-bda3-d459a5270058\" class=\"plotly-graph-div\" style=\"height:525px; width:100%;\"></div>            <script type=\"text/javascript\">                                    window.PLOTLYENV=window.PLOTLYENV || {};                                    if (document.getElementById(\"e5efb7a3-36c9-4175-bda3-d459a5270058\")) {                    Plotly.newPlot(                        \"e5efb7a3-36c9-4175-bda3-d459a5270058\",                        [{\"marker\":{\"color\":[\"cyan\",\"royalblue\"]},\"x\":[\"Above 510\",\"Below 510\"],\"y\":[51,48.94],\"type\":\"bar\"}],                        {\"template\":{\"data\":{\"bar\":[{\"error_x\":{\"color\":\"rgb(36,36,36)\"},\"error_y\":{\"color\":\"rgb(36,36,36)\"},\"marker\":{\"line\":{\"color\":\"rgb(234,234,242)\",\"width\":0.5},\"pattern\":{\"fillmode\":\"overlay\",\"size\":10,\"solidity\":0.2}},\"type\":\"bar\"}],\"barpolar\":[{\"marker\":{\"line\":{\"color\":\"rgb(234,234,242)\",\"width\":0.5},\"pattern\":{\"fillmode\":\"overlay\",\"size\":10,\"solidity\":0.2}},\"type\":\"barpolar\"}],\"carpet\":[{\"aaxis\":{\"endlinecolor\":\"rgb(36,36,36)\",\"gridcolor\":\"white\",\"linecolor\":\"white\",\"minorgridcolor\":\"white\",\"startlinecolor\":\"rgb(36,36,36)\"},\"baxis\":{\"endlinecolor\":\"rgb(36,36,36)\",\"gridcolor\":\"white\",\"linecolor\":\"white\",\"minorgridcolor\":\"white\",\"startlinecolor\":\"rgb(36,36,36)\"},\"type\":\"carpet\"}],\"choropleth\":[{\"colorbar\":{\"outlinewidth\":0,\"tickcolor\":\"rgb(36,36,36)\",\"ticklen\":8,\"ticks\":\"outside\",\"tickwidth\":2},\"type\":\"choropleth\"}],\"contour\":[{\"colorbar\":{\"outlinewidth\":0,\"tickcolor\":\"rgb(36,36,36)\",\"ticklen\":8,\"ticks\":\"outside\",\"tickwidth\":2},\"colorscale\":[[0.0,\"rgb(2,4,25)\"],[0.06274509803921569,\"rgb(24,15,41)\"],[0.12549019607843137,\"rgb(47,23,57)\"],[0.18823529411764706,\"rgb(71,28,72)\"],[0.25098039215686274,\"rgb(97,30,82)\"],[0.3137254901960784,\"rgb(123,30,89)\"],[0.3764705882352941,\"rgb(150,27,91)\"],[0.4392156862745098,\"rgb(177,22,88)\"],[0.5019607843137255,\"rgb(203,26,79)\"],[0.5647058823529412,\"rgb(223,47,67)\"],[0.6274509803921569,\"rgb(236,76,61)\"],[0.6901960784313725,\"rgb(242,107,73)\"],[0.7529411764705882,\"rgb(244,135,95)\"],[0.8156862745098039,\"rgb(245,162,122)\"],[0.8784313725490196,\"rgb(246,188,153)\"],[0.9411764705882353,\"rgb(247,212,187)\"],[1.0,\"rgb(250,234,220)\"]],\"type\":\"contour\"}],\"contourcarpet\":[{\"colorbar\":{\"outlinewidth\":0,\"tickcolor\":\"rgb(36,36,36)\",\"ticklen\":8,\"ticks\":\"outside\",\"tickwidth\":2},\"type\":\"contourcarpet\"}],\"heatmap\":[{\"colorbar\":{\"outlinewidth\":0,\"tickcolor\":\"rgb(36,36,36)\",\"ticklen\":8,\"ticks\":\"outside\",\"tickwidth\":2},\"colorscale\":[[0.0,\"rgb(2,4,25)\"],[0.06274509803921569,\"rgb(24,15,41)\"],[0.12549019607843137,\"rgb(47,23,57)\"],[0.18823529411764706,\"rgb(71,28,72)\"],[0.25098039215686274,\"rgb(97,30,82)\"],[0.3137254901960784,\"rgb(123,30,89)\"],[0.3764705882352941,\"rgb(150,27,91)\"],[0.4392156862745098,\"rgb(177,22,88)\"],[0.5019607843137255,\"rgb(203,26,79)\"],[0.5647058823529412,\"rgb(223,47,67)\"],[0.6274509803921569,\"rgb(236,76,61)\"],[0.6901960784313725,\"rgb(242,107,73)\"],[0.7529411764705882,\"rgb(244,135,95)\"],[0.8156862745098039,\"rgb(245,162,122)\"],[0.8784313725490196,\"rgb(246,188,153)\"],[0.9411764705882353,\"rgb(247,212,187)\"],[1.0,\"rgb(250,234,220)\"]],\"type\":\"heatmap\"}],\"heatmapgl\":[{\"colorbar\":{\"outlinewidth\":0,\"tickcolor\":\"rgb(36,36,36)\",\"ticklen\":8,\"ticks\":\"outside\",\"tickwidth\":2},\"colorscale\":[[0.0,\"rgb(2,4,25)\"],[0.06274509803921569,\"rgb(24,15,41)\"],[0.12549019607843137,\"rgb(47,23,57)\"],[0.18823529411764706,\"rgb(71,28,72)\"],[0.25098039215686274,\"rgb(97,30,82)\"],[0.3137254901960784,\"rgb(123,30,89)\"],[0.3764705882352941,\"rgb(150,27,91)\"],[0.4392156862745098,\"rgb(177,22,88)\"],[0.5019607843137255,\"rgb(203,26,79)\"],[0.5647058823529412,\"rgb(223,47,67)\"],[0.6274509803921569,\"rgb(236,76,61)\"],[0.6901960784313725,\"rgb(242,107,73)\"],[0.7529411764705882,\"rgb(244,135,95)\"],[0.8156862745098039,\"rgb(245,162,122)\"],[0.8784313725490196,\"rgb(246,188,153)\"],[0.9411764705882353,\"rgb(247,212,187)\"],[1.0,\"rgb(250,234,220)\"]],\"type\":\"heatmapgl\"}],\"histogram\":[{\"marker\":{\"pattern\":{\"fillmode\":\"overlay\",\"size\":10,\"solidity\":0.2}},\"type\":\"histogram\"}],\"histogram2d\":[{\"colorbar\":{\"outlinewidth\":0,\"tickcolor\":\"rgb(36,36,36)\",\"ticklen\":8,\"ticks\":\"outside\",\"tickwidth\":2},\"colorscale\":[[0.0,\"rgb(2,4,25)\"],[0.06274509803921569,\"rgb(24,15,41)\"],[0.12549019607843137,\"rgb(47,23,57)\"],[0.18823529411764706,\"rgb(71,28,72)\"],[0.25098039215686274,\"rgb(97,30,82)\"],[0.3137254901960784,\"rgb(123,30,89)\"],[0.3764705882352941,\"rgb(150,27,91)\"],[0.4392156862745098,\"rgb(177,22,88)\"],[0.5019607843137255,\"rgb(203,26,79)\"],[0.5647058823529412,\"rgb(223,47,67)\"],[0.6274509803921569,\"rgb(236,76,61)\"],[0.6901960784313725,\"rgb(242,107,73)\"],[0.7529411764705882,\"rgb(244,135,95)\"],[0.8156862745098039,\"rgb(245,162,122)\"],[0.8784313725490196,\"rgb(246,188,153)\"],[0.9411764705882353,\"rgb(247,212,187)\"],[1.0,\"rgb(250,234,220)\"]],\"type\":\"histogram2d\"}],\"histogram2dcontour\":[{\"colorbar\":{\"outlinewidth\":0,\"tickcolor\":\"rgb(36,36,36)\",\"ticklen\":8,\"ticks\":\"outside\",\"tickwidth\":2},\"colorscale\":[[0.0,\"rgb(2,4,25)\"],[0.06274509803921569,\"rgb(24,15,41)\"],[0.12549019607843137,\"rgb(47,23,57)\"],[0.18823529411764706,\"rgb(71,28,72)\"],[0.25098039215686274,\"rgb(97,30,82)\"],[0.3137254901960784,\"rgb(123,30,89)\"],[0.3764705882352941,\"rgb(150,27,91)\"],[0.4392156862745098,\"rgb(177,22,88)\"],[0.5019607843137255,\"rgb(203,26,79)\"],[0.5647058823529412,\"rgb(223,47,67)\"],[0.6274509803921569,\"rgb(236,76,61)\"],[0.6901960784313725,\"rgb(242,107,73)\"],[0.7529411764705882,\"rgb(244,135,95)\"],[0.8156862745098039,\"rgb(245,162,122)\"],[0.8784313725490196,\"rgb(246,188,153)\"],[0.9411764705882353,\"rgb(247,212,187)\"],[1.0,\"rgb(250,234,220)\"]],\"type\":\"histogram2dcontour\"}],\"mesh3d\":[{\"colorbar\":{\"outlinewidth\":0,\"tickcolor\":\"rgb(36,36,36)\",\"ticklen\":8,\"ticks\":\"outside\",\"tickwidth\":2},\"type\":\"mesh3d\"}],\"parcoords\":[{\"line\":{\"colorbar\":{\"outlinewidth\":0,\"tickcolor\":\"rgb(36,36,36)\",\"ticklen\":8,\"ticks\":\"outside\",\"tickwidth\":2}},\"type\":\"parcoords\"}],\"pie\":[{\"automargin\":true,\"type\":\"pie\"}],\"scatter\":[{\"marker\":{\"colorbar\":{\"outlinewidth\":0,\"tickcolor\":\"rgb(36,36,36)\",\"ticklen\":8,\"ticks\":\"outside\",\"tickwidth\":2}},\"type\":\"scatter\"}],\"scatter3d\":[{\"line\":{\"colorbar\":{\"outlinewidth\":0,\"tickcolor\":\"rgb(36,36,36)\",\"ticklen\":8,\"ticks\":\"outside\",\"tickwidth\":2}},\"marker\":{\"colorbar\":{\"outlinewidth\":0,\"tickcolor\":\"rgb(36,36,36)\",\"ticklen\":8,\"ticks\":\"outside\",\"tickwidth\":2}},\"type\":\"scatter3d\"}],\"scattercarpet\":[{\"marker\":{\"colorbar\":{\"outlinewidth\":0,\"tickcolor\":\"rgb(36,36,36)\",\"ticklen\":8,\"ticks\":\"outside\",\"tickwidth\":2}},\"type\":\"scattercarpet\"}],\"scattergeo\":[{\"marker\":{\"colorbar\":{\"outlinewidth\":0,\"tickcolor\":\"rgb(36,36,36)\",\"ticklen\":8,\"ticks\":\"outside\",\"tickwidth\":2}},\"type\":\"scattergeo\"}],\"scattergl\":[{\"marker\":{\"colorbar\":{\"outlinewidth\":0,\"tickcolor\":\"rgb(36,36,36)\",\"ticklen\":8,\"ticks\":\"outside\",\"tickwidth\":2}},\"type\":\"scattergl\"}],\"scattermapbox\":[{\"marker\":{\"colorbar\":{\"outlinewidth\":0,\"tickcolor\":\"rgb(36,36,36)\",\"ticklen\":8,\"ticks\":\"outside\",\"tickwidth\":2}},\"type\":\"scattermapbox\"}],\"scatterpolar\":[{\"marker\":{\"colorbar\":{\"outlinewidth\":0,\"tickcolor\":\"rgb(36,36,36)\",\"ticklen\":8,\"ticks\":\"outside\",\"tickwidth\":2}},\"type\":\"scatterpolar\"}],\"scatterpolargl\":[{\"marker\":{\"colorbar\":{\"outlinewidth\":0,\"tickcolor\":\"rgb(36,36,36)\",\"ticklen\":8,\"ticks\":\"outside\",\"tickwidth\":2}},\"type\":\"scatterpolargl\"}],\"scatterternary\":[{\"marker\":{\"colorbar\":{\"outlinewidth\":0,\"tickcolor\":\"rgb(36,36,36)\",\"ticklen\":8,\"ticks\":\"outside\",\"tickwidth\":2}},\"type\":\"scatterternary\"}],\"surface\":[{\"colorbar\":{\"outlinewidth\":0,\"tickcolor\":\"rgb(36,36,36)\",\"ticklen\":8,\"ticks\":\"outside\",\"tickwidth\":2},\"colorscale\":[[0.0,\"rgb(2,4,25)\"],[0.06274509803921569,\"rgb(24,15,41)\"],[0.12549019607843137,\"rgb(47,23,57)\"],[0.18823529411764706,\"rgb(71,28,72)\"],[0.25098039215686274,\"rgb(97,30,82)\"],[0.3137254901960784,\"rgb(123,30,89)\"],[0.3764705882352941,\"rgb(150,27,91)\"],[0.4392156862745098,\"rgb(177,22,88)\"],[0.5019607843137255,\"rgb(203,26,79)\"],[0.5647058823529412,\"rgb(223,47,67)\"],[0.6274509803921569,\"rgb(236,76,61)\"],[0.6901960784313725,\"rgb(242,107,73)\"],[0.7529411764705882,\"rgb(244,135,95)\"],[0.8156862745098039,\"rgb(245,162,122)\"],[0.8784313725490196,\"rgb(246,188,153)\"],[0.9411764705882353,\"rgb(247,212,187)\"],[1.0,\"rgb(250,234,220)\"]],\"type\":\"surface\"}],\"table\":[{\"cells\":{\"fill\":{\"color\":\"rgb(231,231,240)\"},\"line\":{\"color\":\"white\"}},\"header\":{\"fill\":{\"color\":\"rgb(183,183,191)\"},\"line\":{\"color\":\"white\"}},\"type\":\"table\"}]},\"layout\":{\"annotationdefaults\":{\"arrowcolor\":\"rgb(67,103,167)\"},\"autotypenumbers\":\"strict\",\"coloraxis\":{\"colorbar\":{\"outlinewidth\":0,\"tickcolor\":\"rgb(36,36,36)\",\"ticklen\":8,\"ticks\":\"outside\",\"tickwidth\":2}},\"colorscale\":{\"sequential\":[[0.0,\"rgb(2,4,25)\"],[0.06274509803921569,\"rgb(24,15,41)\"],[0.12549019607843137,\"rgb(47,23,57)\"],[0.18823529411764706,\"rgb(71,28,72)\"],[0.25098039215686274,\"rgb(97,30,82)\"],[0.3137254901960784,\"rgb(123,30,89)\"],[0.3764705882352941,\"rgb(150,27,91)\"],[0.4392156862745098,\"rgb(177,22,88)\"],[0.5019607843137255,\"rgb(203,26,79)\"],[0.5647058823529412,\"rgb(223,47,67)\"],[0.6274509803921569,\"rgb(236,76,61)\"],[0.6901960784313725,\"rgb(242,107,73)\"],[0.7529411764705882,\"rgb(244,135,95)\"],[0.8156862745098039,\"rgb(245,162,122)\"],[0.8784313725490196,\"rgb(246,188,153)\"],[0.9411764705882353,\"rgb(247,212,187)\"],[1.0,\"rgb(250,234,220)\"]],\"sequentialminus\":[[0.0,\"rgb(2,4,25)\"],[0.06274509803921569,\"rgb(24,15,41)\"],[0.12549019607843137,\"rgb(47,23,57)\"],[0.18823529411764706,\"rgb(71,28,72)\"],[0.25098039215686274,\"rgb(97,30,82)\"],[0.3137254901960784,\"rgb(123,30,89)\"],[0.3764705882352941,\"rgb(150,27,91)\"],[0.4392156862745098,\"rgb(177,22,88)\"],[0.5019607843137255,\"rgb(203,26,79)\"],[0.5647058823529412,\"rgb(223,47,67)\"],[0.6274509803921569,\"rgb(236,76,61)\"],[0.6901960784313725,\"rgb(242,107,73)\"],[0.7529411764705882,\"rgb(244,135,95)\"],[0.8156862745098039,\"rgb(245,162,122)\"],[0.8784313725490196,\"rgb(246,188,153)\"],[0.9411764705882353,\"rgb(247,212,187)\"],[1.0,\"rgb(250,234,220)\"]]},\"colorway\":[\"rgb(76,114,176)\",\"rgb(221,132,82)\",\"rgb(85,168,104)\",\"rgb(196,78,82)\",\"rgb(129,114,179)\",\"rgb(147,120,96)\",\"rgb(218,139,195)\",\"rgb(140,140,140)\",\"rgb(204,185,116)\",\"rgb(100,181,205)\"],\"font\":{\"color\":\"rgb(36,36,36)\"},\"geo\":{\"bgcolor\":\"white\",\"lakecolor\":\"white\",\"landcolor\":\"rgb(234,234,242)\",\"showlakes\":true,\"showland\":true,\"subunitcolor\":\"white\"},\"hoverlabel\":{\"align\":\"left\"},\"hovermode\":\"closest\",\"paper_bgcolor\":\"white\",\"plot_bgcolor\":\"rgb(234,234,242)\",\"polar\":{\"angularaxis\":{\"gridcolor\":\"white\",\"linecolor\":\"white\",\"showgrid\":true,\"ticks\":\"\"},\"bgcolor\":\"rgb(234,234,242)\",\"radialaxis\":{\"gridcolor\":\"white\",\"linecolor\":\"white\",\"showgrid\":true,\"ticks\":\"\"}},\"scene\":{\"xaxis\":{\"backgroundcolor\":\"rgb(234,234,242)\",\"gridcolor\":\"white\",\"gridwidth\":2,\"linecolor\":\"white\",\"showbackground\":true,\"showgrid\":true,\"ticks\":\"\",\"zerolinecolor\":\"white\"},\"yaxis\":{\"backgroundcolor\":\"rgb(234,234,242)\",\"gridcolor\":\"white\",\"gridwidth\":2,\"linecolor\":\"white\",\"showbackground\":true,\"showgrid\":true,\"ticks\":\"\",\"zerolinecolor\":\"white\"},\"zaxis\":{\"backgroundcolor\":\"rgb(234,234,242)\",\"gridcolor\":\"white\",\"gridwidth\":2,\"linecolor\":\"white\",\"showbackground\":true,\"showgrid\":true,\"ticks\":\"\",\"zerolinecolor\":\"white\"}},\"shapedefaults\":{\"fillcolor\":\"rgb(67,103,167)\",\"line\":{\"width\":0},\"opacity\":0.5},\"ternary\":{\"aaxis\":{\"gridcolor\":\"white\",\"linecolor\":\"white\",\"showgrid\":true,\"ticks\":\"\"},\"baxis\":{\"gridcolor\":\"white\",\"linecolor\":\"white\",\"showgrid\":true,\"ticks\":\"\"},\"bgcolor\":\"rgb(234,234,242)\",\"caxis\":{\"gridcolor\":\"white\",\"linecolor\":\"white\",\"showgrid\":true,\"ticks\":\"\"}},\"xaxis\":{\"automargin\":true,\"gridcolor\":\"white\",\"linecolor\":\"white\",\"showgrid\":true,\"ticks\":\"\",\"title\":{\"standoff\":15},\"zerolinecolor\":\"white\"},\"yaxis\":{\"automargin\":true,\"gridcolor\":\"white\",\"linecolor\":\"white\",\"showgrid\":true,\"ticks\":\"\",\"title\":{\"standoff\":15},\"zerolinecolor\":\"white\"}}},\"title\":{\"text\":\"Final MCAT Scores above 510 and Below\"},\"yaxis\":{\"title\":{\"text\":\"Frequency \"}}},                        {\"responsive\": true}                    ).then(function(){\n",
              "                            \n",
              "var gd = document.getElementById('e5efb7a3-36c9-4175-bda3-d459a5270058');\n",
              "var x = new MutationObserver(function (mutations, observer) {{\n",
              "        var display = window.getComputedStyle(gd).display;\n",
              "        if (!display || display === 'none') {{\n",
              "            console.log([gd, 'removed!']);\n",
              "            Plotly.purge(gd);\n",
              "            observer.disconnect();\n",
              "        }}\n",
              "}});\n",
              "\n",
              "// Listen for the removal of the full notebook cells\n",
              "var notebookContainer = gd.closest('#notebook-container');\n",
              "if (notebookContainer) {{\n",
              "    x.observe(notebookContainer, {childList: true});\n",
              "}}\n",
              "\n",
              "// Listen for the clearing of the current output cell\n",
              "var outputEl = gd.closest('.output');\n",
              "if (outputEl) {{\n",
              "    x.observe(outputEl, {childList: true});\n",
              "}}\n",
              "\n",
              "                        })                };                            </script>        </div>\n",
              "</body>\n",
              "</html>"
            ]
          },
          "metadata": {}
        }
      ]
    },
    {
      "cell_type": "markdown",
      "source": [
        "####Diagnostic MCATs"
      ],
      "metadata": {
        "id": "7Tn_iC_pUiLr"
      }
    },
    {
      "cell_type": "markdown",
      "source": [
        "Above_510 (0) = The Post Bac student scored below 510 including 510\n",
        "Above_510 (1) = The Post Bac student scored above 511 including 511\n"
      ],
      "metadata": {
        "id": "BaKKVTHUAdu2"
      }
    },
    {
      "cell_type": "code",
      "source": [
        "MCAT.MCAT_Try.value_counts()"
      ],
      "metadata": {
        "colab": {
          "base_uri": "https://localhost:8080/"
        },
        "id": "Y_sxyBPvUqQj",
        "outputId": "1ef5038b-8367-4463-8419-a6a018f05c37"
      },
      "execution_count": null,
      "outputs": [
        {
          "output_type": "execute_result",
          "data": {
            "text/plain": [
              "did not retake    33\n",
              "4                 26\n",
              "5                 20\n",
              "6                 18\n",
              "3                 13\n",
              "7                 13\n",
              "2                  6\n",
              "1                  5\n",
              "9                  4\n",
              "10                 3\n",
              "8                  1\n",
              "Name: MCAT_Try, dtype: int64"
            ]
          },
          "metadata": {},
          "execution_count": 39
        }
      ]
    },
    {
      "cell_type": "code",
      "source": [
        "diagnostic = pd.crosstab(df2.MCAT_Try,df2.above_510,margins=bool)\n",
        "diagnostic"
      ],
      "metadata": {
        "colab": {
          "base_uri": "https://localhost:8080/",
          "height": 365
        },
        "id": "RyS6EMHUU5WH",
        "outputId": "b2f5e801-b375-40d4-d25d-03e3e67bba2d"
      },
      "execution_count": null,
      "outputs": [
        {
          "output_type": "execute_result",
          "data": {
            "text/plain": [
              "above_510        0   1  All\n",
              "MCAT_Try                   \n",
              "1                2   3    5\n",
              "10               2   1    3\n",
              "2                5   1    6\n",
              "3                6   7   13\n",
              "4               12  14   26\n",
              "5               12   6   18\n",
              "6                5  12   17\n",
              "7                7   6   13\n",
              "8                1   0    1\n",
              "9                2   2    4\n",
              "did not retake  14  19   33\n",
              "All             68  71  139"
            ],
            "text/html": [
              "\n",
              "  <div id=\"df-8959e6b4-0065-48b8-950a-5a832b46762e\">\n",
              "    <div class=\"colab-df-container\">\n",
              "      <div>\n",
              "<style scoped>\n",
              "    .dataframe tbody tr th:only-of-type {\n",
              "        vertical-align: middle;\n",
              "    }\n",
              "\n",
              "    .dataframe tbody tr th {\n",
              "        vertical-align: top;\n",
              "    }\n",
              "\n",
              "    .dataframe thead th {\n",
              "        text-align: right;\n",
              "    }\n",
              "</style>\n",
              "<table border=\"1\" class=\"dataframe\">\n",
              "  <thead>\n",
              "    <tr style=\"text-align: right;\">\n",
              "      <th>above_510</th>\n",
              "      <th>0</th>\n",
              "      <th>1</th>\n",
              "      <th>All</th>\n",
              "    </tr>\n",
              "    <tr>\n",
              "      <th>MCAT_Try</th>\n",
              "      <th></th>\n",
              "      <th></th>\n",
              "      <th></th>\n",
              "    </tr>\n",
              "  </thead>\n",
              "  <tbody>\n",
              "    <tr>\n",
              "      <th>1</th>\n",
              "      <td>2</td>\n",
              "      <td>3</td>\n",
              "      <td>5</td>\n",
              "    </tr>\n",
              "    <tr>\n",
              "      <th>10</th>\n",
              "      <td>2</td>\n",
              "      <td>1</td>\n",
              "      <td>3</td>\n",
              "    </tr>\n",
              "    <tr>\n",
              "      <th>2</th>\n",
              "      <td>5</td>\n",
              "      <td>1</td>\n",
              "      <td>6</td>\n",
              "    </tr>\n",
              "    <tr>\n",
              "      <th>3</th>\n",
              "      <td>6</td>\n",
              "      <td>7</td>\n",
              "      <td>13</td>\n",
              "    </tr>\n",
              "    <tr>\n",
              "      <th>4</th>\n",
              "      <td>12</td>\n",
              "      <td>14</td>\n",
              "      <td>26</td>\n",
              "    </tr>\n",
              "    <tr>\n",
              "      <th>5</th>\n",
              "      <td>12</td>\n",
              "      <td>6</td>\n",
              "      <td>18</td>\n",
              "    </tr>\n",
              "    <tr>\n",
              "      <th>6</th>\n",
              "      <td>5</td>\n",
              "      <td>12</td>\n",
              "      <td>17</td>\n",
              "    </tr>\n",
              "    <tr>\n",
              "      <th>7</th>\n",
              "      <td>7</td>\n",
              "      <td>6</td>\n",
              "      <td>13</td>\n",
              "    </tr>\n",
              "    <tr>\n",
              "      <th>8</th>\n",
              "      <td>1</td>\n",
              "      <td>0</td>\n",
              "      <td>1</td>\n",
              "    </tr>\n",
              "    <tr>\n",
              "      <th>9</th>\n",
              "      <td>2</td>\n",
              "      <td>2</td>\n",
              "      <td>4</td>\n",
              "    </tr>\n",
              "    <tr>\n",
              "      <th>did not retake</th>\n",
              "      <td>14</td>\n",
              "      <td>19</td>\n",
              "      <td>33</td>\n",
              "    </tr>\n",
              "    <tr>\n",
              "      <th>All</th>\n",
              "      <td>68</td>\n",
              "      <td>71</td>\n",
              "      <td>139</td>\n",
              "    </tr>\n",
              "  </tbody>\n",
              "</table>\n",
              "</div>\n",
              "      <button class=\"colab-df-convert\" onclick=\"convertToInteractive('df-8959e6b4-0065-48b8-950a-5a832b46762e')\"\n",
              "              title=\"Convert this dataframe to an interactive table.\"\n",
              "              style=\"display:none;\">\n",
              "        \n",
              "  <svg xmlns=\"http://www.w3.org/2000/svg\" height=\"24px\"viewBox=\"0 0 24 24\"\n",
              "       width=\"24px\">\n",
              "    <path d=\"M0 0h24v24H0V0z\" fill=\"none\"/>\n",
              "    <path d=\"M18.56 5.44l.94 2.06.94-2.06 2.06-.94-2.06-.94-.94-2.06-.94 2.06-2.06.94zm-11 1L8.5 8.5l.94-2.06 2.06-.94-2.06-.94L8.5 2.5l-.94 2.06-2.06.94zm10 10l.94 2.06.94-2.06 2.06-.94-2.06-.94-.94-2.06-.94 2.06-2.06.94z\"/><path d=\"M17.41 7.96l-1.37-1.37c-.4-.4-.92-.59-1.43-.59-.52 0-1.04.2-1.43.59L10.3 9.45l-7.72 7.72c-.78.78-.78 2.05 0 2.83L4 21.41c.39.39.9.59 1.41.59.51 0 1.02-.2 1.41-.59l7.78-7.78 2.81-2.81c.8-.78.8-2.07 0-2.86zM5.41 20L4 18.59l7.72-7.72 1.47 1.35L5.41 20z\"/>\n",
              "  </svg>\n",
              "      </button>\n",
              "      \n",
              "  <style>\n",
              "    .colab-df-container {\n",
              "      display:flex;\n",
              "      flex-wrap:wrap;\n",
              "      gap: 12px;\n",
              "    }\n",
              "\n",
              "    .colab-df-convert {\n",
              "      background-color: #E8F0FE;\n",
              "      border: none;\n",
              "      border-radius: 50%;\n",
              "      cursor: pointer;\n",
              "      display: none;\n",
              "      fill: #1967D2;\n",
              "      height: 32px;\n",
              "      padding: 0 0 0 0;\n",
              "      width: 32px;\n",
              "    }\n",
              "\n",
              "    .colab-df-convert:hover {\n",
              "      background-color: #E2EBFA;\n",
              "      box-shadow: 0px 1px 2px rgba(60, 64, 67, 0.3), 0px 1px 3px 1px rgba(60, 64, 67, 0.15);\n",
              "      fill: #174EA6;\n",
              "    }\n",
              "\n",
              "    [theme=dark] .colab-df-convert {\n",
              "      background-color: #3B4455;\n",
              "      fill: #D2E3FC;\n",
              "    }\n",
              "\n",
              "    [theme=dark] .colab-df-convert:hover {\n",
              "      background-color: #434B5C;\n",
              "      box-shadow: 0px 1px 3px 1px rgba(0, 0, 0, 0.15);\n",
              "      filter: drop-shadow(0px 1px 2px rgba(0, 0, 0, 0.3));\n",
              "      fill: #FFFFFF;\n",
              "    }\n",
              "  </style>\n",
              "\n",
              "      <script>\n",
              "        const buttonEl =\n",
              "          document.querySelector('#df-8959e6b4-0065-48b8-950a-5a832b46762e button.colab-df-convert');\n",
              "        buttonEl.style.display =\n",
              "          google.colab.kernel.accessAllowed ? 'block' : 'none';\n",
              "\n",
              "        async function convertToInteractive(key) {\n",
              "          const element = document.querySelector('#df-8959e6b4-0065-48b8-950a-5a832b46762e');\n",
              "          const dataTable =\n",
              "            await google.colab.kernel.invokeFunction('convertToInteractive',\n",
              "                                                     [key], {});\n",
              "          if (!dataTable) return;\n",
              "\n",
              "          const docLinkHtml = 'Like what you see? Visit the ' +\n",
              "            '<a target=\"_blank\" href=https://colab.research.google.com/notebooks/data_table.ipynb>data table notebook</a>'\n",
              "            + ' to learn more about interactive tables.';\n",
              "          element.innerHTML = '';\n",
              "          dataTable['output_type'] = 'display_data';\n",
              "          await google.colab.output.renderOutput(dataTable, element);\n",
              "          const docLink = document.createElement('div');\n",
              "          docLink.innerHTML = docLinkHtml;\n",
              "          element.appendChild(docLink);\n",
              "        }\n",
              "      </script>\n",
              "    </div>\n",
              "  </div>\n",
              "  "
            ]
          },
          "metadata": {},
          "execution_count": 40
        }
      ]
    },
    {
      "cell_type": "code",
      "source": [
        "diagnostic1 = pd.crosstab(df2.MCAT_Try,df2.above_510, normalize='index')*100\n",
        "round(diagnostic1,1)"
      ],
      "metadata": {
        "colab": {
          "base_uri": "https://localhost:8080/",
          "height": 344
        },
        "id": "Vn-WLGpYVtqY",
        "outputId": "22090484-83a8-4251-9082-942266430676"
      },
      "execution_count": null,
      "outputs": [
        {
          "output_type": "execute_result",
          "data": {
            "text/plain": [
              "above_510            0      1\n",
              "MCAT_Try                     \n",
              "1               40.00% 60.00%\n",
              "10              66.70% 33.30%\n",
              "2               83.30% 16.70%\n",
              "3               46.20% 53.80%\n",
              "4               46.20% 53.80%\n",
              "5               66.70% 33.30%\n",
              "6               29.40% 70.60%\n",
              "7               53.80% 46.20%\n",
              "8              100.00%  0.00%\n",
              "9               50.00% 50.00%\n",
              "did not retake  42.40% 57.60%"
            ],
            "text/html": [
              "\n",
              "  <div id=\"df-581c8524-a200-40c3-bb3b-52912f588829\">\n",
              "    <div class=\"colab-df-container\">\n",
              "      <div>\n",
              "<style scoped>\n",
              "    .dataframe tbody tr th:only-of-type {\n",
              "        vertical-align: middle;\n",
              "    }\n",
              "\n",
              "    .dataframe tbody tr th {\n",
              "        vertical-align: top;\n",
              "    }\n",
              "\n",
              "    .dataframe thead th {\n",
              "        text-align: right;\n",
              "    }\n",
              "</style>\n",
              "<table border=\"1\" class=\"dataframe\">\n",
              "  <thead>\n",
              "    <tr style=\"text-align: right;\">\n",
              "      <th>above_510</th>\n",
              "      <th>0</th>\n",
              "      <th>1</th>\n",
              "    </tr>\n",
              "    <tr>\n",
              "      <th>MCAT_Try</th>\n",
              "      <th></th>\n",
              "      <th></th>\n",
              "    </tr>\n",
              "  </thead>\n",
              "  <tbody>\n",
              "    <tr>\n",
              "      <th>1</th>\n",
              "      <td>40.00%</td>\n",
              "      <td>60.00%</td>\n",
              "    </tr>\n",
              "    <tr>\n",
              "      <th>10</th>\n",
              "      <td>66.70%</td>\n",
              "      <td>33.30%</td>\n",
              "    </tr>\n",
              "    <tr>\n",
              "      <th>2</th>\n",
              "      <td>83.30%</td>\n",
              "      <td>16.70%</td>\n",
              "    </tr>\n",
              "    <tr>\n",
              "      <th>3</th>\n",
              "      <td>46.20%</td>\n",
              "      <td>53.80%</td>\n",
              "    </tr>\n",
              "    <tr>\n",
              "      <th>4</th>\n",
              "      <td>46.20%</td>\n",
              "      <td>53.80%</td>\n",
              "    </tr>\n",
              "    <tr>\n",
              "      <th>5</th>\n",
              "      <td>66.70%</td>\n",
              "      <td>33.30%</td>\n",
              "    </tr>\n",
              "    <tr>\n",
              "      <th>6</th>\n",
              "      <td>29.40%</td>\n",
              "      <td>70.60%</td>\n",
              "    </tr>\n",
              "    <tr>\n",
              "      <th>7</th>\n",
              "      <td>53.80%</td>\n",
              "      <td>46.20%</td>\n",
              "    </tr>\n",
              "    <tr>\n",
              "      <th>8</th>\n",
              "      <td>100.00%</td>\n",
              "      <td>0.00%</td>\n",
              "    </tr>\n",
              "    <tr>\n",
              "      <th>9</th>\n",
              "      <td>50.00%</td>\n",
              "      <td>50.00%</td>\n",
              "    </tr>\n",
              "    <tr>\n",
              "      <th>did not retake</th>\n",
              "      <td>42.40%</td>\n",
              "      <td>57.60%</td>\n",
              "    </tr>\n",
              "  </tbody>\n",
              "</table>\n",
              "</div>\n",
              "      <button class=\"colab-df-convert\" onclick=\"convertToInteractive('df-581c8524-a200-40c3-bb3b-52912f588829')\"\n",
              "              title=\"Convert this dataframe to an interactive table.\"\n",
              "              style=\"display:none;\">\n",
              "        \n",
              "  <svg xmlns=\"http://www.w3.org/2000/svg\" height=\"24px\"viewBox=\"0 0 24 24\"\n",
              "       width=\"24px\">\n",
              "    <path d=\"M0 0h24v24H0V0z\" fill=\"none\"/>\n",
              "    <path d=\"M18.56 5.44l.94 2.06.94-2.06 2.06-.94-2.06-.94-.94-2.06-.94 2.06-2.06.94zm-11 1L8.5 8.5l.94-2.06 2.06-.94-2.06-.94L8.5 2.5l-.94 2.06-2.06.94zm10 10l.94 2.06.94-2.06 2.06-.94-2.06-.94-.94-2.06-.94 2.06-2.06.94z\"/><path d=\"M17.41 7.96l-1.37-1.37c-.4-.4-.92-.59-1.43-.59-.52 0-1.04.2-1.43.59L10.3 9.45l-7.72 7.72c-.78.78-.78 2.05 0 2.83L4 21.41c.39.39.9.59 1.41.59.51 0 1.02-.2 1.41-.59l7.78-7.78 2.81-2.81c.8-.78.8-2.07 0-2.86zM5.41 20L4 18.59l7.72-7.72 1.47 1.35L5.41 20z\"/>\n",
              "  </svg>\n",
              "      </button>\n",
              "      \n",
              "  <style>\n",
              "    .colab-df-container {\n",
              "      display:flex;\n",
              "      flex-wrap:wrap;\n",
              "      gap: 12px;\n",
              "    }\n",
              "\n",
              "    .colab-df-convert {\n",
              "      background-color: #E8F0FE;\n",
              "      border: none;\n",
              "      border-radius: 50%;\n",
              "      cursor: pointer;\n",
              "      display: none;\n",
              "      fill: #1967D2;\n",
              "      height: 32px;\n",
              "      padding: 0 0 0 0;\n",
              "      width: 32px;\n",
              "    }\n",
              "\n",
              "    .colab-df-convert:hover {\n",
              "      background-color: #E2EBFA;\n",
              "      box-shadow: 0px 1px 2px rgba(60, 64, 67, 0.3), 0px 1px 3px 1px rgba(60, 64, 67, 0.15);\n",
              "      fill: #174EA6;\n",
              "    }\n",
              "\n",
              "    [theme=dark] .colab-df-convert {\n",
              "      background-color: #3B4455;\n",
              "      fill: #D2E3FC;\n",
              "    }\n",
              "\n",
              "    [theme=dark] .colab-df-convert:hover {\n",
              "      background-color: #434B5C;\n",
              "      box-shadow: 0px 1px 3px 1px rgba(0, 0, 0, 0.15);\n",
              "      filter: drop-shadow(0px 1px 2px rgba(0, 0, 0, 0.3));\n",
              "      fill: #FFFFFF;\n",
              "    }\n",
              "  </style>\n",
              "\n",
              "      <script>\n",
              "        const buttonEl =\n",
              "          document.querySelector('#df-581c8524-a200-40c3-bb3b-52912f588829 button.colab-df-convert');\n",
              "        buttonEl.style.display =\n",
              "          google.colab.kernel.accessAllowed ? 'block' : 'none';\n",
              "\n",
              "        async function convertToInteractive(key) {\n",
              "          const element = document.querySelector('#df-581c8524-a200-40c3-bb3b-52912f588829');\n",
              "          const dataTable =\n",
              "            await google.colab.kernel.invokeFunction('convertToInteractive',\n",
              "                                                     [key], {});\n",
              "          if (!dataTable) return;\n",
              "\n",
              "          const docLinkHtml = 'Like what you see? Visit the ' +\n",
              "            '<a target=\"_blank\" href=https://colab.research.google.com/notebooks/data_table.ipynb>data table notebook</a>'\n",
              "            + ' to learn more about interactive tables.';\n",
              "          element.innerHTML = '';\n",
              "          dataTable['output_type'] = 'display_data';\n",
              "          await google.colab.output.renderOutput(dataTable, element);\n",
              "          const docLink = document.createElement('div');\n",
              "          docLink.innerHTML = docLinkHtml;\n",
              "          element.appendChild(docLink);\n",
              "        }\n",
              "      </script>\n",
              "    </div>\n",
              "  </div>\n",
              "  "
            ]
          },
          "metadata": {},
          "execution_count": 41
        }
      ]
    },
    {
      "cell_type": "code",
      "source": [
        "from scipy.stats import chi2_contingency\n",
        " \n",
        "import seaborn as sns\n",
        "import matplotlib.pyplot as plt\n",
        "%matplotlib inline "
      ],
      "metadata": {
        "id": "L5l6TDfQVlcv"
      },
      "execution_count": null,
      "outputs": []
    },
    {
      "cell_type": "markdown",
      "source": [
        "######Chi Square Analysis"
      ],
      "metadata": {
        "id": "RaTWcKJjWyaY"
      }
    },
    {
      "cell_type": "code",
      "source": [
        "c, p, dof, expected = chi2_contingency(diagnostic)\n",
        "p"
      ],
      "metadata": {
        "colab": {
          "base_uri": "https://localhost:8080/"
        },
        "id": "Kv5PoTq2W5Pt",
        "outputId": "ddef9d20-7fff-4958-ce8b-afb1638ad56b"
      },
      "execution_count": null,
      "outputs": [
        {
          "output_type": "execute_result",
          "data": {
            "text/plain": [
              "0.9854932372503464"
            ]
          },
          "metadata": {},
          "execution_count": 43
        }
      ]
    },
    {
      "cell_type": "markdown",
      "source": [
        "The p value is .98. Therefore we fail to reject the null hypothesis, meaning there is no statistical difference between number of diagnostic MCATs a student has taken and scoring above or below a 510 on their final MCAT. "
      ],
      "metadata": {
        "id": "-t0vA-eEW8Ru"
      }
    },
    {
      "cell_type": "code",
      "source": [
        "df2['retook_diagnostic'] = np.where(df2.MCAT_Try == 'did not retake', '1','0')\n",
        "df2.retook_diagnostic.value_counts(normalize=True)*100"
      ],
      "metadata": {
        "colab": {
          "base_uri": "https://localhost:8080/"
        },
        "id": "p6m2HHYVNJ-2",
        "outputId": "c2d8e8bd-70bd-4ea6-e115-b98962acb1bf"
      },
      "execution_count": null,
      "outputs": [
        {
          "output_type": "execute_result",
          "data": {
            "text/plain": [
              "0   76.26%\n",
              "1   23.74%\n",
              "Name: retook_diagnostic, dtype: float64"
            ]
          },
          "metadata": {},
          "execution_count": 162
        }
      ]
    },
    {
      "cell_type": "code",
      "source": [
        "diagnos = pd.crosstab(df2.retook_diagnostic,df2.above_510, normalize= 'index')*100\n",
        "round(diagnos,2)"
      ],
      "metadata": {
        "colab": {
          "base_uri": "https://localhost:8080/",
          "height": 150
        },
        "id": "qMyEx3woQEpH",
        "outputId": "9f2cab0b-45ae-411e-e9df-c919a1f8217d"
      },
      "execution_count": null,
      "outputs": [
        {
          "output_type": "execute_result",
          "data": {
            "text/plain": [
              "above_510              0      1\n",
              "retook_diagnostic              \n",
              "0                 50.94% 49.06%\n",
              "1                 42.42% 57.58%"
            ],
            "text/html": [
              "\n",
              "  <div id=\"df-87e172c0-5748-4625-b729-b814d2e1e30b\">\n",
              "    <div class=\"colab-df-container\">\n",
              "      <div>\n",
              "<style scoped>\n",
              "    .dataframe tbody tr th:only-of-type {\n",
              "        vertical-align: middle;\n",
              "    }\n",
              "\n",
              "    .dataframe tbody tr th {\n",
              "        vertical-align: top;\n",
              "    }\n",
              "\n",
              "    .dataframe thead th {\n",
              "        text-align: right;\n",
              "    }\n",
              "</style>\n",
              "<table border=\"1\" class=\"dataframe\">\n",
              "  <thead>\n",
              "    <tr style=\"text-align: right;\">\n",
              "      <th>above_510</th>\n",
              "      <th>0</th>\n",
              "      <th>1</th>\n",
              "    </tr>\n",
              "    <tr>\n",
              "      <th>retook_diagnostic</th>\n",
              "      <th></th>\n",
              "      <th></th>\n",
              "    </tr>\n",
              "  </thead>\n",
              "  <tbody>\n",
              "    <tr>\n",
              "      <th>0</th>\n",
              "      <td>50.94%</td>\n",
              "      <td>49.06%</td>\n",
              "    </tr>\n",
              "    <tr>\n",
              "      <th>1</th>\n",
              "      <td>42.42%</td>\n",
              "      <td>57.58%</td>\n",
              "    </tr>\n",
              "  </tbody>\n",
              "</table>\n",
              "</div>\n",
              "      <button class=\"colab-df-convert\" onclick=\"convertToInteractive('df-87e172c0-5748-4625-b729-b814d2e1e30b')\"\n",
              "              title=\"Convert this dataframe to an interactive table.\"\n",
              "              style=\"display:none;\">\n",
              "        \n",
              "  <svg xmlns=\"http://www.w3.org/2000/svg\" height=\"24px\"viewBox=\"0 0 24 24\"\n",
              "       width=\"24px\">\n",
              "    <path d=\"M0 0h24v24H0V0z\" fill=\"none\"/>\n",
              "    <path d=\"M18.56 5.44l.94 2.06.94-2.06 2.06-.94-2.06-.94-.94-2.06-.94 2.06-2.06.94zm-11 1L8.5 8.5l.94-2.06 2.06-.94-2.06-.94L8.5 2.5l-.94 2.06-2.06.94zm10 10l.94 2.06.94-2.06 2.06-.94-2.06-.94-.94-2.06-.94 2.06-2.06.94z\"/><path d=\"M17.41 7.96l-1.37-1.37c-.4-.4-.92-.59-1.43-.59-.52 0-1.04.2-1.43.59L10.3 9.45l-7.72 7.72c-.78.78-.78 2.05 0 2.83L4 21.41c.39.39.9.59 1.41.59.51 0 1.02-.2 1.41-.59l7.78-7.78 2.81-2.81c.8-.78.8-2.07 0-2.86zM5.41 20L4 18.59l7.72-7.72 1.47 1.35L5.41 20z\"/>\n",
              "  </svg>\n",
              "      </button>\n",
              "      \n",
              "  <style>\n",
              "    .colab-df-container {\n",
              "      display:flex;\n",
              "      flex-wrap:wrap;\n",
              "      gap: 12px;\n",
              "    }\n",
              "\n",
              "    .colab-df-convert {\n",
              "      background-color: #E8F0FE;\n",
              "      border: none;\n",
              "      border-radius: 50%;\n",
              "      cursor: pointer;\n",
              "      display: none;\n",
              "      fill: #1967D2;\n",
              "      height: 32px;\n",
              "      padding: 0 0 0 0;\n",
              "      width: 32px;\n",
              "    }\n",
              "\n",
              "    .colab-df-convert:hover {\n",
              "      background-color: #E2EBFA;\n",
              "      box-shadow: 0px 1px 2px rgba(60, 64, 67, 0.3), 0px 1px 3px 1px rgba(60, 64, 67, 0.15);\n",
              "      fill: #174EA6;\n",
              "    }\n",
              "\n",
              "    [theme=dark] .colab-df-convert {\n",
              "      background-color: #3B4455;\n",
              "      fill: #D2E3FC;\n",
              "    }\n",
              "\n",
              "    [theme=dark] .colab-df-convert:hover {\n",
              "      background-color: #434B5C;\n",
              "      box-shadow: 0px 1px 3px 1px rgba(0, 0, 0, 0.15);\n",
              "      filter: drop-shadow(0px 1px 2px rgba(0, 0, 0, 0.3));\n",
              "      fill: #FFFFFF;\n",
              "    }\n",
              "  </style>\n",
              "\n",
              "      <script>\n",
              "        const buttonEl =\n",
              "          document.querySelector('#df-87e172c0-5748-4625-b729-b814d2e1e30b button.colab-df-convert');\n",
              "        buttonEl.style.display =\n",
              "          google.colab.kernel.accessAllowed ? 'block' : 'none';\n",
              "\n",
              "        async function convertToInteractive(key) {\n",
              "          const element = document.querySelector('#df-87e172c0-5748-4625-b729-b814d2e1e30b');\n",
              "          const dataTable =\n",
              "            await google.colab.kernel.invokeFunction('convertToInteractive',\n",
              "                                                     [key], {});\n",
              "          if (!dataTable) return;\n",
              "\n",
              "          const docLinkHtml = 'Like what you see? Visit the ' +\n",
              "            '<a target=\"_blank\" href=https://colab.research.google.com/notebooks/data_table.ipynb>data table notebook</a>'\n",
              "            + ' to learn more about interactive tables.';\n",
              "          element.innerHTML = '';\n",
              "          dataTable['output_type'] = 'display_data';\n",
              "          await google.colab.output.renderOutput(dataTable, element);\n",
              "          const docLink = document.createElement('div');\n",
              "          docLink.innerHTML = docLinkHtml;\n",
              "          element.appendChild(docLink);\n",
              "        }\n",
              "      </script>\n",
              "    </div>\n",
              "  </div>\n",
              "  "
            ]
          },
          "metadata": {},
          "execution_count": 166
        }
      ]
    },
    {
      "cell_type": "code",
      "source": [
        "c, p, dof, expected = chi2_contingency(diagnos)\n",
        "p"
      ],
      "metadata": {
        "colab": {
          "base_uri": "https://localhost:8080/"
        },
        "id": "TDRYbuUhQX4A",
        "outputId": "59ebe7ed-0b00-456f-dd5d-a7d29291e573"
      },
      "execution_count": null,
      "outputs": [
        {
          "output_type": "execute_result",
          "data": {
            "text/plain": [
              "0.28655228776908404"
            ]
          },
          "metadata": {},
          "execution_count": 167
        }
      ]
    },
    {
      "cell_type": "markdown",
      "source": [
        "After recoding for \"did not retake\" to \"retook at least once\" for diagnostic MCATs, there was still no significant difference between diagnostic MCATs a student took and scoring well on the MCAT "
      ],
      "metadata": {
        "id": "tUXSKsm0QgMj"
      }
    },
    {
      "cell_type": "markdown",
      "source": [
        "The number of diagnostic MCATs has no statistical relationship with MCAT performance "
      ],
      "metadata": {
        "id": "ZGKhUNIpQy4q"
      }
    },
    {
      "cell_type": "code",
      "source": [
        "degree = pd.crosstab(df2.Degree,df2.above_510, normalize='index')*100\n",
        "round(degree,2)"
      ],
      "metadata": {
        "colab": {
          "base_uri": "https://localhost:8080/",
          "height": 193
        },
        "id": "Q6uE-tCbYqH-",
        "outputId": "641ecee1-e96c-4837-c394-6fc79cc9ca6b"
      },
      "execution_count": null,
      "outputs": [
        {
          "output_type": "execute_result",
          "data": {
            "text/plain": [
              "above_510            0      1\n",
              "Degree                       \n",
              "Econ/Finnance   47.62% 52.38%\n",
              "Other           47.14% 52.86%\n",
              "STEM            16.67% 83.33%\n",
              "Social Sciences 73.33% 26.67%"
            ],
            "text/html": [
              "\n",
              "  <div id=\"df-56bc48f6-8f26-4b00-8f75-0478de1ab3d5\">\n",
              "    <div class=\"colab-df-container\">\n",
              "      <div>\n",
              "<style scoped>\n",
              "    .dataframe tbody tr th:only-of-type {\n",
              "        vertical-align: middle;\n",
              "    }\n",
              "\n",
              "    .dataframe tbody tr th {\n",
              "        vertical-align: top;\n",
              "    }\n",
              "\n",
              "    .dataframe thead th {\n",
              "        text-align: right;\n",
              "    }\n",
              "</style>\n",
              "<table border=\"1\" class=\"dataframe\">\n",
              "  <thead>\n",
              "    <tr style=\"text-align: right;\">\n",
              "      <th>above_510</th>\n",
              "      <th>0</th>\n",
              "      <th>1</th>\n",
              "    </tr>\n",
              "    <tr>\n",
              "      <th>Degree</th>\n",
              "      <th></th>\n",
              "      <th></th>\n",
              "    </tr>\n",
              "  </thead>\n",
              "  <tbody>\n",
              "    <tr>\n",
              "      <th>Econ/Finnance</th>\n",
              "      <td>47.62%</td>\n",
              "      <td>52.38%</td>\n",
              "    </tr>\n",
              "    <tr>\n",
              "      <th>Other</th>\n",
              "      <td>47.14%</td>\n",
              "      <td>52.86%</td>\n",
              "    </tr>\n",
              "    <tr>\n",
              "      <th>STEM</th>\n",
              "      <td>16.67%</td>\n",
              "      <td>83.33%</td>\n",
              "    </tr>\n",
              "    <tr>\n",
              "      <th>Social Sciences</th>\n",
              "      <td>73.33%</td>\n",
              "      <td>26.67%</td>\n",
              "    </tr>\n",
              "  </tbody>\n",
              "</table>\n",
              "</div>\n",
              "      <button class=\"colab-df-convert\" onclick=\"convertToInteractive('df-56bc48f6-8f26-4b00-8f75-0478de1ab3d5')\"\n",
              "              title=\"Convert this dataframe to an interactive table.\"\n",
              "              style=\"display:none;\">\n",
              "        \n",
              "  <svg xmlns=\"http://www.w3.org/2000/svg\" height=\"24px\"viewBox=\"0 0 24 24\"\n",
              "       width=\"24px\">\n",
              "    <path d=\"M0 0h24v24H0V0z\" fill=\"none\"/>\n",
              "    <path d=\"M18.56 5.44l.94 2.06.94-2.06 2.06-.94-2.06-.94-.94-2.06-.94 2.06-2.06.94zm-11 1L8.5 8.5l.94-2.06 2.06-.94-2.06-.94L8.5 2.5l-.94 2.06-2.06.94zm10 10l.94 2.06.94-2.06 2.06-.94-2.06-.94-.94-2.06-.94 2.06-2.06.94z\"/><path d=\"M17.41 7.96l-1.37-1.37c-.4-.4-.92-.59-1.43-.59-.52 0-1.04.2-1.43.59L10.3 9.45l-7.72 7.72c-.78.78-.78 2.05 0 2.83L4 21.41c.39.39.9.59 1.41.59.51 0 1.02-.2 1.41-.59l7.78-7.78 2.81-2.81c.8-.78.8-2.07 0-2.86zM5.41 20L4 18.59l7.72-7.72 1.47 1.35L5.41 20z\"/>\n",
              "  </svg>\n",
              "      </button>\n",
              "      \n",
              "  <style>\n",
              "    .colab-df-container {\n",
              "      display:flex;\n",
              "      flex-wrap:wrap;\n",
              "      gap: 12px;\n",
              "    }\n",
              "\n",
              "    .colab-df-convert {\n",
              "      background-color: #E8F0FE;\n",
              "      border: none;\n",
              "      border-radius: 50%;\n",
              "      cursor: pointer;\n",
              "      display: none;\n",
              "      fill: #1967D2;\n",
              "      height: 32px;\n",
              "      padding: 0 0 0 0;\n",
              "      width: 32px;\n",
              "    }\n",
              "\n",
              "    .colab-df-convert:hover {\n",
              "      background-color: #E2EBFA;\n",
              "      box-shadow: 0px 1px 2px rgba(60, 64, 67, 0.3), 0px 1px 3px 1px rgba(60, 64, 67, 0.15);\n",
              "      fill: #174EA6;\n",
              "    }\n",
              "\n",
              "    [theme=dark] .colab-df-convert {\n",
              "      background-color: #3B4455;\n",
              "      fill: #D2E3FC;\n",
              "    }\n",
              "\n",
              "    [theme=dark] .colab-df-convert:hover {\n",
              "      background-color: #434B5C;\n",
              "      box-shadow: 0px 1px 3px 1px rgba(0, 0, 0, 0.15);\n",
              "      filter: drop-shadow(0px 1px 2px rgba(0, 0, 0, 0.3));\n",
              "      fill: #FFFFFF;\n",
              "    }\n",
              "  </style>\n",
              "\n",
              "      <script>\n",
              "        const buttonEl =\n",
              "          document.querySelector('#df-56bc48f6-8f26-4b00-8f75-0478de1ab3d5 button.colab-df-convert');\n",
              "        buttonEl.style.display =\n",
              "          google.colab.kernel.accessAllowed ? 'block' : 'none';\n",
              "\n",
              "        async function convertToInteractive(key) {\n",
              "          const element = document.querySelector('#df-56bc48f6-8f26-4b00-8f75-0478de1ab3d5');\n",
              "          const dataTable =\n",
              "            await google.colab.kernel.invokeFunction('convertToInteractive',\n",
              "                                                     [key], {});\n",
              "          if (!dataTable) return;\n",
              "\n",
              "          const docLinkHtml = 'Like what you see? Visit the ' +\n",
              "            '<a target=\"_blank\" href=https://colab.research.google.com/notebooks/data_table.ipynb>data table notebook</a>'\n",
              "            + ' to learn more about interactive tables.';\n",
              "          element.innerHTML = '';\n",
              "          dataTable['output_type'] = 'display_data';\n",
              "          await google.colab.output.renderOutput(dataTable, element);\n",
              "          const docLink = document.createElement('div');\n",
              "          docLink.innerHTML = docLinkHtml;\n",
              "          element.appendChild(docLink);\n",
              "        }\n",
              "      </script>\n",
              "    </div>\n",
              "  </div>\n",
              "  "
            ]
          },
          "metadata": {},
          "execution_count": 44
        }
      ]
    },
    {
      "cell_type": "code",
      "source": [
        "c, p, dof, expected = chi2_contingency(degree)\n",
        "p"
      ],
      "metadata": {
        "colab": {
          "base_uri": "https://localhost:8080/"
        },
        "id": "cJSvE8KDZSx_",
        "outputId": "cdb04c4a-9562-4a2f-cadc-e2fd1dc1af92"
      },
      "execution_count": null,
      "outputs": [
        {
          "output_type": "execute_result",
          "data": {
            "text/plain": [
              "5.454496795920524e-14"
            ]
          },
          "metadata": {},
          "execution_count": 45
        }
      ]
    },
    {
      "cell_type": "markdown",
      "source": [
        "73% of Post bac students with a Social Science undergraduate major score below 510 (including 510) on their final MCAT score. There is a significant difference in proportion of post bac students who scored 511 or higher on their final MCAT scores based on their undergraduate degree. "
      ],
      "metadata": {
        "id": "3qi0fbZ8ZDZj"
      }
    },
    {
      "cell_type": "markdown",
      "source": [
        "#Undergraduate Performance"
      ],
      "metadata": {
        "id": "oYjbQOGKqYmq"
      }
    },
    {
      "cell_type": "code",
      "source": [
        "undergrad = MCAT[['UGGPA','BCPM', 'VAR19', 'SAT_verbal_score', 'ACT_verbal_score', 'STD_math__', 'SAT_math_score' ]].agg(['min','max','mean','std'])\n",
        "round(undergrad,2)"
      ],
      "metadata": {
        "colab": {
          "base_uri": "https://localhost:8080/",
          "height": 193
        },
        "id": "rPvo1zAarAh2",
        "outputId": "06747488-7059-4673-ce2d-53a945849933"
      },
      "execution_count": null,
      "outputs": [
        {
          "output_type": "execute_result",
          "data": {
            "text/plain": [
              "      UGGPA  BCPM  VAR19  SAT_verbal_score  ACT_verbal_score  STD_math__  \\\n",
              "min   2.80% 2.06% 28.00%           440.00%            20.00%      42.00%   \n",
              "max   3.94% 4.00% 99.00%           800.00%            36.00%     100.00%   \n",
              "mean  3.56% 3.41% 85.81%           646.88%            30.24%      82.80%   \n",
              "std   0.23% 0.43% 13.60%            76.70%             4.25%      13.82%   \n",
              "\n",
              "      SAT_math_score  \n",
              "min           99.00%  \n",
              "max          800.00%  \n",
              "mean         631.84%  \n",
              "std          104.06%  "
            ],
            "text/html": [
              "\n",
              "  <div id=\"df-2619253d-f394-4c6a-8de3-c3e08513f751\">\n",
              "    <div class=\"colab-df-container\">\n",
              "      <div>\n",
              "<style scoped>\n",
              "    .dataframe tbody tr th:only-of-type {\n",
              "        vertical-align: middle;\n",
              "    }\n",
              "\n",
              "    .dataframe tbody tr th {\n",
              "        vertical-align: top;\n",
              "    }\n",
              "\n",
              "    .dataframe thead th {\n",
              "        text-align: right;\n",
              "    }\n",
              "</style>\n",
              "<table border=\"1\" class=\"dataframe\">\n",
              "  <thead>\n",
              "    <tr style=\"text-align: right;\">\n",
              "      <th></th>\n",
              "      <th>UGGPA</th>\n",
              "      <th>BCPM</th>\n",
              "      <th>VAR19</th>\n",
              "      <th>SAT_verbal_score</th>\n",
              "      <th>ACT_verbal_score</th>\n",
              "      <th>STD_math__</th>\n",
              "      <th>SAT_math_score</th>\n",
              "    </tr>\n",
              "  </thead>\n",
              "  <tbody>\n",
              "    <tr>\n",
              "      <th>min</th>\n",
              "      <td>2.80%</td>\n",
              "      <td>2.06%</td>\n",
              "      <td>28.00%</td>\n",
              "      <td>440.00%</td>\n",
              "      <td>20.00%</td>\n",
              "      <td>42.00%</td>\n",
              "      <td>99.00%</td>\n",
              "    </tr>\n",
              "    <tr>\n",
              "      <th>max</th>\n",
              "      <td>3.94%</td>\n",
              "      <td>4.00%</td>\n",
              "      <td>99.00%</td>\n",
              "      <td>800.00%</td>\n",
              "      <td>36.00%</td>\n",
              "      <td>100.00%</td>\n",
              "      <td>800.00%</td>\n",
              "    </tr>\n",
              "    <tr>\n",
              "      <th>mean</th>\n",
              "      <td>3.56%</td>\n",
              "      <td>3.41%</td>\n",
              "      <td>85.81%</td>\n",
              "      <td>646.88%</td>\n",
              "      <td>30.24%</td>\n",
              "      <td>82.80%</td>\n",
              "      <td>631.84%</td>\n",
              "    </tr>\n",
              "    <tr>\n",
              "      <th>std</th>\n",
              "      <td>0.23%</td>\n",
              "      <td>0.43%</td>\n",
              "      <td>13.60%</td>\n",
              "      <td>76.70%</td>\n",
              "      <td>4.25%</td>\n",
              "      <td>13.82%</td>\n",
              "      <td>104.06%</td>\n",
              "    </tr>\n",
              "  </tbody>\n",
              "</table>\n",
              "</div>\n",
              "      <button class=\"colab-df-convert\" onclick=\"convertToInteractive('df-2619253d-f394-4c6a-8de3-c3e08513f751')\"\n",
              "              title=\"Convert this dataframe to an interactive table.\"\n",
              "              style=\"display:none;\">\n",
              "        \n",
              "  <svg xmlns=\"http://www.w3.org/2000/svg\" height=\"24px\"viewBox=\"0 0 24 24\"\n",
              "       width=\"24px\">\n",
              "    <path d=\"M0 0h24v24H0V0z\" fill=\"none\"/>\n",
              "    <path d=\"M18.56 5.44l.94 2.06.94-2.06 2.06-.94-2.06-.94-.94-2.06-.94 2.06-2.06.94zm-11 1L8.5 8.5l.94-2.06 2.06-.94-2.06-.94L8.5 2.5l-.94 2.06-2.06.94zm10 10l.94 2.06.94-2.06 2.06-.94-2.06-.94-.94-2.06-.94 2.06-2.06.94z\"/><path d=\"M17.41 7.96l-1.37-1.37c-.4-.4-.92-.59-1.43-.59-.52 0-1.04.2-1.43.59L10.3 9.45l-7.72 7.72c-.78.78-.78 2.05 0 2.83L4 21.41c.39.39.9.59 1.41.59.51 0 1.02-.2 1.41-.59l7.78-7.78 2.81-2.81c.8-.78.8-2.07 0-2.86zM5.41 20L4 18.59l7.72-7.72 1.47 1.35L5.41 20z\"/>\n",
              "  </svg>\n",
              "      </button>\n",
              "      \n",
              "  <style>\n",
              "    .colab-df-container {\n",
              "      display:flex;\n",
              "      flex-wrap:wrap;\n",
              "      gap: 12px;\n",
              "    }\n",
              "\n",
              "    .colab-df-convert {\n",
              "      background-color: #E8F0FE;\n",
              "      border: none;\n",
              "      border-radius: 50%;\n",
              "      cursor: pointer;\n",
              "      display: none;\n",
              "      fill: #1967D2;\n",
              "      height: 32px;\n",
              "      padding: 0 0 0 0;\n",
              "      width: 32px;\n",
              "    }\n",
              "\n",
              "    .colab-df-convert:hover {\n",
              "      background-color: #E2EBFA;\n",
              "      box-shadow: 0px 1px 2px rgba(60, 64, 67, 0.3), 0px 1px 3px 1px rgba(60, 64, 67, 0.15);\n",
              "      fill: #174EA6;\n",
              "    }\n",
              "\n",
              "    [theme=dark] .colab-df-convert {\n",
              "      background-color: #3B4455;\n",
              "      fill: #D2E3FC;\n",
              "    }\n",
              "\n",
              "    [theme=dark] .colab-df-convert:hover {\n",
              "      background-color: #434B5C;\n",
              "      box-shadow: 0px 1px 3px 1px rgba(0, 0, 0, 0.15);\n",
              "      filter: drop-shadow(0px 1px 2px rgba(0, 0, 0, 0.3));\n",
              "      fill: #FFFFFF;\n",
              "    }\n",
              "  </style>\n",
              "\n",
              "      <script>\n",
              "        const buttonEl =\n",
              "          document.querySelector('#df-2619253d-f394-4c6a-8de3-c3e08513f751 button.colab-df-convert');\n",
              "        buttonEl.style.display =\n",
              "          google.colab.kernel.accessAllowed ? 'block' : 'none';\n",
              "\n",
              "        async function convertToInteractive(key) {\n",
              "          const element = document.querySelector('#df-2619253d-f394-4c6a-8de3-c3e08513f751');\n",
              "          const dataTable =\n",
              "            await google.colab.kernel.invokeFunction('convertToInteractive',\n",
              "                                                     [key], {});\n",
              "          if (!dataTable) return;\n",
              "\n",
              "          const docLinkHtml = 'Like what you see? Visit the ' +\n",
              "            '<a target=\"_blank\" href=https://colab.research.google.com/notebooks/data_table.ipynb>data table notebook</a>'\n",
              "            + ' to learn more about interactive tables.';\n",
              "          element.innerHTML = '';\n",
              "          dataTable['output_type'] = 'display_data';\n",
              "          await google.colab.output.renderOutput(dataTable, element);\n",
              "          const docLink = document.createElement('div');\n",
              "          docLink.innerHTML = docLinkHtml;\n",
              "          element.appendChild(docLink);\n",
              "        }\n",
              "      </script>\n",
              "    </div>\n",
              "  </div>\n",
              "  "
            ]
          },
          "metadata": {},
          "execution_count": 46
        }
      ]
    },
    {
      "cell_type": "markdown",
      "source": [
        "###Correlations with MCAT scores"
      ],
      "metadata": {
        "id": "s7PlElmzsMnk"
      }
    },
    {
      "cell_type": "code",
      "source": [
        "undergrad = MCAT.loc[0:144,['Final','MCAT_1', 'Diagnos', 'UGGPA','BCPM', 'VAR19', 'SAT_verbal_score', 'ACT_verbal_score', 'STD_math__', 'SAT_math_score']]"
      ],
      "metadata": {
        "id": "az2R1xbosR39"
      },
      "execution_count": null,
      "outputs": []
    },
    {
      "cell_type": "code",
      "source": [
        "correlation = undergrad.corr()\n",
        "round(correlation,2)"
      ],
      "metadata": {
        "colab": {
          "base_uri": "https://localhost:8080/",
          "height": 322
        },
        "id": "z9NaeoN0r95n",
        "outputId": "73facbd8-2778-4fde-9640-1570e547f6ec"
      },
      "execution_count": null,
      "outputs": [
        {
          "output_type": "execute_result",
          "data": {
            "text/plain": [
              "                  Final  MCAT_1  Diagnos  UGGPA   BCPM  VAR19  \\\n",
              "Final             1.00%   0.95%    0.39%  0.08%  0.15%  0.35%   \n",
              "MCAT_1            0.95%   1.00%    0.43%  0.08%  0.14%  0.38%   \n",
              "Diagnos           0.39%   0.43%    1.00%  0.20%  0.05%  0.28%   \n",
              "UGGPA             0.08%   0.08%    0.20%  1.00%  0.69% -0.03%   \n",
              "BCPM              0.15%   0.14%    0.05%  0.69%  1.00% -0.21%   \n",
              "VAR19             0.35%   0.38%    0.28% -0.03% -0.21%  1.00%   \n",
              "SAT_verbal_score  0.38%   0.42%    0.34% -0.03% -0.22%  0.91%   \n",
              "ACT_verbal_score  0.39%   0.40%    0.17% -0.00% -0.23%  0.95%   \n",
              "STD_math__        0.43%   0.45%    0.20%  0.03%  0.03%  0.45%   \n",
              "SAT_math_score    0.11%   0.10%    0.03% -0.14% -0.14%  0.19%   \n",
              "\n",
              "                  SAT_verbal_score  ACT_verbal_score  STD_math__  \\\n",
              "Final                        0.38%             0.39%       0.43%   \n",
              "MCAT_1                       0.42%             0.40%       0.45%   \n",
              "Diagnos                      0.34%             0.17%       0.20%   \n",
              "UGGPA                       -0.03%            -0.00%       0.03%   \n",
              "BCPM                        -0.22%            -0.23%       0.03%   \n",
              "VAR19                        0.91%             0.95%       0.45%   \n",
              "SAT_verbal_score             1.00%               NaN       0.44%   \n",
              "ACT_verbal_score               NaN             1.00%       0.53%   \n",
              "STD_math__                   0.44%             0.53%       1.00%   \n",
              "SAT_math_score               0.43%            -0.46%       0.92%   \n",
              "\n",
              "                  SAT_math_score  \n",
              "Final                      0.11%  \n",
              "MCAT_1                     0.10%  \n",
              "Diagnos                    0.03%  \n",
              "UGGPA                     -0.14%  \n",
              "BCPM                      -0.14%  \n",
              "VAR19                      0.19%  \n",
              "SAT_verbal_score           0.43%  \n",
              "ACT_verbal_score          -0.46%  \n",
              "STD_math__                 0.92%  \n",
              "SAT_math_score             1.00%  "
            ],
            "text/html": [
              "\n",
              "  <div id=\"df-0f3cef32-d446-4cfb-9327-7dbc99f10257\">\n",
              "    <div class=\"colab-df-container\">\n",
              "      <div>\n",
              "<style scoped>\n",
              "    .dataframe tbody tr th:only-of-type {\n",
              "        vertical-align: middle;\n",
              "    }\n",
              "\n",
              "    .dataframe tbody tr th {\n",
              "        vertical-align: top;\n",
              "    }\n",
              "\n",
              "    .dataframe thead th {\n",
              "        text-align: right;\n",
              "    }\n",
              "</style>\n",
              "<table border=\"1\" class=\"dataframe\">\n",
              "  <thead>\n",
              "    <tr style=\"text-align: right;\">\n",
              "      <th></th>\n",
              "      <th>Final</th>\n",
              "      <th>MCAT_1</th>\n",
              "      <th>Diagnos</th>\n",
              "      <th>UGGPA</th>\n",
              "      <th>BCPM</th>\n",
              "      <th>VAR19</th>\n",
              "      <th>SAT_verbal_score</th>\n",
              "      <th>ACT_verbal_score</th>\n",
              "      <th>STD_math__</th>\n",
              "      <th>SAT_math_score</th>\n",
              "    </tr>\n",
              "  </thead>\n",
              "  <tbody>\n",
              "    <tr>\n",
              "      <th>Final</th>\n",
              "      <td>1.00%</td>\n",
              "      <td>0.95%</td>\n",
              "      <td>0.39%</td>\n",
              "      <td>0.08%</td>\n",
              "      <td>0.15%</td>\n",
              "      <td>0.35%</td>\n",
              "      <td>0.38%</td>\n",
              "      <td>0.39%</td>\n",
              "      <td>0.43%</td>\n",
              "      <td>0.11%</td>\n",
              "    </tr>\n",
              "    <tr>\n",
              "      <th>MCAT_1</th>\n",
              "      <td>0.95%</td>\n",
              "      <td>1.00%</td>\n",
              "      <td>0.43%</td>\n",
              "      <td>0.08%</td>\n",
              "      <td>0.14%</td>\n",
              "      <td>0.38%</td>\n",
              "      <td>0.42%</td>\n",
              "      <td>0.40%</td>\n",
              "      <td>0.45%</td>\n",
              "      <td>0.10%</td>\n",
              "    </tr>\n",
              "    <tr>\n",
              "      <th>Diagnos</th>\n",
              "      <td>0.39%</td>\n",
              "      <td>0.43%</td>\n",
              "      <td>1.00%</td>\n",
              "      <td>0.20%</td>\n",
              "      <td>0.05%</td>\n",
              "      <td>0.28%</td>\n",
              "      <td>0.34%</td>\n",
              "      <td>0.17%</td>\n",
              "      <td>0.20%</td>\n",
              "      <td>0.03%</td>\n",
              "    </tr>\n",
              "    <tr>\n",
              "      <th>UGGPA</th>\n",
              "      <td>0.08%</td>\n",
              "      <td>0.08%</td>\n",
              "      <td>0.20%</td>\n",
              "      <td>1.00%</td>\n",
              "      <td>0.69%</td>\n",
              "      <td>-0.03%</td>\n",
              "      <td>-0.03%</td>\n",
              "      <td>-0.00%</td>\n",
              "      <td>0.03%</td>\n",
              "      <td>-0.14%</td>\n",
              "    </tr>\n",
              "    <tr>\n",
              "      <th>BCPM</th>\n",
              "      <td>0.15%</td>\n",
              "      <td>0.14%</td>\n",
              "      <td>0.05%</td>\n",
              "      <td>0.69%</td>\n",
              "      <td>1.00%</td>\n",
              "      <td>-0.21%</td>\n",
              "      <td>-0.22%</td>\n",
              "      <td>-0.23%</td>\n",
              "      <td>0.03%</td>\n",
              "      <td>-0.14%</td>\n",
              "    </tr>\n",
              "    <tr>\n",
              "      <th>VAR19</th>\n",
              "      <td>0.35%</td>\n",
              "      <td>0.38%</td>\n",
              "      <td>0.28%</td>\n",
              "      <td>-0.03%</td>\n",
              "      <td>-0.21%</td>\n",
              "      <td>1.00%</td>\n",
              "      <td>0.91%</td>\n",
              "      <td>0.95%</td>\n",
              "      <td>0.45%</td>\n",
              "      <td>0.19%</td>\n",
              "    </tr>\n",
              "    <tr>\n",
              "      <th>SAT_verbal_score</th>\n",
              "      <td>0.38%</td>\n",
              "      <td>0.42%</td>\n",
              "      <td>0.34%</td>\n",
              "      <td>-0.03%</td>\n",
              "      <td>-0.22%</td>\n",
              "      <td>0.91%</td>\n",
              "      <td>1.00%</td>\n",
              "      <td>NaN</td>\n",
              "      <td>0.44%</td>\n",
              "      <td>0.43%</td>\n",
              "    </tr>\n",
              "    <tr>\n",
              "      <th>ACT_verbal_score</th>\n",
              "      <td>0.39%</td>\n",
              "      <td>0.40%</td>\n",
              "      <td>0.17%</td>\n",
              "      <td>-0.00%</td>\n",
              "      <td>-0.23%</td>\n",
              "      <td>0.95%</td>\n",
              "      <td>NaN</td>\n",
              "      <td>1.00%</td>\n",
              "      <td>0.53%</td>\n",
              "      <td>-0.46%</td>\n",
              "    </tr>\n",
              "    <tr>\n",
              "      <th>STD_math__</th>\n",
              "      <td>0.43%</td>\n",
              "      <td>0.45%</td>\n",
              "      <td>0.20%</td>\n",
              "      <td>0.03%</td>\n",
              "      <td>0.03%</td>\n",
              "      <td>0.45%</td>\n",
              "      <td>0.44%</td>\n",
              "      <td>0.53%</td>\n",
              "      <td>1.00%</td>\n",
              "      <td>0.92%</td>\n",
              "    </tr>\n",
              "    <tr>\n",
              "      <th>SAT_math_score</th>\n",
              "      <td>0.11%</td>\n",
              "      <td>0.10%</td>\n",
              "      <td>0.03%</td>\n",
              "      <td>-0.14%</td>\n",
              "      <td>-0.14%</td>\n",
              "      <td>0.19%</td>\n",
              "      <td>0.43%</td>\n",
              "      <td>-0.46%</td>\n",
              "      <td>0.92%</td>\n",
              "      <td>1.00%</td>\n",
              "    </tr>\n",
              "  </tbody>\n",
              "</table>\n",
              "</div>\n",
              "      <button class=\"colab-df-convert\" onclick=\"convertToInteractive('df-0f3cef32-d446-4cfb-9327-7dbc99f10257')\"\n",
              "              title=\"Convert this dataframe to an interactive table.\"\n",
              "              style=\"display:none;\">\n",
              "        \n",
              "  <svg xmlns=\"http://www.w3.org/2000/svg\" height=\"24px\"viewBox=\"0 0 24 24\"\n",
              "       width=\"24px\">\n",
              "    <path d=\"M0 0h24v24H0V0z\" fill=\"none\"/>\n",
              "    <path d=\"M18.56 5.44l.94 2.06.94-2.06 2.06-.94-2.06-.94-.94-2.06-.94 2.06-2.06.94zm-11 1L8.5 8.5l.94-2.06 2.06-.94-2.06-.94L8.5 2.5l-.94 2.06-2.06.94zm10 10l.94 2.06.94-2.06 2.06-.94-2.06-.94-.94-2.06-.94 2.06-2.06.94z\"/><path d=\"M17.41 7.96l-1.37-1.37c-.4-.4-.92-.59-1.43-.59-.52 0-1.04.2-1.43.59L10.3 9.45l-7.72 7.72c-.78.78-.78 2.05 0 2.83L4 21.41c.39.39.9.59 1.41.59.51 0 1.02-.2 1.41-.59l7.78-7.78 2.81-2.81c.8-.78.8-2.07 0-2.86zM5.41 20L4 18.59l7.72-7.72 1.47 1.35L5.41 20z\"/>\n",
              "  </svg>\n",
              "      </button>\n",
              "      \n",
              "  <style>\n",
              "    .colab-df-container {\n",
              "      display:flex;\n",
              "      flex-wrap:wrap;\n",
              "      gap: 12px;\n",
              "    }\n",
              "\n",
              "    .colab-df-convert {\n",
              "      background-color: #E8F0FE;\n",
              "      border: none;\n",
              "      border-radius: 50%;\n",
              "      cursor: pointer;\n",
              "      display: none;\n",
              "      fill: #1967D2;\n",
              "      height: 32px;\n",
              "      padding: 0 0 0 0;\n",
              "      width: 32px;\n",
              "    }\n",
              "\n",
              "    .colab-df-convert:hover {\n",
              "      background-color: #E2EBFA;\n",
              "      box-shadow: 0px 1px 2px rgba(60, 64, 67, 0.3), 0px 1px 3px 1px rgba(60, 64, 67, 0.15);\n",
              "      fill: #174EA6;\n",
              "    }\n",
              "\n",
              "    [theme=dark] .colab-df-convert {\n",
              "      background-color: #3B4455;\n",
              "      fill: #D2E3FC;\n",
              "    }\n",
              "\n",
              "    [theme=dark] .colab-df-convert:hover {\n",
              "      background-color: #434B5C;\n",
              "      box-shadow: 0px 1px 3px 1px rgba(0, 0, 0, 0.15);\n",
              "      filter: drop-shadow(0px 1px 2px rgba(0, 0, 0, 0.3));\n",
              "      fill: #FFFFFF;\n",
              "    }\n",
              "  </style>\n",
              "\n",
              "      <script>\n",
              "        const buttonEl =\n",
              "          document.querySelector('#df-0f3cef32-d446-4cfb-9327-7dbc99f10257 button.colab-df-convert');\n",
              "        buttonEl.style.display =\n",
              "          google.colab.kernel.accessAllowed ? 'block' : 'none';\n",
              "\n",
              "        async function convertToInteractive(key) {\n",
              "          const element = document.querySelector('#df-0f3cef32-d446-4cfb-9327-7dbc99f10257');\n",
              "          const dataTable =\n",
              "            await google.colab.kernel.invokeFunction('convertToInteractive',\n",
              "                                                     [key], {});\n",
              "          if (!dataTable) return;\n",
              "\n",
              "          const docLinkHtml = 'Like what you see? Visit the ' +\n",
              "            '<a target=\"_blank\" href=https://colab.research.google.com/notebooks/data_table.ipynb>data table notebook</a>'\n",
              "            + ' to learn more about interactive tables.';\n",
              "          element.innerHTML = '';\n",
              "          dataTable['output_type'] = 'display_data';\n",
              "          await google.colab.output.renderOutput(dataTable, element);\n",
              "          const docLink = document.createElement('div');\n",
              "          docLink.innerHTML = docLinkHtml;\n",
              "          element.appendChild(docLink);\n",
              "        }\n",
              "      </script>\n",
              "    </div>\n",
              "  </div>\n",
              "  "
            ]
          },
          "metadata": {},
          "execution_count": 170
        }
      ]
    },
    {
      "cell_type": "markdown",
      "source": [
        "####Heatmap"
      ],
      "metadata": {
        "id": "HPRvylPOs3Jn"
      }
    },
    {
      "cell_type": "code",
      "source": [
        "import warnings\n",
        "warnings.filterwarnings(action='once')\n",
        "plt.style.use('seaborn-whitegrid')\n",
        "sns.set_style(\"whitegrid\")"
      ],
      "metadata": {
        "id": "mq24eQkEs7Md"
      },
      "execution_count": null,
      "outputs": []
    },
    {
      "cell_type": "code",
      "source": [
        "plt.figure(figsize=(12, 10), dpi=80)\n",
        "sns.heatmap(\n",
        "    undergrad.corr(),\n",
        "    xticklabels=undergrad.corr().columns,\n",
        "    yticklabels=undergrad.corr().columns,\n",
        "    cmap='gist_rainbow',\n",
        "    center=1,\n",
        "    annot=True,\n",
        "    annot_kws={\n",
        "        'size': 12,\n",
        "        'weight': 'normal',\n",
        "        'color': '#050505'\n",
        "    },\n",
        ")\n",
        "\n",
        "plt.show()"
      ],
      "metadata": {
        "colab": {
          "base_uri": "https://localhost:8080/",
          "height": 743
        },
        "id": "j7phRUG2tAXM",
        "outputId": "321862ef-94aa-42d1-cb1e-c6c1e81f2271"
      },
      "execution_count": null,
      "outputs": [
        {
          "output_type": "display_data",
          "data": {
            "text/plain": [
              "<Figure size 960x800 with 2 Axes>"
            ],
            "image/png": "[encoded data removed]"
          },
          "metadata": {}
        }
      ]
    },
    {
      "cell_type": "markdown",
      "source": [
        "#Post Bac Program Grades"
      ],
      "metadata": {
        "id": "ePowwFgmrWWV"
      }
    },
    {
      "cell_type": "code",
      "source": [
        "biology = go.Figure()\n",
        "\n",
        "biology.add_trace(go.Box(\n",
        "    y=MCAT.B1,\n",
        "    name= 'biology',\n",
        "    marker_color = 'green',\n",
        "    boxmean=True,\n",
        "    boxpoints='all'\n",
        "))\n",
        "\n",
        "biology.add_trace(go.Box(\n",
        "    y=MCAT.B2,\n",
        "    name= 'biology II',\n",
        "    marker_color = 'blue',\n",
        "    boxmean=True,\n",
        "    boxpoints='all'\n",
        "))\n",
        "\n",
        "biology.add_trace(go.Box(\n",
        "    y=MCAT.O1,\n",
        "    name= 'Organic Chemistry',\n",
        "    marker_color = 'orange',\n",
        "    boxmean=True,\n",
        "    boxpoints='all'\n",
        "))\n",
        "\n",
        "biology.add_trace(go.Box(\n",
        "    y=MCAT.O2,\n",
        "    name= 'Organic Chemistry II',\n",
        "    marker_color = 'coral',\n",
        "    boxmean=True,\n",
        "    boxpoints='all'\n",
        "))\n",
        "\n",
        "biology.add_trace(go.Box(\n",
        "    y=MCAT.P1,\n",
        "    name= 'Physics',\n",
        "    marker_color = 'purple',\n",
        "    boxmean=True,\n",
        "    boxpoints='all'\n",
        "))\n",
        "\n",
        "biology.add_trace(go.Box(\n",
        "    y=MCAT.P2,\n",
        "    name= 'Physics II',\n",
        "    marker_color = 'hotpink',\n",
        "    boxmean=True,\n",
        "    boxpoints='all'\n",
        "))\n",
        "\n",
        "biology.add_trace(go.Box(\n",
        "    y=MCAT.Biochem,\n",
        "    name= 'biochem',\n",
        "    marker_color = 'darkviolet',\n",
        "    boxmean=True,\n",
        "    boxpoints='all'\n",
        "))\n",
        "\n",
        "biology.add_trace(go.Box(\n",
        "    y=MCAT.GC1,\n",
        "    name= 'General chemistry',\n",
        "    marker_color = 'limegreen',\n",
        "    boxmean=True,\n",
        "    boxpoints='all'\n",
        "))\n",
        "\n",
        "biology.add_trace(go.Box(\n",
        "    y=MCAT.GC2,\n",
        "    name= 'General chemistry I',\n",
        "    marker_color = 'turquoise',\n",
        "    boxmean=True,\n",
        "    boxpoints='all'\n",
        "))\n",
        "\n",
        "biology.update_layout(title='Distribution of Post Bac Grades ',\n",
        "                           xaxis={'title':'Post Bac Courses'},\n",
        "                           yaxis={'title':'Percents'})\n",
        "\n",
        "biology.show()\n",
        "\n"
      ],
      "metadata": {
        "colab": {
          "base_uri": "https://localhost:8080/",
          "height": 542
        },
        "id": "m_vmDIijvvvW",
        "outputId": "e0c09769-9cad-4e32-f9ed-0c6648c785c4"
      },
      "execution_count": null,
      "outputs": [
        {
          "output_type": "display_data",
          "data": {
            "text/html": [
              "<html>\n",
              "<head><meta charset=\"utf-8\" /></head>\n",
              "<body>\n",
              "    <div>            <script src=\"https://cdnjs.cloudflare.com/ajax/libs/mathjax/2.7.5/MathJax.js?config=TeX-AMS-MML_SVG\"></script><script type=\"text/javascript\">if (window.MathJax) {MathJax.Hub.Config({SVG: {font: \"STIX-Web\"}});}</script>                <script type=\"text/javascript\">window.PlotlyConfig = {MathJaxConfig: 'local'};</script>\n",
              "        <script src=\"https://cdn.plot.ly/plotly-2.8.3.min.js\"></script>                <div id=\"98486595-7f3a-4dda-a916-e36d10c76425\" class=\"plotly-graph-div\" style=\"height:525px; width:100%;\"></div>            <script type=\"text/javascript\">                                    window.PLOTLYENV=window.PLOTLYENV || {};                                    if (document.getElementById(\"98486595-7f3a-4dda-a916-e36d10c76425\")) {                    Plotly.newPlot(                        \"98486595-7f3a-4dda-a916-e36d10c76425\",                        [{\"boxmean\":true,\"boxpoints\":\"all\",\"marker\":{\"color\":\"green\"},\"name\":\"biology\",\"y\":[95,95,95,95,95,95,95,91,95,98,93,93,94,91,89,95,91,91,91,94,96,83,95,91,90,93,90,98,91,93,90,91,93,91,90,95,99,96,94,90,91,91,94,95,95,94,90,95,96,97,93,89,95,88,92,97,93,97,93,96,96,92,94,91,97,95,78,88,95,91,95,95,91,95,91,95,91,95,88,91,91,88,95,95,88,88,91,95,91,91,95,98,95,94,88,100,98,97,98,89,94,97,97,94,91,94,86,95,95,98,92,98,94,90,95,95,92,96,92,94,99,93,87,86,93,94,94,87,98,98,100,95,94,90,87,98,96,90,96,100,99,94],\"type\":\"box\"},{\"boxmean\":true,\"boxpoints\":\"all\",\"marker\":{\"color\":\"blue\"},\"name\":\"biology II\",\"y\":[97,95,95,95,97,94,94,94,100,94,93,93,94,96,96,94,93,95,95,96,100,94,95,97,97,93,90,99,97,95,94,89,95,84,93,95,97,95,92,91,91,93,92,91,94,97,95,92,94,96,96,92,97,90,84,96,89,94,87,94,94,95,91,93,97,96,88,91,91,95,95,95,88,95,88,95,88,95,88,95,95,85,95,95,95,91,91,91,91,91,95,99,96,92,91,96,96,98,96,92,95,95,95,95,94,90,91,97,94,96,92,97,91,92,97,95,93,94,92,94,100,95,91,92,100,96,95,87,94,96,98,94,93,91,93,100,98,93,96,98,99,96],\"type\":\"box\"},{\"boxmean\":true,\"boxpoints\":\"all\",\"marker\":{\"color\":\"orange\"},\"name\":\"Organic Chemistry\",\"y\":[95.0,95.0,91.0,95.0,95.0,95.0,95.0,85.0,95.0,88.0,91.0,95.0,85.0,85.0,88.0,95.0,85.0,95.0,95.0,95.0,95.0,88.0,95.0,95.0,95.0,null,null,null,null,null,null,null,null,null,null,null,null,null,null,null,75.0,72.0,85.0,85.0,88.0,95.0,75.0,95.0,95.0,91.0,88.0,82.0,95.0,85.0,85.0,88.0,85.0,95.0,95.0,88.0,95.0,85.0,85.0,85.0,95.0,91.0,84.0,94.0,96.0,90.0,88.0,96.0,93.0,97.0,97.0,95.0,89.0,98.0,91.0,97.0,91.0,86.0,97.0,97.0,93.0,91.0,91.0,96.0,91.0,93.0,94.0,99.0,98.0,93.0,87.0,100.0,97.0,97.0,100.0,88.0,95.0,94.0,98.0,96.0,97.0,98.0,86.0,96.0,96.0,100.0,94.0,99.0,98.0,90.0,94.0,95.0,94.0,96.0,88.0,97.0,100.0,93.0,88.0,82.0,97.0,92.0,93.0,87.0,92.0,99.0,98.0,92.0,93.0,89.0,91.0,100.0,91.0,87.0,93.0,97.0,96.0,93.0],\"type\":\"box\"},{\"boxmean\":true,\"boxpoints\":\"all\",\"marker\":{\"color\":\"coral\"},\"name\":\"Organic Chemistry II\",\"y\":[95,91,88,95,91,88,95,85,95,85,95,95,85,88,88,95,82,91,95,95,91,82,95,91,95,95,91,95,88,95,78,78,95,75,85,95,95,95,85,88,85,85,88,85,91,95,85,91,95,91,91,85,95,85,85,95,85,95,95,88,95,91,91,85,95,95,80,91,95,91,85,95,84,96,93,95,91,95,90,93,94,87,95,94,96,90,87,92,91,93,93,100,94,94,90,99,99,98,100,90,94,93,96,98,90,97,86,98,94,99,82,100,93,91,94,100,91,91,87,97,100,93,80,86,96,92,94,85,94,99,100,88,96,88,88,100,91,93,96,97,95,95],\"type\":\"box\"},{\"boxmean\":true,\"boxpoints\":\"all\",\"marker\":{\"color\":\"purple\"},\"name\":\"Physics\",\"y\":[95.0,95.0,95.0,95.0,95.0,95.0,95.0,95.0,95.0,88.0,95.0,95.0,85.0,95.0,95.0,95.0,91.0,95.0,95.0,95.0,95.0,88.0,95.0,95.0,91.0,95.0,85.0,95.0,88.0,95.0,95.0,85.0,95.0,95.0,95.0,95.0,95.0,95.0,95.0,95.0,91.0,91.0,95.0,88.0,95.0,95.0,91.0,95.0,95.0,95.0,95.0,91.0,95.0,91.0,95.0,null,95.0,95.0,95.0,95.0,95.0,95.0,95.0,95.0,95.0,95.0,88.0,90.0,98.0,98.0,null,99.0,97.0,99.0,98.0,98.0,92.0,99.0,91.0,95.0,98.0,91.0,100.0,99.0,98.0,91.0,91.0,97.0,95.0,98.0,99.0,100.0,97.0,98.0,89.0,100.0,98.0,98.0,98.0,91.0,99.0,94.0,99.0,92.0,85.0,93.0,85.0,96.0,96.0,98.0,84.0,99.0,null,98.0,97.0,97.0,91.0,94.0,87.0,98.0,99.0,98.0,87.0,84.0,93.0,91.0,100.0,91.0,96.0,99.0,100.0,96.0,95.0,96.0,89.0,100.0,92.0,89.0,95.0,99.0,null,96.0],\"type\":\"box\"},{\"boxmean\":true,\"boxpoints\":\"all\",\"marker\":{\"color\":\"hotpink\"},\"name\":\"Physics II\",\"y\":[95.0,95.0,91.0,95.0,91.0,91.0,95.0,91.0,95.0,91.0,95.0,95.0,91.0,95.0,95.0,95.0,95.0,95.0,95.0,95.0,95.0,91.0,95.0,95.0,95.0,95.0,85.0,95.0,88.0,95.0,91.0,85.0,95.0,91.0,95.0,95.0,95.0,95.0,91.0,95.0,91.0,95.0,95.0,95.0,95.0,95.0,95.0,95.0,91.0,95.0,95.0,91.0,95.0,95.0,95.0,null,95.0,95.0,95.0,95.0,95.0,95.0,91.0,95.0,95.0,95.0,87.0,91.0,98.0,93.0,null,100.0,91.0,99.0,98.0,96.0,93.0,99.0,89.0,92.0,98.0,92.0,99.0,99.0,99.0,91.0,89.0,98.0,95.0,94.0,95.0,98.0,99.0,98.0,92.0,100.0,97.0,97.0,100.0,94.0,96.0,96.0,99.0,97.0,97.0,98.0,87.0,94.0,95.0,100.0,94.0,97.0,null,95.0,93.0,95.0,89.0,90.0,85.0,98.0,97.0,93.0,83.0,88.0,88.0,92.0,97.0,87.0,94.0,99.0,99.0,90.0,94.0,90.0,89.0,99.0,94.0,92.0,94.0,97.0,null,95.0],\"type\":\"box\"},{\"boxmean\":true,\"boxpoints\":\"all\",\"marker\":{\"color\":\"darkviolet\"},\"name\":\"biochem\",\"y\":[95,91,95,95,95,88,95,88,95,95,95,95,88,95,88,95,95,95,95,95,95,95,95,95,95,91,88,95,91,95,88,75,95,78,95,91,95,91,91,78,80,90,91,91,98,97,95,86,100,100,92,92,92,84,81,99,83,93,91,96,99,96,97,89,100,100,95,99,96,98,88,98,92,100,100,100,94,99,96,100,96,92,98,97,97,97,99,97,95,98,94,97,96,97,94,98,98,100,98,95,95,93,98,98,94,95,91,94,93,98,90,100,89,86,94,96,95,94,91,98,100,94,87,90,97,96,92,90,94,99,98,93,94,93,93,100,95,90,97,97,97,97],\"type\":\"box\"},{\"boxmean\":true,\"boxpoints\":\"all\",\"marker\":{\"color\":\"limegreen\"},\"name\":\"General chemistry\",\"y\":[95,95,91,95,95,95,95,91,95,95,95,95,91,95,95,95,95,95,95,95,95,95,95,95,95,95,85,95,88,95,95,88,95,95,95,91,95,95,95,95,91,91,91,91,95,95,88,95,95,95,95,95,95,95,95,95,95,95,95,95,95,95,91,95,95,91,88,95,99,92,95,97,91,99,97,98,91,98,91,92,95,93,99,100,92,93,90,97,95,97,98,98,91,96,93,100,97,98,98,90,97,97,99,94,93,94,80,98,99,98,87,96,97,98,98,96,90,92,92,97,98,98,83,88,96,92,98,86,95,99,98,96,95,95,93,98,95,92,96,97,98,92],\"type\":\"box\"},{\"boxmean\":true,\"boxpoints\":\"all\",\"marker\":{\"color\":\"turquoise\"},\"name\":\"General chemistry I\",\"y\":[91,95,95,95,95,95,95,91,95,95,95,95,91,95,95,95,95,95,95,95,95,95,95,95,95,95,85,95,95,95,85,88,95,95,95,95,95,95,95,95,88,91,91,85,95,95,95,95,95,91,95,95,95,95,95,95,95,95,95,95,95,95,91,95,95,91,86,91,99,93,95,99,91,94,96,97,93,98,91,96,94,93,98,99,96,93,92,98,95,95,97,98,95,91,92,100,98,97,99,92,96,96,98,96,92,97,85,96,97,99,84,97,97,94,97,95,93,95,90,96,98,98,87,82,94,88,96,93,95,97,99,95,95,95,92,99,94,94,93,97,97,94],\"type\":\"box\"}],                        {\"template\":{\"data\":{\"bar\":[{\"error_x\":{\"color\":\"rgb(36,36,36)\"},\"error_y\":{\"color\":\"rgb(36,36,36)\"},\"marker\":{\"line\":{\"color\":\"rgb(234,234,242)\",\"width\":0.5},\"pattern\":{\"fillmode\":\"overlay\",\"size\":10,\"solidity\":0.2}},\"type\":\"bar\"}],\"barpolar\":[{\"marker\":{\"line\":{\"color\":\"rgb(234,234,242)\",\"width\":0.5},\"pattern\":{\"fillmode\":\"overlay\",\"size\":10,\"solidity\":0.2}},\"type\":\"barpolar\"}],\"carpet\":[{\"aaxis\":{\"endlinecolor\":\"rgb(36,36,36)\",\"gridcolor\":\"white\",\"linecolor\":\"white\",\"minorgridcolor\":\"white\",\"startlinecolor\":\"rgb(36,36,36)\"},\"baxis\":{\"endlinecolor\":\"rgb(36,36,36)\",\"gridcolor\":\"white\",\"linecolor\":\"white\",\"minorgridcolor\":\"white\",\"startlinecolor\":\"rgb(36,36,36)\"},\"type\":\"carpet\"}],\"choropleth\":[{\"colorbar\":{\"outlinewidth\":0,\"tickcolor\":\"rgb(36,36,36)\",\"ticklen\":8,\"ticks\":\"outside\",\"tickwidth\":2},\"type\":\"choropleth\"}],\"contour\":[{\"colorbar\":{\"outlinewidth\":0,\"tickcolor\":\"rgb(36,36,36)\",\"ticklen\":8,\"ticks\":\"outside\",\"tickwidth\":2},\"colorscale\":[[0.0,\"rgb(2,4,25)\"],[0.06274509803921569,\"rgb(24,15,41)\"],[0.12549019607843137,\"rgb(47,23,57)\"],[0.18823529411764706,\"rgb(71,28,72)\"],[0.25098039215686274,\"rgb(97,30,82)\"],[0.3137254901960784,\"rgb(123,30,89)\"],[0.3764705882352941,\"rgb(150,27,91)\"],[0.4392156862745098,\"rgb(177,22,88)\"],[0.5019607843137255,\"rgb(203,26,79)\"],[0.5647058823529412,\"rgb(223,47,67)\"],[0.6274509803921569,\"rgb(236,76,61)\"],[0.6901960784313725,\"rgb(242,107,73)\"],[0.7529411764705882,\"rgb(244,135,95)\"],[0.8156862745098039,\"rgb(245,162,122)\"],[0.8784313725490196,\"rgb(246,188,153)\"],[0.9411764705882353,\"rgb(247,212,187)\"],[1.0,\"rgb(250,234,220)\"]],\"type\":\"contour\"}],\"contourcarpet\":[{\"colorbar\":{\"outlinewidth\":0,\"tickcolor\":\"rgb(36,36,36)\",\"ticklen\":8,\"ticks\":\"outside\",\"tickwidth\":2},\"type\":\"contourcarpet\"}],\"heatmap\":[{\"colorbar\":{\"outlinewidth\":0,\"tickcolor\":\"rgb(36,36,36)\",\"ticklen\":8,\"ticks\":\"outside\",\"tickwidth\":2},\"colorscale\":[[0.0,\"rgb(2,4,25)\"],[0.06274509803921569,\"rgb(24,15,41)\"],[0.12549019607843137,\"rgb(47,23,57)\"],[0.18823529411764706,\"rgb(71,28,72)\"],[0.25098039215686274,\"rgb(97,30,82)\"],[0.3137254901960784,\"rgb(123,30,89)\"],[0.3764705882352941,\"rgb(150,27,91)\"],[0.4392156862745098,\"rgb(177,22,88)\"],[0.5019607843137255,\"rgb(203,26,79)\"],[0.5647058823529412,\"rgb(223,47,67)\"],[0.6274509803921569,\"rgb(236,76,61)\"],[0.6901960784313725,\"rgb(242,107,73)\"],[0.7529411764705882,\"rgb(244,135,95)\"],[0.8156862745098039,\"rgb(245,162,122)\"],[0.8784313725490196,\"rgb(246,188,153)\"],[0.9411764705882353,\"rgb(247,212,187)\"],[1.0,\"rgb(250,234,220)\"]],\"type\":\"heatmap\"}],\"heatmapgl\":[{\"colorbar\":{\"outlinewidth\":0,\"tickcolor\":\"rgb(36,36,36)\",\"ticklen\":8,\"ticks\":\"outside\",\"tickwidth\":2},\"colorscale\":[[0.0,\"rgb(2,4,25)\"],[0.06274509803921569,\"rgb(24,15,41)\"],[0.12549019607843137,\"rgb(47,23,57)\"],[0.18823529411764706,\"rgb(71,28,72)\"],[0.25098039215686274,\"rgb(97,30,82)\"],[0.3137254901960784,\"rgb(123,30,89)\"],[0.3764705882352941,\"rgb(150,27,91)\"],[0.4392156862745098,\"rgb(177,22,88)\"],[0.5019607843137255,\"rgb(203,26,79)\"],[0.5647058823529412,\"rgb(223,47,67)\"],[0.6274509803921569,\"rgb(236,76,61)\"],[0.6901960784313725,\"rgb(242,107,73)\"],[0.7529411764705882,\"rgb(244,135,95)\"],[0.8156862745098039,\"rgb(245,162,122)\"],[0.8784313725490196,\"rgb(246,188,153)\"],[0.9411764705882353,\"rgb(247,212,187)\"],[1.0,\"rgb(250,234,220)\"]],\"type\":\"heatmapgl\"}],\"histogram\":[{\"marker\":{\"pattern\":{\"fillmode\":\"overlay\",\"size\":10,\"solidity\":0.2}},\"type\":\"histogram\"}],\"histogram2d\":[{\"colorbar\":{\"outlinewidth\":0,\"tickcolor\":\"rgb(36,36,36)\",\"ticklen\":8,\"ticks\":\"outside\",\"tickwidth\":2},\"colorscale\":[[0.0,\"rgb(2,4,25)\"],[0.06274509803921569,\"rgb(24,15,41)\"],[0.12549019607843137,\"rgb(47,23,57)\"],[0.18823529411764706,\"rgb(71,28,72)\"],[0.25098039215686274,\"rgb(97,30,82)\"],[0.3137254901960784,\"rgb(123,30,89)\"],[0.3764705882352941,\"rgb(150,27,91)\"],[0.4392156862745098,\"rgb(177,22,88)\"],[0.5019607843137255,\"rgb(203,26,79)\"],[0.5647058823529412,\"rgb(223,47,67)\"],[0.6274509803921569,\"rgb(236,76,61)\"],[0.6901960784313725,\"rgb(242,107,73)\"],[0.7529411764705882,\"rgb(244,135,95)\"],[0.8156862745098039,\"rgb(245,162,122)\"],[0.8784313725490196,\"rgb(246,188,153)\"],[0.9411764705882353,\"rgb(247,212,187)\"],[1.0,\"rgb(250,234,220)\"]],\"type\":\"histogram2d\"}],\"histogram2dcontour\":[{\"colorbar\":{\"outlinewidth\":0,\"tickcolor\":\"rgb(36,36,36)\",\"ticklen\":8,\"ticks\":\"outside\",\"tickwidth\":2},\"colorscale\":[[0.0,\"rgb(2,4,25)\"],[0.06274509803921569,\"rgb(24,15,41)\"],[0.12549019607843137,\"rgb(47,23,57)\"],[0.18823529411764706,\"rgb(71,28,72)\"],[0.25098039215686274,\"rgb(97,30,82)\"],[0.3137254901960784,\"rgb(123,30,89)\"],[0.3764705882352941,\"rgb(150,27,91)\"],[0.4392156862745098,\"rgb(177,22,88)\"],[0.5019607843137255,\"rgb(203,26,79)\"],[0.5647058823529412,\"rgb(223,47,67)\"],[0.6274509803921569,\"rgb(236,76,61)\"],[0.6901960784313725,\"rgb(242,107,73)\"],[0.7529411764705882,\"rgb(244,135,95)\"],[0.8156862745098039,\"rgb(245,162,122)\"],[0.8784313725490196,\"rgb(246,188,153)\"],[0.9411764705882353,\"rgb(247,212,187)\"],[1.0,\"rgb(250,234,220)\"]],\"type\":\"histogram2dcontour\"}],\"mesh3d\":[{\"colorbar\":{\"outlinewidth\":0,\"tickcolor\":\"rgb(36,36,36)\",\"ticklen\":8,\"ticks\":\"outside\",\"tickwidth\":2},\"type\":\"mesh3d\"}],\"parcoords\":[{\"line\":{\"colorbar\":{\"outlinewidth\":0,\"tickcolor\":\"rgb(36,36,36)\",\"ticklen\":8,\"ticks\":\"outside\",\"tickwidth\":2}},\"type\":\"parcoords\"}],\"pie\":[{\"automargin\":true,\"type\":\"pie\"}],\"scatter\":[{\"marker\":{\"colorbar\":{\"outlinewidth\":0,\"tickcolor\":\"rgb(36,36,36)\",\"ticklen\":8,\"ticks\":\"outside\",\"tickwidth\":2}},\"type\":\"scatter\"}],\"scatter3d\":[{\"line\":{\"colorbar\":{\"outlinewidth\":0,\"tickcolor\":\"rgb(36,36,36)\",\"ticklen\":8,\"ticks\":\"outside\",\"tickwidth\":2}},\"marker\":{\"colorbar\":{\"outlinewidth\":0,\"tickcolor\":\"rgb(36,36,36)\",\"ticklen\":8,\"ticks\":\"outside\",\"tickwidth\":2}},\"type\":\"scatter3d\"}],\"scattercarpet\":[{\"marker\":{\"colorbar\":{\"outlinewidth\":0,\"tickcolor\":\"rgb(36,36,36)\",\"ticklen\":8,\"ticks\":\"outside\",\"tickwidth\":2}},\"type\":\"scattercarpet\"}],\"scattergeo\":[{\"marker\":{\"colorbar\":{\"outlinewidth\":0,\"tickcolor\":\"rgb(36,36,36)\",\"ticklen\":8,\"ticks\":\"outside\",\"tickwidth\":2}},\"type\":\"scattergeo\"}],\"scattergl\":[{\"marker\":{\"colorbar\":{\"outlinewidth\":0,\"tickcolor\":\"rgb(36,36,36)\",\"ticklen\":8,\"ticks\":\"outside\",\"tickwidth\":2}},\"type\":\"scattergl\"}],\"scattermapbox\":[{\"marker\":{\"colorbar\":{\"outlinewidth\":0,\"tickcolor\":\"rgb(36,36,36)\",\"ticklen\":8,\"ticks\":\"outside\",\"tickwidth\":2}},\"type\":\"scattermapbox\"}],\"scatterpolar\":[{\"marker\":{\"colorbar\":{\"outlinewidth\":0,\"tickcolor\":\"rgb(36,36,36)\",\"ticklen\":8,\"ticks\":\"outside\",\"tickwidth\":2}},\"type\":\"scatterpolar\"}],\"scatterpolargl\":[{\"marker\":{\"colorbar\":{\"outlinewidth\":0,\"tickcolor\":\"rgb(36,36,36)\",\"ticklen\":8,\"ticks\":\"outside\",\"tickwidth\":2}},\"type\":\"scatterpolargl\"}],\"scatterternary\":[{\"marker\":{\"colorbar\":{\"outlinewidth\":0,\"tickcolor\":\"rgb(36,36,36)\",\"ticklen\":8,\"ticks\":\"outside\",\"tickwidth\":2}},\"type\":\"scatterternary\"}],\"surface\":[{\"colorbar\":{\"outlinewidth\":0,\"tickcolor\":\"rgb(36,36,36)\",\"ticklen\":8,\"ticks\":\"outside\",\"tickwidth\":2},\"colorscale\":[[0.0,\"rgb(2,4,25)\"],[0.06274509803921569,\"rgb(24,15,41)\"],[0.12549019607843137,\"rgb(47,23,57)\"],[0.18823529411764706,\"rgb(71,28,72)\"],[0.25098039215686274,\"rgb(97,30,82)\"],[0.3137254901960784,\"rgb(123,30,89)\"],[0.3764705882352941,\"rgb(150,27,91)\"],[0.4392156862745098,\"rgb(177,22,88)\"],[0.5019607843137255,\"rgb(203,26,79)\"],[0.5647058823529412,\"rgb(223,47,67)\"],[0.6274509803921569,\"rgb(236,76,61)\"],[0.6901960784313725,\"rgb(242,107,73)\"],[0.7529411764705882,\"rgb(244,135,95)\"],[0.8156862745098039,\"rgb(245,162,122)\"],[0.8784313725490196,\"rgb(246,188,153)\"],[0.9411764705882353,\"rgb(247,212,187)\"],[1.0,\"rgb(250,234,220)\"]],\"type\":\"surface\"}],\"table\":[{\"cells\":{\"fill\":{\"color\":\"rgb(231,231,240)\"},\"line\":{\"color\":\"white\"}},\"header\":{\"fill\":{\"color\":\"rgb(183,183,191)\"},\"line\":{\"color\":\"white\"}},\"type\":\"table\"}]},\"layout\":{\"annotationdefaults\":{\"arrowcolor\":\"rgb(67,103,167)\"},\"autotypenumbers\":\"strict\",\"coloraxis\":{\"colorbar\":{\"outlinewidth\":0,\"tickcolor\":\"rgb(36,36,36)\",\"ticklen\":8,\"ticks\":\"outside\",\"tickwidth\":2}},\"colorscale\":{\"sequential\":[[0.0,\"rgb(2,4,25)\"],[0.06274509803921569,\"rgb(24,15,41)\"],[0.12549019607843137,\"rgb(47,23,57)\"],[0.18823529411764706,\"rgb(71,28,72)\"],[0.25098039215686274,\"rgb(97,30,82)\"],[0.3137254901960784,\"rgb(123,30,89)\"],[0.3764705882352941,\"rgb(150,27,91)\"],[0.4392156862745098,\"rgb(177,22,88)\"],[0.5019607843137255,\"rgb(203,26,79)\"],[0.5647058823529412,\"rgb(223,47,67)\"],[0.6274509803921569,\"rgb(236,76,61)\"],[0.6901960784313725,\"rgb(242,107,73)\"],[0.7529411764705882,\"rgb(244,135,95)\"],[0.8156862745098039,\"rgb(245,162,122)\"],[0.8784313725490196,\"rgb(246,188,153)\"],[0.9411764705882353,\"rgb(247,212,187)\"],[1.0,\"rgb(250,234,220)\"]],\"sequentialminus\":[[0.0,\"rgb(2,4,25)\"],[0.06274509803921569,\"rgb(24,15,41)\"],[0.12549019607843137,\"rgb(47,23,57)\"],[0.18823529411764706,\"rgb(71,28,72)\"],[0.25098039215686274,\"rgb(97,30,82)\"],[0.3137254901960784,\"rgb(123,30,89)\"],[0.3764705882352941,\"rgb(150,27,91)\"],[0.4392156862745098,\"rgb(177,22,88)\"],[0.5019607843137255,\"rgb(203,26,79)\"],[0.5647058823529412,\"rgb(223,47,67)\"],[0.6274509803921569,\"rgb(236,76,61)\"],[0.6901960784313725,\"rgb(242,107,73)\"],[0.7529411764705882,\"rgb(244,135,95)\"],[0.8156862745098039,\"rgb(245,162,122)\"],[0.8784313725490196,\"rgb(246,188,153)\"],[0.9411764705882353,\"rgb(247,212,187)\"],[1.0,\"rgb(250,234,220)\"]]},\"colorway\":[\"rgb(76,114,176)\",\"rgb(221,132,82)\",\"rgb(85,168,104)\",\"rgb(196,78,82)\",\"rgb(129,114,179)\",\"rgb(147,120,96)\",\"rgb(218,139,195)\",\"rgb(140,140,140)\",\"rgb(204,185,116)\",\"rgb(100,181,205)\"],\"font\":{\"color\":\"rgb(36,36,36)\"},\"geo\":{\"bgcolor\":\"white\",\"lakecolor\":\"white\",\"landcolor\":\"rgb(234,234,242)\",\"showlakes\":true,\"showland\":true,\"subunitcolor\":\"white\"},\"hoverlabel\":{\"align\":\"left\"},\"hovermode\":\"closest\",\"paper_bgcolor\":\"white\",\"plot_bgcolor\":\"rgb(234,234,242)\",\"polar\":{\"angularaxis\":{\"gridcolor\":\"white\",\"linecolor\":\"white\",\"showgrid\":true,\"ticks\":\"\"},\"bgcolor\":\"rgb(234,234,242)\",\"radialaxis\":{\"gridcolor\":\"white\",\"linecolor\":\"white\",\"showgrid\":true,\"ticks\":\"\"}},\"scene\":{\"xaxis\":{\"backgroundcolor\":\"rgb(234,234,242)\",\"gridcolor\":\"white\",\"gridwidth\":2,\"linecolor\":\"white\",\"showbackground\":true,\"showgrid\":true,\"ticks\":\"\",\"zerolinecolor\":\"white\"},\"yaxis\":{\"backgroundcolor\":\"rgb(234,234,242)\",\"gridcolor\":\"white\",\"gridwidth\":2,\"linecolor\":\"white\",\"showbackground\":true,\"showgrid\":true,\"ticks\":\"\",\"zerolinecolor\":\"white\"},\"zaxis\":{\"backgroundcolor\":\"rgb(234,234,242)\",\"gridcolor\":\"white\",\"gridwidth\":2,\"linecolor\":\"white\",\"showbackground\":true,\"showgrid\":true,\"ticks\":\"\",\"zerolinecolor\":\"white\"}},\"shapedefaults\":{\"fillcolor\":\"rgb(67,103,167)\",\"line\":{\"width\":0},\"opacity\":0.5},\"ternary\":{\"aaxis\":{\"gridcolor\":\"white\",\"linecolor\":\"white\",\"showgrid\":true,\"ticks\":\"\"},\"baxis\":{\"gridcolor\":\"white\",\"linecolor\":\"white\",\"showgrid\":true,\"ticks\":\"\"},\"bgcolor\":\"rgb(234,234,242)\",\"caxis\":{\"gridcolor\":\"white\",\"linecolor\":\"white\",\"showgrid\":true,\"ticks\":\"\"}},\"xaxis\":{\"automargin\":true,\"gridcolor\":\"white\",\"linecolor\":\"white\",\"showgrid\":true,\"ticks\":\"\",\"title\":{\"standoff\":15},\"zerolinecolor\":\"white\"},\"yaxis\":{\"automargin\":true,\"gridcolor\":\"white\",\"linecolor\":\"white\",\"showgrid\":true,\"ticks\":\"\",\"title\":{\"standoff\":15},\"zerolinecolor\":\"white\"}}},\"title\":{\"text\":\"Distribution of Post Bac Grades \"},\"xaxis\":{\"title\":{\"text\":\"Post Bac Courses\"}},\"yaxis\":{\"title\":{\"text\":\"Percents\"}}},                        {\"responsive\": true}                    ).then(function(){\n",
              "                            \n",
              "var gd = document.getElementById('98486595-7f3a-4dda-a916-e36d10c76425');\n",
              "var x = new MutationObserver(function (mutations, observer) {{\n",
              "        var display = window.getComputedStyle(gd).display;\n",
              "        if (!display || display === 'none') {{\n",
              "            console.log([gd, 'removed!']);\n",
              "            Plotly.purge(gd);\n",
              "            observer.disconnect();\n",
              "        }}\n",
              "}});\n",
              "\n",
              "// Listen for the removal of the full notebook cells\n",
              "var notebookContainer = gd.closest('#notebook-container');\n",
              "if (notebookContainer) {{\n",
              "    x.observe(notebookContainer, {childList: true});\n",
              "}}\n",
              "\n",
              "// Listen for the clearing of the current output cell\n",
              "var outputEl = gd.closest('.output');\n",
              "if (outputEl) {{\n",
              "    x.observe(outputEl, {childList: true});\n",
              "}}\n",
              "\n",
              "                        })                };                            </script>        </div>\n",
              "</body>\n",
              "</html>"
            ]
          },
          "metadata": {}
        }
      ]
    },
    {
      "cell_type": "markdown",
      "source": [
        "Biochem, General Chemistry and General Chemistry II have a good amount of outliers. "
      ],
      "metadata": {
        "id": "3nnJ6l8eyRXr"
      }
    },
    {
      "cell_type": "code",
      "source": [
        "best = MCAT.loc[0:155,['Final','MCAT_1','Diagnos','B1','B2','GC1','GC2','O1','O2','Biochem', 'P1', 'P2', ]]"
      ],
      "metadata": {
        "id": "WKHq3BZcra0F"
      },
      "execution_count": null,
      "outputs": []
    },
    {
      "cell_type": "code",
      "source": [
        "summary = best.describe()\n",
        "round(summary,2)"
      ],
      "metadata": {
        "colab": {
          "base_uri": "https://localhost:8080/",
          "height": 279
        },
        "id": "AO37Gt_HrfCu",
        "outputId": "b28a4418-78fe-4339-a2a4-e30eb595bafe"
      },
      "execution_count": null,
      "outputs": [
        {
          "output_type": "execute_result",
          "data": {
            "text/plain": [
              "        Final  MCAT_1  Diagnos      B1      B2     GC1     GC2      O1  \\\n",
              "count 141.00% 142.00%  114.00% 142.00% 142.00% 142.00% 142.00% 127.00%   \n",
              "mean  510.41% 509.61%  496.17%  93.29%  93.90%  94.38%  94.27%  92.22%   \n",
              "std     6.63%   7.30%    6.45%   3.52%   3.12%   3.30%   3.22%   5.30%   \n",
              "min   494.00% 490.00%  481.00%  78.00%  84.00%  80.00%  82.00%  72.00%   \n",
              "25%   506.00% 504.00%  492.25%  91.00%  92.00%  93.00%  93.25%  88.00%   \n",
              "50%   511.00% 510.00%  496.00%  94.00%  94.50%  95.00%  95.00%  94.00%   \n",
              "75%   515.00% 515.00%  500.00%  95.00%  96.00%  96.00%  95.75%  96.00%   \n",
              "max   525.00% 525.00%  518.00% 100.00% 100.00% 100.00% 100.00% 100.00%   \n",
              "\n",
              "           O2  Biochem      P1      P2  \n",
              "count 142.00%  142.00% 138.00% 138.00%  \n",
              "mean   91.64%   93.98%  94.38%  94.12%  \n",
              "std     5.15%    4.70%   3.78%   3.42%  \n",
              "min    75.00%   75.00%  84.00%  83.00%  \n",
              "25%    88.00%   92.00%  92.00%  92.00%  \n",
              "50%    93.00%   95.00%  95.00%  95.00%  \n",
              "75%    95.00%   97.00%  97.00%  95.00%  \n",
              "max   100.00%  100.00% 100.00% 100.00%  "
            ],
            "text/html": [
              "\n",
              "  <div id=\"df-f41107f9-a981-44ae-8426-221b76542235\">\n",
              "    <div class=\"colab-df-container\">\n",
              "      <div>\n",
              "<style scoped>\n",
              "    .dataframe tbody tr th:only-of-type {\n",
              "        vertical-align: middle;\n",
              "    }\n",
              "\n",
              "    .dataframe tbody tr th {\n",
              "        vertical-align: top;\n",
              "    }\n",
              "\n",
              "    .dataframe thead th {\n",
              "        text-align: right;\n",
              "    }\n",
              "</style>\n",
              "<table border=\"1\" class=\"dataframe\">\n",
              "  <thead>\n",
              "    <tr style=\"text-align: right;\">\n",
              "      <th></th>\n",
              "      <th>Final</th>\n",
              "      <th>MCAT_1</th>\n",
              "      <th>Diagnos</th>\n",
              "      <th>B1</th>\n",
              "      <th>B2</th>\n",
              "      <th>GC1</th>\n",
              "      <th>GC2</th>\n",
              "      <th>O1</th>\n",
              "      <th>O2</th>\n",
              "      <th>Biochem</th>\n",
              "      <th>P1</th>\n",
              "      <th>P2</th>\n",
              "    </tr>\n",
              "  </thead>\n",
              "  <tbody>\n",
              "    <tr>\n",
              "      <th>count</th>\n",
              "      <td>141.00%</td>\n",
              "      <td>142.00%</td>\n",
              "      <td>114.00%</td>\n",
              "      <td>142.00%</td>\n",
              "      <td>142.00%</td>\n",
              "      <td>142.00%</td>\n",
              "      <td>142.00%</td>\n",
              "      <td>127.00%</td>\n",
              "      <td>142.00%</td>\n",
              "      <td>142.00%</td>\n",
              "      <td>138.00%</td>\n",
              "      <td>138.00%</td>\n",
              "    </tr>\n",
              "    <tr>\n",
              "      <th>mean</th>\n",
              "      <td>510.41%</td>\n",
              "      <td>509.61%</td>\n",
              "      <td>496.17%</td>\n",
              "      <td>93.29%</td>\n",
              "      <td>93.90%</td>\n",
              "      <td>94.38%</td>\n",
              "      <td>94.27%</td>\n",
              "      <td>92.22%</td>\n",
              "      <td>91.64%</td>\n",
              "      <td>93.98%</td>\n",
              "      <td>94.38%</td>\n",
              "      <td>94.12%</td>\n",
              "    </tr>\n",
              "    <tr>\n",
              "      <th>std</th>\n",
              "      <td>6.63%</td>\n",
              "      <td>7.30%</td>\n",
              "      <td>6.45%</td>\n",
              "      <td>3.52%</td>\n",
              "      <td>3.12%</td>\n",
              "      <td>3.30%</td>\n",
              "      <td>3.22%</td>\n",
              "      <td>5.30%</td>\n",
              "      <td>5.15%</td>\n",
              "      <td>4.70%</td>\n",
              "      <td>3.78%</td>\n",
              "      <td>3.42%</td>\n",
              "    </tr>\n",
              "    <tr>\n",
              "      <th>min</th>\n",
              "      <td>494.00%</td>\n",
              "      <td>490.00%</td>\n",
              "      <td>481.00%</td>\n",
              "      <td>78.00%</td>\n",
              "      <td>84.00%</td>\n",
              "      <td>80.00%</td>\n",
              "      <td>82.00%</td>\n",
              "      <td>72.00%</td>\n",
              "      <td>75.00%</td>\n",
              "      <td>75.00%</td>\n",
              "      <td>84.00%</td>\n",
              "      <td>83.00%</td>\n",
              "    </tr>\n",
              "    <tr>\n",
              "      <th>25%</th>\n",
              "      <td>506.00%</td>\n",
              "      <td>504.00%</td>\n",
              "      <td>492.25%</td>\n",
              "      <td>91.00%</td>\n",
              "      <td>92.00%</td>\n",
              "      <td>93.00%</td>\n",
              "      <td>93.25%</td>\n",
              "      <td>88.00%</td>\n",
              "      <td>88.00%</td>\n",
              "      <td>92.00%</td>\n",
              "      <td>92.00%</td>\n",
              "      <td>92.00%</td>\n",
              "    </tr>\n",
              "    <tr>\n",
              "      <th>50%</th>\n",
              "      <td>511.00%</td>\n",
              "      <td>510.00%</td>\n",
              "      <td>496.00%</td>\n",
              "      <td>94.00%</td>\n",
              "      <td>94.50%</td>\n",
              "      <td>95.00%</td>\n",
              "      <td>95.00%</td>\n",
              "      <td>94.00%</td>\n",
              "      <td>93.00%</td>\n",
              "      <td>95.00%</td>\n",
              "      <td>95.00%</td>\n",
              "      <td>95.00%</td>\n",
              "    </tr>\n",
              "    <tr>\n",
              "      <th>75%</th>\n",
              "      <td>515.00%</td>\n",
              "      <td>515.00%</td>\n",
              "      <td>500.00%</td>\n",
              "      <td>95.00%</td>\n",
              "      <td>96.00%</td>\n",
              "      <td>96.00%</td>\n",
              "      <td>95.75%</td>\n",
              "      <td>96.00%</td>\n",
              "      <td>95.00%</td>\n",
              "      <td>97.00%</td>\n",
              "      <td>97.00%</td>\n",
              "      <td>95.00%</td>\n",
              "    </tr>\n",
              "    <tr>\n",
              "      <th>max</th>\n",
              "      <td>525.00%</td>\n",
              "      <td>525.00%</td>\n",
              "      <td>518.00%</td>\n",
              "      <td>100.00%</td>\n",
              "      <td>100.00%</td>\n",
              "      <td>100.00%</td>\n",
              "      <td>100.00%</td>\n",
              "      <td>100.00%</td>\n",
              "      <td>100.00%</td>\n",
              "      <td>100.00%</td>\n",
              "      <td>100.00%</td>\n",
              "      <td>100.00%</td>\n",
              "    </tr>\n",
              "  </tbody>\n",
              "</table>\n",
              "</div>\n",
              "      <button class=\"colab-df-convert\" onclick=\"convertToInteractive('df-f41107f9-a981-44ae-8426-221b76542235')\"\n",
              "              title=\"Convert this dataframe to an interactive table.\"\n",
              "              style=\"display:none;\">\n",
              "        \n",
              "  <svg xmlns=\"http://www.w3.org/2000/svg\" height=\"24px\"viewBox=\"0 0 24 24\"\n",
              "       width=\"24px\">\n",
              "    <path d=\"M0 0h24v24H0V0z\" fill=\"none\"/>\n",
              "    <path d=\"M18.56 5.44l.94 2.06.94-2.06 2.06-.94-2.06-.94-.94-2.06-.94 2.06-2.06.94zm-11 1L8.5 8.5l.94-2.06 2.06-.94-2.06-.94L8.5 2.5l-.94 2.06-2.06.94zm10 10l.94 2.06.94-2.06 2.06-.94-2.06-.94-.94-2.06-.94 2.06-2.06.94z\"/><path d=\"M17.41 7.96l-1.37-1.37c-.4-.4-.92-.59-1.43-.59-.52 0-1.04.2-1.43.59L10.3 9.45l-7.72 7.72c-.78.78-.78 2.05 0 2.83L4 21.41c.39.39.9.59 1.41.59.51 0 1.02-.2 1.41-.59l7.78-7.78 2.81-2.81c.8-.78.8-2.07 0-2.86zM5.41 20L4 18.59l7.72-7.72 1.47 1.35L5.41 20z\"/>\n",
              "  </svg>\n",
              "      </button>\n",
              "      \n",
              "  <style>\n",
              "    .colab-df-container {\n",
              "      display:flex;\n",
              "      flex-wrap:wrap;\n",
              "      gap: 12px;\n",
              "    }\n",
              "\n",
              "    .colab-df-convert {\n",
              "      background-color: #E8F0FE;\n",
              "      border: none;\n",
              "      border-radius: 50%;\n",
              "      cursor: pointer;\n",
              "      display: none;\n",
              "      fill: #1967D2;\n",
              "      height: 32px;\n",
              "      padding: 0 0 0 0;\n",
              "      width: 32px;\n",
              "    }\n",
              "\n",
              "    .colab-df-convert:hover {\n",
              "      background-color: #E2EBFA;\n",
              "      box-shadow: 0px 1px 2px rgba(60, 64, 67, 0.3), 0px 1px 3px 1px rgba(60, 64, 67, 0.15);\n",
              "      fill: #174EA6;\n",
              "    }\n",
              "\n",
              "    [theme=dark] .colab-df-convert {\n",
              "      background-color: #3B4455;\n",
              "      fill: #D2E3FC;\n",
              "    }\n",
              "\n",
              "    [theme=dark] .colab-df-convert:hover {\n",
              "      background-color: #434B5C;\n",
              "      box-shadow: 0px 1px 3px 1px rgba(0, 0, 0, 0.15);\n",
              "      filter: drop-shadow(0px 1px 2px rgba(0, 0, 0, 0.3));\n",
              "      fill: #FFFFFF;\n",
              "    }\n",
              "  </style>\n",
              "\n",
              "      <script>\n",
              "        const buttonEl =\n",
              "          document.querySelector('#df-f41107f9-a981-44ae-8426-221b76542235 button.colab-df-convert');\n",
              "        buttonEl.style.display =\n",
              "          google.colab.kernel.accessAllowed ? 'block' : 'none';\n",
              "\n",
              "        async function convertToInteractive(key) {\n",
              "          const element = document.querySelector('#df-f41107f9-a981-44ae-8426-221b76542235');\n",
              "          const dataTable =\n",
              "            await google.colab.kernel.invokeFunction('convertToInteractive',\n",
              "                                                     [key], {});\n",
              "          if (!dataTable) return;\n",
              "\n",
              "          const docLinkHtml = 'Like what you see? Visit the ' +\n",
              "            '<a target=\"_blank\" href=https://colab.research.google.com/notebooks/data_table.ipynb>data table notebook</a>'\n",
              "            + ' to learn more about interactive tables.';\n",
              "          element.innerHTML = '';\n",
              "          dataTable['output_type'] = 'display_data';\n",
              "          await google.colab.output.renderOutput(dataTable, element);\n",
              "          const docLink = document.createElement('div');\n",
              "          docLink.innerHTML = docLinkHtml;\n",
              "          element.appendChild(docLink);\n",
              "        }\n",
              "      </script>\n",
              "    </div>\n",
              "  </div>\n",
              "  "
            ]
          },
          "metadata": {},
          "execution_count": 178
        }
      ]
    },
    {
      "cell_type": "markdown",
      "source": [
        "###Correlations "
      ],
      "metadata": {
        "id": "p9os8Wic67ho"
      }
    },
    {
      "cell_type": "code",
      "source": [
        "correlations = best.corr()\n",
        "round(correlations,2)"
      ],
      "metadata": {
        "colab": {
          "base_uri": "https://localhost:8080/",
          "height": 365
        },
        "id": "TtQAlwZI6aEC",
        "outputId": "145b7937-4d85-45bf-ab21-ae7259dbd05c"
      },
      "execution_count": null,
      "outputs": [
        {
          "output_type": "execute_result",
          "data": {
            "text/plain": [
              "         Final  MCAT_1  Diagnos    B1    B2   GC1   GC2    O1    O2  Biochem  \\\n",
              "Final    1.00%   0.95%    0.39% 0.58% 0.43% 0.41% 0.38% 0.36% 0.48%    0.28%   \n",
              "MCAT_1   0.95%   1.00%    0.43% 0.61% 0.40% 0.43% 0.37% 0.38% 0.48%    0.27%   \n",
              "Diagnos  0.39%   0.43%    1.00% 0.42% 0.29% 0.26% 0.17% 0.30% 0.33%    0.16%   \n",
              "B1       0.58%   0.61%    0.42% 1.00% 0.57% 0.57% 0.54% 0.56% 0.63%    0.35%   \n",
              "B2       0.43%   0.40%    0.29% 0.57% 1.00% 0.38% 0.38% 0.43% 0.57%    0.50%   \n",
              "GC1      0.41%   0.43%    0.26% 0.57% 0.38% 1.00% 0.76% 0.56% 0.55%    0.34%   \n",
              "GC2      0.38%   0.37%    0.17% 0.54% 0.38% 0.76% 1.00% 0.56% 0.60%    0.37%   \n",
              "O1       0.36%   0.38%    0.30% 0.56% 0.43% 0.56% 0.56% 1.00% 0.77%    0.55%   \n",
              "O2       0.48%   0.48%    0.33% 0.63% 0.57% 0.55% 0.60% 0.77% 1.00%    0.65%   \n",
              "Biochem  0.28%   0.27%    0.16% 0.35% 0.50% 0.34% 0.37% 0.55% 0.65%    1.00%   \n",
              "P1       0.52%   0.56%    0.25% 0.58% 0.37% 0.76% 0.73% 0.56% 0.62%    0.41%   \n",
              "P2       0.39%   0.36%    0.18% 0.55% 0.38% 0.70% 0.65% 0.49% 0.64%    0.42%   \n",
              "\n",
              "           P1    P2  \n",
              "Final   0.52% 0.39%  \n",
              "MCAT_1  0.56% 0.36%  \n",
              "Diagnos 0.25% 0.18%  \n",
              "B1      0.58% 0.55%  \n",
              "B2      0.37% 0.38%  \n",
              "GC1     0.76% 0.70%  \n",
              "GC2     0.73% 0.65%  \n",
              "O1      0.56% 0.49%  \n",
              "O2      0.62% 0.64%  \n",
              "Biochem 0.41% 0.42%  \n",
              "P1      1.00% 0.71%  \n",
              "P2      0.71% 1.00%  "
            ],
            "text/html": [
              "\n",
              "  <div id=\"df-1ffd7bb9-9cbe-452d-a36e-4937009ea50c\">\n",
              "    <div class=\"colab-df-container\">\n",
              "      <div>\n",
              "<style scoped>\n",
              "    .dataframe tbody tr th:only-of-type {\n",
              "        vertical-align: middle;\n",
              "    }\n",
              "\n",
              "    .dataframe tbody tr th {\n",
              "        vertical-align: top;\n",
              "    }\n",
              "\n",
              "    .dataframe thead th {\n",
              "        text-align: right;\n",
              "    }\n",
              "</style>\n",
              "<table border=\"1\" class=\"dataframe\">\n",
              "  <thead>\n",
              "    <tr style=\"text-align: right;\">\n",
              "      <th></th>\n",
              "      <th>Final</th>\n",
              "      <th>MCAT_1</th>\n",
              "      <th>Diagnos</th>\n",
              "      <th>B1</th>\n",
              "      <th>B2</th>\n",
              "      <th>GC1</th>\n",
              "      <th>GC2</th>\n",
              "      <th>O1</th>\n",
              "      <th>O2</th>\n",
              "      <th>Biochem</th>\n",
              "      <th>P1</th>\n",
              "      <th>P2</th>\n",
              "    </tr>\n",
              "  </thead>\n",
              "  <tbody>\n",
              "    <tr>\n",
              "      <th>Final</th>\n",
              "      <td>1.00%</td>\n",
              "      <td>0.95%</td>\n",
              "      <td>0.39%</td>\n",
              "      <td>0.58%</td>\n",
              "      <td>0.43%</td>\n",
              "      <td>0.41%</td>\n",
              "      <td>0.38%</td>\n",
              "      <td>0.36%</td>\n",
              "      <td>0.48%</td>\n",
              "      <td>0.28%</td>\n",
              "      <td>0.52%</td>\n",
              "      <td>0.39%</td>\n",
              "    </tr>\n",
              "    <tr>\n",
              "      <th>MCAT_1</th>\n",
              "      <td>0.95%</td>\n",
              "      <td>1.00%</td>\n",
              "      <td>0.43%</td>\n",
              "      <td>0.61%</td>\n",
              "      <td>0.40%</td>\n",
              "      <td>0.43%</td>\n",
              "      <td>0.37%</td>\n",
              "      <td>0.38%</td>\n",
              "      <td>0.48%</td>\n",
              "      <td>0.27%</td>\n",
              "      <td>0.56%</td>\n",
              "      <td>0.36%</td>\n",
              "    </tr>\n",
              "    <tr>\n",
              "      <th>Diagnos</th>\n",
              "      <td>0.39%</td>\n",
              "      <td>0.43%</td>\n",
              "      <td>1.00%</td>\n",
              "      <td>0.42%</td>\n",
              "      <td>0.29%</td>\n",
              "      <td>0.26%</td>\n",
              "      <td>0.17%</td>\n",
              "      <td>0.30%</td>\n",
              "      <td>0.33%</td>\n",
              "      <td>0.16%</td>\n",
              "      <td>0.25%</td>\n",
              "      <td>0.18%</td>\n",
              "    </tr>\n",
              "    <tr>\n",
              "      <th>B1</th>\n",
              "      <td>0.58%</td>\n",
              "      <td>0.61%</td>\n",
              "      <td>0.42%</td>\n",
              "      <td>1.00%</td>\n",
              "      <td>0.57%</td>\n",
              "      <td>0.57%</td>\n",
              "      <td>0.54%</td>\n",
              "      <td>0.56%</td>\n",
              "      <td>0.63%</td>\n",
              "      <td>0.35%</td>\n",
              "      <td>0.58%</td>\n",
              "      <td>0.55%</td>\n",
              "    </tr>\n",
              "    <tr>\n",
              "      <th>B2</th>\n",
              "      <td>0.43%</td>\n",
              "      <td>0.40%</td>\n",
              "      <td>0.29%</td>\n",
              "      <td>0.57%</td>\n",
              "      <td>1.00%</td>\n",
              "      <td>0.38%</td>\n",
              "      <td>0.38%</td>\n",
              "      <td>0.43%</td>\n",
              "      <td>0.57%</td>\n",
              "      <td>0.50%</td>\n",
              "      <td>0.37%</td>\n",
              "      <td>0.38%</td>\n",
              "    </tr>\n",
              "    <tr>\n",
              "      <th>GC1</th>\n",
              "      <td>0.41%</td>\n",
              "      <td>0.43%</td>\n",
              "      <td>0.26%</td>\n",
              "      <td>0.57%</td>\n",
              "      <td>0.38%</td>\n",
              "      <td>1.00%</td>\n",
              "      <td>0.76%</td>\n",
              "      <td>0.56%</td>\n",
              "      <td>0.55%</td>\n",
              "      <td>0.34%</td>\n",
              "      <td>0.76%</td>\n",
              "      <td>0.70%</td>\n",
              "    </tr>\n",
              "    <tr>\n",
              "      <th>GC2</th>\n",
              "      <td>0.38%</td>\n",
              "      <td>0.37%</td>\n",
              "      <td>0.17%</td>\n",
              "      <td>0.54%</td>\n",
              "      <td>0.38%</td>\n",
              "      <td>0.76%</td>\n",
              "      <td>1.00%</td>\n",
              "      <td>0.56%</td>\n",
              "      <td>0.60%</td>\n",
              "      <td>0.37%</td>\n",
              "      <td>0.73%</td>\n",
              "      <td>0.65%</td>\n",
              "    </tr>\n",
              "    <tr>\n",
              "      <th>O1</th>\n",
              "      <td>0.36%</td>\n",
              "      <td>0.38%</td>\n",
              "      <td>0.30%</td>\n",
              "      <td>0.56%</td>\n",
              "      <td>0.43%</td>\n",
              "      <td>0.56%</td>\n",
              "      <td>0.56%</td>\n",
              "      <td>1.00%</td>\n",
              "      <td>0.77%</td>\n",
              "      <td>0.55%</td>\n",
              "      <td>0.56%</td>\n",
              "      <td>0.49%</td>\n",
              "    </tr>\n",
              "    <tr>\n",
              "      <th>O2</th>\n",
              "      <td>0.48%</td>\n",
              "      <td>0.48%</td>\n",
              "      <td>0.33%</td>\n",
              "      <td>0.63%</td>\n",
              "      <td>0.57%</td>\n",
              "      <td>0.55%</td>\n",
              "      <td>0.60%</td>\n",
              "      <td>0.77%</td>\n",
              "      <td>1.00%</td>\n",
              "      <td>0.65%</td>\n",
              "      <td>0.62%</td>\n",
              "      <td>0.64%</td>\n",
              "    </tr>\n",
              "    <tr>\n",
              "      <th>Biochem</th>\n",
              "      <td>0.28%</td>\n",
              "      <td>0.27%</td>\n",
              "      <td>0.16%</td>\n",
              "      <td>0.35%</td>\n",
              "      <td>0.50%</td>\n",
              "      <td>0.34%</td>\n",
              "      <td>0.37%</td>\n",
              "      <td>0.55%</td>\n",
              "      <td>0.65%</td>\n",
              "      <td>1.00%</td>\n",
              "      <td>0.41%</td>\n",
              "      <td>0.42%</td>\n",
              "    </tr>\n",
              "    <tr>\n",
              "      <th>P1</th>\n",
              "      <td>0.52%</td>\n",
              "      <td>0.56%</td>\n",
              "      <td>0.25%</td>\n",
              "      <td>0.58%</td>\n",
              "      <td>0.37%</td>\n",
              "      <td>0.76%</td>\n",
              "      <td>0.73%</td>\n",
              "      <td>0.56%</td>\n",
              "      <td>0.62%</td>\n",
              "      <td>0.41%</td>\n",
              "      <td>1.00%</td>\n",
              "      <td>0.71%</td>\n",
              "    </tr>\n",
              "    <tr>\n",
              "      <th>P2</th>\n",
              "      <td>0.39%</td>\n",
              "      <td>0.36%</td>\n",
              "      <td>0.18%</td>\n",
              "      <td>0.55%</td>\n",
              "      <td>0.38%</td>\n",
              "      <td>0.70%</td>\n",
              "      <td>0.65%</td>\n",
              "      <td>0.49%</td>\n",
              "      <td>0.64%</td>\n",
              "      <td>0.42%</td>\n",
              "      <td>0.71%</td>\n",
              "      <td>1.00%</td>\n",
              "    </tr>\n",
              "  </tbody>\n",
              "</table>\n",
              "</div>\n",
              "      <button class=\"colab-df-convert\" onclick=\"convertToInteractive('df-1ffd7bb9-9cbe-452d-a36e-4937009ea50c')\"\n",
              "              title=\"Convert this dataframe to an interactive table.\"\n",
              "              style=\"display:none;\">\n",
              "        \n",
              "  <svg xmlns=\"http://www.w3.org/2000/svg\" height=\"24px\"viewBox=\"0 0 24 24\"\n",
              "       width=\"24px\">\n",
              "    <path d=\"M0 0h24v24H0V0z\" fill=\"none\"/>\n",
              "    <path d=\"M18.56 5.44l.94 2.06.94-2.06 2.06-.94-2.06-.94-.94-2.06-.94 2.06-2.06.94zm-11 1L8.5 8.5l.94-2.06 2.06-.94-2.06-.94L8.5 2.5l-.94 2.06-2.06.94zm10 10l.94 2.06.94-2.06 2.06-.94-2.06-.94-.94-2.06-.94 2.06-2.06.94z\"/><path d=\"M17.41 7.96l-1.37-1.37c-.4-.4-.92-.59-1.43-.59-.52 0-1.04.2-1.43.59L10.3 9.45l-7.72 7.72c-.78.78-.78 2.05 0 2.83L4 21.41c.39.39.9.59 1.41.59.51 0 1.02-.2 1.41-.59l7.78-7.78 2.81-2.81c.8-.78.8-2.07 0-2.86zM5.41 20L4 18.59l7.72-7.72 1.47 1.35L5.41 20z\"/>\n",
              "  </svg>\n",
              "      </button>\n",
              "      \n",
              "  <style>\n",
              "    .colab-df-container {\n",
              "      display:flex;\n",
              "      flex-wrap:wrap;\n",
              "      gap: 12px;\n",
              "    }\n",
              "\n",
              "    .colab-df-convert {\n",
              "      background-color: #E8F0FE;\n",
              "      border: none;\n",
              "      border-radius: 50%;\n",
              "      cursor: pointer;\n",
              "      display: none;\n",
              "      fill: #1967D2;\n",
              "      height: 32px;\n",
              "      padding: 0 0 0 0;\n",
              "      width: 32px;\n",
              "    }\n",
              "\n",
              "    .colab-df-convert:hover {\n",
              "      background-color: #E2EBFA;\n",
              "      box-shadow: 0px 1px 2px rgba(60, 64, 67, 0.3), 0px 1px 3px 1px rgba(60, 64, 67, 0.15);\n",
              "      fill: #174EA6;\n",
              "    }\n",
              "\n",
              "    [theme=dark] .colab-df-convert {\n",
              "      background-color: #3B4455;\n",
              "      fill: #D2E3FC;\n",
              "    }\n",
              "\n",
              "    [theme=dark] .colab-df-convert:hover {\n",
              "      background-color: #434B5C;\n",
              "      box-shadow: 0px 1px 3px 1px rgba(0, 0, 0, 0.15);\n",
              "      filter: drop-shadow(0px 1px 2px rgba(0, 0, 0, 0.3));\n",
              "      fill: #FFFFFF;\n",
              "    }\n",
              "  </style>\n",
              "\n",
              "      <script>\n",
              "        const buttonEl =\n",
              "          document.querySelector('#df-1ffd7bb9-9cbe-452d-a36e-4937009ea50c button.colab-df-convert');\n",
              "        buttonEl.style.display =\n",
              "          google.colab.kernel.accessAllowed ? 'block' : 'none';\n",
              "\n",
              "        async function convertToInteractive(key) {\n",
              "          const element = document.querySelector('#df-1ffd7bb9-9cbe-452d-a36e-4937009ea50c');\n",
              "          const dataTable =\n",
              "            await google.colab.kernel.invokeFunction('convertToInteractive',\n",
              "                                                     [key], {});\n",
              "          if (!dataTable) return;\n",
              "\n",
              "          const docLinkHtml = 'Like what you see? Visit the ' +\n",
              "            '<a target=\"_blank\" href=https://colab.research.google.com/notebooks/data_table.ipynb>data table notebook</a>'\n",
              "            + ' to learn more about interactive tables.';\n",
              "          element.innerHTML = '';\n",
              "          dataTable['output_type'] = 'display_data';\n",
              "          await google.colab.output.renderOutput(dataTable, element);\n",
              "          const docLink = document.createElement('div');\n",
              "          docLink.innerHTML = docLinkHtml;\n",
              "          element.appendChild(docLink);\n",
              "        }\n",
              "      </script>\n",
              "    </div>\n",
              "  </div>\n",
              "  "
            ]
          },
          "metadata": {},
          "execution_count": 179
        }
      ]
    },
    {
      "cell_type": "markdown",
      "source": [
        "General Chemistry II is higly correlated > .7 with general chemistry I and Physics 1. Physics II is highly correlated >.7 with GC1,GC2 and Physics II. "
      ],
      "metadata": {
        "id": "a1tNYL5-62AK"
      }
    },
    {
      "cell_type": "markdown",
      "source": [
        "####Heatmap"
      ],
      "metadata": {
        "id": "9yjJh5da6-ow"
      }
    },
    {
      "cell_type": "code",
      "source": [
        "plt.figure(figsize=(12, 10), dpi=80)\n",
        "sns.heatmap(\n",
        "    best.corr(),\n",
        "    xticklabels=best.corr().columns,\n",
        "    yticklabels=best.corr().columns,\n",
        "    cmap='hsv',\n",
        "    center=1,\n",
        "    annot=True,\n",
        "    annot_kws={\n",
        "        'size': 12,\n",
        "        'weight': 'normal',\n",
        "        'color': '#050505'\n",
        "    },\n",
        ")\n",
        "\n",
        "plt.show()"
      ],
      "metadata": {
        "colab": {
          "base_uri": "https://localhost:8080/",
          "height": 655
        },
        "id": "I0ikrVAv6wuA",
        "outputId": "e99732f2-4346-435d-9fa2-af0ca15ec8d5"
      },
      "execution_count": null,
      "outputs": [
        {
          "output_type": "display_data",
          "data": {
            "text/plain": [
              "<Figure size 960x800 with 2 Axes>"
            ],
            "image/png": "[encoded data removed]"
          },
          "metadata": {}
        }
      ]
    },
    {
      "cell_type": "markdown",
      "source": [
        "Biology I and Physics I have the strongest linear correlation with final MCAT scores. "
      ],
      "metadata": {
        "id": "osL6VPb-JQYg"
      }
    },
    {
      "cell_type": "markdown",
      "source": [
        "###Scatter Plot "
      ],
      "metadata": {
        "id": "bqu0ryu0rxu4"
      }
    },
    {
      "cell_type": "code",
      "source": [
        "average = go.Figure()\n",
        "\n",
        "average.add_trace(go.Scatter(\n",
        "    x=MCAT.B1,\n",
        "    y=MCAT.Final,\n",
        "    text=MCAT.Final,\n",
        "    name='Biology I',\n",
        "    mode='markers',\n",
        "    marker={'color':'green'}\n",
        "))\n",
        "\n",
        "average.add_trace(go.Scatter(\n",
        "    x=MCAT.B2,\n",
        "    y=MCAT.Final,\n",
        "    mode='markers',\n",
        "    name='Biology II',\n",
        "    marker={'color':'yellow'}\n",
        "))\n",
        "\n",
        "average.add_trace(go.Scatter(\n",
        "    x=MCAT.GC1,\n",
        "    y=MCAT.Final,\n",
        "    mode='markers',\n",
        "    name='General Chemistry I',\n",
        "    marker={'color':'blue'}\n",
        "))\n",
        "\n",
        "average.add_trace(go.Scatter(\n",
        "    x=MCAT.GC1,\n",
        "    y=MCAT.Final,\n",
        "    mode='markers',\n",
        "    name='General Chemistry I',\n",
        "    marker={'color':'orange'}\n",
        "))\n",
        "\n",
        "average.add_trace(go.Scatter(\n",
        "    x=MCAT.O2,\n",
        "    y=MCAT.Final,\n",
        "    mode='markers',\n",
        "    name='Organic Chemistry I',\n",
        "    marker={'color':'hotpink'}\n",
        "))\n",
        "\n",
        "average.add_trace(go.Scatter(\n",
        "    x=MCAT.GC2,\n",
        "    y=MCAT.Final,\n",
        "    mode='markers',\n",
        "    name='Organic Chemistry II',\n",
        "    marker={'color':'black'}\n",
        "))\n",
        "\n",
        "average.add_trace(go.Scatter(\n",
        "    x=MCAT.P1,\n",
        "    y=MCAT.Final,\n",
        "    mode='markers',\n",
        "    name='Physics I',\n",
        "    marker={'color':'Grey'}\n",
        "))\n",
        "\n",
        "average.add_trace(go.Scatter(\n",
        "    x=MCAT.P2,\n",
        "    y=MCAT.Final,\n",
        "    mode='markers',\n",
        "    name='Physics II',\n",
        "    marker={'color':'Purple'}\n",
        "))\n",
        "\n",
        "average.add_trace(go.Scatter(\n",
        "    x=MCAT.Biochem,\n",
        "    y=MCAT.Final,\n",
        "    text=MCAT.Final,\n",
        "    name='Biochemistry',\n",
        "    mode='markers',\n",
        "    marker={'color':'mediumaquamarine'}\n",
        "))\n",
        "\n",
        "\n",
        "\n",
        "average.update_layout(title = 'Final MCAT Scores by Post Bac Undergraduate GPAs',\n",
        "xaxis=dict(title='Course Grades'),\n",
        "yaxis=dict(title='Final MCAT scores'))\n",
        "\n",
        "average.update_layout(\n",
        "    autosize=False,\n",
        "    width=1300,\n",
        "    height=800,\n",
        ")\n",
        "\n",
        "average.show()"
      ],
      "metadata": {
        "colab": {
          "base_uri": "https://localhost:8080/",
          "height": 817
        },
        "id": "KzEo5ELlrvT6",
        "outputId": "0db915fc-a15b-4a83-8135-61807c8f7c79"
      },
      "execution_count": null,
      "outputs": [
        {
          "output_type": "display_data",
          "data": {
            "text/html": [
              "<html>\n",
              "<head><meta charset=\"utf-8\" /></head>\n",
              "<body>\n",
              "    <div>            <script src=\"https://cdnjs.cloudflare.com/ajax/libs/mathjax/2.7.5/MathJax.js?config=TeX-AMS-MML_SVG\"></script><script type=\"text/javascript\">if (window.MathJax) {MathJax.Hub.Config({SVG: {font: \"STIX-Web\"}});}</script>                <script type=\"text/javascript\">window.PlotlyConfig = {MathJaxConfig: 'local'};</script>\n",
              "        <script src=\"https://cdn.plot.ly/plotly-2.8.3.min.js\"></script>                <div id=\"5efae3f3-dcbe-451f-bee0-fadb400585ce\" class=\"plotly-graph-div\" style=\"height:800px; width:1300px;\"></div>            <script type=\"text/javascript\">                                    window.PLOTLYENV=window.PLOTLYENV || {};                                    if (document.getElementById(\"5efae3f3-dcbe-451f-bee0-fadb400585ce\")) {                    Plotly.newPlot(                        \"5efae3f3-dcbe-451f-bee0-fadb400585ce\",                        [{\"marker\":{\"color\":\"green\"},\"mode\":\"markers\",\"name\":\"Biology I\",\"text\":[524.0,510.0,513.0,515.0,508.0,508.0,513.0,504.0,513.0,500.0,514.0,511.0,509.0,510.0,499.0,520.0,502.0,514.0,513.0,509.0,512.0,511.0,517.0,512.0,508.0,517.0,511.0,514.0,510.0,517.0,514.0,505.0,516.0,502.0,505.0,510.0,521.0,512.0,504.0,506.0,505.0,509.0,512.0,511.0,510.0,516.0,505.0,516.0,519.0,515.0,510.0,502.0,520.0,504.0,510.0,525.0,511.0,503.0,515.0,520.0,519.0,514.0,511.0,504.0,520.0,511.0,494.0,504.0,514.0,508.0,522.0,509.0,506.0,510.0,510.0,512.0,501.0,518.0,502.0,506.0,512.0,501.0,510.0,525.0,506.0,500.0,499.0,511.0,515.0,510.0,510.0,515.0,506.0,515.0,503.0,506.0,512.0,516.0,511.0,506.0,506.0,510.0,509.0,503.0,499.0,null,496.0,509.0,500.0,511.0,496.0,518.0,517.0,508.0,513.0,519.0,515.0,518.0,495.0,510.0,510.0,518.0,514.0,498.0,506.0,509.0,511.0,500.0,518.0,521.0,520.0,512.0,502.0,512.0,498.0,517.0,518.0,509.0,512.0,519.0,521.0,516.0],\"x\":[95,95,95,95,95,95,95,91,95,98,93,93,94,91,89,95,91,91,91,94,96,83,95,91,90,93,90,98,91,93,90,91,93,91,90,95,99,96,94,90,91,91,94,95,95,94,90,95,96,97,93,89,95,88,92,97,93,97,93,96,96,92,94,91,97,95,78,88,95,91,95,95,91,95,91,95,91,95,88,91,91,88,95,95,88,88,91,95,91,91,95,98,95,94,88,100,98,97,98,89,94,97,97,94,91,94,86,95,95,98,92,98,94,90,95,95,92,96,92,94,99,93,87,86,93,94,94,87,98,98,100,95,94,90,87,98,96,90,96,100,99,94],\"y\":[524.0,510.0,513.0,515.0,508.0,508.0,513.0,504.0,513.0,500.0,514.0,511.0,509.0,510.0,499.0,520.0,502.0,514.0,513.0,509.0,512.0,511.0,517.0,512.0,508.0,517.0,511.0,514.0,510.0,517.0,514.0,505.0,516.0,502.0,505.0,510.0,521.0,512.0,504.0,506.0,505.0,509.0,512.0,511.0,510.0,516.0,505.0,516.0,519.0,515.0,510.0,502.0,520.0,504.0,510.0,525.0,511.0,503.0,515.0,520.0,519.0,514.0,511.0,504.0,520.0,511.0,494.0,504.0,514.0,508.0,522.0,509.0,506.0,510.0,510.0,512.0,501.0,518.0,502.0,506.0,512.0,501.0,510.0,525.0,506.0,500.0,499.0,511.0,515.0,510.0,510.0,515.0,506.0,515.0,503.0,506.0,512.0,516.0,511.0,506.0,506.0,510.0,509.0,503.0,499.0,null,496.0,509.0,500.0,511.0,496.0,518.0,517.0,508.0,513.0,519.0,515.0,518.0,495.0,510.0,510.0,518.0,514.0,498.0,506.0,509.0,511.0,500.0,518.0,521.0,520.0,512.0,502.0,512.0,498.0,517.0,518.0,509.0,512.0,519.0,521.0,516.0],\"type\":\"scatter\"},{\"marker\":{\"color\":\"yellow\"},\"mode\":\"markers\",\"name\":\"Biology II\",\"x\":[97,95,95,95,97,94,94,94,100,94,93,93,94,96,96,94,93,95,95,96,100,94,95,97,97,93,90,99,97,95,94,89,95,84,93,95,97,95,92,91,91,93,92,91,94,97,95,92,94,96,96,92,97,90,84,96,89,94,87,94,94,95,91,93,97,96,88,91,91,95,95,95,88,95,88,95,88,95,88,95,95,85,95,95,95,91,91,91,91,91,95,99,96,92,91,96,96,98,96,92,95,95,95,95,94,90,91,97,94,96,92,97,91,92,97,95,93,94,92,94,100,95,91,92,100,96,95,87,94,96,98,94,93,91,93,100,98,93,96,98,99,96],\"y\":[524.0,510.0,513.0,515.0,508.0,508.0,513.0,504.0,513.0,500.0,514.0,511.0,509.0,510.0,499.0,520.0,502.0,514.0,513.0,509.0,512.0,511.0,517.0,512.0,508.0,517.0,511.0,514.0,510.0,517.0,514.0,505.0,516.0,502.0,505.0,510.0,521.0,512.0,504.0,506.0,505.0,509.0,512.0,511.0,510.0,516.0,505.0,516.0,519.0,515.0,510.0,502.0,520.0,504.0,510.0,525.0,511.0,503.0,515.0,520.0,519.0,514.0,511.0,504.0,520.0,511.0,494.0,504.0,514.0,508.0,522.0,509.0,506.0,510.0,510.0,512.0,501.0,518.0,502.0,506.0,512.0,501.0,510.0,525.0,506.0,500.0,499.0,511.0,515.0,510.0,510.0,515.0,506.0,515.0,503.0,506.0,512.0,516.0,511.0,506.0,506.0,510.0,509.0,503.0,499.0,null,496.0,509.0,500.0,511.0,496.0,518.0,517.0,508.0,513.0,519.0,515.0,518.0,495.0,510.0,510.0,518.0,514.0,498.0,506.0,509.0,511.0,500.0,518.0,521.0,520.0,512.0,502.0,512.0,498.0,517.0,518.0,509.0,512.0,519.0,521.0,516.0],\"type\":\"scatter\"},{\"marker\":{\"color\":\"blue\"},\"mode\":\"markers\",\"name\":\"General Chemistry I\",\"x\":[95,95,91,95,95,95,95,91,95,95,95,95,91,95,95,95,95,95,95,95,95,95,95,95,95,95,85,95,88,95,95,88,95,95,95,91,95,95,95,95,91,91,91,91,95,95,88,95,95,95,95,95,95,95,95,95,95,95,95,95,95,95,91,95,95,91,88,95,99,92,95,97,91,99,97,98,91,98,91,92,95,93,99,100,92,93,90,97,95,97,98,98,91,96,93,100,97,98,98,90,97,97,99,94,93,94,80,98,99,98,87,96,97,98,98,96,90,92,92,97,98,98,83,88,96,92,98,86,95,99,98,96,95,95,93,98,95,92,96,97,98,92],\"y\":[524.0,510.0,513.0,515.0,508.0,508.0,513.0,504.0,513.0,500.0,514.0,511.0,509.0,510.0,499.0,520.0,502.0,514.0,513.0,509.0,512.0,511.0,517.0,512.0,508.0,517.0,511.0,514.0,510.0,517.0,514.0,505.0,516.0,502.0,505.0,510.0,521.0,512.0,504.0,506.0,505.0,509.0,512.0,511.0,510.0,516.0,505.0,516.0,519.0,515.0,510.0,502.0,520.0,504.0,510.0,525.0,511.0,503.0,515.0,520.0,519.0,514.0,511.0,504.0,520.0,511.0,494.0,504.0,514.0,508.0,522.0,509.0,506.0,510.0,510.0,512.0,501.0,518.0,502.0,506.0,512.0,501.0,510.0,525.0,506.0,500.0,499.0,511.0,515.0,510.0,510.0,515.0,506.0,515.0,503.0,506.0,512.0,516.0,511.0,506.0,506.0,510.0,509.0,503.0,499.0,null,496.0,509.0,500.0,511.0,496.0,518.0,517.0,508.0,513.0,519.0,515.0,518.0,495.0,510.0,510.0,518.0,514.0,498.0,506.0,509.0,511.0,500.0,518.0,521.0,520.0,512.0,502.0,512.0,498.0,517.0,518.0,509.0,512.0,519.0,521.0,516.0],\"type\":\"scatter\"},{\"marker\":{\"color\":\"orange\"},\"mode\":\"markers\",\"name\":\"General Chemistry I\",\"x\":[95,95,91,95,95,95,95,91,95,95,95,95,91,95,95,95,95,95,95,95,95,95,95,95,95,95,85,95,88,95,95,88,95,95,95,91,95,95,95,95,91,91,91,91,95,95,88,95,95,95,95,95,95,95,95,95,95,95,95,95,95,95,91,95,95,91,88,95,99,92,95,97,91,99,97,98,91,98,91,92,95,93,99,100,92,93,90,97,95,97,98,98,91,96,93,100,97,98,98,90,97,97,99,94,93,94,80,98,99,98,87,96,97,98,98,96,90,92,92,97,98,98,83,88,96,92,98,86,95,99,98,96,95,95,93,98,95,92,96,97,98,92],\"y\":[524.0,510.0,513.0,515.0,508.0,508.0,513.0,504.0,513.0,500.0,514.0,511.0,509.0,510.0,499.0,520.0,502.0,514.0,513.0,509.0,512.0,511.0,517.0,512.0,508.0,517.0,511.0,514.0,510.0,517.0,514.0,505.0,516.0,502.0,505.0,510.0,521.0,512.0,504.0,506.0,505.0,509.0,512.0,511.0,510.0,516.0,505.0,516.0,519.0,515.0,510.0,502.0,520.0,504.0,510.0,525.0,511.0,503.0,515.0,520.0,519.0,514.0,511.0,504.0,520.0,511.0,494.0,504.0,514.0,508.0,522.0,509.0,506.0,510.0,510.0,512.0,501.0,518.0,502.0,506.0,512.0,501.0,510.0,525.0,506.0,500.0,499.0,511.0,515.0,510.0,510.0,515.0,506.0,515.0,503.0,506.0,512.0,516.0,511.0,506.0,506.0,510.0,509.0,503.0,499.0,null,496.0,509.0,500.0,511.0,496.0,518.0,517.0,508.0,513.0,519.0,515.0,518.0,495.0,510.0,510.0,518.0,514.0,498.0,506.0,509.0,511.0,500.0,518.0,521.0,520.0,512.0,502.0,512.0,498.0,517.0,518.0,509.0,512.0,519.0,521.0,516.0],\"type\":\"scatter\"},{\"marker\":{\"color\":\"hotpink\"},\"mode\":\"markers\",\"name\":\"Organic Chemistry I\",\"x\":[95,91,88,95,91,88,95,85,95,85,95,95,85,88,88,95,82,91,95,95,91,82,95,91,95,95,91,95,88,95,78,78,95,75,85,95,95,95,85,88,85,85,88,85,91,95,85,91,95,91,91,85,95,85,85,95,85,95,95,88,95,91,91,85,95,95,80,91,95,91,85,95,84,96,93,95,91,95,90,93,94,87,95,94,96,90,87,92,91,93,93,100,94,94,90,99,99,98,100,90,94,93,96,98,90,97,86,98,94,99,82,100,93,91,94,100,91,91,87,97,100,93,80,86,96,92,94,85,94,99,100,88,96,88,88,100,91,93,96,97,95,95],\"y\":[524.0,510.0,513.0,515.0,508.0,508.0,513.0,504.0,513.0,500.0,514.0,511.0,509.0,510.0,499.0,520.0,502.0,514.0,513.0,509.0,512.0,511.0,517.0,512.0,508.0,517.0,511.0,514.0,510.0,517.0,514.0,505.0,516.0,502.0,505.0,510.0,521.0,512.0,504.0,506.0,505.0,509.0,512.0,511.0,510.0,516.0,505.0,516.0,519.0,515.0,510.0,502.0,520.0,504.0,510.0,525.0,511.0,503.0,515.0,520.0,519.0,514.0,511.0,504.0,520.0,511.0,494.0,504.0,514.0,508.0,522.0,509.0,506.0,510.0,510.0,512.0,501.0,518.0,502.0,506.0,512.0,501.0,510.0,525.0,506.0,500.0,499.0,511.0,515.0,510.0,510.0,515.0,506.0,515.0,503.0,506.0,512.0,516.0,511.0,506.0,506.0,510.0,509.0,503.0,499.0,null,496.0,509.0,500.0,511.0,496.0,518.0,517.0,508.0,513.0,519.0,515.0,518.0,495.0,510.0,510.0,518.0,514.0,498.0,506.0,509.0,511.0,500.0,518.0,521.0,520.0,512.0,502.0,512.0,498.0,517.0,518.0,509.0,512.0,519.0,521.0,516.0],\"type\":\"scatter\"},{\"marker\":{\"color\":\"black\"},\"mode\":\"markers\",\"name\":\"Organic Chemistry II\",\"x\":[91,95,95,95,95,95,95,91,95,95,95,95,91,95,95,95,95,95,95,95,95,95,95,95,95,95,85,95,95,95,85,88,95,95,95,95,95,95,95,95,88,91,91,85,95,95,95,95,95,91,95,95,95,95,95,95,95,95,95,95,95,95,91,95,95,91,86,91,99,93,95,99,91,94,96,97,93,98,91,96,94,93,98,99,96,93,92,98,95,95,97,98,95,91,92,100,98,97,99,92,96,96,98,96,92,97,85,96,97,99,84,97,97,94,97,95,93,95,90,96,98,98,87,82,94,88,96,93,95,97,99,95,95,95,92,99,94,94,93,97,97,94],\"y\":[524.0,510.0,513.0,515.0,508.0,508.0,513.0,504.0,513.0,500.0,514.0,511.0,509.0,510.0,499.0,520.0,502.0,514.0,513.0,509.0,512.0,511.0,517.0,512.0,508.0,517.0,511.0,514.0,510.0,517.0,514.0,505.0,516.0,502.0,505.0,510.0,521.0,512.0,504.0,506.0,505.0,509.0,512.0,511.0,510.0,516.0,505.0,516.0,519.0,515.0,510.0,502.0,520.0,504.0,510.0,525.0,511.0,503.0,515.0,520.0,519.0,514.0,511.0,504.0,520.0,511.0,494.0,504.0,514.0,508.0,522.0,509.0,506.0,510.0,510.0,512.0,501.0,518.0,502.0,506.0,512.0,501.0,510.0,525.0,506.0,500.0,499.0,511.0,515.0,510.0,510.0,515.0,506.0,515.0,503.0,506.0,512.0,516.0,511.0,506.0,506.0,510.0,509.0,503.0,499.0,null,496.0,509.0,500.0,511.0,496.0,518.0,517.0,508.0,513.0,519.0,515.0,518.0,495.0,510.0,510.0,518.0,514.0,498.0,506.0,509.0,511.0,500.0,518.0,521.0,520.0,512.0,502.0,512.0,498.0,517.0,518.0,509.0,512.0,519.0,521.0,516.0],\"type\":\"scatter\"},{\"marker\":{\"color\":\"Grey\"},\"mode\":\"markers\",\"name\":\"Physics I\",\"x\":[95.0,95.0,95.0,95.0,95.0,95.0,95.0,95.0,95.0,88.0,95.0,95.0,85.0,95.0,95.0,95.0,91.0,95.0,95.0,95.0,95.0,88.0,95.0,95.0,91.0,95.0,85.0,95.0,88.0,95.0,95.0,85.0,95.0,95.0,95.0,95.0,95.0,95.0,95.0,95.0,91.0,91.0,95.0,88.0,95.0,95.0,91.0,95.0,95.0,95.0,95.0,91.0,95.0,91.0,95.0,null,95.0,95.0,95.0,95.0,95.0,95.0,95.0,95.0,95.0,95.0,88.0,90.0,98.0,98.0,null,99.0,97.0,99.0,98.0,98.0,92.0,99.0,91.0,95.0,98.0,91.0,100.0,99.0,98.0,91.0,91.0,97.0,95.0,98.0,99.0,100.0,97.0,98.0,89.0,100.0,98.0,98.0,98.0,91.0,99.0,94.0,99.0,92.0,85.0,93.0,85.0,96.0,96.0,98.0,84.0,99.0,null,98.0,97.0,97.0,91.0,94.0,87.0,98.0,99.0,98.0,87.0,84.0,93.0,91.0,100.0,91.0,96.0,99.0,100.0,96.0,95.0,96.0,89.0,100.0,92.0,89.0,95.0,99.0,null,96.0],\"y\":[524.0,510.0,513.0,515.0,508.0,508.0,513.0,504.0,513.0,500.0,514.0,511.0,509.0,510.0,499.0,520.0,502.0,514.0,513.0,509.0,512.0,511.0,517.0,512.0,508.0,517.0,511.0,514.0,510.0,517.0,514.0,505.0,516.0,502.0,505.0,510.0,521.0,512.0,504.0,506.0,505.0,509.0,512.0,511.0,510.0,516.0,505.0,516.0,519.0,515.0,510.0,502.0,520.0,504.0,510.0,525.0,511.0,503.0,515.0,520.0,519.0,514.0,511.0,504.0,520.0,511.0,494.0,504.0,514.0,508.0,522.0,509.0,506.0,510.0,510.0,512.0,501.0,518.0,502.0,506.0,512.0,501.0,510.0,525.0,506.0,500.0,499.0,511.0,515.0,510.0,510.0,515.0,506.0,515.0,503.0,506.0,512.0,516.0,511.0,506.0,506.0,510.0,509.0,503.0,499.0,null,496.0,509.0,500.0,511.0,496.0,518.0,517.0,508.0,513.0,519.0,515.0,518.0,495.0,510.0,510.0,518.0,514.0,498.0,506.0,509.0,511.0,500.0,518.0,521.0,520.0,512.0,502.0,512.0,498.0,517.0,518.0,509.0,512.0,519.0,521.0,516.0],\"type\":\"scatter\"},{\"marker\":{\"color\":\"Purple\"},\"mode\":\"markers\",\"name\":\"Physics II\",\"x\":[95.0,95.0,91.0,95.0,91.0,91.0,95.0,91.0,95.0,91.0,95.0,95.0,91.0,95.0,95.0,95.0,95.0,95.0,95.0,95.0,95.0,91.0,95.0,95.0,95.0,95.0,85.0,95.0,88.0,95.0,91.0,85.0,95.0,91.0,95.0,95.0,95.0,95.0,91.0,95.0,91.0,95.0,95.0,95.0,95.0,95.0,95.0,95.0,91.0,95.0,95.0,91.0,95.0,95.0,95.0,null,95.0,95.0,95.0,95.0,95.0,95.0,91.0,95.0,95.0,95.0,87.0,91.0,98.0,93.0,null,100.0,91.0,99.0,98.0,96.0,93.0,99.0,89.0,92.0,98.0,92.0,99.0,99.0,99.0,91.0,89.0,98.0,95.0,94.0,95.0,98.0,99.0,98.0,92.0,100.0,97.0,97.0,100.0,94.0,96.0,96.0,99.0,97.0,97.0,98.0,87.0,94.0,95.0,100.0,94.0,97.0,null,95.0,93.0,95.0,89.0,90.0,85.0,98.0,97.0,93.0,83.0,88.0,88.0,92.0,97.0,87.0,94.0,99.0,99.0,90.0,94.0,90.0,89.0,99.0,94.0,92.0,94.0,97.0,null,95.0],\"y\":[524.0,510.0,513.0,515.0,508.0,508.0,513.0,504.0,513.0,500.0,514.0,511.0,509.0,510.0,499.0,520.0,502.0,514.0,513.0,509.0,512.0,511.0,517.0,512.0,508.0,517.0,511.0,514.0,510.0,517.0,514.0,505.0,516.0,502.0,505.0,510.0,521.0,512.0,504.0,506.0,505.0,509.0,512.0,511.0,510.0,516.0,505.0,516.0,519.0,515.0,510.0,502.0,520.0,504.0,510.0,525.0,511.0,503.0,515.0,520.0,519.0,514.0,511.0,504.0,520.0,511.0,494.0,504.0,514.0,508.0,522.0,509.0,506.0,510.0,510.0,512.0,501.0,518.0,502.0,506.0,512.0,501.0,510.0,525.0,506.0,500.0,499.0,511.0,515.0,510.0,510.0,515.0,506.0,515.0,503.0,506.0,512.0,516.0,511.0,506.0,506.0,510.0,509.0,503.0,499.0,null,496.0,509.0,500.0,511.0,496.0,518.0,517.0,508.0,513.0,519.0,515.0,518.0,495.0,510.0,510.0,518.0,514.0,498.0,506.0,509.0,511.0,500.0,518.0,521.0,520.0,512.0,502.0,512.0,498.0,517.0,518.0,509.0,512.0,519.0,521.0,516.0],\"type\":\"scatter\"},{\"marker\":{\"color\":\"mediumaquamarine\"},\"mode\":\"markers\",\"name\":\"Biochemistry\",\"text\":[524.0,510.0,513.0,515.0,508.0,508.0,513.0,504.0,513.0,500.0,514.0,511.0,509.0,510.0,499.0,520.0,502.0,514.0,513.0,509.0,512.0,511.0,517.0,512.0,508.0,517.0,511.0,514.0,510.0,517.0,514.0,505.0,516.0,502.0,505.0,510.0,521.0,512.0,504.0,506.0,505.0,509.0,512.0,511.0,510.0,516.0,505.0,516.0,519.0,515.0,510.0,502.0,520.0,504.0,510.0,525.0,511.0,503.0,515.0,520.0,519.0,514.0,511.0,504.0,520.0,511.0,494.0,504.0,514.0,508.0,522.0,509.0,506.0,510.0,510.0,512.0,501.0,518.0,502.0,506.0,512.0,501.0,510.0,525.0,506.0,500.0,499.0,511.0,515.0,510.0,510.0,515.0,506.0,515.0,503.0,506.0,512.0,516.0,511.0,506.0,506.0,510.0,509.0,503.0,499.0,null,496.0,509.0,500.0,511.0,496.0,518.0,517.0,508.0,513.0,519.0,515.0,518.0,495.0,510.0,510.0,518.0,514.0,498.0,506.0,509.0,511.0,500.0,518.0,521.0,520.0,512.0,502.0,512.0,498.0,517.0,518.0,509.0,512.0,519.0,521.0,516.0],\"x\":[95,91,95,95,95,88,95,88,95,95,95,95,88,95,88,95,95,95,95,95,95,95,95,95,95,91,88,95,91,95,88,75,95,78,95,91,95,91,91,78,80,90,91,91,98,97,95,86,100,100,92,92,92,84,81,99,83,93,91,96,99,96,97,89,100,100,95,99,96,98,88,98,92,100,100,100,94,99,96,100,96,92,98,97,97,97,99,97,95,98,94,97,96,97,94,98,98,100,98,95,95,93,98,98,94,95,91,94,93,98,90,100,89,86,94,96,95,94,91,98,100,94,87,90,97,96,92,90,94,99,98,93,94,93,93,100,95,90,97,97,97,97],\"y\":[524.0,510.0,513.0,515.0,508.0,508.0,513.0,504.0,513.0,500.0,514.0,511.0,509.0,510.0,499.0,520.0,502.0,514.0,513.0,509.0,512.0,511.0,517.0,512.0,508.0,517.0,511.0,514.0,510.0,517.0,514.0,505.0,516.0,502.0,505.0,510.0,521.0,512.0,504.0,506.0,505.0,509.0,512.0,511.0,510.0,516.0,505.0,516.0,519.0,515.0,510.0,502.0,520.0,504.0,510.0,525.0,511.0,503.0,515.0,520.0,519.0,514.0,511.0,504.0,520.0,511.0,494.0,504.0,514.0,508.0,522.0,509.0,506.0,510.0,510.0,512.0,501.0,518.0,502.0,506.0,512.0,501.0,510.0,525.0,506.0,500.0,499.0,511.0,515.0,510.0,510.0,515.0,506.0,515.0,503.0,506.0,512.0,516.0,511.0,506.0,506.0,510.0,509.0,503.0,499.0,null,496.0,509.0,500.0,511.0,496.0,518.0,517.0,508.0,513.0,519.0,515.0,518.0,495.0,510.0,510.0,518.0,514.0,498.0,506.0,509.0,511.0,500.0,518.0,521.0,520.0,512.0,502.0,512.0,498.0,517.0,518.0,509.0,512.0,519.0,521.0,516.0],\"type\":\"scatter\"}],                        {\"template\":{\"data\":{\"bar\":[{\"error_x\":{\"color\":\"rgb(36,36,36)\"},\"error_y\":{\"color\":\"rgb(36,36,36)\"},\"marker\":{\"line\":{\"color\":\"rgb(234,234,242)\",\"width\":0.5},\"pattern\":{\"fillmode\":\"overlay\",\"size\":10,\"solidity\":0.2}},\"type\":\"bar\"}],\"barpolar\":[{\"marker\":{\"line\":{\"color\":\"rgb(234,234,242)\",\"width\":0.5},\"pattern\":{\"fillmode\":\"overlay\",\"size\":10,\"solidity\":0.2}},\"type\":\"barpolar\"}],\"carpet\":[{\"aaxis\":{\"endlinecolor\":\"rgb(36,36,36)\",\"gridcolor\":\"white\",\"linecolor\":\"white\",\"minorgridcolor\":\"white\",\"startlinecolor\":\"rgb(36,36,36)\"},\"baxis\":{\"endlinecolor\":\"rgb(36,36,36)\",\"gridcolor\":\"white\",\"linecolor\":\"white\",\"minorgridcolor\":\"white\",\"startlinecolor\":\"rgb(36,36,36)\"},\"type\":\"carpet\"}],\"choropleth\":[{\"colorbar\":{\"outlinewidth\":0,\"tickcolor\":\"rgb(36,36,36)\",\"ticklen\":8,\"ticks\":\"outside\",\"tickwidth\":2},\"type\":\"choropleth\"}],\"contour\":[{\"colorbar\":{\"outlinewidth\":0,\"tickcolor\":\"rgb(36,36,36)\",\"ticklen\":8,\"ticks\":\"outside\",\"tickwidth\":2},\"colorscale\":[[0.0,\"rgb(2,4,25)\"],[0.06274509803921569,\"rgb(24,15,41)\"],[0.12549019607843137,\"rgb(47,23,57)\"],[0.18823529411764706,\"rgb(71,28,72)\"],[0.25098039215686274,\"rgb(97,30,82)\"],[0.3137254901960784,\"rgb(123,30,89)\"],[0.3764705882352941,\"rgb(150,27,91)\"],[0.4392156862745098,\"rgb(177,22,88)\"],[0.5019607843137255,\"rgb(203,26,79)\"],[0.5647058823529412,\"rgb(223,47,67)\"],[0.6274509803921569,\"rgb(236,76,61)\"],[0.6901960784313725,\"rgb(242,107,73)\"],[0.7529411764705882,\"rgb(244,135,95)\"],[0.8156862745098039,\"rgb(245,162,122)\"],[0.8784313725490196,\"rgb(246,188,153)\"],[0.9411764705882353,\"rgb(247,212,187)\"],[1.0,\"rgb(250,234,220)\"]],\"type\":\"contour\"}],\"contourcarpet\":[{\"colorbar\":{\"outlinewidth\":0,\"tickcolor\":\"rgb(36,36,36)\",\"ticklen\":8,\"ticks\":\"outside\",\"tickwidth\":2},\"type\":\"contourcarpet\"}],\"heatmap\":[{\"colorbar\":{\"outlinewidth\":0,\"tickcolor\":\"rgb(36,36,36)\",\"ticklen\":8,\"ticks\":\"outside\",\"tickwidth\":2},\"colorscale\":[[0.0,\"rgb(2,4,25)\"],[0.06274509803921569,\"rgb(24,15,41)\"],[0.12549019607843137,\"rgb(47,23,57)\"],[0.18823529411764706,\"rgb(71,28,72)\"],[0.25098039215686274,\"rgb(97,30,82)\"],[0.3137254901960784,\"rgb(123,30,89)\"],[0.3764705882352941,\"rgb(150,27,91)\"],[0.4392156862745098,\"rgb(177,22,88)\"],[0.5019607843137255,\"rgb(203,26,79)\"],[0.5647058823529412,\"rgb(223,47,67)\"],[0.6274509803921569,\"rgb(236,76,61)\"],[0.6901960784313725,\"rgb(242,107,73)\"],[0.7529411764705882,\"rgb(244,135,95)\"],[0.8156862745098039,\"rgb(245,162,122)\"],[0.8784313725490196,\"rgb(246,188,153)\"],[0.9411764705882353,\"rgb(247,212,187)\"],[1.0,\"rgb(250,234,220)\"]],\"type\":\"heatmap\"}],\"heatmapgl\":[{\"colorbar\":{\"outlinewidth\":0,\"tickcolor\":\"rgb(36,36,36)\",\"ticklen\":8,\"ticks\":\"outside\",\"tickwidth\":2},\"colorscale\":[[0.0,\"rgb(2,4,25)\"],[0.06274509803921569,\"rgb(24,15,41)\"],[0.12549019607843137,\"rgb(47,23,57)\"],[0.18823529411764706,\"rgb(71,28,72)\"],[0.25098039215686274,\"rgb(97,30,82)\"],[0.3137254901960784,\"rgb(123,30,89)\"],[0.3764705882352941,\"rgb(150,27,91)\"],[0.4392156862745098,\"rgb(177,22,88)\"],[0.5019607843137255,\"rgb(203,26,79)\"],[0.5647058823529412,\"rgb(223,47,67)\"],[0.6274509803921569,\"rgb(236,76,61)\"],[0.6901960784313725,\"rgb(242,107,73)\"],[0.7529411764705882,\"rgb(244,135,95)\"],[0.8156862745098039,\"rgb(245,162,122)\"],[0.8784313725490196,\"rgb(246,188,153)\"],[0.9411764705882353,\"rgb(247,212,187)\"],[1.0,\"rgb(250,234,220)\"]],\"type\":\"heatmapgl\"}],\"histogram\":[{\"marker\":{\"pattern\":{\"fillmode\":\"overlay\",\"size\":10,\"solidity\":0.2}},\"type\":\"histogram\"}],\"histogram2d\":[{\"colorbar\":{\"outlinewidth\":0,\"tickcolor\":\"rgb(36,36,36)\",\"ticklen\":8,\"ticks\":\"outside\",\"tickwidth\":2},\"colorscale\":[[0.0,\"rgb(2,4,25)\"],[0.06274509803921569,\"rgb(24,15,41)\"],[0.12549019607843137,\"rgb(47,23,57)\"],[0.18823529411764706,\"rgb(71,28,72)\"],[0.25098039215686274,\"rgb(97,30,82)\"],[0.3137254901960784,\"rgb(123,30,89)\"],[0.3764705882352941,\"rgb(150,27,91)\"],[0.4392156862745098,\"rgb(177,22,88)\"],[0.5019607843137255,\"rgb(203,26,79)\"],[0.5647058823529412,\"rgb(223,47,67)\"],[0.6274509803921569,\"rgb(236,76,61)\"],[0.6901960784313725,\"rgb(242,107,73)\"],[0.7529411764705882,\"rgb(244,135,95)\"],[0.8156862745098039,\"rgb(245,162,122)\"],[0.8784313725490196,\"rgb(246,188,153)\"],[0.9411764705882353,\"rgb(247,212,187)\"],[1.0,\"rgb(250,234,220)\"]],\"type\":\"histogram2d\"}],\"histogram2dcontour\":[{\"colorbar\":{\"outlinewidth\":0,\"tickcolor\":\"rgb(36,36,36)\",\"ticklen\":8,\"ticks\":\"outside\",\"tickwidth\":2},\"colorscale\":[[0.0,\"rgb(2,4,25)\"],[0.06274509803921569,\"rgb(24,15,41)\"],[0.12549019607843137,\"rgb(47,23,57)\"],[0.18823529411764706,\"rgb(71,28,72)\"],[0.25098039215686274,\"rgb(97,30,82)\"],[0.3137254901960784,\"rgb(123,30,89)\"],[0.3764705882352941,\"rgb(150,27,91)\"],[0.4392156862745098,\"rgb(177,22,88)\"],[0.5019607843137255,\"rgb(203,26,79)\"],[0.5647058823529412,\"rgb(223,47,67)\"],[0.6274509803921569,\"rgb(236,76,61)\"],[0.6901960784313725,\"rgb(242,107,73)\"],[0.7529411764705882,\"rgb(244,135,95)\"],[0.8156862745098039,\"rgb(245,162,122)\"],[0.8784313725490196,\"rgb(246,188,153)\"],[0.9411764705882353,\"rgb(247,212,187)\"],[1.0,\"rgb(250,234,220)\"]],\"type\":\"histogram2dcontour\"}],\"mesh3d\":[{\"colorbar\":{\"outlinewidth\":0,\"tickcolor\":\"rgb(36,36,36)\",\"ticklen\":8,\"ticks\":\"outside\",\"tickwidth\":2},\"type\":\"mesh3d\"}],\"parcoords\":[{\"line\":{\"colorbar\":{\"outlinewidth\":0,\"tickcolor\":\"rgb(36,36,36)\",\"ticklen\":8,\"ticks\":\"outside\",\"tickwidth\":2}},\"type\":\"parcoords\"}],\"pie\":[{\"automargin\":true,\"type\":\"pie\"}],\"scatter\":[{\"marker\":{\"colorbar\":{\"outlinewidth\":0,\"tickcolor\":\"rgb(36,36,36)\",\"ticklen\":8,\"ticks\":\"outside\",\"tickwidth\":2}},\"type\":\"scatter\"}],\"scatter3d\":[{\"line\":{\"colorbar\":{\"outlinewidth\":0,\"tickcolor\":\"rgb(36,36,36)\",\"ticklen\":8,\"ticks\":\"outside\",\"tickwidth\":2}},\"marker\":{\"colorbar\":{\"outlinewidth\":0,\"tickcolor\":\"rgb(36,36,36)\",\"ticklen\":8,\"ticks\":\"outside\",\"tickwidth\":2}},\"type\":\"scatter3d\"}],\"scattercarpet\":[{\"marker\":{\"colorbar\":{\"outlinewidth\":0,\"tickcolor\":\"rgb(36,36,36)\",\"ticklen\":8,\"ticks\":\"outside\",\"tickwidth\":2}},\"type\":\"scattercarpet\"}],\"scattergeo\":[{\"marker\":{\"colorbar\":{\"outlinewidth\":0,\"tickcolor\":\"rgb(36,36,36)\",\"ticklen\":8,\"ticks\":\"outside\",\"tickwidth\":2}},\"type\":\"scattergeo\"}],\"scattergl\":[{\"marker\":{\"colorbar\":{\"outlinewidth\":0,\"tickcolor\":\"rgb(36,36,36)\",\"ticklen\":8,\"ticks\":\"outside\",\"tickwidth\":2}},\"type\":\"scattergl\"}],\"scattermapbox\":[{\"marker\":{\"colorbar\":{\"outlinewidth\":0,\"tickcolor\":\"rgb(36,36,36)\",\"ticklen\":8,\"ticks\":\"outside\",\"tickwidth\":2}},\"type\":\"scattermapbox\"}],\"scatterpolar\":[{\"marker\":{\"colorbar\":{\"outlinewidth\":0,\"tickcolor\":\"rgb(36,36,36)\",\"ticklen\":8,\"ticks\":\"outside\",\"tickwidth\":2}},\"type\":\"scatterpolar\"}],\"scatterpolargl\":[{\"marker\":{\"colorbar\":{\"outlinewidth\":0,\"tickcolor\":\"rgb(36,36,36)\",\"ticklen\":8,\"ticks\":\"outside\",\"tickwidth\":2}},\"type\":\"scatterpolargl\"}],\"scatterternary\":[{\"marker\":{\"colorbar\":{\"outlinewidth\":0,\"tickcolor\":\"rgb(36,36,36)\",\"ticklen\":8,\"ticks\":\"outside\",\"tickwidth\":2}},\"type\":\"scatterternary\"}],\"surface\":[{\"colorbar\":{\"outlinewidth\":0,\"tickcolor\":\"rgb(36,36,36)\",\"ticklen\":8,\"ticks\":\"outside\",\"tickwidth\":2},\"colorscale\":[[0.0,\"rgb(2,4,25)\"],[0.06274509803921569,\"rgb(24,15,41)\"],[0.12549019607843137,\"rgb(47,23,57)\"],[0.18823529411764706,\"rgb(71,28,72)\"],[0.25098039215686274,\"rgb(97,30,82)\"],[0.3137254901960784,\"rgb(123,30,89)\"],[0.3764705882352941,\"rgb(150,27,91)\"],[0.4392156862745098,\"rgb(177,22,88)\"],[0.5019607843137255,\"rgb(203,26,79)\"],[0.5647058823529412,\"rgb(223,47,67)\"],[0.6274509803921569,\"rgb(236,76,61)\"],[0.6901960784313725,\"rgb(242,107,73)\"],[0.7529411764705882,\"rgb(244,135,95)\"],[0.8156862745098039,\"rgb(245,162,122)\"],[0.8784313725490196,\"rgb(246,188,153)\"],[0.9411764705882353,\"rgb(247,212,187)\"],[1.0,\"rgb(250,234,220)\"]],\"type\":\"surface\"}],\"table\":[{\"cells\":{\"fill\":{\"color\":\"rgb(231,231,240)\"},\"line\":{\"color\":\"white\"}},\"header\":{\"fill\":{\"color\":\"rgb(183,183,191)\"},\"line\":{\"color\":\"white\"}},\"type\":\"table\"}]},\"layout\":{\"annotationdefaults\":{\"arrowcolor\":\"rgb(67,103,167)\"},\"autotypenumbers\":\"strict\",\"coloraxis\":{\"colorbar\":{\"outlinewidth\":0,\"tickcolor\":\"rgb(36,36,36)\",\"ticklen\":8,\"ticks\":\"outside\",\"tickwidth\":2}},\"colorscale\":{\"sequential\":[[0.0,\"rgb(2,4,25)\"],[0.06274509803921569,\"rgb(24,15,41)\"],[0.12549019607843137,\"rgb(47,23,57)\"],[0.18823529411764706,\"rgb(71,28,72)\"],[0.25098039215686274,\"rgb(97,30,82)\"],[0.3137254901960784,\"rgb(123,30,89)\"],[0.3764705882352941,\"rgb(150,27,91)\"],[0.4392156862745098,\"rgb(177,22,88)\"],[0.5019607843137255,\"rgb(203,26,79)\"],[0.5647058823529412,\"rgb(223,47,67)\"],[0.6274509803921569,\"rgb(236,76,61)\"],[0.6901960784313725,\"rgb(242,107,73)\"],[0.7529411764705882,\"rgb(244,135,95)\"],[0.8156862745098039,\"rgb(245,162,122)\"],[0.8784313725490196,\"rgb(246,188,153)\"],[0.9411764705882353,\"rgb(247,212,187)\"],[1.0,\"rgb(250,234,220)\"]],\"sequentialminus\":[[0.0,\"rgb(2,4,25)\"],[0.06274509803921569,\"rgb(24,15,41)\"],[0.12549019607843137,\"rgb(47,23,57)\"],[0.18823529411764706,\"rgb(71,28,72)\"],[0.25098039215686274,\"rgb(97,30,82)\"],[0.3137254901960784,\"rgb(123,30,89)\"],[0.3764705882352941,\"rgb(150,27,91)\"],[0.4392156862745098,\"rgb(177,22,88)\"],[0.5019607843137255,\"rgb(203,26,79)\"],[0.5647058823529412,\"rgb(223,47,67)\"],[0.6274509803921569,\"rgb(236,76,61)\"],[0.6901960784313725,\"rgb(242,107,73)\"],[0.7529411764705882,\"rgb(244,135,95)\"],[0.8156862745098039,\"rgb(245,162,122)\"],[0.8784313725490196,\"rgb(246,188,153)\"],[0.9411764705882353,\"rgb(247,212,187)\"],[1.0,\"rgb(250,234,220)\"]]},\"colorway\":[\"rgb(76,114,176)\",\"rgb(221,132,82)\",\"rgb(85,168,104)\",\"rgb(196,78,82)\",\"rgb(129,114,179)\",\"rgb(147,120,96)\",\"rgb(218,139,195)\",\"rgb(140,140,140)\",\"rgb(204,185,116)\",\"rgb(100,181,205)\"],\"font\":{\"color\":\"rgb(36,36,36)\"},\"geo\":{\"bgcolor\":\"white\",\"lakecolor\":\"white\",\"landcolor\":\"rgb(234,234,242)\",\"showlakes\":true,\"showland\":true,\"subunitcolor\":\"white\"},\"hoverlabel\":{\"align\":\"left\"},\"hovermode\":\"closest\",\"paper_bgcolor\":\"white\",\"plot_bgcolor\":\"rgb(234,234,242)\",\"polar\":{\"angularaxis\":{\"gridcolor\":\"white\",\"linecolor\":\"white\",\"showgrid\":true,\"ticks\":\"\"},\"bgcolor\":\"rgb(234,234,242)\",\"radialaxis\":{\"gridcolor\":\"white\",\"linecolor\":\"white\",\"showgrid\":true,\"ticks\":\"\"}},\"scene\":{\"xaxis\":{\"backgroundcolor\":\"rgb(234,234,242)\",\"gridcolor\":\"white\",\"gridwidth\":2,\"linecolor\":\"white\",\"showbackground\":true,\"showgrid\":true,\"ticks\":\"\",\"zerolinecolor\":\"white\"},\"yaxis\":{\"backgroundcolor\":\"rgb(234,234,242)\",\"gridcolor\":\"white\",\"gridwidth\":2,\"linecolor\":\"white\",\"showbackground\":true,\"showgrid\":true,\"ticks\":\"\",\"zerolinecolor\":\"white\"},\"zaxis\":{\"backgroundcolor\":\"rgb(234,234,242)\",\"gridcolor\":\"white\",\"gridwidth\":2,\"linecolor\":\"white\",\"showbackground\":true,\"showgrid\":true,\"ticks\":\"\",\"zerolinecolor\":\"white\"}},\"shapedefaults\":{\"fillcolor\":\"rgb(67,103,167)\",\"line\":{\"width\":0},\"opacity\":0.5},\"ternary\":{\"aaxis\":{\"gridcolor\":\"white\",\"linecolor\":\"white\",\"showgrid\":true,\"ticks\":\"\"},\"baxis\":{\"gridcolor\":\"white\",\"linecolor\":\"white\",\"showgrid\":true,\"ticks\":\"\"},\"bgcolor\":\"rgb(234,234,242)\",\"caxis\":{\"gridcolor\":\"white\",\"linecolor\":\"white\",\"showgrid\":true,\"ticks\":\"\"}},\"xaxis\":{\"automargin\":true,\"gridcolor\":\"white\",\"linecolor\":\"white\",\"showgrid\":true,\"ticks\":\"\",\"title\":{\"standoff\":15},\"zerolinecolor\":\"white\"},\"yaxis\":{\"automargin\":true,\"gridcolor\":\"white\",\"linecolor\":\"white\",\"showgrid\":true,\"ticks\":\"\",\"title\":{\"standoff\":15},\"zerolinecolor\":\"white\"}}},\"title\":{\"text\":\"Final MCAT Scores by Post Bac Undergraduate GPAs\"},\"xaxis\":{\"title\":{\"text\":\"Course Grades\"}},\"yaxis\":{\"title\":{\"text\":\"Final MCAT scores\"}},\"autosize\":false,\"width\":1300,\"height\":800},                        {\"responsive\": true}                    ).then(function(){\n",
              "                            \n",
              "var gd = document.getElementById('5efae3f3-dcbe-451f-bee0-fadb400585ce');\n",
              "var x = new MutationObserver(function (mutations, observer) {{\n",
              "        var display = window.getComputedStyle(gd).display;\n",
              "        if (!display || display === 'none') {{\n",
              "            console.log([gd, 'removed!']);\n",
              "            Plotly.purge(gd);\n",
              "            observer.disconnect();\n",
              "        }}\n",
              "}});\n",
              "\n",
              "// Listen for the removal of the full notebook cells\n",
              "var notebookContainer = gd.closest('#notebook-container');\n",
              "if (notebookContainer) {{\n",
              "    x.observe(notebookContainer, {childList: true});\n",
              "}}\n",
              "\n",
              "// Listen for the clearing of the current output cell\n",
              "var outputEl = gd.closest('.output');\n",
              "if (outputEl) {{\n",
              "    x.observe(outputEl, {childList: true});\n",
              "}}\n",
              "\n",
              "                        })                };                            </script>        </div>\n",
              "</body>\n",
              "</html>"
            ]
          },
          "metadata": {}
        }
      ]
    },
    {
      "cell_type": "code",
      "source": [
        "Biology = df2['B1'].values\n",
        "Final_MCAT = df2['Final'].values\n",
        "Degree_p = df2['Degree'].values"
      ],
      "metadata": {
        "id": "OtNEfqPk5oz1"
      },
      "execution_count": null,
      "outputs": []
    },
    {
      "cell_type": "markdown",
      "source": [
        "### Linear Regressions"
      ],
      "metadata": {
        "id": "BIVATDHbip5v"
      }
    },
    {
      "cell_type": "code",
      "source": [
        "from scipy import special\n",
        "from pandas import DataFrame"
      ],
      "metadata": {
        "id": "SYwaM2sFG_bj"
      },
      "execution_count": null,
      "outputs": []
    },
    {
      "cell_type": "code",
      "source": [
        "import plotly.figure_factory as ff\n",
        "import plotly.express as px"
      ],
      "metadata": {
        "id": "EE14qo9-HAG6"
      },
      "execution_count": null,
      "outputs": []
    },
    {
      "cell_type": "code",
      "source": [
        "from patsy import dmatrices\n",
        "import statsmodels.api as sm"
      ],
      "metadata": {
        "id": "9fu2uAvYHBJy",
        "colab": {
          "base_uri": "https://localhost:8080/"
        },
        "outputId": "d7b746f5-319f-4980-b30e-0c1cf9011095"
      },
      "execution_count": null,
      "outputs": [
        {
          "output_type": "stream",
          "name": "stderr",
          "text": [
            "/usr/local/lib/python3.8/dist-packages/statsmodels/tools/numdiff.py:51: DeprecationWarning:\n",
            "\n",
            "`np.MachAr` is deprecated (NumPy 1.22).\n",
            "\n"
          ]
        }
      ]
    },
    {
      "cell_type": "markdown",
      "source": [
        "![image.png](data:image/png;base64,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)"
      ],
      "metadata": {
        "id": "roSLyLNaVmuy"
      }
    },
    {
      "cell_type": "code",
      "source": [
        "y, x = dmatrices(\n",
        "    'Final ~ B1 + B2 + O1 + O2 + GC1 + GC2 + Biochem + P1 + + P2 + UG_STEM + UG_SS',\n",
        "    data = MCAT\n",
        ")"
      ],
      "metadata": {
        "id": "sv0tjZbCSUCS"
      },
      "execution_count": null,
      "outputs": []
    },
    {
      "cell_type": "code",
      "source": [
        "multi_lin_model = sm.OLS(y,x). fit()\n",
        "multi_lin_model.summary2()"
      ],
      "metadata": {
        "colab": {
          "base_uri": "https://localhost:8080/",
          "height": 536
        },
        "id": "jJP1LlZ-HBBj",
        "outputId": "1cad8743-0406-4207-b804-4b8619d78762"
      },
      "execution_count": null,
      "outputs": [
        {
          "output_type": "execute_result",
          "data": {
            "text/plain": [
              "<class 'statsmodels.iolib.summary2.Summary'>\n",
              "\"\"\"\n",
              "                 Results: Ordinary least squares\n",
              "=================================================================\n",
              "Model:              OLS              Adj. R-squared:     0.381   \n",
              "Dependent Variable: Final            AIC:                757.2748\n",
              "Date:               2023-03-02 17:29 BIC:                790.9230\n",
              "No. Observations:   122              Log-Likelihood:     -366.64 \n",
              "Df Model:           11               F-statistic:        7.778   \n",
              "Df Residuals:       110              Prob (F-statistic): 7.84e-10\n",
              "R-squared:          0.438            Scale:              26.473  \n",
              "------------------------------------------------------------------\n",
              "            Coef.    Std.Err.     t     P>|t|    [0.025    0.975] \n",
              "------------------------------------------------------------------\n",
              "Intercept  392.1821   20.3781  19.2452  0.0000  351.7974  432.5668\n",
              "B1           0.6599    0.1982   3.3298  0.0012    0.2672    1.0527\n",
              "B2           0.1655    0.2046   0.8088  0.4204   -0.2400    0.5709\n",
              "O1          -0.0818    0.1470  -0.5569  0.5788   -0.3731    0.2094\n",
              "O2           0.0607    0.2072   0.2929  0.7702   -0.3500    0.4713\n",
              "GC1         -0.0283    0.2616  -0.1083  0.9140   -0.5467    0.4901\n",
              "GC2         -0.0526    0.2701  -0.1946  0.8460   -0.5878    0.4826\n",
              "Biochem      0.0097    0.1557   0.0624  0.9503   -0.2988    0.3183\n",
              "P1           0.6120    0.2251   2.7184  0.0076    0.1659    1.0582\n",
              "P2          -0.0841    0.2188  -0.3844  0.7014   -0.5177    0.3495\n",
              "UG_STEM     -0.1148    1.6074  -0.0714  0.9432   -3.3003    3.0706\n",
              "UG_SS       -2.4302    1.2266  -1.9813  0.0500   -4.8610    0.0005\n",
              "-----------------------------------------------------------------\n",
              "Omnibus:              0.254        Durbin-Watson:           1.765\n",
              "Prob(Omnibus):        0.881        Jarque-Bera (JB):        0.242\n",
              "Skew:                 0.103        Prob(JB):                0.886\n",
              "Kurtosis:             2.930        Condition No.:           12310\n",
              "=================================================================\n",
              "* The condition number is large (1e+04). This might indicate\n",
              "strong multicollinearity or other numerical problems.\n",
              "\"\"\""
            ],
            "text/html": [
              "<table class=\"simpletable\">\n",
              "<tr>\n",
              "        <td>Model:</td>               <td>OLS</td>         <td>Adj. R-squared:</td>     <td>0.381</td> \n",
              "</tr>\n",
              "<tr>\n",
              "  <td>Dependent Variable:</td>       <td>Final</td>             <td>AIC:</td>         <td>757.2748</td>\n",
              "</tr>\n",
              "<tr>\n",
              "         <td>Date:</td>        <td>2023-03-02 17:29</td>        <td>BIC:</td>         <td>790.9230</td>\n",
              "</tr>\n",
              "<tr>\n",
              "   <td>No. Observations:</td>         <td>122</td>         <td>Log-Likelihood:</td>    <td>-366.64</td>\n",
              "</tr>\n",
              "<tr>\n",
              "       <td>Df Model:</td>             <td>11</td>           <td>F-statistic:</td>       <td>7.778</td> \n",
              "</tr>\n",
              "<tr>\n",
              "     <td>Df Residuals:</td>           <td>110</td>       <td>Prob (F-statistic):</td> <td>7.84e-10</td>\n",
              "</tr>\n",
              "<tr>\n",
              "      <td>R-squared:</td>            <td>0.438</td>            <td>Scale:</td>         <td>26.473</td> \n",
              "</tr>\n",
              "</table>\n",
              "<table class=\"simpletable\">\n",
              "<tr>\n",
              "      <td></td>        <th>Coef.</th>  <th>Std.Err.</th>    <th>t</th>     <th>P>|t|</th>  <th>[0.025</th>   <th>0.975]</th> \n",
              "</tr>\n",
              "<tr>\n",
              "  <th>Intercept</th> <td>392.1821</td>  <td>20.3781</td> <td>19.2452</td> <td>0.0000</td> <td>351.7974</td> <td>432.5668</td>\n",
              "</tr>\n",
              "<tr>\n",
              "  <th>B1</th>         <td>0.6599</td>   <td>0.1982</td>  <td>3.3298</td>  <td>0.0012</td>  <td>0.2672</td>   <td>1.0527</td> \n",
              "</tr>\n",
              "<tr>\n",
              "  <th>B2</th>         <td>0.1655</td>   <td>0.2046</td>  <td>0.8088</td>  <td>0.4204</td>  <td>-0.2400</td>  <td>0.5709</td> \n",
              "</tr>\n",
              "<tr>\n",
              "  <th>O1</th>         <td>-0.0818</td>  <td>0.1470</td>  <td>-0.5569</td> <td>0.5788</td>  <td>-0.3731</td>  <td>0.2094</td> \n",
              "</tr>\n",
              "<tr>\n",
              "  <th>O2</th>         <td>0.0607</td>   <td>0.2072</td>  <td>0.2929</td>  <td>0.7702</td>  <td>-0.3500</td>  <td>0.4713</td> \n",
              "</tr>\n",
              "<tr>\n",
              "  <th>GC1</th>        <td>-0.0283</td>  <td>0.2616</td>  <td>-0.1083</td> <td>0.9140</td>  <td>-0.5467</td>  <td>0.4901</td> \n",
              "</tr>\n",
              "<tr>\n",
              "  <th>GC2</th>        <td>-0.0526</td>  <td>0.2701</td>  <td>-0.1946</td> <td>0.8460</td>  <td>-0.5878</td>  <td>0.4826</td> \n",
              "</tr>\n",
              "<tr>\n",
              "  <th>Biochem</th>    <td>0.0097</td>   <td>0.1557</td>  <td>0.0624</td>  <td>0.9503</td>  <td>-0.2988</td>  <td>0.3183</td> \n",
              "</tr>\n",
              "<tr>\n",
              "  <th>P1</th>         <td>0.6120</td>   <td>0.2251</td>  <td>2.7184</td>  <td>0.0076</td>  <td>0.1659</td>   <td>1.0582</td> \n",
              "</tr>\n",
              "<tr>\n",
              "  <th>P2</th>         <td>-0.0841</td>  <td>0.2188</td>  <td>-0.3844</td> <td>0.7014</td>  <td>-0.5177</td>  <td>0.3495</td> \n",
              "</tr>\n",
              "<tr>\n",
              "  <th>UG_STEM</th>    <td>-0.1148</td>  <td>1.6074</td>  <td>-0.0714</td> <td>0.9432</td>  <td>-3.3003</td>  <td>3.0706</td> \n",
              "</tr>\n",
              "<tr>\n",
              "  <th>UG_SS</th>      <td>-2.4302</td>  <td>1.2266</td>  <td>-1.9813</td> <td>0.0500</td>  <td>-4.8610</td>  <td>0.0005</td> \n",
              "</tr>\n",
              "</table>\n",
              "<table class=\"simpletable\">\n",
              "<tr>\n",
              "     <td>Omnibus:</td>    <td>0.254</td>  <td>Durbin-Watson:</td>   <td>1.765</td>\n",
              "</tr>\n",
              "<tr>\n",
              "  <td>Prob(Omnibus):</td> <td>0.881</td> <td>Jarque-Bera (JB):</td> <td>0.242</td>\n",
              "</tr>\n",
              "<tr>\n",
              "       <td>Skew:</td>     <td>0.103</td>     <td>Prob(JB):</td>     <td>0.886</td>\n",
              "</tr>\n",
              "<tr>\n",
              "     <td>Kurtosis:</td>   <td>2.930</td>  <td>Condition No.:</td>   <td>12310</td>\n",
              "</tr>\n",
              "</table>"
            ]
          },
          "metadata": {},
          "execution_count": 212
        }
      ]
    },
    {
      "cell_type": "code",
      "source": [
        "var_mean_model = np.var(df2.Final)\n",
        "var_best_model = np.var(multi_lin_model.resid)\n",
        "(var_mean_model - var_best_model) / var_mean_model"
      ],
      "metadata": {
        "colab": {
          "base_uri": "https://localhost:8080/"
        },
        "id": "d7jzLC6cHA-r",
        "outputId": "e1509603-913f-488c-e592-183ca1e74100"
      },
      "execution_count": null,
      "outputs": [
        {
          "output_type": "execute_result",
          "data": {
            "text/plain": [
              "0.4604937175366752"
            ]
          },
          "metadata": {},
          "execution_count": 213
        }
      ]
    },
    {
      "cell_type": "markdown",
      "source": [
        "R squared is .45. Our model explains 45% of the variance in the dependent variable. "
      ],
      "metadata": {
        "id": "clltLy-rVaD6"
      }
    },
    {
      "cell_type": "code",
      "source": [
        "residuals = multi_lin_model.resid"
      ],
      "metadata": {
        "id": "9DY4MFe6HA75"
      },
      "execution_count": null,
      "outputs": []
    },
    {
      "cell_type": "code",
      "source": [
        "tests = MCAT.loc[0:140,['Final', 'B1','P2']]"
      ],
      "metadata": {
        "id": "xYLnLYVwHAZr"
      },
      "execution_count": null,
      "outputs": []
    },
    {
      "cell_type": "markdown",
      "source": [
        "Scatter plot only includes variables that were significant in the mulitivariable linear regression (Biology I and Physics II) "
      ],
      "metadata": {
        "id": "DCLhDULOBkru"
      }
    },
    {
      "cell_type": "code",
      "source": [
        "px.scatter_matrix(\n",
        "    tests,\n",
        "    title='Scatter plot matrix of Significant Predictors of Final MCAT'\n",
        ")"
      ],
      "metadata": {
        "colab": {
          "base_uri": "https://localhost:8080/",
          "height": 542
        },
        "id": "SzuAo_w8WkGI",
        "outputId": "f8ac0253-cc85-4d72-e8a5-6f833e00fac1"
      },
      "execution_count": null,
      "outputs": [
        {
          "output_type": "display_data",
          "data": {
            "text/html": [
              "<html>\n",
              "<head><meta charset=\"utf-8\" /></head>\n",
              "<body>\n",
              "    <div>            <script src=\"https://cdnjs.cloudflare.com/ajax/libs/mathjax/2.7.5/MathJax.js?config=TeX-AMS-MML_SVG\"></script><script type=\"text/javascript\">if (window.MathJax) {MathJax.Hub.Config({SVG: {font: \"STIX-Web\"}});}</script>                <script type=\"text/javascript\">window.PlotlyConfig = {MathJaxConfig: 'local'};</script>\n",
              "        <script src=\"https://cdn.plot.ly/plotly-2.8.3.min.js\"></script>                <div id=\"20769819-fc69-452d-bea9-573224cbac45\" class=\"plotly-graph-div\" style=\"height:525px; width:100%;\"></div>            <script type=\"text/javascript\">                                    window.PLOTLYENV=window.PLOTLYENV || {};                                    if (document.getElementById(\"20769819-fc69-452d-bea9-573224cbac45\")) {                    Plotly.newPlot(                        \"20769819-fc69-452d-bea9-573224cbac45\",                        [{\"dimensions\":[{\"axis\":{\"matches\":true},\"label\":\"Final\",\"values\":[524.0,510.0,513.0,515.0,508.0,508.0,513.0,504.0,513.0,500.0,514.0,511.0,509.0,510.0,499.0,520.0,502.0,514.0,513.0,509.0,512.0,511.0,517.0,512.0,508.0,517.0,511.0,514.0,510.0,517.0,514.0,505.0,516.0,502.0,505.0,510.0,521.0,512.0,504.0,506.0,505.0,509.0,512.0,511.0,510.0,516.0,505.0,516.0,519.0,515.0,510.0,502.0,520.0,504.0,510.0,525.0,511.0,503.0,515.0,520.0,519.0,514.0,511.0,504.0,520.0,511.0,494.0,504.0,514.0,508.0,522.0,509.0,506.0,510.0,510.0,512.0,501.0,518.0,502.0,506.0,512.0,501.0,510.0,525.0,506.0,500.0,499.0,511.0,515.0,510.0,510.0,515.0,506.0,515.0,503.0,506.0,512.0,516.0,511.0,506.0,506.0,510.0,509.0,503.0,499.0,null,496.0,509.0,500.0,511.0,496.0,518.0,517.0,508.0,513.0,519.0,515.0,518.0,495.0,510.0,510.0,518.0,514.0,498.0,506.0,509.0,511.0,500.0,518.0,521.0,520.0,512.0,502.0,512.0,498.0,517.0,518.0,509.0,512.0,519.0,521.0]},{\"axis\":{\"matches\":true},\"label\":\"B1\",\"values\":[95,95,95,95,95,95,95,91,95,98,93,93,94,91,89,95,91,91,91,94,96,83,95,91,90,93,90,98,91,93,90,91,93,91,90,95,99,96,94,90,91,91,94,95,95,94,90,95,96,97,93,89,95,88,92,97,93,97,93,96,96,92,94,91,97,95,78,88,95,91,95,95,91,95,91,95,91,95,88,91,91,88,95,95,88,88,91,95,91,91,95,98,95,94,88,100,98,97,98,89,94,97,97,94,91,94,86,95,95,98,92,98,94,90,95,95,92,96,92,94,99,93,87,86,93,94,94,87,98,98,100,95,94,90,87,98,96,90,96,100,99]},{\"axis\":{\"matches\":true},\"label\":\"P2\",\"values\":[95.0,95.0,91.0,95.0,91.0,91.0,95.0,91.0,95.0,91.0,95.0,95.0,91.0,95.0,95.0,95.0,95.0,95.0,95.0,95.0,95.0,91.0,95.0,95.0,95.0,95.0,85.0,95.0,88.0,95.0,91.0,85.0,95.0,91.0,95.0,95.0,95.0,95.0,91.0,95.0,91.0,95.0,95.0,95.0,95.0,95.0,95.0,95.0,91.0,95.0,95.0,91.0,95.0,95.0,95.0,null,95.0,95.0,95.0,95.0,95.0,95.0,91.0,95.0,95.0,95.0,87.0,91.0,98.0,93.0,null,100.0,91.0,99.0,98.0,96.0,93.0,99.0,89.0,92.0,98.0,92.0,99.0,99.0,99.0,91.0,89.0,98.0,95.0,94.0,95.0,98.0,99.0,98.0,92.0,100.0,97.0,97.0,100.0,94.0,96.0,96.0,99.0,97.0,97.0,98.0,87.0,94.0,95.0,100.0,94.0,97.0,null,95.0,93.0,95.0,89.0,90.0,85.0,98.0,97.0,93.0,83.0,88.0,88.0,92.0,97.0,87.0,94.0,99.0,99.0,90.0,94.0,90.0,89.0,99.0,94.0,92.0,94.0,97.0,null]}],\"hovertemplate\":\"%{xaxis.title.text}=%{x}<br>%{yaxis.title.text}=%{y}<extra></extra>\",\"legendgroup\":\"\",\"marker\":{\"color\":\"rgb(76,114,176)\",\"symbol\":\"circle\"},\"name\":\"\",\"showlegend\":false,\"type\":\"splom\"}],                        {\"template\":{\"data\":{\"bar\":[{\"error_x\":{\"color\":\"rgb(36,36,36)\"},\"error_y\":{\"color\":\"rgb(36,36,36)\"},\"marker\":{\"line\":{\"color\":\"rgb(234,234,242)\",\"width\":0.5},\"pattern\":{\"fillmode\":\"overlay\",\"size\":10,\"solidity\":0.2}},\"type\":\"bar\"}],\"barpolar\":[{\"marker\":{\"line\":{\"color\":\"rgb(234,234,242)\",\"width\":0.5},\"pattern\":{\"fillmode\":\"overlay\",\"size\":10,\"solidity\":0.2}},\"type\":\"barpolar\"}],\"carpet\":[{\"aaxis\":{\"endlinecolor\":\"rgb(36,36,36)\",\"gridcolor\":\"white\",\"linecolor\":\"white\",\"minorgridcolor\":\"white\",\"startlinecolor\":\"rgb(36,36,36)\"},\"baxis\":{\"endlinecolor\":\"rgb(36,36,36)\",\"gridcolor\":\"white\",\"linecolor\":\"white\",\"minorgridcolor\":\"white\",\"startlinecolor\":\"rgb(36,36,36)\"},\"type\":\"carpet\"}],\"choropleth\":[{\"colorbar\":{\"outlinewidth\":0,\"tickcolor\":\"rgb(36,36,36)\",\"ticklen\":8,\"ticks\":\"outside\",\"tickwidth\":2},\"type\":\"choropleth\"}],\"contour\":[{\"colorbar\":{\"outlinewidth\":0,\"tickcolor\":\"rgb(36,36,36)\",\"ticklen\":8,\"ticks\":\"outside\",\"tickwidth\":2},\"colorscale\":[[0.0,\"rgb(2,4,25)\"],[0.06274509803921569,\"rgb(24,15,41)\"],[0.12549019607843137,\"rgb(47,23,57)\"],[0.18823529411764706,\"rgb(71,28,72)\"],[0.25098039215686274,\"rgb(97,30,82)\"],[0.3137254901960784,\"rgb(123,30,89)\"],[0.3764705882352941,\"rgb(150,27,91)\"],[0.4392156862745098,\"rgb(177,22,88)\"],[0.5019607843137255,\"rgb(203,26,79)\"],[0.5647058823529412,\"rgb(223,47,67)\"],[0.6274509803921569,\"rgb(236,76,61)\"],[0.6901960784313725,\"rgb(242,107,73)\"],[0.7529411764705882,\"rgb(244,135,95)\"],[0.8156862745098039,\"rgb(245,162,122)\"],[0.8784313725490196,\"rgb(246,188,153)\"],[0.9411764705882353,\"rgb(247,212,187)\"],[1.0,\"rgb(250,234,220)\"]],\"type\":\"contour\"}],\"contourcarpet\":[{\"colorbar\":{\"outlinewidth\":0,\"tickcolor\":\"rgb(36,36,36)\",\"ticklen\":8,\"ticks\":\"outside\",\"tickwidth\":2},\"type\":\"contourcarpet\"}],\"heatmap\":[{\"colorbar\":{\"outlinewidth\":0,\"tickcolor\":\"rgb(36,36,36)\",\"ticklen\":8,\"ticks\":\"outside\",\"tickwidth\":2},\"colorscale\":[[0.0,\"rgb(2,4,25)\"],[0.06274509803921569,\"rgb(24,15,41)\"],[0.12549019607843137,\"rgb(47,23,57)\"],[0.18823529411764706,\"rgb(71,28,72)\"],[0.25098039215686274,\"rgb(97,30,82)\"],[0.3137254901960784,\"rgb(123,30,89)\"],[0.3764705882352941,\"rgb(150,27,91)\"],[0.4392156862745098,\"rgb(177,22,88)\"],[0.5019607843137255,\"rgb(203,26,79)\"],[0.5647058823529412,\"rgb(223,47,67)\"],[0.6274509803921569,\"rgb(236,76,61)\"],[0.6901960784313725,\"rgb(242,107,73)\"],[0.7529411764705882,\"rgb(244,135,95)\"],[0.8156862745098039,\"rgb(245,162,122)\"],[0.8784313725490196,\"rgb(246,188,153)\"],[0.9411764705882353,\"rgb(247,212,187)\"],[1.0,\"rgb(250,234,220)\"]],\"type\":\"heatmap\"}],\"heatmapgl\":[{\"colorbar\":{\"outlinewidth\":0,\"tickcolor\":\"rgb(36,36,36)\",\"ticklen\":8,\"ticks\":\"outside\",\"tickwidth\":2},\"colorscale\":[[0.0,\"rgb(2,4,25)\"],[0.06274509803921569,\"rgb(24,15,41)\"],[0.12549019607843137,\"rgb(47,23,57)\"],[0.18823529411764706,\"rgb(71,28,72)\"],[0.25098039215686274,\"rgb(97,30,82)\"],[0.3137254901960784,\"rgb(123,30,89)\"],[0.3764705882352941,\"rgb(150,27,91)\"],[0.4392156862745098,\"rgb(177,22,88)\"],[0.5019607843137255,\"rgb(203,26,79)\"],[0.5647058823529412,\"rgb(223,47,67)\"],[0.6274509803921569,\"rgb(236,76,61)\"],[0.6901960784313725,\"rgb(242,107,73)\"],[0.7529411764705882,\"rgb(244,135,95)\"],[0.8156862745098039,\"rgb(245,162,122)\"],[0.8784313725490196,\"rgb(246,188,153)\"],[0.9411764705882353,\"rgb(247,212,187)\"],[1.0,\"rgb(250,234,220)\"]],\"type\":\"heatmapgl\"}],\"histogram\":[{\"marker\":{\"pattern\":{\"fillmode\":\"overlay\",\"size\":10,\"solidity\":0.2}},\"type\":\"histogram\"}],\"histogram2d\":[{\"colorbar\":{\"outlinewidth\":0,\"tickcolor\":\"rgb(36,36,36)\",\"ticklen\":8,\"ticks\":\"outside\",\"tickwidth\":2},\"colorscale\":[[0.0,\"rgb(2,4,25)\"],[0.06274509803921569,\"rgb(24,15,41)\"],[0.12549019607843137,\"rgb(47,23,57)\"],[0.18823529411764706,\"rgb(71,28,72)\"],[0.25098039215686274,\"rgb(97,30,82)\"],[0.3137254901960784,\"rgb(123,30,89)\"],[0.3764705882352941,\"rgb(150,27,91)\"],[0.4392156862745098,\"rgb(177,22,88)\"],[0.5019607843137255,\"rgb(203,26,79)\"],[0.5647058823529412,\"rgb(223,47,67)\"],[0.6274509803921569,\"rgb(236,76,61)\"],[0.6901960784313725,\"rgb(242,107,73)\"],[0.7529411764705882,\"rgb(244,135,95)\"],[0.8156862745098039,\"rgb(245,162,122)\"],[0.8784313725490196,\"rgb(246,188,153)\"],[0.9411764705882353,\"rgb(247,212,187)\"],[1.0,\"rgb(250,234,220)\"]],\"type\":\"histogram2d\"}],\"histogram2dcontour\":[{\"colorbar\":{\"outlinewidth\":0,\"tickcolor\":\"rgb(36,36,36)\",\"ticklen\":8,\"ticks\":\"outside\",\"tickwidth\":2},\"colorscale\":[[0.0,\"rgb(2,4,25)\"],[0.06274509803921569,\"rgb(24,15,41)\"],[0.12549019607843137,\"rgb(47,23,57)\"],[0.18823529411764706,\"rgb(71,28,72)\"],[0.25098039215686274,\"rgb(97,30,82)\"],[0.3137254901960784,\"rgb(123,30,89)\"],[0.3764705882352941,\"rgb(150,27,91)\"],[0.4392156862745098,\"rgb(177,22,88)\"],[0.5019607843137255,\"rgb(203,26,79)\"],[0.5647058823529412,\"rgb(223,47,67)\"],[0.6274509803921569,\"rgb(236,76,61)\"],[0.6901960784313725,\"rgb(242,107,73)\"],[0.7529411764705882,\"rgb(244,135,95)\"],[0.8156862745098039,\"rgb(245,162,122)\"],[0.8784313725490196,\"rgb(246,188,153)\"],[0.9411764705882353,\"rgb(247,212,187)\"],[1.0,\"rgb(250,234,220)\"]],\"type\":\"histogram2dcontour\"}],\"mesh3d\":[{\"colorbar\":{\"outlinewidth\":0,\"tickcolor\":\"rgb(36,36,36)\",\"ticklen\":8,\"ticks\":\"outside\",\"tickwidth\":2},\"type\":\"mesh3d\"}],\"parcoords\":[{\"line\":{\"colorbar\":{\"outlinewidth\":0,\"tickcolor\":\"rgb(36,36,36)\",\"ticklen\":8,\"ticks\":\"outside\",\"tickwidth\":2}},\"type\":\"parcoords\"}],\"pie\":[{\"automargin\":true,\"type\":\"pie\"}],\"scatter\":[{\"marker\":{\"colorbar\":{\"outlinewidth\":0,\"tickcolor\":\"rgb(36,36,36)\",\"ticklen\":8,\"ticks\":\"outside\",\"tickwidth\":2}},\"type\":\"scatter\"}],\"scatter3d\":[{\"line\":{\"colorbar\":{\"outlinewidth\":0,\"tickcolor\":\"rgb(36,36,36)\",\"ticklen\":8,\"ticks\":\"outside\",\"tickwidth\":2}},\"marker\":{\"colorbar\":{\"outlinewidth\":0,\"tickcolor\":\"rgb(36,36,36)\",\"ticklen\":8,\"ticks\":\"outside\",\"tickwidth\":2}},\"type\":\"scatter3d\"}],\"scattercarpet\":[{\"marker\":{\"colorbar\":{\"outlinewidth\":0,\"tickcolor\":\"rgb(36,36,36)\",\"ticklen\":8,\"ticks\":\"outside\",\"tickwidth\":2}},\"type\":\"scattercarpet\"}],\"scattergeo\":[{\"marker\":{\"colorbar\":{\"outlinewidth\":0,\"tickcolor\":\"rgb(36,36,36)\",\"ticklen\":8,\"ticks\":\"outside\",\"tickwidth\":2}},\"type\":\"scattergeo\"}],\"scattergl\":[{\"marker\":{\"colorbar\":{\"outlinewidth\":0,\"tickcolor\":\"rgb(36,36,36)\",\"ticklen\":8,\"ticks\":\"outside\",\"tickwidth\":2}},\"type\":\"scattergl\"}],\"scattermapbox\":[{\"marker\":{\"colorbar\":{\"outlinewidth\":0,\"tickcolor\":\"rgb(36,36,36)\",\"ticklen\":8,\"ticks\":\"outside\",\"tickwidth\":2}},\"type\":\"scattermapbox\"}],\"scatterpolar\":[{\"marker\":{\"colorbar\":{\"outlinewidth\":0,\"tickcolor\":\"rgb(36,36,36)\",\"ticklen\":8,\"ticks\":\"outside\",\"tickwidth\":2}},\"type\":\"scatterpolar\"}],\"scatterpolargl\":[{\"marker\":{\"colorbar\":{\"outlinewidth\":0,\"tickcolor\":\"rgb(36,36,36)\",\"ticklen\":8,\"ticks\":\"outside\",\"tickwidth\":2}},\"type\":\"scatterpolargl\"}],\"scatterternary\":[{\"marker\":{\"colorbar\":{\"outlinewidth\":0,\"tickcolor\":\"rgb(36,36,36)\",\"ticklen\":8,\"ticks\":\"outside\",\"tickwidth\":2}},\"type\":\"scatterternary\"}],\"surface\":[{\"colorbar\":{\"outlinewidth\":0,\"tickcolor\":\"rgb(36,36,36)\",\"ticklen\":8,\"ticks\":\"outside\",\"tickwidth\":2},\"colorscale\":[[0.0,\"rgb(2,4,25)\"],[0.06274509803921569,\"rgb(24,15,41)\"],[0.12549019607843137,\"rgb(47,23,57)\"],[0.18823529411764706,\"rgb(71,28,72)\"],[0.25098039215686274,\"rgb(97,30,82)\"],[0.3137254901960784,\"rgb(123,30,89)\"],[0.3764705882352941,\"rgb(150,27,91)\"],[0.4392156862745098,\"rgb(177,22,88)\"],[0.5019607843137255,\"rgb(203,26,79)\"],[0.5647058823529412,\"rgb(223,47,67)\"],[0.6274509803921569,\"rgb(236,76,61)\"],[0.6901960784313725,\"rgb(242,107,73)\"],[0.7529411764705882,\"rgb(244,135,95)\"],[0.8156862745098039,\"rgb(245,162,122)\"],[0.8784313725490196,\"rgb(246,188,153)\"],[0.9411764705882353,\"rgb(247,212,187)\"],[1.0,\"rgb(250,234,220)\"]],\"type\":\"surface\"}],\"table\":[{\"cells\":{\"fill\":{\"color\":\"rgb(231,231,240)\"},\"line\":{\"color\":\"white\"}},\"header\":{\"fill\":{\"color\":\"rgb(183,183,191)\"},\"line\":{\"color\":\"white\"}},\"type\":\"table\"}]},\"layout\":{\"annotationdefaults\":{\"arrowcolor\":\"rgb(67,103,167)\"},\"autotypenumbers\":\"strict\",\"coloraxis\":{\"colorbar\":{\"outlinewidth\":0,\"tickcolor\":\"rgb(36,36,36)\",\"ticklen\":8,\"ticks\":\"outside\",\"tickwidth\":2}},\"colorscale\":{\"sequential\":[[0.0,\"rgb(2,4,25)\"],[0.06274509803921569,\"rgb(24,15,41)\"],[0.12549019607843137,\"rgb(47,23,57)\"],[0.18823529411764706,\"rgb(71,28,72)\"],[0.25098039215686274,\"rgb(97,30,82)\"],[0.3137254901960784,\"rgb(123,30,89)\"],[0.3764705882352941,\"rgb(150,27,91)\"],[0.4392156862745098,\"rgb(177,22,88)\"],[0.5019607843137255,\"rgb(203,26,79)\"],[0.5647058823529412,\"rgb(223,47,67)\"],[0.6274509803921569,\"rgb(236,76,61)\"],[0.6901960784313725,\"rgb(242,107,73)\"],[0.7529411764705882,\"rgb(244,135,95)\"],[0.8156862745098039,\"rgb(245,162,122)\"],[0.8784313725490196,\"rgb(246,188,153)\"],[0.9411764705882353,\"rgb(247,212,187)\"],[1.0,\"rgb(250,234,220)\"]],\"sequentialminus\":[[0.0,\"rgb(2,4,25)\"],[0.06274509803921569,\"rgb(24,15,41)\"],[0.12549019607843137,\"rgb(47,23,57)\"],[0.18823529411764706,\"rgb(71,28,72)\"],[0.25098039215686274,\"rgb(97,30,82)\"],[0.3137254901960784,\"rgb(123,30,89)\"],[0.3764705882352941,\"rgb(150,27,91)\"],[0.4392156862745098,\"rgb(177,22,88)\"],[0.5019607843137255,\"rgb(203,26,79)\"],[0.5647058823529412,\"rgb(223,47,67)\"],[0.6274509803921569,\"rgb(236,76,61)\"],[0.6901960784313725,\"rgb(242,107,73)\"],[0.7529411764705882,\"rgb(244,135,95)\"],[0.8156862745098039,\"rgb(245,162,122)\"],[0.8784313725490196,\"rgb(246,188,153)\"],[0.9411764705882353,\"rgb(247,212,187)\"],[1.0,\"rgb(250,234,220)\"]]},\"colorway\":[\"rgb(76,114,176)\",\"rgb(221,132,82)\",\"rgb(85,168,104)\",\"rgb(196,78,82)\",\"rgb(129,114,179)\",\"rgb(147,120,96)\",\"rgb(218,139,195)\",\"rgb(140,140,140)\",\"rgb(204,185,116)\",\"rgb(100,181,205)\"],\"font\":{\"color\":\"rgb(36,36,36)\"},\"geo\":{\"bgcolor\":\"white\",\"lakecolor\":\"white\",\"landcolor\":\"rgb(234,234,242)\",\"showlakes\":true,\"showland\":true,\"subunitcolor\":\"white\"},\"hoverlabel\":{\"align\":\"left\"},\"hovermode\":\"closest\",\"paper_bgcolor\":\"white\",\"plot_bgcolor\":\"rgb(234,234,242)\",\"polar\":{\"angularaxis\":{\"gridcolor\":\"white\",\"linecolor\":\"white\",\"showgrid\":true,\"ticks\":\"\"},\"bgcolor\":\"rgb(234,234,242)\",\"radialaxis\":{\"gridcolor\":\"white\",\"linecolor\":\"white\",\"showgrid\":true,\"ticks\":\"\"}},\"scene\":{\"xaxis\":{\"backgroundcolor\":\"rgb(234,234,242)\",\"gridcolor\":\"white\",\"gridwidth\":2,\"linecolor\":\"white\",\"showbackground\":true,\"showgrid\":true,\"ticks\":\"\",\"zerolinecolor\":\"white\"},\"yaxis\":{\"backgroundcolor\":\"rgb(234,234,242)\",\"gridcolor\":\"white\",\"gridwidth\":2,\"linecolor\":\"white\",\"showbackground\":true,\"showgrid\":true,\"ticks\":\"\",\"zerolinecolor\":\"white\"},\"zaxis\":{\"backgroundcolor\":\"rgb(234,234,242)\",\"gridcolor\":\"white\",\"gridwidth\":2,\"linecolor\":\"white\",\"showbackground\":true,\"showgrid\":true,\"ticks\":\"\",\"zerolinecolor\":\"white\"}},\"shapedefaults\":{\"fillcolor\":\"rgb(67,103,167)\",\"line\":{\"width\":0},\"opacity\":0.5},\"ternary\":{\"aaxis\":{\"gridcolor\":\"white\",\"linecolor\":\"white\",\"showgrid\":true,\"ticks\":\"\"},\"baxis\":{\"gridcolor\":\"white\",\"linecolor\":\"white\",\"showgrid\":true,\"ticks\":\"\"},\"bgcolor\":\"rgb(234,234,242)\",\"caxis\":{\"gridcolor\":\"white\",\"linecolor\":\"white\",\"showgrid\":true,\"ticks\":\"\"}},\"xaxis\":{\"automargin\":true,\"gridcolor\":\"white\",\"linecolor\":\"white\",\"showgrid\":true,\"ticks\":\"\",\"title\":{\"standoff\":15},\"zerolinecolor\":\"white\"},\"yaxis\":{\"automargin\":true,\"gridcolor\":\"white\",\"linecolor\":\"white\",\"showgrid\":true,\"ticks\":\"\",\"title\":{\"standoff\":15},\"zerolinecolor\":\"white\"}}},\"legend\":{\"tracegroupgap\":0},\"title\":{\"text\":\"Scatter plot matrix of Significant Predictors of Final MCAT\"},\"dragmode\":\"select\"},                        {\"responsive\": true}                    ).then(function(){\n",
              "                            \n",
              "var gd = document.getElementById('20769819-fc69-452d-bea9-573224cbac45');\n",
              "var x = new MutationObserver(function (mutations, observer) {{\n",
              "        var display = window.getComputedStyle(gd).display;\n",
              "        if (!display || display === 'none') {{\n",
              "            console.log([gd, 'removed!']);\n",
              "            Plotly.purge(gd);\n",
              "            observer.disconnect();\n",
              "        }}\n",
              "}});\n",
              "\n",
              "// Listen for the removal of the full notebook cells\n",
              "var notebookContainer = gd.closest('#notebook-container');\n",
              "if (notebookContainer) {{\n",
              "    x.observe(notebookContainer, {childList: true});\n",
              "}}\n",
              "\n",
              "// Listen for the clearing of the current output cell\n",
              "var outputEl = gd.closest('.output');\n",
              "if (outputEl) {{\n",
              "    x.observe(outputEl, {childList: true});\n",
              "}}\n",
              "\n",
              "                        })                };                            </script>        </div>\n",
              "</body>\n",
              "</html>"
            ]
          },
          "metadata": {}
        }
      ]
    },
    {
      "cell_type": "markdown",
      "source": [
        "#####dichtomos variables "
      ],
      "metadata": {
        "id": "R92lceNmpIkJ"
      }
    },
    {
      "cell_type": "code",
      "source": [
        "MCAT['good_bio1'] = np.where(MCAT.B1 >= 90, '1','0')\n",
        "MCAT['good_bio2'] = np.where(MCAT.B2 >= 90, '1','0')\n",
        "MCAT['good_Organic1'] = np.where(MCAT.O1 >= 90, '1','0')\n",
        "MCAT['good_Organic2'] = np.where(MCAT.O2 >= 90, '1','0')\n",
        "MCAT['good_GC1'] = np.where(MCAT.GC1 >= 90, '1','0')\n",
        "MCAT['good_GC2'] = np.where(MCAT.GC2 >= 90, '1','0')\n",
        "MCAT['good_biochem'] = np.where(MCAT.Biochem >= 90, '1','0')\n",
        "MCAT['good_P1'] = np.where(MCAT.P1 >= 90, '1','0')\n",
        "MCAT['good_P12'] = np.where(MCAT.P2 >= 90, '1','0')"
      ],
      "metadata": {
        "id": "CWv-uLgbpHvM"
      },
      "execution_count": null,
      "outputs": []
    },
    {
      "cell_type": "code",
      "source": [
        "y, x = dmatrices(\n",
        "    'Final ~ good_bio1 + good_bio2 + good_Organic1 + good_Organic2 + good_GC1 + good_GC2 + good_biochem + good_P1 + good_P12 +UG_STEM + UG_SS',\n",
        "    data = MCAT\n",
        ")"
      ],
      "metadata": {
        "id": "PytMHJJ6qQkO"
      },
      "execution_count": null,
      "outputs": []
    },
    {
      "cell_type": "code",
      "source": [
        "multi_lin_model = sm.OLS(y,x). fit()\n",
        "multi_lin_model.summary2()"
      ],
      "metadata": {
        "colab": {
          "base_uri": "https://localhost:8080/",
          "height": 536
        },
        "id": "FtvFB2kaqlAD",
        "outputId": "f73e4cca-2f1d-4f64-ef7a-fcce6cad2697"
      },
      "execution_count": null,
      "outputs": [
        {
          "output_type": "execute_result",
          "data": {
            "text/plain": [
              "<class 'statsmodels.iolib.summary2.Summary'>\n",
              "\"\"\"\n",
              "                   Results: Ordinary least squares\n",
              "======================================================================\n",
              "Model:                 OLS               Adj. R-squared:      0.348   \n",
              "Dependent Variable:    Final             AIC:                 884.5328\n",
              "Date:                  2023-03-02 17:46  BIC:                 919.9179\n",
              "No. Observations:      141               Log-Likelihood:      -430.27 \n",
              "Df Model:              11                F-statistic:         7.807   \n",
              "Df Residuals:          129               Prob (F-statistic):  2.92e-10\n",
              "R-squared:             0.400             Scale:               28.621  \n",
              "----------------------------------------------------------------------\n",
              "                    Coef.   Std.Err.    t     P>|t|   [0.025   0.975] \n",
              "----------------------------------------------------------------------\n",
              "Intercept          499.6765   2.4882 200.8192 0.0000 494.7535 504.5994\n",
              "good_bio1[T.1]       6.1753   1.5490   3.9867 0.0001   3.1106   9.2400\n",
              "good_bio2[T.1]       2.3563   1.7645   1.3354 0.1841  -1.1349   5.8475\n",
              "good_Organic1[T.1]  -1.0943   1.2448  -0.8791 0.3810  -3.5571   1.3685\n",
              "good_Organic2[T.1]   5.1109   1.3963   3.6604 0.0004   2.3484   7.8735\n",
              "good_GC1[T.1]        0.9762   2.6964   0.3621 0.7179  -4.3586   6.3111\n",
              "good_GC2[T.1]        1.4791   2.3553   0.6280 0.5311  -3.1809   6.1391\n",
              "good_biochem[T.1]   -2.2870   1.5488  -1.4766 0.1422  -5.3514   0.7774\n",
              "good_P1[T.1]         0.8991   1.8181   0.4945 0.6218  -2.6980   4.4962\n",
              "good_P12[T.1]       -0.6917   1.9444  -0.3557 0.7226  -4.5388   3.1554\n",
              "UG_STEM              2.6273   1.4492   1.8130 0.0722  -0.2399   5.4946\n",
              "UG_SS               -2.6651   1.1622  -2.2931 0.0235  -4.9645  -0.3656\n",
              "----------------------------------------------------------------------\n",
              "Omnibus:                0.373          Durbin-Watson:            1.740\n",
              "Prob(Omnibus):          0.830          Jarque-Bera (JB):         0.531\n",
              "Skew:                   -0.049         Prob(JB):                 0.767\n",
              "Kurtosis:               2.715          Condition No.:            21   \n",
              "======================================================================\n",
              "\n",
              "\"\"\""
            ],
            "text/html": [
              "<table class=\"simpletable\">\n",
              "<tr>\n",
              "        <td>Model:</td>               <td>OLS</td>         <td>Adj. R-squared:</td>     <td>0.348</td> \n",
              "</tr>\n",
              "<tr>\n",
              "  <td>Dependent Variable:</td>       <td>Final</td>             <td>AIC:</td>         <td>884.5328</td>\n",
              "</tr>\n",
              "<tr>\n",
              "         <td>Date:</td>        <td>2023-03-02 17:46</td>        <td>BIC:</td>         <td>919.9179</td>\n",
              "</tr>\n",
              "<tr>\n",
              "   <td>No. Observations:</td>         <td>141</td>         <td>Log-Likelihood:</td>    <td>-430.27</td>\n",
              "</tr>\n",
              "<tr>\n",
              "       <td>Df Model:</td>             <td>11</td>           <td>F-statistic:</td>       <td>7.807</td> \n",
              "</tr>\n",
              "<tr>\n",
              "     <td>Df Residuals:</td>           <td>129</td>       <td>Prob (F-statistic):</td> <td>2.92e-10</td>\n",
              "</tr>\n",
              "<tr>\n",
              "      <td>R-squared:</td>            <td>0.400</td>            <td>Scale:</td>         <td>28.621</td> \n",
              "</tr>\n",
              "</table>\n",
              "<table class=\"simpletable\">\n",
              "<tr>\n",
              "           <td></td>            <th>Coef.</th>  <th>Std.Err.</th>     <th>t</th>     <th>P>|t|</th>  <th>[0.025</th>   <th>0.975]</th> \n",
              "</tr>\n",
              "<tr>\n",
              "  <th>Intercept</th>          <td>499.6765</td>  <td>2.4882</td>  <td>200.8192</td> <td>0.0000</td> <td>494.7535</td> <td>504.5994</td>\n",
              "</tr>\n",
              "<tr>\n",
              "  <th>good_bio1[T.1]</th>      <td>6.1753</td>   <td>1.5490</td>   <td>3.9867</td>  <td>0.0001</td>  <td>3.1106</td>   <td>9.2400</td> \n",
              "</tr>\n",
              "<tr>\n",
              "  <th>good_bio2[T.1]</th>      <td>2.3563</td>   <td>1.7645</td>   <td>1.3354</td>  <td>0.1841</td>  <td>-1.1349</td>  <td>5.8475</td> \n",
              "</tr>\n",
              "<tr>\n",
              "  <th>good_Organic1[T.1]</th>  <td>-1.0943</td>  <td>1.2448</td>   <td>-0.8791</td> <td>0.3810</td>  <td>-3.5571</td>  <td>1.3685</td> \n",
              "</tr>\n",
              "<tr>\n",
              "  <th>good_Organic2[T.1]</th>  <td>5.1109</td>   <td>1.3963</td>   <td>3.6604</td>  <td>0.0004</td>  <td>2.3484</td>   <td>7.8735</td> \n",
              "</tr>\n",
              "<tr>\n",
              "  <th>good_GC1[T.1]</th>       <td>0.9762</td>   <td>2.6964</td>   <td>0.3621</td>  <td>0.7179</td>  <td>-4.3586</td>  <td>6.3111</td> \n",
              "</tr>\n",
              "<tr>\n",
              "  <th>good_GC2[T.1]</th>       <td>1.4791</td>   <td>2.3553</td>   <td>0.6280</td>  <td>0.5311</td>  <td>-3.1809</td>  <td>6.1391</td> \n",
              "</tr>\n",
              "<tr>\n",
              "  <th>good_biochem[T.1]</th>   <td>-2.2870</td>  <td>1.5488</td>   <td>-1.4766</td> <td>0.1422</td>  <td>-5.3514</td>  <td>0.7774</td> \n",
              "</tr>\n",
              "<tr>\n",
              "  <th>good_P1[T.1]</th>        <td>0.8991</td>   <td>1.8181</td>   <td>0.4945</td>  <td>0.6218</td>  <td>-2.6980</td>  <td>4.4962</td> \n",
              "</tr>\n",
              "<tr>\n",
              "  <th>good_P12[T.1]</th>       <td>-0.6917</td>  <td>1.9444</td>   <td>-0.3557</td> <td>0.7226</td>  <td>-4.5388</td>  <td>3.1554</td> \n",
              "</tr>\n",
              "<tr>\n",
              "  <th>UG_STEM</th>             <td>2.6273</td>   <td>1.4492</td>   <td>1.8130</td>  <td>0.0722</td>  <td>-0.2399</td>  <td>5.4946</td> \n",
              "</tr>\n",
              "<tr>\n",
              "  <th>UG_SS</th>               <td>-2.6651</td>  <td>1.1622</td>   <td>-2.2931</td> <td>0.0235</td>  <td>-4.9645</td>  <td>-0.3656</td>\n",
              "</tr>\n",
              "</table>\n",
              "<table class=\"simpletable\">\n",
              "<tr>\n",
              "     <td>Omnibus:</td>     <td>0.373</td>  <td>Durbin-Watson:</td>   <td>1.740</td>\n",
              "</tr>\n",
              "<tr>\n",
              "  <td>Prob(Omnibus):</td>  <td>0.830</td> <td>Jarque-Bera (JB):</td> <td>0.531</td>\n",
              "</tr>\n",
              "<tr>\n",
              "       <td>Skew:</td>     <td>-0.049</td>     <td>Prob(JB):</td>     <td>0.767</td>\n",
              "</tr>\n",
              "<tr>\n",
              "     <td>Kurtosis:</td>    <td>2.715</td>  <td>Condition No.:</td>    <td>21</td>  \n",
              "</tr>\n",
              "</table>"
            ]
          },
          "metadata": {},
          "execution_count": 227
        }
      ]
    },
    {
      "cell_type": "code",
      "source": [
        "var_mean_model1 = np.var(df2.Final)\n",
        "var_best_model1 = np.var(multi_lin_model.resid)\n",
        "(var_mean_model1 - var_best_model1) / var_mean_model1"
      ],
      "metadata": {
        "colab": {
          "base_uri": "https://localhost:8080/"
        },
        "id": "b0zDHsaWWPl1",
        "outputId": "05b15a8b-7ccf-4842-b7ee-325d93ec01df"
      },
      "execution_count": null,
      "outputs": [
        {
          "output_type": "execute_result",
          "data": {
            "text/plain": [
              "0.4081372128585581"
            ]
          },
          "metadata": {},
          "execution_count": 228
        }
      ]
    },
    {
      "cell_type": "markdown",
      "source": [
        "R squared decreases slightly when you create dummy variables for course grades. the model fit is lower. "
      ],
      "metadata": {
        "id": "5KnlpNdHWUsm"
      }
    },
    {
      "cell_type": "markdown",
      "source": [
        "### Logistic Regressions"
      ],
      "metadata": {
        "id": "4ZVHa-Mceecd"
      }
    },
    {
      "cell_type": "markdown",
      "source": [
        "![image.png](data:image/png;base64,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)"
      ],
      "metadata": {
        "id": "L5mdEKRWd2K5"
      }
    },
    {
      "cell_type": "markdown",
      "source": [
        "![image.png](data:image/png;base64,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)"
      ],
      "metadata": {
        "id": "ynRB4yvQd58P"
      }
    },
    {
      "cell_type": "markdown",
      "source": [
        "Categorizing percents into dummy variables (above 90 vs below) for each course grade "
      ],
      "metadata": {
        "id": "pQ1Iz3nLeNOp"
      }
    },
    {
      "cell_type": "markdown",
      "source": [
        "#One-Way Anovas"
      ],
      "metadata": {
        "id": "2CaOYENwtaU8"
      }
    },
    {
      "cell_type": "code",
      "source": [
        "df = pd.read_excel('final_MCAT.xlsx')\n",
        "df.drop('Key',axis=1, inplace=True)"
      ],
      "metadata": {
        "id": "a72iN3jIu8pb"
      },
      "execution_count": null,
      "outputs": []
    },
    {
      "cell_type": "code",
      "source": [
        "df = df.loc[0:143,['Degree','Final']]"
      ],
      "metadata": {
        "id": "Qs4PGHWZtezK"
      },
      "execution_count": null,
      "outputs": []
    },
    {
      "cell_type": "markdown",
      "source": [
        "Getting rid of missing data"
      ],
      "metadata": {
        "id": "8KPxguk5vGiP"
      }
    },
    {
      "cell_type": "code",
      "source": [
        "df.info()"
      ],
      "metadata": {
        "colab": {
          "base_uri": "https://localhost:8080/"
        },
        "id": "oHcylKFCu93L",
        "outputId": "2c53b24c-921c-4507-c6c7-cd41452519ea"
      },
      "execution_count": null,
      "outputs": [
        {
          "output_type": "stream",
          "name": "stdout",
          "text": [
            "<class 'pandas.core.frame.DataFrame'>\n",
            "RangeIndex: 142 entries, 0 to 141\n",
            "Data columns (total 2 columns):\n",
            " #   Column  Non-Null Count  Dtype  \n",
            "---  ------  --------------  -----  \n",
            " 0   Degree  140 non-null    object \n",
            " 1   Final   141 non-null    float64\n",
            "dtypes: float64(1), object(1)\n",
            "memory usage: 2.3+ KB\n"
          ]
        }
      ]
    },
    {
      "cell_type": "code",
      "source": [
        "df = df.dropna(subset = ['Final'])\n",
        "df.info()"
      ],
      "metadata": {
        "colab": {
          "base_uri": "https://localhost:8080/"
        },
        "id": "3BMeqhacu_9b",
        "outputId": "5af36f06-c84c-43b7-92c8-e7a4fa63e8b0"
      },
      "execution_count": null,
      "outputs": [
        {
          "output_type": "stream",
          "name": "stdout",
          "text": [
            "<class 'pandas.core.frame.DataFrame'>\n",
            "Int64Index: 141 entries, 0 to 141\n",
            "Data columns (total 2 columns):\n",
            " #   Column  Non-Null Count  Dtype  \n",
            "---  ------  --------------  -----  \n",
            " 0   Degree  139 non-null    object \n",
            " 1   Final   141 non-null    float64\n",
            "dtypes: float64(1), object(1)\n",
            "memory usage: 3.3+ KB\n"
          ]
        }
      ]
    },
    {
      "cell_type": "code",
      "source": [
        "df = df.dropna(subset = ['Degree'])\n",
        "df.info()"
      ],
      "metadata": {
        "colab": {
          "base_uri": "https://localhost:8080/"
        },
        "id": "m-hQa1DAvDN1",
        "outputId": "a8cb68d3-27c8-4acf-8586-1548aec6a9c0"
      },
      "execution_count": null,
      "outputs": [
        {
          "output_type": "stream",
          "name": "stdout",
          "text": [
            "<class 'pandas.core.frame.DataFrame'>\n",
            "Int64Index: 139 entries, 0 to 141\n",
            "Data columns (total 2 columns):\n",
            " #   Column  Non-Null Count  Dtype  \n",
            "---  ------  --------------  -----  \n",
            " 0   Degree  139 non-null    object \n",
            " 1   Final   139 non-null    float64\n",
            "dtypes: float64(1), object(1)\n",
            "memory usage: 3.3+ KB\n"
          ]
        }
      ]
    },
    {
      "cell_type": "markdown",
      "source": [
        "###MCAT 1 by Degree"
      ],
      "metadata": {
        "id": "XgV7Q3Rlvopj"
      }
    },
    {
      "cell_type": "markdown",
      "source": [
        "#####Summary Statistics "
      ],
      "metadata": {
        "id": "fY7Ox9mRv-D_"
      }
    },
    {
      "cell_type": "code",
      "source": [
        "MCAT.MCAT_1.mean()"
      ],
      "metadata": {
        "colab": {
          "base_uri": "https://localhost:8080/"
        },
        "id": "xT3ncrRKwbkD",
        "outputId": "8f2bc204-4e82-42c4-9652-1d67b088d2d1"
      },
      "execution_count": null,
      "outputs": [
        {
          "output_type": "execute_result",
          "data": {
            "text/plain": [
              "509.6056338028169"
            ]
          },
          "metadata": {},
          "execution_count": 114
        }
      ]
    },
    {
      "cell_type": "code",
      "source": [
        "Degree = MCAT.groupby('Degree')['MCAT_1'].describe()\n",
        "round(Degree,1)"
      ],
      "metadata": {
        "colab": {
          "base_uri": "https://localhost:8080/",
          "height": 193
        },
        "id": "uAarXCOgvJF0",
        "outputId": "c60b6c7a-edca-4c07-c2b0-17e8a3b77c9b"
      },
      "execution_count": null,
      "outputs": [
        {
          "output_type": "execute_result",
          "data": {
            "text/plain": [
              "                 count    mean   std     min     25%     50%     75%     max\n",
              "Degree                                                                      \n",
              "Econ/Finnance   21.00% 511.40% 6.10% 498.00% 508.00% 510.00% 517.00% 521.00%\n",
              "Other           70.00% 509.30% 7.20% 493.00% 504.00% 510.50% 514.80% 524.00%\n",
              "STEM            18.00% 515.10% 6.00% 506.00% 511.00% 514.00% 520.80% 525.00%\n",
              "Social Sciences 31.00% 506.20% 7.20% 490.00% 501.50% 505.00% 510.50% 519.00%"
            ],
            "text/html": [
              "\n",
              "  <div id=\"df-d9d5e133-fedf-4af4-bc58-de92b767c713\">\n",
              "    <div class=\"colab-df-container\">\n",
              "      <div>\n",
              "<style scoped>\n",
              "    .dataframe tbody tr th:only-of-type {\n",
              "        vertical-align: middle;\n",
              "    }\n",
              "\n",
              "    .dataframe tbody tr th {\n",
              "        vertical-align: top;\n",
              "    }\n",
              "\n",
              "    .dataframe thead th {\n",
              "        text-align: right;\n",
              "    }\n",
              "</style>\n",
              "<table border=\"1\" class=\"dataframe\">\n",
              "  <thead>\n",
              "    <tr style=\"text-align: right;\">\n",
              "      <th></th>\n",
              "      <th>count</th>\n",
              "      <th>mean</th>\n",
              "      <th>std</th>\n",
              "      <th>min</th>\n",
              "      <th>25%</th>\n",
              "      <th>50%</th>\n",
              "      <th>75%</th>\n",
              "      <th>max</th>\n",
              "    </tr>\n",
              "    <tr>\n",
              "      <th>Degree</th>\n",
              "      <th></th>\n",
              "      <th></th>\n",
              "      <th></th>\n",
              "      <th></th>\n",
              "      <th></th>\n",
              "      <th></th>\n",
              "      <th></th>\n",
              "      <th></th>\n",
              "    </tr>\n",
              "  </thead>\n",
              "  <tbody>\n",
              "    <tr>\n",
              "      <th>Econ/Finnance</th>\n",
              "      <td>21.00%</td>\n",
              "      <td>511.40%</td>\n",
              "      <td>6.10%</td>\n",
              "      <td>498.00%</td>\n",
              "      <td>508.00%</td>\n",
              "      <td>510.00%</td>\n",
              "      <td>517.00%</td>\n",
              "      <td>521.00%</td>\n",
              "    </tr>\n",
              "    <tr>\n",
              "      <th>Other</th>\n",
              "      <td>70.00%</td>\n",
              "      <td>509.30%</td>\n",
              "      <td>7.20%</td>\n",
              "      <td>493.00%</td>\n",
              "      <td>504.00%</td>\n",
              "      <td>510.50%</td>\n",
              "      <td>514.80%</td>\n",
              "      <td>524.00%</td>\n",
              "    </tr>\n",
              "    <tr>\n",
              "      <th>STEM</th>\n",
              "      <td>18.00%</td>\n",
              "      <td>515.10%</td>\n",
              "      <td>6.00%</td>\n",
              "      <td>506.00%</td>\n",
              "      <td>511.00%</td>\n",
              "      <td>514.00%</td>\n",
              "      <td>520.80%</td>\n",
              "      <td>525.00%</td>\n",
              "    </tr>\n",
              "    <tr>\n",
              "      <th>Social Sciences</th>\n",
              "      <td>31.00%</td>\n",
              "      <td>506.20%</td>\n",
              "      <td>7.20%</td>\n",
              "      <td>490.00%</td>\n",
              "      <td>501.50%</td>\n",
              "      <td>505.00%</td>\n",
              "      <td>510.50%</td>\n",
              "      <td>519.00%</td>\n",
              "    </tr>\n",
              "  </tbody>\n",
              "</table>\n",
              "</div>\n",
              "      <button class=\"colab-df-convert\" onclick=\"convertToInteractive('df-d9d5e133-fedf-4af4-bc58-de92b767c713')\"\n",
              "              title=\"Convert this dataframe to an interactive table.\"\n",
              "              style=\"display:none;\">\n",
              "        \n",
              "  <svg xmlns=\"http://www.w3.org/2000/svg\" height=\"24px\"viewBox=\"0 0 24 24\"\n",
              "       width=\"24px\">\n",
              "    <path d=\"M0 0h24v24H0V0z\" fill=\"none\"/>\n",
              "    <path d=\"M18.56 5.44l.94 2.06.94-2.06 2.06-.94-2.06-.94-.94-2.06-.94 2.06-2.06.94zm-11 1L8.5 8.5l.94-2.06 2.06-.94-2.06-.94L8.5 2.5l-.94 2.06-2.06.94zm10 10l.94 2.06.94-2.06 2.06-.94-2.06-.94-.94-2.06-.94 2.06-2.06.94z\"/><path d=\"M17.41 7.96l-1.37-1.37c-.4-.4-.92-.59-1.43-.59-.52 0-1.04.2-1.43.59L10.3 9.45l-7.72 7.72c-.78.78-.78 2.05 0 2.83L4 21.41c.39.39.9.59 1.41.59.51 0 1.02-.2 1.41-.59l7.78-7.78 2.81-2.81c.8-.78.8-2.07 0-2.86zM5.41 20L4 18.59l7.72-7.72 1.47 1.35L5.41 20z\"/>\n",
              "  </svg>\n",
              "      </button>\n",
              "      \n",
              "  <style>\n",
              "    .colab-df-container {\n",
              "      display:flex;\n",
              "      flex-wrap:wrap;\n",
              "      gap: 12px;\n",
              "    }\n",
              "\n",
              "    .colab-df-convert {\n",
              "      background-color: #E8F0FE;\n",
              "      border: none;\n",
              "      border-radius: 50%;\n",
              "      cursor: pointer;\n",
              "      display: none;\n",
              "      fill: #1967D2;\n",
              "      height: 32px;\n",
              "      padding: 0 0 0 0;\n",
              "      width: 32px;\n",
              "    }\n",
              "\n",
              "    .colab-df-convert:hover {\n",
              "      background-color: #E2EBFA;\n",
              "      box-shadow: 0px 1px 2px rgba(60, 64, 67, 0.3), 0px 1px 3px 1px rgba(60, 64, 67, 0.15);\n",
              "      fill: #174EA6;\n",
              "    }\n",
              "\n",
              "    [theme=dark] .colab-df-convert {\n",
              "      background-color: #3B4455;\n",
              "      fill: #D2E3FC;\n",
              "    }\n",
              "\n",
              "    [theme=dark] .colab-df-convert:hover {\n",
              "      background-color: #434B5C;\n",
              "      box-shadow: 0px 1px 3px 1px rgba(0, 0, 0, 0.15);\n",
              "      filter: drop-shadow(0px 1px 2px rgba(0, 0, 0, 0.3));\n",
              "      fill: #FFFFFF;\n",
              "    }\n",
              "  </style>\n",
              "\n",
              "      <script>\n",
              "        const buttonEl =\n",
              "          document.querySelector('#df-d9d5e133-fedf-4af4-bc58-de92b767c713 button.colab-df-convert');\n",
              "        buttonEl.style.display =\n",
              "          google.colab.kernel.accessAllowed ? 'block' : 'none';\n",
              "\n",
              "        async function convertToInteractive(key) {\n",
              "          const element = document.querySelector('#df-d9d5e133-fedf-4af4-bc58-de92b767c713');\n",
              "          const dataTable =\n",
              "            await google.colab.kernel.invokeFunction('convertToInteractive',\n",
              "                                                     [key], {});\n",
              "          if (!dataTable) return;\n",
              "\n",
              "          const docLinkHtml = 'Like what you see? Visit the ' +\n",
              "            '<a target=\"_blank\" href=https://colab.research.google.com/notebooks/data_table.ipynb>data table notebook</a>'\n",
              "            + ' to learn more about interactive tables.';\n",
              "          element.innerHTML = '';\n",
              "          dataTable['output_type'] = 'display_data';\n",
              "          await google.colab.output.renderOutput(dataTable, element);\n",
              "          const docLink = document.createElement('div');\n",
              "          docLink.innerHTML = docLinkHtml;\n",
              "          element.appendChild(docLink);\n",
              "        }\n",
              "      </script>\n",
              "    </div>\n",
              "  </div>\n",
              "  "
            ]
          },
          "metadata": {},
          "execution_count": 115
        }
      ]
    },
    {
      "cell_type": "code",
      "source": [
        "Econ = MCAT[MCAT.Degree == 'Econ/Finnance']['MCAT_1'].to_numpy()\n",
        "Other = MCAT[MCAT.Degree == 'Other']['MCAT_1'].to_numpy()\n",
        "STEM = MCAT[MCAT.Degree == 'STEM']['MCAT_1'].to_numpy()\n",
        "Social_Sciences = MCAT[MCAT.Degree == 'Social Sciences']['MCAT_1'].to_numpy()"
      ],
      "metadata": {
        "id": "lrtZDG3Wvqui"
      },
      "execution_count": null,
      "outputs": []
    },
    {
      "cell_type": "code",
      "source": [
        "stats.f_oneway(Econ,Other,STEM,Social_Sciences)"
      ],
      "metadata": {
        "colab": {
          "base_uri": "https://localhost:8080/"
        },
        "id": "7-cGrkJPwAHd",
        "outputId": "c3433d84-97eb-4373-c2e0-837af95b12cf"
      },
      "execution_count": null,
      "outputs": [
        {
          "output_type": "execute_result",
          "data": {
            "text/plain": [
              "F_onewayResult(statistic=6.91537578675191, pvalue=0.00022832982865826642)"
            ]
          },
          "metadata": {},
          "execution_count": 117
        }
      ]
    },
    {
      "cell_type": "markdown",
      "source": [
        "There is a statistically significant difference between majors and their MCAT scores, F = 6.91, p-value = .00. The overall average MCAT score was 509.6 with degree averages of 511.4 for econ majors, 509.3 for STEM majors, 515.1 for STEM majors, and 506.2 for Social Science majors "
      ],
      "metadata": {
        "id": "bXJlC1_dwIFG"
      }
    },
    {
      "cell_type": "code",
      "source": [
        "pio.templates.default = 'seaborn'"
      ],
      "metadata": {
        "id": "lIzAIcaQLqNg"
      },
      "execution_count": null,
      "outputs": []
    },
    {
      "cell_type": "markdown",
      "source": [
        "#####Box Plots"
      ],
      "metadata": {
        "id": "r04JYYk4yZD_"
      }
    },
    {
      "cell_type": "code",
      "source": [
        "degree_graph = go.Figure()\n",
        "\n",
        "degree_graph.add_trace(go.Box(\n",
        "    y=Econ,\n",
        "    name= 'Econ or Finnance',\n",
        "    marker_color = 'royalblue',\n",
        "    boxmean=True,\n",
        "    boxpoints='all'\n",
        "))\n",
        "\n",
        "degree_graph.add_trace(go.Box(\n",
        "    y=STEM,\n",
        "    name= 'STEM',\n",
        "    marker_color = 'lightgreen',\n",
        "    boxmean=True,\n",
        "    boxpoints='all'\n",
        "))\n",
        "\n",
        "degree_graph.add_trace(go.Box(\n",
        "    y=Social_Sciences,\n",
        "    name= 'Social Sciences',\n",
        "    marker_color = 'darkblue',\n",
        "    boxmean=True,\n",
        "    boxpoints='all'\n",
        "))\n",
        "\n",
        "\n",
        "degree_graph.add_trace(go.Box(\n",
        "    y=Other,\n",
        "    name= 'Other',\n",
        "    marker_color = 'purple',\n",
        "    boxmean=True,\n",
        "    boxpoints='all'\n",
        "))\n",
        "\n",
        "degree_graph.update_layout(title='MCAT Scores by Degree',\n",
        "                           xaxis={'title':'Undergraduate Degree'},\n",
        "                           yaxis={'title':'MCAT scores'})\n",
        "\n",
        "degree_graph.show()"
      ],
      "metadata": {
        "colab": {
          "base_uri": "https://localhost:8080/",
          "height": 542
        },
        "id": "7MbYDnNFyOTf",
        "outputId": "17384908-7190-4b9f-d24c-b131189df371"
      },
      "execution_count": null,
      "outputs": [
        {
          "output_type": "display_data",
          "data": {
            "text/html": [
              "<html>\n",
              "<head><meta charset=\"utf-8\" /></head>\n",
              "<body>\n",
              "    <div>            <script src=\"https://cdnjs.cloudflare.com/ajax/libs/mathjax/2.7.5/MathJax.js?config=TeX-AMS-MML_SVG\"></script><script type=\"text/javascript\">if (window.MathJax) {MathJax.Hub.Config({SVG: {font: \"STIX-Web\"}});}</script>                <script type=\"text/javascript\">window.PlotlyConfig = {MathJaxConfig: 'local'};</script>\n",
              "        <script src=\"https://cdn.plot.ly/plotly-2.8.3.min.js\"></script>                <div id=\"229c33b7-265a-48ed-81c4-98c019ffd6ff\" class=\"plotly-graph-div\" style=\"height:525px; width:100%;\"></div>            <script type=\"text/javascript\">                                    window.PLOTLYENV=window.PLOTLYENV || {};                                    if (document.getElementById(\"229c33b7-265a-48ed-81c4-98c019ffd6ff\")) {                    Plotly.newPlot(                        \"229c33b7-265a-48ed-81c4-98c019ffd6ff\",                        [{\"boxmean\":true,\"boxpoints\":\"all\",\"marker\":{\"color\":\"royalblue\"},\"name\":\"Econ or Finnance\",\"y\":[510,498,509,521,519,506,518,512,506,506,509,518,508,510,510,520,512,502,512,517,516],\"type\":\"box\"},{\"boxmean\":true,\"boxpoints\":\"all\",\"marker\":{\"color\":\"lightgreen\"},\"name\":\"STEM\",\"y\":[514,511,512,514,515,525,520,522,506,525,506,509,511,517,511,521,512,521],\"type\":\"box\"},{\"boxmean\":true,\"boxpoints\":\"all\",\"marker\":{\"color\":\"darkblue\"},\"name\":\"Social Sciences\",\"y\":[508,503,504,509,499,502,511,517,502,510,504,497,504,503,515,511,509,510,501,501,510,499,515,510,500,492,505,490,513,518,519],\"type\":\"box\"},{\"boxmean\":true,\"boxpoints\":\"all\",\"marker\":{\"color\":\"purple\"},\"name\":\"Other\",\"y\":[524,513,507,513,513,500,504,520,514,503,517,512,504,517,504,514,505,516,505,512,506,505,502,512,511,510,516,516,502,520,519,514,511,504,520,494,504,514,508,506,510,512,500,506,500,511,509,515,515,512,516,511,502,510,503,495,500,519,515,518,495,518,514,498,506,509,499,493,518,509],\"type\":\"box\"}],                        {\"template\":{\"data\":{\"bar\":[{\"error_x\":{\"color\":\"rgb(36,36,36)\"},\"error_y\":{\"color\":\"rgb(36,36,36)\"},\"marker\":{\"line\":{\"color\":\"rgb(234,234,242)\",\"width\":0.5},\"pattern\":{\"fillmode\":\"overlay\",\"size\":10,\"solidity\":0.2}},\"type\":\"bar\"}],\"barpolar\":[{\"marker\":{\"line\":{\"color\":\"rgb(234,234,242)\",\"width\":0.5},\"pattern\":{\"fillmode\":\"overlay\",\"size\":10,\"solidity\":0.2}},\"type\":\"barpolar\"}],\"carpet\":[{\"aaxis\":{\"endlinecolor\":\"rgb(36,36,36)\",\"gridcolor\":\"white\",\"linecolor\":\"white\",\"minorgridcolor\":\"white\",\"startlinecolor\":\"rgb(36,36,36)\"},\"baxis\":{\"endlinecolor\":\"rgb(36,36,36)\",\"gridcolor\":\"white\",\"linecolor\":\"white\",\"minorgridcolor\":\"white\",\"startlinecolor\":\"rgb(36,36,36)\"},\"type\":\"carpet\"}],\"choropleth\":[{\"colorbar\":{\"outlinewidth\":0,\"tickcolor\":\"rgb(36,36,36)\",\"ticklen\":8,\"ticks\":\"outside\",\"tickwidth\":2},\"type\":\"choropleth\"}],\"contour\":[{\"colorbar\":{\"outlinewidth\":0,\"tickcolor\":\"rgb(36,36,36)\",\"ticklen\":8,\"ticks\":\"outside\",\"tickwidth\":2},\"colorscale\":[[0.0,\"rgb(2,4,25)\"],[0.06274509803921569,\"rgb(24,15,41)\"],[0.12549019607843137,\"rgb(47,23,57)\"],[0.18823529411764706,\"rgb(71,28,72)\"],[0.25098039215686274,\"rgb(97,30,82)\"],[0.3137254901960784,\"rgb(123,30,89)\"],[0.3764705882352941,\"rgb(150,27,91)\"],[0.4392156862745098,\"rgb(177,22,88)\"],[0.5019607843137255,\"rgb(203,26,79)\"],[0.5647058823529412,\"rgb(223,47,67)\"],[0.6274509803921569,\"rgb(236,76,61)\"],[0.6901960784313725,\"rgb(242,107,73)\"],[0.7529411764705882,\"rgb(244,135,95)\"],[0.8156862745098039,\"rgb(245,162,122)\"],[0.8784313725490196,\"rgb(246,188,153)\"],[0.9411764705882353,\"rgb(247,212,187)\"],[1.0,\"rgb(250,234,220)\"]],\"type\":\"contour\"}],\"contourcarpet\":[{\"colorbar\":{\"outlinewidth\":0,\"tickcolor\":\"rgb(36,36,36)\",\"ticklen\":8,\"ticks\":\"outside\",\"tickwidth\":2},\"type\":\"contourcarpet\"}],\"heatmap\":[{\"colorbar\":{\"outlinewidth\":0,\"tickcolor\":\"rgb(36,36,36)\",\"ticklen\":8,\"ticks\":\"outside\",\"tickwidth\":2},\"colorscale\":[[0.0,\"rgb(2,4,25)\"],[0.06274509803921569,\"rgb(24,15,41)\"],[0.12549019607843137,\"rgb(47,23,57)\"],[0.18823529411764706,\"rgb(71,28,72)\"],[0.25098039215686274,\"rgb(97,30,82)\"],[0.3137254901960784,\"rgb(123,30,89)\"],[0.3764705882352941,\"rgb(150,27,91)\"],[0.4392156862745098,\"rgb(177,22,88)\"],[0.5019607843137255,\"rgb(203,26,79)\"],[0.5647058823529412,\"rgb(223,47,67)\"],[0.6274509803921569,\"rgb(236,76,61)\"],[0.6901960784313725,\"rgb(242,107,73)\"],[0.7529411764705882,\"rgb(244,135,95)\"],[0.8156862745098039,\"rgb(245,162,122)\"],[0.8784313725490196,\"rgb(246,188,153)\"],[0.9411764705882353,\"rgb(247,212,187)\"],[1.0,\"rgb(250,234,220)\"]],\"type\":\"heatmap\"}],\"heatmapgl\":[{\"colorbar\":{\"outlinewidth\":0,\"tickcolor\":\"rgb(36,36,36)\",\"ticklen\":8,\"ticks\":\"outside\",\"tickwidth\":2},\"colorscale\":[[0.0,\"rgb(2,4,25)\"],[0.06274509803921569,\"rgb(24,15,41)\"],[0.12549019607843137,\"rgb(47,23,57)\"],[0.18823529411764706,\"rgb(71,28,72)\"],[0.25098039215686274,\"rgb(97,30,82)\"],[0.3137254901960784,\"rgb(123,30,89)\"],[0.3764705882352941,\"rgb(150,27,91)\"],[0.4392156862745098,\"rgb(177,22,88)\"],[0.5019607843137255,\"rgb(203,26,79)\"],[0.5647058823529412,\"rgb(223,47,67)\"],[0.6274509803921569,\"rgb(236,76,61)\"],[0.6901960784313725,\"rgb(242,107,73)\"],[0.7529411764705882,\"rgb(244,135,95)\"],[0.8156862745098039,\"rgb(245,162,122)\"],[0.8784313725490196,\"rgb(246,188,153)\"],[0.9411764705882353,\"rgb(247,212,187)\"],[1.0,\"rgb(250,234,220)\"]],\"type\":\"heatmapgl\"}],\"histogram\":[{\"marker\":{\"pattern\":{\"fillmode\":\"overlay\",\"size\":10,\"solidity\":0.2}},\"type\":\"histogram\"}],\"histogram2d\":[{\"colorbar\":{\"outlinewidth\":0,\"tickcolor\":\"rgb(36,36,36)\",\"ticklen\":8,\"ticks\":\"outside\",\"tickwidth\":2},\"colorscale\":[[0.0,\"rgb(2,4,25)\"],[0.06274509803921569,\"rgb(24,15,41)\"],[0.12549019607843137,\"rgb(47,23,57)\"],[0.18823529411764706,\"rgb(71,28,72)\"],[0.25098039215686274,\"rgb(97,30,82)\"],[0.3137254901960784,\"rgb(123,30,89)\"],[0.3764705882352941,\"rgb(150,27,91)\"],[0.4392156862745098,\"rgb(177,22,88)\"],[0.5019607843137255,\"rgb(203,26,79)\"],[0.5647058823529412,\"rgb(223,47,67)\"],[0.6274509803921569,\"rgb(236,76,61)\"],[0.6901960784313725,\"rgb(242,107,73)\"],[0.7529411764705882,\"rgb(244,135,95)\"],[0.8156862745098039,\"rgb(245,162,122)\"],[0.8784313725490196,\"rgb(246,188,153)\"],[0.9411764705882353,\"rgb(247,212,187)\"],[1.0,\"rgb(250,234,220)\"]],\"type\":\"histogram2d\"}],\"histogram2dcontour\":[{\"colorbar\":{\"outlinewidth\":0,\"tickcolor\":\"rgb(36,36,36)\",\"ticklen\":8,\"ticks\":\"outside\",\"tickwidth\":2},\"colorscale\":[[0.0,\"rgb(2,4,25)\"],[0.06274509803921569,\"rgb(24,15,41)\"],[0.12549019607843137,\"rgb(47,23,57)\"],[0.18823529411764706,\"rgb(71,28,72)\"],[0.25098039215686274,\"rgb(97,30,82)\"],[0.3137254901960784,\"rgb(123,30,89)\"],[0.3764705882352941,\"rgb(150,27,91)\"],[0.4392156862745098,\"rgb(177,22,88)\"],[0.5019607843137255,\"rgb(203,26,79)\"],[0.5647058823529412,\"rgb(223,47,67)\"],[0.6274509803921569,\"rgb(236,76,61)\"],[0.6901960784313725,\"rgb(242,107,73)\"],[0.7529411764705882,\"rgb(244,135,95)\"],[0.8156862745098039,\"rgb(245,162,122)\"],[0.8784313725490196,\"rgb(246,188,153)\"],[0.9411764705882353,\"rgb(247,212,187)\"],[1.0,\"rgb(250,234,220)\"]],\"type\":\"histogram2dcontour\"}],\"mesh3d\":[{\"colorbar\":{\"outlinewidth\":0,\"tickcolor\":\"rgb(36,36,36)\",\"ticklen\":8,\"ticks\":\"outside\",\"tickwidth\":2},\"type\":\"mesh3d\"}],\"parcoords\":[{\"line\":{\"colorbar\":{\"outlinewidth\":0,\"tickcolor\":\"rgb(36,36,36)\",\"ticklen\":8,\"ticks\":\"outside\",\"tickwidth\":2}},\"type\":\"parcoords\"}],\"pie\":[{\"automargin\":true,\"type\":\"pie\"}],\"scatter\":[{\"marker\":{\"colorbar\":{\"outlinewidth\":0,\"tickcolor\":\"rgb(36,36,36)\",\"ticklen\":8,\"ticks\":\"outside\",\"tickwidth\":2}},\"type\":\"scatter\"}],\"scatter3d\":[{\"line\":{\"colorbar\":{\"outlinewidth\":0,\"tickcolor\":\"rgb(36,36,36)\",\"ticklen\":8,\"ticks\":\"outside\",\"tickwidth\":2}},\"marker\":{\"colorbar\":{\"outlinewidth\":0,\"tickcolor\":\"rgb(36,36,36)\",\"ticklen\":8,\"ticks\":\"outside\",\"tickwidth\":2}},\"type\":\"scatter3d\"}],\"scattercarpet\":[{\"marker\":{\"colorbar\":{\"outlinewidth\":0,\"tickcolor\":\"rgb(36,36,36)\",\"ticklen\":8,\"ticks\":\"outside\",\"tickwidth\":2}},\"type\":\"scattercarpet\"}],\"scattergeo\":[{\"marker\":{\"colorbar\":{\"outlinewidth\":0,\"tickcolor\":\"rgb(36,36,36)\",\"ticklen\":8,\"ticks\":\"outside\",\"tickwidth\":2}},\"type\":\"scattergeo\"}],\"scattergl\":[{\"marker\":{\"colorbar\":{\"outlinewidth\":0,\"tickcolor\":\"rgb(36,36,36)\",\"ticklen\":8,\"ticks\":\"outside\",\"tickwidth\":2}},\"type\":\"scattergl\"}],\"scattermapbox\":[{\"marker\":{\"colorbar\":{\"outlinewidth\":0,\"tickcolor\":\"rgb(36,36,36)\",\"ticklen\":8,\"ticks\":\"outside\",\"tickwidth\":2}},\"type\":\"scattermapbox\"}],\"scatterpolar\":[{\"marker\":{\"colorbar\":{\"outlinewidth\":0,\"tickcolor\":\"rgb(36,36,36)\",\"ticklen\":8,\"ticks\":\"outside\",\"tickwidth\":2}},\"type\":\"scatterpolar\"}],\"scatterpolargl\":[{\"marker\":{\"colorbar\":{\"outlinewidth\":0,\"tickcolor\":\"rgb(36,36,36)\",\"ticklen\":8,\"ticks\":\"outside\",\"tickwidth\":2}},\"type\":\"scatterpolargl\"}],\"scatterternary\":[{\"marker\":{\"colorbar\":{\"outlinewidth\":0,\"tickcolor\":\"rgb(36,36,36)\",\"ticklen\":8,\"ticks\":\"outside\",\"tickwidth\":2}},\"type\":\"scatterternary\"}],\"surface\":[{\"colorbar\":{\"outlinewidth\":0,\"tickcolor\":\"rgb(36,36,36)\",\"ticklen\":8,\"ticks\":\"outside\",\"tickwidth\":2},\"colorscale\":[[0.0,\"rgb(2,4,25)\"],[0.06274509803921569,\"rgb(24,15,41)\"],[0.12549019607843137,\"rgb(47,23,57)\"],[0.18823529411764706,\"rgb(71,28,72)\"],[0.25098039215686274,\"rgb(97,30,82)\"],[0.3137254901960784,\"rgb(123,30,89)\"],[0.3764705882352941,\"rgb(150,27,91)\"],[0.4392156862745098,\"rgb(177,22,88)\"],[0.5019607843137255,\"rgb(203,26,79)\"],[0.5647058823529412,\"rgb(223,47,67)\"],[0.6274509803921569,\"rgb(236,76,61)\"],[0.6901960784313725,\"rgb(242,107,73)\"],[0.7529411764705882,\"rgb(244,135,95)\"],[0.8156862745098039,\"rgb(245,162,122)\"],[0.8784313725490196,\"rgb(246,188,153)\"],[0.9411764705882353,\"rgb(247,212,187)\"],[1.0,\"rgb(250,234,220)\"]],\"type\":\"surface\"}],\"table\":[{\"cells\":{\"fill\":{\"color\":\"rgb(231,231,240)\"},\"line\":{\"color\":\"white\"}},\"header\":{\"fill\":{\"color\":\"rgb(183,183,191)\"},\"line\":{\"color\":\"white\"}},\"type\":\"table\"}]},\"layout\":{\"annotationdefaults\":{\"arrowcolor\":\"rgb(67,103,167)\"},\"autotypenumbers\":\"strict\",\"coloraxis\":{\"colorbar\":{\"outlinewidth\":0,\"tickcolor\":\"rgb(36,36,36)\",\"ticklen\":8,\"ticks\":\"outside\",\"tickwidth\":2}},\"colorscale\":{\"sequential\":[[0.0,\"rgb(2,4,25)\"],[0.06274509803921569,\"rgb(24,15,41)\"],[0.12549019607843137,\"rgb(47,23,57)\"],[0.18823529411764706,\"rgb(71,28,72)\"],[0.25098039215686274,\"rgb(97,30,82)\"],[0.3137254901960784,\"rgb(123,30,89)\"],[0.3764705882352941,\"rgb(150,27,91)\"],[0.4392156862745098,\"rgb(177,22,88)\"],[0.5019607843137255,\"rgb(203,26,79)\"],[0.5647058823529412,\"rgb(223,47,67)\"],[0.6274509803921569,\"rgb(236,76,61)\"],[0.6901960784313725,\"rgb(242,107,73)\"],[0.7529411764705882,\"rgb(244,135,95)\"],[0.8156862745098039,\"rgb(245,162,122)\"],[0.8784313725490196,\"rgb(246,188,153)\"],[0.9411764705882353,\"rgb(247,212,187)\"],[1.0,\"rgb(250,234,220)\"]],\"sequentialminus\":[[0.0,\"rgb(2,4,25)\"],[0.06274509803921569,\"rgb(24,15,41)\"],[0.12549019607843137,\"rgb(47,23,57)\"],[0.18823529411764706,\"rgb(71,28,72)\"],[0.25098039215686274,\"rgb(97,30,82)\"],[0.3137254901960784,\"rgb(123,30,89)\"],[0.3764705882352941,\"rgb(150,27,91)\"],[0.4392156862745098,\"rgb(177,22,88)\"],[0.5019607843137255,\"rgb(203,26,79)\"],[0.5647058823529412,\"rgb(223,47,67)\"],[0.6274509803921569,\"rgb(236,76,61)\"],[0.6901960784313725,\"rgb(242,107,73)\"],[0.7529411764705882,\"rgb(244,135,95)\"],[0.8156862745098039,\"rgb(245,162,122)\"],[0.8784313725490196,\"rgb(246,188,153)\"],[0.9411764705882353,\"rgb(247,212,187)\"],[1.0,\"rgb(250,234,220)\"]]},\"colorway\":[\"rgb(76,114,176)\",\"rgb(221,132,82)\",\"rgb(85,168,104)\",\"rgb(196,78,82)\",\"rgb(129,114,179)\",\"rgb(147,120,96)\",\"rgb(218,139,195)\",\"rgb(140,140,140)\",\"rgb(204,185,116)\",\"rgb(100,181,205)\"],\"font\":{\"color\":\"rgb(36,36,36)\"},\"geo\":{\"bgcolor\":\"white\",\"lakecolor\":\"white\",\"landcolor\":\"rgb(234,234,242)\",\"showlakes\":true,\"showland\":true,\"subunitcolor\":\"white\"},\"hoverlabel\":{\"align\":\"left\"},\"hovermode\":\"closest\",\"paper_bgcolor\":\"white\",\"plot_bgcolor\":\"rgb(234,234,242)\",\"polar\":{\"angularaxis\":{\"gridcolor\":\"white\",\"linecolor\":\"white\",\"showgrid\":true,\"ticks\":\"\"},\"bgcolor\":\"rgb(234,234,242)\",\"radialaxis\":{\"gridcolor\":\"white\",\"linecolor\":\"white\",\"showgrid\":true,\"ticks\":\"\"}},\"scene\":{\"xaxis\":{\"backgroundcolor\":\"rgb(234,234,242)\",\"gridcolor\":\"white\",\"gridwidth\":2,\"linecolor\":\"white\",\"showbackground\":true,\"showgrid\":true,\"ticks\":\"\",\"zerolinecolor\":\"white\"},\"yaxis\":{\"backgroundcolor\":\"rgb(234,234,242)\",\"gridcolor\":\"white\",\"gridwidth\":2,\"linecolor\":\"white\",\"showbackground\":true,\"showgrid\":true,\"ticks\":\"\",\"zerolinecolor\":\"white\"},\"zaxis\":{\"backgroundcolor\":\"rgb(234,234,242)\",\"gridcolor\":\"white\",\"gridwidth\":2,\"linecolor\":\"white\",\"showbackground\":true,\"showgrid\":true,\"ticks\":\"\",\"zerolinecolor\":\"white\"}},\"shapedefaults\":{\"fillcolor\":\"rgb(67,103,167)\",\"line\":{\"width\":0},\"opacity\":0.5},\"ternary\":{\"aaxis\":{\"gridcolor\":\"white\",\"linecolor\":\"white\",\"showgrid\":true,\"ticks\":\"\"},\"baxis\":{\"gridcolor\":\"white\",\"linecolor\":\"white\",\"showgrid\":true,\"ticks\":\"\"},\"bgcolor\":\"rgb(234,234,242)\",\"caxis\":{\"gridcolor\":\"white\",\"linecolor\":\"white\",\"showgrid\":true,\"ticks\":\"\"}},\"xaxis\":{\"automargin\":true,\"gridcolor\":\"white\",\"linecolor\":\"white\",\"showgrid\":true,\"ticks\":\"\",\"title\":{\"standoff\":15},\"zerolinecolor\":\"white\"},\"yaxis\":{\"automargin\":true,\"gridcolor\":\"white\",\"linecolor\":\"white\",\"showgrid\":true,\"ticks\":\"\",\"title\":{\"standoff\":15},\"zerolinecolor\":\"white\"}}},\"title\":{\"text\":\"MCAT Scores by Degree\"},\"xaxis\":{\"title\":{\"text\":\"Undergraduate Degree\"}},\"yaxis\":{\"title\":{\"text\":\"MCAT scores\"}}},                        {\"responsive\": true}                    ).then(function(){\n",
              "                            \n",
              "var gd = document.getElementById('229c33b7-265a-48ed-81c4-98c019ffd6ff');\n",
              "var x = new MutationObserver(function (mutations, observer) {{\n",
              "        var display = window.getComputedStyle(gd).display;\n",
              "        if (!display || display === 'none') {{\n",
              "            console.log([gd, 'removed!']);\n",
              "            Plotly.purge(gd);\n",
              "            observer.disconnect();\n",
              "        }}\n",
              "}});\n",
              "\n",
              "// Listen for the removal of the full notebook cells\n",
              "var notebookContainer = gd.closest('#notebook-container');\n",
              "if (notebookContainer) {{\n",
              "    x.observe(notebookContainer, {childList: true});\n",
              "}}\n",
              "\n",
              "// Listen for the clearing of the current output cell\n",
              "var outputEl = gd.closest('.output');\n",
              "if (outputEl) {{\n",
              "    x.observe(outputEl, {childList: true});\n",
              "}}\n",
              "\n",
              "                        })                };                            </script>        </div>\n",
              "</body>\n",
              "</html>"
            ]
          },
          "metadata": {}
        }
      ]
    },
    {
      "cell_type": "markdown",
      "source": [
        "#####Post Hoc Tukey Test"
      ],
      "metadata": {
        "id": "j1fAsJYtyg3x"
      }
    },
    {
      "cell_type": "code",
      "source": [
        "import statsmodels.stats.multicomp as mc"
      ],
      "metadata": {
        "id": "CgHVqlNAySpm"
      },
      "execution_count": null,
      "outputs": []
    },
    {
      "cell_type": "code",
      "source": [
        "comp = mc.MultiComparison(df['Final'], df['Degree'])\n",
        "post_hoc_res = comp.tukeyhsd()\n",
        "post_hoc_res.summary()"
      ],
      "metadata": {
        "colab": {
          "base_uri": "https://localhost:8080/",
          "height": 186
        },
        "id": "t8jPStW1yUgQ",
        "outputId": "37b3c0f3-057c-4ab6-a06b-6f3d476fc539"
      },
      "execution_count": null,
      "outputs": [
        {
          "output_type": "execute_result",
          "data": {
            "text/plain": [
              "<class 'statsmodels.iolib.table.SimpleTable'>"
            ],
            "text/html": [
              "<table class=\"simpletable\">\n",
              "<caption>Multiple Comparison of Means - Tukey HSD, FWER=0.05</caption>\n",
              "<tr>\n",
              "     <th>group1</th>         <th>group2</th>      <th>meandiff</th>  <th>p-adj</th>   <th>lower</th>   <th>upper</th>  <th>reject</th>\n",
              "</tr>\n",
              "<tr>\n",
              "  <td>Econ/Finnance</td>      <td>Other</td>       <td>-2.2714</td> <td>0.4721</td>  <td>-6.3491</td> <td>1.8062</td>   <td>False</td>\n",
              "</tr>\n",
              "<tr>\n",
              "  <td>Econ/Finnance</td>      <td>STEM</td>        <td>2.8254</td>  <td>0.5033</td>  <td>-2.4389</td> <td>8.0897</td>   <td>False</td>\n",
              "</tr>\n",
              "<tr>\n",
              "  <td>Econ/Finnance</td> <td>Social Sciences</td>  <td>-5.0857</td> <td>0.0267</td>  <td>-9.7487</td> <td>-0.4227</td>  <td>True</td> \n",
              "</tr>\n",
              "<tr>\n",
              "      <td>Other</td>          <td>STEM</td>        <td>5.0968</td>   <td>0.014</td>  <td>0.7656</td>   <td>9.428</td>   <td>True</td> \n",
              "</tr>\n",
              "<tr>\n",
              "      <td>Other</td>     <td>Social Sciences</td>  <td>-2.8143</td> <td>0.1761</td>  <td>-6.3906</td> <td>0.7621</td>   <td>False</td>\n",
              "</tr>\n",
              "<tr>\n",
              "      <td>STEM</td>      <td>Social Sciences</td>  <td>-7.9111</td>  <td>0.001</td> <td>-12.7973</td> <td>-3.0249</td>  <td>True</td> \n",
              "</tr>\n",
              "</table>"
            ]
          },
          "metadata": {},
          "execution_count": 137
        }
      ]
    },
    {
      "cell_type": "markdown",
      "source": [
        "There is a significant difference between Econ/Finnance majors and Social Sciences in final MCAT performance with a 5 point mean difference. There is also a significant difference between Other and STEM majors in final MCAT performance with a 5 point difference. "
      ],
      "metadata": {
        "id": "P6X14TIbfGPD"
      }
    },
    {
      "cell_type": "markdown",
      "source": [
        "##Final MCAT by Outcome"
      ],
      "metadata": {
        "id": "l8cBx5U5yzII"
      }
    },
    {
      "cell_type": "markdown",
      "source": [
        "Getting rid of missing data "
      ],
      "metadata": {
        "id": "Hb_Gl3dwzdEM"
      }
    },
    {
      "cell_type": "code",
      "source": [
        "Program_final = MCAT.loc[0:141,['Program','Final']]"
      ],
      "metadata": {
        "id": "vL4cch-DzGN1"
      },
      "execution_count": null,
      "outputs": []
    },
    {
      "cell_type": "code",
      "source": [
        "Program_final.info()"
      ],
      "metadata": {
        "colab": {
          "base_uri": "https://localhost:8080/"
        },
        "id": "aHb2cd0ezIpm",
        "outputId": "77b25767-3280-4957-b01b-9da13a3b4e7a"
      },
      "execution_count": null,
      "outputs": [
        {
          "output_type": "stream",
          "name": "stdout",
          "text": [
            "<class 'pandas.core.frame.DataFrame'>\n",
            "RangeIndex: 142 entries, 0 to 141\n",
            "Data columns (total 2 columns):\n",
            " #   Column   Non-Null Count  Dtype  \n",
            "---  ------   --------------  -----  \n",
            " 0   Program  140 non-null    object \n",
            " 1   Final    141 non-null    float64\n",
            "dtypes: float64(1), object(1)\n",
            "memory usage: 2.3+ KB\n"
          ]
        }
      ]
    },
    {
      "cell_type": "code",
      "source": [
        "Program_final = Program_final.dropna(subset= ['Program'])"
      ],
      "metadata": {
        "id": "3lA2JT-tzKkP"
      },
      "execution_count": null,
      "outputs": []
    },
    {
      "cell_type": "code",
      "source": [
        "Program_final = Program_final.dropna(subset= ['Final'])"
      ],
      "metadata": {
        "id": "08kd-_qczaIF"
      },
      "execution_count": null,
      "outputs": []
    },
    {
      "cell_type": "markdown",
      "source": [
        "#####Summary Statistics "
      ],
      "metadata": {
        "id": "gX87TFgZy9eN"
      }
    },
    {
      "cell_type": "code",
      "source": [
        "Program_final.Program.value_counts()"
      ],
      "metadata": {
        "colab": {
          "base_uri": "https://localhost:8080/"
        },
        "id": "psiW0U1OzipL",
        "outputId": "94855f68-0d80-4017-b098-31fabf429795"
      },
      "execution_count": null,
      "outputs": [
        {
          "output_type": "execute_result",
          "data": {
            "text/plain": [
              "Medical School    92\n",
              "Do School         22\n",
              "Not Applied       20\n",
              "Not Admitted       5\n",
              "Name: Program, dtype: int64"
            ]
          },
          "metadata": {},
          "execution_count": 142
        }
      ]
    },
    {
      "cell_type": "code",
      "source": [
        "Program_final.Program.value_counts(normalize=True)*100"
      ],
      "metadata": {
        "colab": {
          "base_uri": "https://localhost:8080/"
        },
        "id": "JlUK_asOzjqN",
        "outputId": "89dc0210-5620-4844-a4f7-d3f07f0ab7f5"
      },
      "execution_count": null,
      "outputs": [
        {
          "output_type": "execute_result",
          "data": {
            "text/plain": [
              "Medical School   66.19%\n",
              "Do School        15.83%\n",
              "Not Applied      14.39%\n",
              "Not Admitted      3.60%\n",
              "Name: Program, dtype: float64"
            ]
          },
          "metadata": {},
          "execution_count": 143
        }
      ]
    },
    {
      "cell_type": "code",
      "source": [
        "Program_final.Final.mean()"
      ],
      "metadata": {
        "colab": {
          "base_uri": "https://localhost:8080/"
        },
        "id": "jyMelubI4QcM",
        "outputId": "f941eb8e-8a9d-4134-fd94-c7f0dafcf230"
      },
      "execution_count": null,
      "outputs": [
        {
          "output_type": "execute_result",
          "data": {
            "text/plain": [
              "510.47482014388487"
            ]
          },
          "metadata": {},
          "execution_count": 144
        }
      ]
    },
    {
      "cell_type": "code",
      "source": [
        "outcome= MCAT.groupby('Program')['Final'].describe()\n",
        "round(outcome,1)"
      ],
      "metadata": {
        "colab": {
          "base_uri": "https://localhost:8080/",
          "height": 193
        },
        "id": "gVdimylB4Id0",
        "outputId": "d8cc74c8-3252-4f26-fb8b-6c758e807d37"
      },
      "execution_count": null,
      "outputs": [
        {
          "output_type": "execute_result",
          "data": {
            "text/plain": [
              "                count    mean   std     min     25%     50%     75%     max\n",
              "Program                                                                    \n",
              "Do School      22.00% 506.10% 5.80% 499.00% 502.20% 504.50% 507.50% 521.00%\n",
              "Medical School 92.00% 512.50% 5.50% 498.00% 510.00% 512.00% 516.00% 525.00%\n",
              "Not Admitted    5.00% 503.40% 9.20% 494.00% 496.00% 504.00% 506.00% 517.00%\n",
              "Not Applied    20.00% 507.60% 7.30% 495.00% 500.80% 509.50% 512.00% 518.00%"
            ],
            "text/html": [
              "\n",
              "  <div id=\"df-db882456-5582-447a-a10a-9ea3d17fc598\">\n",
              "    <div class=\"colab-df-container\">\n",
              "      <div>\n",
              "<style scoped>\n",
              "    .dataframe tbody tr th:only-of-type {\n",
              "        vertical-align: middle;\n",
              "    }\n",
              "\n",
              "    .dataframe tbody tr th {\n",
              "        vertical-align: top;\n",
              "    }\n",
              "\n",
              "    .dataframe thead th {\n",
              "        text-align: right;\n",
              "    }\n",
              "</style>\n",
              "<table border=\"1\" class=\"dataframe\">\n",
              "  <thead>\n",
              "    <tr style=\"text-align: right;\">\n",
              "      <th></th>\n",
              "      <th>count</th>\n",
              "      <th>mean</th>\n",
              "      <th>std</th>\n",
              "      <th>min</th>\n",
              "      <th>25%</th>\n",
              "      <th>50%</th>\n",
              "      <th>75%</th>\n",
              "      <th>max</th>\n",
              "    </tr>\n",
              "    <tr>\n",
              "      <th>Program</th>\n",
              "      <th></th>\n",
              "      <th></th>\n",
              "      <th></th>\n",
              "      <th></th>\n",
              "      <th></th>\n",
              "      <th></th>\n",
              "      <th></th>\n",
              "      <th></th>\n",
              "    </tr>\n",
              "  </thead>\n",
              "  <tbody>\n",
              "    <tr>\n",
              "      <th>Do School</th>\n",
              "      <td>22.00%</td>\n",
              "      <td>506.10%</td>\n",
              "      <td>5.80%</td>\n",
              "      <td>499.00%</td>\n",
              "      <td>502.20%</td>\n",
              "      <td>504.50%</td>\n",
              "      <td>507.50%</td>\n",
              "      <td>521.00%</td>\n",
              "    </tr>\n",
              "    <tr>\n",
              "      <th>Medical School</th>\n",
              "      <td>92.00%</td>\n",
              "      <td>512.50%</td>\n",
              "      <td>5.50%</td>\n",
              "      <td>498.00%</td>\n",
              "      <td>510.00%</td>\n",
              "      <td>512.00%</td>\n",
              "      <td>516.00%</td>\n",
              "      <td>525.00%</td>\n",
              "    </tr>\n",
              "    <tr>\n",
              "      <th>Not Admitted</th>\n",
              "      <td>5.00%</td>\n",
              "      <td>503.40%</td>\n",
              "      <td>9.20%</td>\n",
              "      <td>494.00%</td>\n",
              "      <td>496.00%</td>\n",
              "      <td>504.00%</td>\n",
              "      <td>506.00%</td>\n",
              "      <td>517.00%</td>\n",
              "    </tr>\n",
              "    <tr>\n",
              "      <th>Not Applied</th>\n",
              "      <td>20.00%</td>\n",
              "      <td>507.60%</td>\n",
              "      <td>7.30%</td>\n",
              "      <td>495.00%</td>\n",
              "      <td>500.80%</td>\n",
              "      <td>509.50%</td>\n",
              "      <td>512.00%</td>\n",
              "      <td>518.00%</td>\n",
              "    </tr>\n",
              "  </tbody>\n",
              "</table>\n",
              "</div>\n",
              "      <button class=\"colab-df-convert\" onclick=\"convertToInteractive('df-db882456-5582-447a-a10a-9ea3d17fc598')\"\n",
              "              title=\"Convert this dataframe to an interactive table.\"\n",
              "              style=\"display:none;\">\n",
              "        \n",
              "  <svg xmlns=\"http://www.w3.org/2000/svg\" height=\"24px\"viewBox=\"0 0 24 24\"\n",
              "       width=\"24px\">\n",
              "    <path d=\"M0 0h24v24H0V0z\" fill=\"none\"/>\n",
              "    <path d=\"M18.56 5.44l.94 2.06.94-2.06 2.06-.94-2.06-.94-.94-2.06-.94 2.06-2.06.94zm-11 1L8.5 8.5l.94-2.06 2.06-.94-2.06-.94L8.5 2.5l-.94 2.06-2.06.94zm10 10l.94 2.06.94-2.06 2.06-.94-2.06-.94-.94-2.06-.94 2.06-2.06.94z\"/><path d=\"M17.41 7.96l-1.37-1.37c-.4-.4-.92-.59-1.43-.59-.52 0-1.04.2-1.43.59L10.3 9.45l-7.72 7.72c-.78.78-.78 2.05 0 2.83L4 21.41c.39.39.9.59 1.41.59.51 0 1.02-.2 1.41-.59l7.78-7.78 2.81-2.81c.8-.78.8-2.07 0-2.86zM5.41 20L4 18.59l7.72-7.72 1.47 1.35L5.41 20z\"/>\n",
              "  </svg>\n",
              "      </button>\n",
              "      \n",
              "  <style>\n",
              "    .colab-df-container {\n",
              "      display:flex;\n",
              "      flex-wrap:wrap;\n",
              "      gap: 12px;\n",
              "    }\n",
              "\n",
              "    .colab-df-convert {\n",
              "      background-color: #E8F0FE;\n",
              "      border: none;\n",
              "      border-radius: 50%;\n",
              "      cursor: pointer;\n",
              "      display: none;\n",
              "      fill: #1967D2;\n",
              "      height: 32px;\n",
              "      padding: 0 0 0 0;\n",
              "      width: 32px;\n",
              "    }\n",
              "\n",
              "    .colab-df-convert:hover {\n",
              "      background-color: #E2EBFA;\n",
              "      box-shadow: 0px 1px 2px rgba(60, 64, 67, 0.3), 0px 1px 3px 1px rgba(60, 64, 67, 0.15);\n",
              "      fill: #174EA6;\n",
              "    }\n",
              "\n",
              "    [theme=dark] .colab-df-convert {\n",
              "      background-color: #3B4455;\n",
              "      fill: #D2E3FC;\n",
              "    }\n",
              "\n",
              "    [theme=dark] .colab-df-convert:hover {\n",
              "      background-color: #434B5C;\n",
              "      box-shadow: 0px 1px 3px 1px rgba(0, 0, 0, 0.15);\n",
              "      filter: drop-shadow(0px 1px 2px rgba(0, 0, 0, 0.3));\n",
              "      fill: #FFFFFF;\n",
              "    }\n",
              "  </style>\n",
              "\n",
              "      <script>\n",
              "        const buttonEl =\n",
              "          document.querySelector('#df-db882456-5582-447a-a10a-9ea3d17fc598 button.colab-df-convert');\n",
              "        buttonEl.style.display =\n",
              "          google.colab.kernel.accessAllowed ? 'block' : 'none';\n",
              "\n",
              "        async function convertToInteractive(key) {\n",
              "          const element = document.querySelector('#df-db882456-5582-447a-a10a-9ea3d17fc598');\n",
              "          const dataTable =\n",
              "            await google.colab.kernel.invokeFunction('convertToInteractive',\n",
              "                                                     [key], {});\n",
              "          if (!dataTable) return;\n",
              "\n",
              "          const docLinkHtml = 'Like what you see? Visit the ' +\n",
              "            '<a target=\"_blank\" href=https://colab.research.google.com/notebooks/data_table.ipynb>data table notebook</a>'\n",
              "            + ' to learn more about interactive tables.';\n",
              "          element.innerHTML = '';\n",
              "          dataTable['output_type'] = 'display_data';\n",
              "          await google.colab.output.renderOutput(dataTable, element);\n",
              "          const docLink = document.createElement('div');\n",
              "          docLink.innerHTML = docLinkHtml;\n",
              "          element.appendChild(docLink);\n",
              "        }\n",
              "      </script>\n",
              "    </div>\n",
              "  </div>\n",
              "  "
            ]
          },
          "metadata": {},
          "execution_count": 145
        }
      ]
    },
    {
      "cell_type": "code",
      "source": [
        "MD_01 = Program_final[Program_final.Program == 'Medical School']['Final'].to_numpy()\n",
        "DO_01 = Program_final[Program_final.Program == 'Do School']['Final'].to_numpy()\n",
        "NA_01 = Program_final[Program_final.Program == 'Not Applied']['Final'].to_numpy()\n",
        "NA_02 = Program_final[Program_final.Program == 'Not Admitted']['Final'].to_numpy()"
      ],
      "metadata": {
        "id": "66l9yUjozm60"
      },
      "execution_count": null,
      "outputs": []
    },
    {
      "cell_type": "code",
      "source": [
        "stats.f_oneway(MD_01,DO_01,NA_01,NA_01)"
      ],
      "metadata": {
        "colab": {
          "base_uri": "https://localhost:8080/"
        },
        "id": "Y62k1Zuj31JM",
        "outputId": "ef85a3d6-f6d9-4b66-dfe7-dc468c1a4d8c"
      },
      "execution_count": null,
      "outputs": [
        {
          "output_type": "execute_result",
          "data": {
            "text/plain": [
              "F_onewayResult(statistic=10.17638570092592, pvalue=3.8498345186140735e-06)"
            ]
          },
          "metadata": {},
          "execution_count": 147
        }
      ]
    },
    {
      "cell_type": "markdown",
      "source": [
        "There is a statistically significant difference between outcome and post bac students final MCAT scores, F = 10.17, p-value = .00. The overall average MCAT score was 510.5 with outcome averages of 512 for medical school, 506 for Do school, 503 for those who were not accepted into either program and 507 for those post bac students who did not apply."
      ],
      "metadata": {
        "id": "XzTkkZSX38rM"
      }
    },
    {
      "cell_type": "markdown",
      "source": [
        "#####Box Plots"
      ],
      "metadata": {
        "id": "ANPRZzSl4qbw"
      }
    },
    {
      "cell_type": "code",
      "source": [
        "degree_graph1 = go.Figure()\n",
        "\n",
        "degree_graph1.add_trace(go.Box(\n",
        "    y=MD_01,\n",
        "    name= 'Medical School',\n",
        "    marker_color = 'green',\n",
        "    boxmean=True,\n",
        "    boxpoints='all'\n",
        "))\n",
        "\n",
        "degree_graph1.add_trace(go.Box(\n",
        "    y=DO_01,\n",
        "    name= 'DO School',\n",
        "    marker_color = 'navy',\n",
        "    boxmean=True,\n",
        "    boxpoints='all'\n",
        "))\n",
        "\n",
        "degree_graph1.add_trace(go.Box(\n",
        "    y=NA_01,\n",
        "    name= 'Did not apply',\n",
        "    marker_color = 'purple',\n",
        "    boxmean=True,\n",
        "    boxpoints='all'\n",
        "))\n",
        "\n",
        "\n",
        "degree_graph1.add_trace(go.Box(\n",
        "    y=NA_02,\n",
        "    name= 'Not accepted',\n",
        "    marker_color = 'orange',\n",
        "    boxmean=True,\n",
        "    boxpoints='all'\n",
        "))\n",
        "\n",
        "degree_graph1.update_layout(title='Final MCAT Scores by Outcome',\n",
        "                           xaxis={'title':'Outcome'},\n",
        "                           yaxis={'title':'Final MCAT scores'})\n",
        "\n",
        "degree_graph1.show()"
      ],
      "metadata": {
        "colab": {
          "base_uri": "https://localhost:8080/",
          "height": 542
        },
        "outputId": "739766e8-5242-44c3-a20b-8f2c419bc43b",
        "id": "jP6WY8OrmgfK"
      },
      "execution_count": null,
      "outputs": [
        {
          "output_type": "display_data",
          "data": {
            "text/html": [
              "<html>\n",
              "<head><meta charset=\"utf-8\" /></head>\n",
              "<body>\n",
              "    <div>            <script src=\"https://cdnjs.cloudflare.com/ajax/libs/mathjax/2.7.5/MathJax.js?config=TeX-AMS-MML_SVG\"></script><script type=\"text/javascript\">if (window.MathJax) {MathJax.Hub.Config({SVG: {font: \"STIX-Web\"}});}</script>                <script type=\"text/javascript\">window.PlotlyConfig = {MathJaxConfig: 'local'};</script>\n",
              "        <script src=\"https://cdn.plot.ly/plotly-2.8.3.min.js\"></script>                <div id=\"e45f6af0-0518-4d47-8cb5-264c8905ab74\" class=\"plotly-graph-div\" style=\"height:525px; width:100%;\"></div>            <script type=\"text/javascript\">                                    window.PLOTLYENV=window.PLOTLYENV || {};                                    if (document.getElementById(\"e45f6af0-0518-4d47-8cb5-264c8905ab74\")) {                    Plotly.newPlot(                        \"e45f6af0-0518-4d47-8cb5-264c8905ab74\",                        [{\"boxmean\":true,\"boxpoints\":\"all\",\"marker\":{\"color\":\"green\"},\"name\":\"Medical School\",\"y\":[524.0,510.0,513.0,515.0,513.0,513.0,514.0,511.0,509.0,510.0,520.0,514.0,513.0,509.0,512.0,511.0,517.0,512.0,508.0,511.0,514.0,510.0,517.0,514.0,505.0,516.0,510.0,521.0,512.0,506.0,505.0,512.0,511.0,516.0,519.0,515.0,520.0,510.0,525.0,511.0,515.0,520.0,519.0,514.0,511.0,520.0,511.0,514.0,508.0,522.0,509.0,510.0,510.0,512.0,501.0,518.0,502.0,506.0,512.0,510.0,525.0,506.0,500.0,499.0,511.0,515.0,510.0,510.0,515.0,512.0,516.0,511.0,506.0,510.0,503.0,509.0,511.0,518.0,517.0,508.0,513.0,515.0,518.0,514.0,498.0,506.0,509.0,518.0,521.0,520.0,517.0,519.0],\"type\":\"box\"},{\"boxmean\":true,\"boxpoints\":\"all\",\"marker\":{\"color\":\"navy\"},\"name\":\"DO School\",\"y\":[508.0,504.0,500.0,502.0,505.0,504.0,509.0,510.0,505.0,516.0,502.0,504.0,503.0,504.0,506.0,506.0,506.0,499.0,500.0,519.0,502.0,521.0],\"type\":\"box\"},{\"boxmean\":true,\"boxpoints\":\"all\",\"marker\":{\"color\":\"purple\"},\"name\":\"Did not apply\",\"y\":[508.0,499.0,501.0,515.0,503.0,509.0,496.0,495.0,510.0,510.0,518.0,511.0,500.0,512.0,512.0,498.0,518.0,509.0,512.0,516.0],\"type\":\"box\"},{\"boxmean\":true,\"boxpoints\":\"all\",\"marker\":{\"color\":\"orange\"},\"name\":\"Not accepted\",\"y\":[517.0,494.0,504.0,506.0,496.0],\"type\":\"box\"}],                        {\"template\":{\"data\":{\"bar\":[{\"error_x\":{\"color\":\"rgb(36,36,36)\"},\"error_y\":{\"color\":\"rgb(36,36,36)\"},\"marker\":{\"line\":{\"color\":\"rgb(234,234,242)\",\"width\":0.5},\"pattern\":{\"fillmode\":\"overlay\",\"size\":10,\"solidity\":0.2}},\"type\":\"bar\"}],\"barpolar\":[{\"marker\":{\"line\":{\"color\":\"rgb(234,234,242)\",\"width\":0.5},\"pattern\":{\"fillmode\":\"overlay\",\"size\":10,\"solidity\":0.2}},\"type\":\"barpolar\"}],\"carpet\":[{\"aaxis\":{\"endlinecolor\":\"rgb(36,36,36)\",\"gridcolor\":\"white\",\"linecolor\":\"white\",\"minorgridcolor\":\"white\",\"startlinecolor\":\"rgb(36,36,36)\"},\"baxis\":{\"endlinecolor\":\"rgb(36,36,36)\",\"gridcolor\":\"white\",\"linecolor\":\"white\",\"minorgridcolor\":\"white\",\"startlinecolor\":\"rgb(36,36,36)\"},\"type\":\"carpet\"}],\"choropleth\":[{\"colorbar\":{\"outlinewidth\":0,\"tickcolor\":\"rgb(36,36,36)\",\"ticklen\":8,\"ticks\":\"outside\",\"tickwidth\":2},\"type\":\"choropleth\"}],\"contour\":[{\"colorbar\":{\"outlinewidth\":0,\"tickcolor\":\"rgb(36,36,36)\",\"ticklen\":8,\"ticks\":\"outside\",\"tickwidth\":2},\"colorscale\":[[0.0,\"rgb(2,4,25)\"],[0.06274509803921569,\"rgb(24,15,41)\"],[0.12549019607843137,\"rgb(47,23,57)\"],[0.18823529411764706,\"rgb(71,28,72)\"],[0.25098039215686274,\"rgb(97,30,82)\"],[0.3137254901960784,\"rgb(123,30,89)\"],[0.3764705882352941,\"rgb(150,27,91)\"],[0.4392156862745098,\"rgb(177,22,88)\"],[0.5019607843137255,\"rgb(203,26,79)\"],[0.5647058823529412,\"rgb(223,47,67)\"],[0.6274509803921569,\"rgb(236,76,61)\"],[0.6901960784313725,\"rgb(242,107,73)\"],[0.7529411764705882,\"rgb(244,135,95)\"],[0.8156862745098039,\"rgb(245,162,122)\"],[0.8784313725490196,\"rgb(246,188,153)\"],[0.9411764705882353,\"rgb(247,212,187)\"],[1.0,\"rgb(250,234,220)\"]],\"type\":\"contour\"}],\"contourcarpet\":[{\"colorbar\":{\"outlinewidth\":0,\"tickcolor\":\"rgb(36,36,36)\",\"ticklen\":8,\"ticks\":\"outside\",\"tickwidth\":2},\"type\":\"contourcarpet\"}],\"heatmap\":[{\"colorbar\":{\"outlinewidth\":0,\"tickcolor\":\"rgb(36,36,36)\",\"ticklen\":8,\"ticks\":\"outside\",\"tickwidth\":2},\"colorscale\":[[0.0,\"rgb(2,4,25)\"],[0.06274509803921569,\"rgb(24,15,41)\"],[0.12549019607843137,\"rgb(47,23,57)\"],[0.18823529411764706,\"rgb(71,28,72)\"],[0.25098039215686274,\"rgb(97,30,82)\"],[0.3137254901960784,\"rgb(123,30,89)\"],[0.3764705882352941,\"rgb(150,27,91)\"],[0.4392156862745098,\"rgb(177,22,88)\"],[0.5019607843137255,\"rgb(203,26,79)\"],[0.5647058823529412,\"rgb(223,47,67)\"],[0.6274509803921569,\"rgb(236,76,61)\"],[0.6901960784313725,\"rgb(242,107,73)\"],[0.7529411764705882,\"rgb(244,135,95)\"],[0.8156862745098039,\"rgb(245,162,122)\"],[0.8784313725490196,\"rgb(246,188,153)\"],[0.9411764705882353,\"rgb(247,212,187)\"],[1.0,\"rgb(250,234,220)\"]],\"type\":\"heatmap\"}],\"heatmapgl\":[{\"colorbar\":{\"outlinewidth\":0,\"tickcolor\":\"rgb(36,36,36)\",\"ticklen\":8,\"ticks\":\"outside\",\"tickwidth\":2},\"colorscale\":[[0.0,\"rgb(2,4,25)\"],[0.06274509803921569,\"rgb(24,15,41)\"],[0.12549019607843137,\"rgb(47,23,57)\"],[0.18823529411764706,\"rgb(71,28,72)\"],[0.25098039215686274,\"rgb(97,30,82)\"],[0.3137254901960784,\"rgb(123,30,89)\"],[0.3764705882352941,\"rgb(150,27,91)\"],[0.4392156862745098,\"rgb(177,22,88)\"],[0.5019607843137255,\"rgb(203,26,79)\"],[0.5647058823529412,\"rgb(223,47,67)\"],[0.6274509803921569,\"rgb(236,76,61)\"],[0.6901960784313725,\"rgb(242,107,73)\"],[0.7529411764705882,\"rgb(244,135,95)\"],[0.8156862745098039,\"rgb(245,162,122)\"],[0.8784313725490196,\"rgb(246,188,153)\"],[0.9411764705882353,\"rgb(247,212,187)\"],[1.0,\"rgb(250,234,220)\"]],\"type\":\"heatmapgl\"}],\"histogram\":[{\"marker\":{\"pattern\":{\"fillmode\":\"overlay\",\"size\":10,\"solidity\":0.2}},\"type\":\"histogram\"}],\"histogram2d\":[{\"colorbar\":{\"outlinewidth\":0,\"tickcolor\":\"rgb(36,36,36)\",\"ticklen\":8,\"ticks\":\"outside\",\"tickwidth\":2},\"colorscale\":[[0.0,\"rgb(2,4,25)\"],[0.06274509803921569,\"rgb(24,15,41)\"],[0.12549019607843137,\"rgb(47,23,57)\"],[0.18823529411764706,\"rgb(71,28,72)\"],[0.25098039215686274,\"rgb(97,30,82)\"],[0.3137254901960784,\"rgb(123,30,89)\"],[0.3764705882352941,\"rgb(150,27,91)\"],[0.4392156862745098,\"rgb(177,22,88)\"],[0.5019607843137255,\"rgb(203,26,79)\"],[0.5647058823529412,\"rgb(223,47,67)\"],[0.6274509803921569,\"rgb(236,76,61)\"],[0.6901960784313725,\"rgb(242,107,73)\"],[0.7529411764705882,\"rgb(244,135,95)\"],[0.8156862745098039,\"rgb(245,162,122)\"],[0.8784313725490196,\"rgb(246,188,153)\"],[0.9411764705882353,\"rgb(247,212,187)\"],[1.0,\"rgb(250,234,220)\"]],\"type\":\"histogram2d\"}],\"histogram2dcontour\":[{\"colorbar\":{\"outlinewidth\":0,\"tickcolor\":\"rgb(36,36,36)\",\"ticklen\":8,\"ticks\":\"outside\",\"tickwidth\":2},\"colorscale\":[[0.0,\"rgb(2,4,25)\"],[0.06274509803921569,\"rgb(24,15,41)\"],[0.12549019607843137,\"rgb(47,23,57)\"],[0.18823529411764706,\"rgb(71,28,72)\"],[0.25098039215686274,\"rgb(97,30,82)\"],[0.3137254901960784,\"rgb(123,30,89)\"],[0.3764705882352941,\"rgb(150,27,91)\"],[0.4392156862745098,\"rgb(177,22,88)\"],[0.5019607843137255,\"rgb(203,26,79)\"],[0.5647058823529412,\"rgb(223,47,67)\"],[0.6274509803921569,\"rgb(236,76,61)\"],[0.6901960784313725,\"rgb(242,107,73)\"],[0.7529411764705882,\"rgb(244,135,95)\"],[0.8156862745098039,\"rgb(245,162,122)\"],[0.8784313725490196,\"rgb(246,188,153)\"],[0.9411764705882353,\"rgb(247,212,187)\"],[1.0,\"rgb(250,234,220)\"]],\"type\":\"histogram2dcontour\"}],\"mesh3d\":[{\"colorbar\":{\"outlinewidth\":0,\"tickcolor\":\"rgb(36,36,36)\",\"ticklen\":8,\"ticks\":\"outside\",\"tickwidth\":2},\"type\":\"mesh3d\"}],\"parcoords\":[{\"line\":{\"colorbar\":{\"outlinewidth\":0,\"tickcolor\":\"rgb(36,36,36)\",\"ticklen\":8,\"ticks\":\"outside\",\"tickwidth\":2}},\"type\":\"parcoords\"}],\"pie\":[{\"automargin\":true,\"type\":\"pie\"}],\"scatter\":[{\"marker\":{\"colorbar\":{\"outlinewidth\":0,\"tickcolor\":\"rgb(36,36,36)\",\"ticklen\":8,\"ticks\":\"outside\",\"tickwidth\":2}},\"type\":\"scatter\"}],\"scatter3d\":[{\"line\":{\"colorbar\":{\"outlinewidth\":0,\"tickcolor\":\"rgb(36,36,36)\",\"ticklen\":8,\"ticks\":\"outside\",\"tickwidth\":2}},\"marker\":{\"colorbar\":{\"outlinewidth\":0,\"tickcolor\":\"rgb(36,36,36)\",\"ticklen\":8,\"ticks\":\"outside\",\"tickwidth\":2}},\"type\":\"scatter3d\"}],\"scattercarpet\":[{\"marker\":{\"colorbar\":{\"outlinewidth\":0,\"tickcolor\":\"rgb(36,36,36)\",\"ticklen\":8,\"ticks\":\"outside\",\"tickwidth\":2}},\"type\":\"scattercarpet\"}],\"scattergeo\":[{\"marker\":{\"colorbar\":{\"outlinewidth\":0,\"tickcolor\":\"rgb(36,36,36)\",\"ticklen\":8,\"ticks\":\"outside\",\"tickwidth\":2}},\"type\":\"scattergeo\"}],\"scattergl\":[{\"marker\":{\"colorbar\":{\"outlinewidth\":0,\"tickcolor\":\"rgb(36,36,36)\",\"ticklen\":8,\"ticks\":\"outside\",\"tickwidth\":2}},\"type\":\"scattergl\"}],\"scattermapbox\":[{\"marker\":{\"colorbar\":{\"outlinewidth\":0,\"tickcolor\":\"rgb(36,36,36)\",\"ticklen\":8,\"ticks\":\"outside\",\"tickwidth\":2}},\"type\":\"scattermapbox\"}],\"scatterpolar\":[{\"marker\":{\"colorbar\":{\"outlinewidth\":0,\"tickcolor\":\"rgb(36,36,36)\",\"ticklen\":8,\"ticks\":\"outside\",\"tickwidth\":2}},\"type\":\"scatterpolar\"}],\"scatterpolargl\":[{\"marker\":{\"colorbar\":{\"outlinewidth\":0,\"tickcolor\":\"rgb(36,36,36)\",\"ticklen\":8,\"ticks\":\"outside\",\"tickwidth\":2}},\"type\":\"scatterpolargl\"}],\"scatterternary\":[{\"marker\":{\"colorbar\":{\"outlinewidth\":0,\"tickcolor\":\"rgb(36,36,36)\",\"ticklen\":8,\"ticks\":\"outside\",\"tickwidth\":2}},\"type\":\"scatterternary\"}],\"surface\":[{\"colorbar\":{\"outlinewidth\":0,\"tickcolor\":\"rgb(36,36,36)\",\"ticklen\":8,\"ticks\":\"outside\",\"tickwidth\":2},\"colorscale\":[[0.0,\"rgb(2,4,25)\"],[0.06274509803921569,\"rgb(24,15,41)\"],[0.12549019607843137,\"rgb(47,23,57)\"],[0.18823529411764706,\"rgb(71,28,72)\"],[0.25098039215686274,\"rgb(97,30,82)\"],[0.3137254901960784,\"rgb(123,30,89)\"],[0.3764705882352941,\"rgb(150,27,91)\"],[0.4392156862745098,\"rgb(177,22,88)\"],[0.5019607843137255,\"rgb(203,26,79)\"],[0.5647058823529412,\"rgb(223,47,67)\"],[0.6274509803921569,\"rgb(236,76,61)\"],[0.6901960784313725,\"rgb(242,107,73)\"],[0.7529411764705882,\"rgb(244,135,95)\"],[0.8156862745098039,\"rgb(245,162,122)\"],[0.8784313725490196,\"rgb(246,188,153)\"],[0.9411764705882353,\"rgb(247,212,187)\"],[1.0,\"rgb(250,234,220)\"]],\"type\":\"surface\"}],\"table\":[{\"cells\":{\"fill\":{\"color\":\"rgb(231,231,240)\"},\"line\":{\"color\":\"white\"}},\"header\":{\"fill\":{\"color\":\"rgb(183,183,191)\"},\"line\":{\"color\":\"white\"}},\"type\":\"table\"}]},\"layout\":{\"annotationdefaults\":{\"arrowcolor\":\"rgb(67,103,167)\"},\"autotypenumbers\":\"strict\",\"coloraxis\":{\"colorbar\":{\"outlinewidth\":0,\"tickcolor\":\"rgb(36,36,36)\",\"ticklen\":8,\"ticks\":\"outside\",\"tickwidth\":2}},\"colorscale\":{\"sequential\":[[0.0,\"rgb(2,4,25)\"],[0.06274509803921569,\"rgb(24,15,41)\"],[0.12549019607843137,\"rgb(47,23,57)\"],[0.18823529411764706,\"rgb(71,28,72)\"],[0.25098039215686274,\"rgb(97,30,82)\"],[0.3137254901960784,\"rgb(123,30,89)\"],[0.3764705882352941,\"rgb(150,27,91)\"],[0.4392156862745098,\"rgb(177,22,88)\"],[0.5019607843137255,\"rgb(203,26,79)\"],[0.5647058823529412,\"rgb(223,47,67)\"],[0.6274509803921569,\"rgb(236,76,61)\"],[0.6901960784313725,\"rgb(242,107,73)\"],[0.7529411764705882,\"rgb(244,135,95)\"],[0.8156862745098039,\"rgb(245,162,122)\"],[0.8784313725490196,\"rgb(246,188,153)\"],[0.9411764705882353,\"rgb(247,212,187)\"],[1.0,\"rgb(250,234,220)\"]],\"sequentialminus\":[[0.0,\"rgb(2,4,25)\"],[0.06274509803921569,\"rgb(24,15,41)\"],[0.12549019607843137,\"rgb(47,23,57)\"],[0.18823529411764706,\"rgb(71,28,72)\"],[0.25098039215686274,\"rgb(97,30,82)\"],[0.3137254901960784,\"rgb(123,30,89)\"],[0.3764705882352941,\"rgb(150,27,91)\"],[0.4392156862745098,\"rgb(177,22,88)\"],[0.5019607843137255,\"rgb(203,26,79)\"],[0.5647058823529412,\"rgb(223,47,67)\"],[0.6274509803921569,\"rgb(236,76,61)\"],[0.6901960784313725,\"rgb(242,107,73)\"],[0.7529411764705882,\"rgb(244,135,95)\"],[0.8156862745098039,\"rgb(245,162,122)\"],[0.8784313725490196,\"rgb(246,188,153)\"],[0.9411764705882353,\"rgb(247,212,187)\"],[1.0,\"rgb(250,234,220)\"]]},\"colorway\":[\"rgb(76,114,176)\",\"rgb(221,132,82)\",\"rgb(85,168,104)\",\"rgb(196,78,82)\",\"rgb(129,114,179)\",\"rgb(147,120,96)\",\"rgb(218,139,195)\",\"rgb(140,140,140)\",\"rgb(204,185,116)\",\"rgb(100,181,205)\"],\"font\":{\"color\":\"rgb(36,36,36)\"},\"geo\":{\"bgcolor\":\"white\",\"lakecolor\":\"white\",\"landcolor\":\"rgb(234,234,242)\",\"showlakes\":true,\"showland\":true,\"subunitcolor\":\"white\"},\"hoverlabel\":{\"align\":\"left\"},\"hovermode\":\"closest\",\"paper_bgcolor\":\"white\",\"plot_bgcolor\":\"rgb(234,234,242)\",\"polar\":{\"angularaxis\":{\"gridcolor\":\"white\",\"linecolor\":\"white\",\"showgrid\":true,\"ticks\":\"\"},\"bgcolor\":\"rgb(234,234,242)\",\"radialaxis\":{\"gridcolor\":\"white\",\"linecolor\":\"white\",\"showgrid\":true,\"ticks\":\"\"}},\"scene\":{\"xaxis\":{\"backgroundcolor\":\"rgb(234,234,242)\",\"gridcolor\":\"white\",\"gridwidth\":2,\"linecolor\":\"white\",\"showbackground\":true,\"showgrid\":true,\"ticks\":\"\",\"zerolinecolor\":\"white\"},\"yaxis\":{\"backgroundcolor\":\"rgb(234,234,242)\",\"gridcolor\":\"white\",\"gridwidth\":2,\"linecolor\":\"white\",\"showbackground\":true,\"showgrid\":true,\"ticks\":\"\",\"zerolinecolor\":\"white\"},\"zaxis\":{\"backgroundcolor\":\"rgb(234,234,242)\",\"gridcolor\":\"white\",\"gridwidth\":2,\"linecolor\":\"white\",\"showbackground\":true,\"showgrid\":true,\"ticks\":\"\",\"zerolinecolor\":\"white\"}},\"shapedefaults\":{\"fillcolor\":\"rgb(67,103,167)\",\"line\":{\"width\":0},\"opacity\":0.5},\"ternary\":{\"aaxis\":{\"gridcolor\":\"white\",\"linecolor\":\"white\",\"showgrid\":true,\"ticks\":\"\"},\"baxis\":{\"gridcolor\":\"white\",\"linecolor\":\"white\",\"showgrid\":true,\"ticks\":\"\"},\"bgcolor\":\"rgb(234,234,242)\",\"caxis\":{\"gridcolor\":\"white\",\"linecolor\":\"white\",\"showgrid\":true,\"ticks\":\"\"}},\"xaxis\":{\"automargin\":true,\"gridcolor\":\"white\",\"linecolor\":\"white\",\"showgrid\":true,\"ticks\":\"\",\"title\":{\"standoff\":15},\"zerolinecolor\":\"white\"},\"yaxis\":{\"automargin\":true,\"gridcolor\":\"white\",\"linecolor\":\"white\",\"showgrid\":true,\"ticks\":\"\",\"title\":{\"standoff\":15},\"zerolinecolor\":\"white\"}}},\"title\":{\"text\":\"Final MCAT Scores by Outcome\"},\"xaxis\":{\"title\":{\"text\":\"Outcome\"}},\"yaxis\":{\"title\":{\"text\":\"Final MCAT scores\"}}},                        {\"responsive\": true}                    ).then(function(){\n",
              "                            \n",
              "var gd = document.getElementById('e45f6af0-0518-4d47-8cb5-264c8905ab74');\n",
              "var x = new MutationObserver(function (mutations, observer) {{\n",
              "        var display = window.getComputedStyle(gd).display;\n",
              "        if (!display || display === 'none') {{\n",
              "            console.log([gd, 'removed!']);\n",
              "            Plotly.purge(gd);\n",
              "            observer.disconnect();\n",
              "        }}\n",
              "}});\n",
              "\n",
              "// Listen for the removal of the full notebook cells\n",
              "var notebookContainer = gd.closest('#notebook-container');\n",
              "if (notebookContainer) {{\n",
              "    x.observe(notebookContainer, {childList: true});\n",
              "}}\n",
              "\n",
              "// Listen for the clearing of the current output cell\n",
              "var outputEl = gd.closest('.output');\n",
              "if (outputEl) {{\n",
              "    x.observe(outputEl, {childList: true});\n",
              "}}\n",
              "\n",
              "                        })                };                            </script>        </div>\n",
              "</body>\n",
              "</html>"
            ]
          },
          "metadata": {}
        }
      ]
    },
    {
      "cell_type": "markdown",
      "source": [
        "#####Post Hoc Tukey Test"
      ],
      "metadata": {
        "id": "Ftujb5Jq5TxN"
      }
    },
    {
      "cell_type": "code",
      "source": [
        "comp1 = mc.MultiComparison(Program_final['Final'], Program_final['Program'])\n",
        "post_hoc_res = comp1.tukeyhsd()\n",
        "post_hoc_res.summary()"
      ],
      "metadata": {
        "colab": {
          "base_uri": "https://localhost:8080/",
          "height": 186
        },
        "id": "fBbsNaIq5kWL",
        "outputId": "24783d77-7bde-443b-92f9-e4e3fcad5728"
      },
      "execution_count": null,
      "outputs": [
        {
          "output_type": "execute_result",
          "data": {
            "text/plain": [
              "<class 'statsmodels.iolib.table.SimpleTable'>"
            ],
            "text/html": [
              "<table class=\"simpletable\">\n",
              "<caption>Multiple Comparison of Means - Tukey HSD, FWER=0.05</caption>\n",
              "<tr>\n",
              "      <th>group1</th>         <th>group2</th>     <th>meandiff</th>  <th>p-adj</th>   <th>lower</th>   <th>upper</th>  <th>reject</th>\n",
              "</tr>\n",
              "<tr>\n",
              "     <td>Do School</td>   <td>Medical School</td>  <td>6.3854</td>   <td>0.001</td>  <td>2.6796</td>  <td>10.0912</td>  <td>True</td> \n",
              "</tr>\n",
              "<tr>\n",
              "     <td>Do School</td>    <td>Not Admitted</td>   <td>-2.7364</td> <td>0.7694</td> <td>-10.4724</td> <td>4.9997</td>   <td>False</td>\n",
              "</tr>\n",
              "<tr>\n",
              "     <td>Do School</td>     <td>Not Applied</td>   <td>1.4636</td>  <td>0.8425</td>  <td>-3.3606</td> <td>6.2879</td>   <td>False</td>\n",
              "</tr>\n",
              "<tr>\n",
              "  <td>Medical School</td>  <td>Not Admitted</td>   <td>-9.1217</td> <td>0.0065</td> <td>-16.2921</td> <td>-1.9514</td>  <td>True</td> \n",
              "</tr>\n",
              "<tr>\n",
              "  <td>Medical School</td>   <td>Not Applied</td>   <td>-4.9217</td> <td>0.0062</td>  <td>-8.7741</td> <td>-1.0693</td>  <td>True</td> \n",
              "</tr>\n",
              "<tr>\n",
              "   <td>Not Admitted</td>    <td>Not Applied</td>     <td>4.2</td>   <td>0.5015</td>  <td>-3.6073</td> <td>12.0073</td>  <td>False</td>\n",
              "</tr>\n",
              "</table>"
            ]
          },
          "metadata": {},
          "execution_count": 149
        }
      ]
    },
    {
      "cell_type": "markdown",
      "source": [
        "There is a significant difference in final MCAT scores between DO School and Medical School with a 6 point mean difference, medical school vs. Not admitted with a 9 point difference and medical school vs. not applied with a 5 point difference. "
      ],
      "metadata": {
        "id": "_C3zicbpfbr7"
      }
    }
  ]
}